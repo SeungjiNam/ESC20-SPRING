{
 "cells": [
  {
   "cell_type": "markdown",
   "metadata": {},
   "source": [
    "# Week2 HW 김민회"
   ]
  },
  {
   "cell_type": "markdown",
   "metadata": {},
   "source": [
    "## 0. EDA"
   ]
  },
  {
   "cell_type": "code",
   "execution_count": 1,
   "metadata": {},
   "outputs": [],
   "source": [
    "import numpy as np; np.set_printoptions(precision=3)\n",
    "import pandas as pd; pd.set_option('display.precision',3)\n",
    "import matplotlib.pyplot as plt\n",
    "import seaborn as sns"
   ]
  },
  {
   "cell_type": "code",
   "execution_count": 2,
   "metadata": {},
   "outputs": [
    {
     "data": {
      "text/html": [
       "<div>\n",
       "<style scoped>\n",
       "    .dataframe tbody tr th:only-of-type {\n",
       "        vertical-align: middle;\n",
       "    }\n",
       "\n",
       "    .dataframe tbody tr th {\n",
       "        vertical-align: top;\n",
       "    }\n",
       "\n",
       "    .dataframe thead th {\n",
       "        text-align: right;\n",
       "    }\n",
       "</style>\n",
       "<table border=\"1\" class=\"dataframe\">\n",
       "  <thead>\n",
       "    <tr style=\"text-align: right;\">\n",
       "      <th></th>\n",
       "      <th>date</th>\n",
       "      <th>house_age</th>\n",
       "      <th>dist_mrt</th>\n",
       "      <th>no_cvs</th>\n",
       "      <th>lat</th>\n",
       "      <th>long</th>\n",
       "      <th>price</th>\n",
       "    </tr>\n",
       "    <tr>\n",
       "      <th>No</th>\n",
       "      <th></th>\n",
       "      <th></th>\n",
       "      <th></th>\n",
       "      <th></th>\n",
       "      <th></th>\n",
       "      <th></th>\n",
       "      <th></th>\n",
       "    </tr>\n",
       "  </thead>\n",
       "  <tbody>\n",
       "    <tr>\n",
       "      <th>1</th>\n",
       "      <td>2012.917</td>\n",
       "      <td>32.0</td>\n",
       "      <td>84.879</td>\n",
       "      <td>10</td>\n",
       "      <td>24.983</td>\n",
       "      <td>121.540</td>\n",
       "      <td>37.9</td>\n",
       "    </tr>\n",
       "    <tr>\n",
       "      <th>2</th>\n",
       "      <td>2012.917</td>\n",
       "      <td>19.5</td>\n",
       "      <td>306.595</td>\n",
       "      <td>9</td>\n",
       "      <td>24.980</td>\n",
       "      <td>121.540</td>\n",
       "      <td>42.2</td>\n",
       "    </tr>\n",
       "    <tr>\n",
       "      <th>3</th>\n",
       "      <td>2013.583</td>\n",
       "      <td>13.3</td>\n",
       "      <td>561.985</td>\n",
       "      <td>5</td>\n",
       "      <td>24.987</td>\n",
       "      <td>121.544</td>\n",
       "      <td>47.3</td>\n",
       "    </tr>\n",
       "    <tr>\n",
       "      <th>4</th>\n",
       "      <td>2013.500</td>\n",
       "      <td>13.3</td>\n",
       "      <td>561.985</td>\n",
       "      <td>5</td>\n",
       "      <td>24.987</td>\n",
       "      <td>121.544</td>\n",
       "      <td>54.8</td>\n",
       "    </tr>\n",
       "    <tr>\n",
       "      <th>5</th>\n",
       "      <td>2012.833</td>\n",
       "      <td>5.0</td>\n",
       "      <td>390.568</td>\n",
       "      <td>5</td>\n",
       "      <td>24.979</td>\n",
       "      <td>121.542</td>\n",
       "      <td>43.1</td>\n",
       "    </tr>\n",
       "    <tr>\n",
       "      <th>...</th>\n",
       "      <td>...</td>\n",
       "      <td>...</td>\n",
       "      <td>...</td>\n",
       "      <td>...</td>\n",
       "      <td>...</td>\n",
       "      <td>...</td>\n",
       "      <td>...</td>\n",
       "    </tr>\n",
       "    <tr>\n",
       "      <th>410</th>\n",
       "      <td>2013.000</td>\n",
       "      <td>13.7</td>\n",
       "      <td>4082.015</td>\n",
       "      <td>0</td>\n",
       "      <td>24.942</td>\n",
       "      <td>121.504</td>\n",
       "      <td>15.4</td>\n",
       "    </tr>\n",
       "    <tr>\n",
       "      <th>411</th>\n",
       "      <td>2012.667</td>\n",
       "      <td>5.6</td>\n",
       "      <td>90.456</td>\n",
       "      <td>9</td>\n",
       "      <td>24.974</td>\n",
       "      <td>121.543</td>\n",
       "      <td>50.0</td>\n",
       "    </tr>\n",
       "    <tr>\n",
       "      <th>412</th>\n",
       "      <td>2013.250</td>\n",
       "      <td>18.8</td>\n",
       "      <td>390.970</td>\n",
       "      <td>7</td>\n",
       "      <td>24.979</td>\n",
       "      <td>121.540</td>\n",
       "      <td>40.6</td>\n",
       "    </tr>\n",
       "    <tr>\n",
       "      <th>413</th>\n",
       "      <td>2013.000</td>\n",
       "      <td>8.1</td>\n",
       "      <td>104.810</td>\n",
       "      <td>5</td>\n",
       "      <td>24.967</td>\n",
       "      <td>121.541</td>\n",
       "      <td>52.5</td>\n",
       "    </tr>\n",
       "    <tr>\n",
       "      <th>414</th>\n",
       "      <td>2013.500</td>\n",
       "      <td>6.5</td>\n",
       "      <td>90.456</td>\n",
       "      <td>9</td>\n",
       "      <td>24.974</td>\n",
       "      <td>121.543</td>\n",
       "      <td>63.9</td>\n",
       "    </tr>\n",
       "  </tbody>\n",
       "</table>\n",
       "<p>414 rows × 7 columns</p>\n",
       "</div>"
      ],
      "text/plain": [
       "         date  house_age  dist_mrt  no_cvs     lat     long  price\n",
       "No                                                                \n",
       "1    2012.917       32.0    84.879      10  24.983  121.540   37.9\n",
       "2    2012.917       19.5   306.595       9  24.980  121.540   42.2\n",
       "3    2013.583       13.3   561.985       5  24.987  121.544   47.3\n",
       "4    2013.500       13.3   561.985       5  24.987  121.544   54.8\n",
       "5    2012.833        5.0   390.568       5  24.979  121.542   43.1\n",
       "..        ...        ...       ...     ...     ...      ...    ...\n",
       "410  2013.000       13.7  4082.015       0  24.942  121.504   15.4\n",
       "411  2012.667        5.6    90.456       9  24.974  121.543   50.0\n",
       "412  2013.250       18.8   390.970       7  24.979  121.540   40.6\n",
       "413  2013.000        8.1   104.810       5  24.967  121.541   52.5\n",
       "414  2013.500        6.5    90.456       9  24.974  121.543   63.9\n",
       "\n",
       "[414 rows x 7 columns]"
      ]
     },
     "execution_count": 2,
     "metadata": {},
     "output_type": "execute_result"
    }
   ],
   "source": [
    "real = pd.read_csv('real.csv', index_col=0)\n",
    "real.columns = ['date','house_age','dist_mrt','no_cvs','lat','long','price']\n",
    "real"
   ]
  },
  {
   "cell_type": "markdown",
   "metadata": {},
   "source": [
    "date: 거래 발생일 / house_age: 집 연식 / dist_mrt: 가까운 지하철 역과의 거리 / no_cvs: 근처 편의점 수 / lat,long: 위도,경도 / price: 거래가"
   ]
  },
  {
   "cell_type": "code",
   "execution_count": 3,
   "metadata": {},
   "outputs": [
    {
     "data": {
      "text/html": [
       "<div>\n",
       "<style scoped>\n",
       "    .dataframe tbody tr th:only-of-type {\n",
       "        vertical-align: middle;\n",
       "    }\n",
       "\n",
       "    .dataframe tbody tr th {\n",
       "        vertical-align: top;\n",
       "    }\n",
       "\n",
       "    .dataframe thead th {\n",
       "        text-align: right;\n",
       "    }\n",
       "</style>\n",
       "<table border=\"1\" class=\"dataframe\">\n",
       "  <thead>\n",
       "    <tr style=\"text-align: right;\">\n",
       "      <th></th>\n",
       "      <th>date</th>\n",
       "      <th>house_age</th>\n",
       "      <th>dist_mrt</th>\n",
       "      <th>no_cvs</th>\n",
       "      <th>lat</th>\n",
       "      <th>long</th>\n",
       "      <th>price</th>\n",
       "    </tr>\n",
       "  </thead>\n",
       "  <tbody>\n",
       "    <tr>\n",
       "      <th>0</th>\n",
       "      <td>2013.333</td>\n",
       "      <td>14.8</td>\n",
       "      <td>393.261</td>\n",
       "      <td>6</td>\n",
       "      <td>24.962</td>\n",
       "      <td>121.538</td>\n",
       "      <td>7.6</td>\n",
       "    </tr>\n",
       "    <tr>\n",
       "      <th>1</th>\n",
       "      <td>2013.583</td>\n",
       "      <td>17.4</td>\n",
       "      <td>6488.021</td>\n",
       "      <td>1</td>\n",
       "      <td>24.957</td>\n",
       "      <td>121.474</td>\n",
       "      <td>11.2</td>\n",
       "    </tr>\n",
       "    <tr>\n",
       "      <th>2</th>\n",
       "      <td>2012.750</td>\n",
       "      <td>16.0</td>\n",
       "      <td>4066.587</td>\n",
       "      <td>0</td>\n",
       "      <td>24.943</td>\n",
       "      <td>121.503</td>\n",
       "      <td>11.6</td>\n",
       "    </tr>\n",
       "    <tr>\n",
       "      <th>3</th>\n",
       "      <td>2013.000</td>\n",
       "      <td>30.9</td>\n",
       "      <td>6396.283</td>\n",
       "      <td>1</td>\n",
       "      <td>24.944</td>\n",
       "      <td>121.479</td>\n",
       "      <td>12.2</td>\n",
       "    </tr>\n",
       "    <tr>\n",
       "      <th>4</th>\n",
       "      <td>2013.083</td>\n",
       "      <td>32.0</td>\n",
       "      <td>1156.777</td>\n",
       "      <td>0</td>\n",
       "      <td>24.949</td>\n",
       "      <td>121.530</td>\n",
       "      <td>12.8</td>\n",
       "    </tr>\n",
       "    <tr>\n",
       "      <th>...</th>\n",
       "      <td>...</td>\n",
       "      <td>...</td>\n",
       "      <td>...</td>\n",
       "      <td>...</td>\n",
       "      <td>...</td>\n",
       "      <td>...</td>\n",
       "      <td>...</td>\n",
       "    </tr>\n",
       "    <tr>\n",
       "      <th>409</th>\n",
       "      <td>2012.833</td>\n",
       "      <td>0.0</td>\n",
       "      <td>292.998</td>\n",
       "      <td>6</td>\n",
       "      <td>24.977</td>\n",
       "      <td>121.545</td>\n",
       "      <td>71.0</td>\n",
       "    </tr>\n",
       "    <tr>\n",
       "      <th>410</th>\n",
       "      <td>2013.417</td>\n",
       "      <td>0.0</td>\n",
       "      <td>292.998</td>\n",
       "      <td>6</td>\n",
       "      <td>24.977</td>\n",
       "      <td>121.545</td>\n",
       "      <td>73.6</td>\n",
       "    </tr>\n",
       "    <tr>\n",
       "      <th>411</th>\n",
       "      <td>2013.583</td>\n",
       "      <td>35.4</td>\n",
       "      <td>318.529</td>\n",
       "      <td>9</td>\n",
       "      <td>24.971</td>\n",
       "      <td>121.541</td>\n",
       "      <td>78.0</td>\n",
       "    </tr>\n",
       "    <tr>\n",
       "      <th>412</th>\n",
       "      <td>2013.333</td>\n",
       "      <td>37.2</td>\n",
       "      <td>186.510</td>\n",
       "      <td>9</td>\n",
       "      <td>24.977</td>\n",
       "      <td>121.543</td>\n",
       "      <td>78.3</td>\n",
       "    </tr>\n",
       "    <tr>\n",
       "      <th>413</th>\n",
       "      <td>2013.333</td>\n",
       "      <td>10.8</td>\n",
       "      <td>252.582</td>\n",
       "      <td>1</td>\n",
       "      <td>24.975</td>\n",
       "      <td>121.530</td>\n",
       "      <td>117.5</td>\n",
       "    </tr>\n",
       "  </tbody>\n",
       "</table>\n",
       "<p>414 rows × 7 columns</p>\n",
       "</div>"
      ],
      "text/plain": [
       "         date  house_age  dist_mrt  no_cvs     lat     long  price\n",
       "0    2013.333       14.8   393.261       6  24.962  121.538    7.6\n",
       "1    2013.583       17.4  6488.021       1  24.957  121.474   11.2\n",
       "2    2012.750       16.0  4066.587       0  24.943  121.503   11.6\n",
       "3    2013.000       30.9  6396.283       1  24.944  121.479   12.2\n",
       "4    2013.083       32.0  1156.777       0  24.949  121.530   12.8\n",
       "..        ...        ...       ...     ...     ...      ...    ...\n",
       "409  2012.833        0.0   292.998       6  24.977  121.545   71.0\n",
       "410  2013.417        0.0   292.998       6  24.977  121.545   73.6\n",
       "411  2013.583       35.4   318.529       9  24.971  121.541   78.0\n",
       "412  2013.333       37.2   186.510       9  24.977  121.543   78.3\n",
       "413  2013.333       10.8   252.582       1  24.975  121.530  117.5\n",
       "\n",
       "[414 rows x 7 columns]"
      ]
     },
     "execution_count": 3,
     "metadata": {},
     "output_type": "execute_result"
    }
   ],
   "source": [
    "real.sort_values(by=['price'], inplace=True)\n",
    "real.reset_index(inplace=True) # inplace: replace the original dataset\n",
    "real = real.drop(['No'], axis=1)\n",
    "real"
   ]
  },
  {
   "cell_type": "markdown",
   "metadata": {},
   "source": [
    "sort by price"
   ]
  },
  {
   "cell_type": "code",
   "execution_count": 4,
   "metadata": {},
   "outputs": [
    {
     "data": {
      "text/html": [
       "<div>\n",
       "<style scoped>\n",
       "    .dataframe tbody tr th:only-of-type {\n",
       "        vertical-align: middle;\n",
       "    }\n",
       "\n",
       "    .dataframe tbody tr th {\n",
       "        vertical-align: top;\n",
       "    }\n",
       "\n",
       "    .dataframe thead th {\n",
       "        text-align: right;\n",
       "    }\n",
       "</style>\n",
       "<table border=\"1\" class=\"dataframe\">\n",
       "  <thead>\n",
       "    <tr style=\"text-align: right;\">\n",
       "      <th></th>\n",
       "      <th>date</th>\n",
       "      <th>house_age</th>\n",
       "      <th>dist_mrt</th>\n",
       "      <th>no_cvs</th>\n",
       "      <th>lat</th>\n",
       "      <th>long</th>\n",
       "      <th>price</th>\n",
       "    </tr>\n",
       "  </thead>\n",
       "  <tbody>\n",
       "    <tr>\n",
       "      <th>count</th>\n",
       "      <td>414.000</td>\n",
       "      <td>414.000</td>\n",
       "      <td>414.000</td>\n",
       "      <td>414.000</td>\n",
       "      <td>414.000</td>\n",
       "      <td>414.000</td>\n",
       "      <td>414.000</td>\n",
       "    </tr>\n",
       "    <tr>\n",
       "      <th>mean</th>\n",
       "      <td>2013.149</td>\n",
       "      <td>17.713</td>\n",
       "      <td>1083.886</td>\n",
       "      <td>4.094</td>\n",
       "      <td>24.969</td>\n",
       "      <td>121.533</td>\n",
       "      <td>37.980</td>\n",
       "    </tr>\n",
       "    <tr>\n",
       "      <th>std</th>\n",
       "      <td>0.282</td>\n",
       "      <td>11.392</td>\n",
       "      <td>1262.110</td>\n",
       "      <td>2.946</td>\n",
       "      <td>0.012</td>\n",
       "      <td>0.015</td>\n",
       "      <td>13.606</td>\n",
       "    </tr>\n",
       "    <tr>\n",
       "      <th>min</th>\n",
       "      <td>2012.667</td>\n",
       "      <td>0.000</td>\n",
       "      <td>23.383</td>\n",
       "      <td>0.000</td>\n",
       "      <td>24.932</td>\n",
       "      <td>121.474</td>\n",
       "      <td>7.600</td>\n",
       "    </tr>\n",
       "    <tr>\n",
       "      <th>25%</th>\n",
       "      <td>2012.917</td>\n",
       "      <td>9.025</td>\n",
       "      <td>289.325</td>\n",
       "      <td>1.000</td>\n",
       "      <td>24.963</td>\n",
       "      <td>121.528</td>\n",
       "      <td>27.700</td>\n",
       "    </tr>\n",
       "    <tr>\n",
       "      <th>50%</th>\n",
       "      <td>2013.167</td>\n",
       "      <td>16.100</td>\n",
       "      <td>492.231</td>\n",
       "      <td>4.000</td>\n",
       "      <td>24.971</td>\n",
       "      <td>121.539</td>\n",
       "      <td>38.450</td>\n",
       "    </tr>\n",
       "    <tr>\n",
       "      <th>75%</th>\n",
       "      <td>2013.417</td>\n",
       "      <td>28.150</td>\n",
       "      <td>1454.279</td>\n",
       "      <td>6.000</td>\n",
       "      <td>24.977</td>\n",
       "      <td>121.543</td>\n",
       "      <td>46.600</td>\n",
       "    </tr>\n",
       "    <tr>\n",
       "      <th>max</th>\n",
       "      <td>2013.583</td>\n",
       "      <td>43.800</td>\n",
       "      <td>6488.021</td>\n",
       "      <td>10.000</td>\n",
       "      <td>25.015</td>\n",
       "      <td>121.566</td>\n",
       "      <td>117.500</td>\n",
       "    </tr>\n",
       "  </tbody>\n",
       "</table>\n",
       "</div>"
      ],
      "text/plain": [
       "           date  house_age  dist_mrt   no_cvs      lat     long    price\n",
       "count   414.000    414.000   414.000  414.000  414.000  414.000  414.000\n",
       "mean   2013.149     17.713  1083.886    4.094   24.969  121.533   37.980\n",
       "std       0.282     11.392  1262.110    2.946    0.012    0.015   13.606\n",
       "min    2012.667      0.000    23.383    0.000   24.932  121.474    7.600\n",
       "25%    2012.917      9.025   289.325    1.000   24.963  121.528   27.700\n",
       "50%    2013.167     16.100   492.231    4.000   24.971  121.539   38.450\n",
       "75%    2013.417     28.150  1454.279    6.000   24.977  121.543   46.600\n",
       "max    2013.583     43.800  6488.021   10.000   25.015  121.566  117.500"
      ]
     },
     "execution_count": 4,
     "metadata": {},
     "output_type": "execute_result"
    }
   ],
   "source": [
    "real.describe()"
   ]
  },
  {
   "cell_type": "code",
   "execution_count": 5,
   "metadata": {},
   "outputs": [
    {
     "data": {
      "image/png": "[encoded data removed]",
      "text/plain": [
       "<Figure size 864x720 with 9 Axes>"
      ]
     },
     "metadata": {
      "needs_background": "light"
     },
     "output_type": "display_data"
    }
   ],
   "source": [
    "real.hist(bins=50, figsize=(12,10))\n",
    "plt.tight_layout()"
   ]
  },
  {
   "cell_type": "code",
   "execution_count": 6,
   "metadata": {},
   "outputs": [
    {
     "data": {
      "image/png": "[encoded data removed]",
      "text/plain": [
       "<Figure size 432x288 with 1 Axes>"
      ]
     },
     "metadata": {
      "needs_background": "light"
     },
     "output_type": "display_data"
    }
   ],
   "source": [
    "real = real[real.price < 80]\n",
    "plt.hist(real.price, bins=50)\n",
    "plt.tight_layout()"
   ]
  },
  {
   "cell_type": "markdown",
   "metadata": {},
   "source": [
    "거래가 80 이상 제외"
   ]
  },
  {
   "cell_type": "markdown",
   "metadata": {},
   "source": [
    "### 변수 간 관계 살펴보기"
   ]
  },
  {
   "cell_type": "code",
   "execution_count": 7,
   "metadata": {},
   "outputs": [
    {
     "data": {
      "text/plain": [
       "<seaborn.axisgrid.PairGrid at 0x24043412208>"
      ]
     },
     "execution_count": 7,
     "metadata": {},
     "output_type": "execute_result"
    },
    {
     "data": {
      "image/png": "[encoded data removed]",
      "text/plain": [
       "<Figure size 720x720 with 20 Axes>"
      ]
     },
     "metadata": {
      "needs_background": "light"
     },
     "output_type": "display_data"
    }
   ],
   "source": [
    "sns.pairplot(real[['dist_mrt', 'house_age', 'no_cvs', 'price']])"
   ]
  },
  {
   "cell_type": "markdown",
   "metadata": {},
   "source": [
    "dist_mrt 변수가 혼자 skewed 되어 있으므로 bell shape으로 바꿔준다. "
   ]
  },
  {
   "cell_type": "code",
   "execution_count": 8,
   "metadata": {},
   "outputs": [
    {
     "data": {
      "text/plain": [
       "<seaborn.axisgrid.PairGrid at 0x240431e7f08>"
      ]
     },
     "execution_count": 8,
     "metadata": {},
     "output_type": "execute_result"
    },
    {
     "data": {
      "image/png": "[encoded data removed]",
      "text/plain": [
       "<Figure size 720x720 with 20 Axes>"
      ]
     },
     "metadata": {
      "needs_background": "light"
     },
     "output_type": "display_data"
    }
   ],
   "source": [
    "real2 = real.copy()\n",
    "real2['dist_mrt'] = np.log(1+real.dist_mrt)\n",
    "sns.pairplot(real2[['dist_mrt', 'house_age','no_cvs','price']])"
   ]
  },
  {
   "cell_type": "markdown",
   "metadata": {},
   "source": [
    "# 1. Train-Test Split"
   ]
  },
  {
   "cell_type": "code",
   "execution_count": 9,
   "metadata": {},
   "outputs": [],
   "source": [
    "data = real2[['dist_mrt', 'house_age','price']]"
   ]
  },
  {
   "cell_type": "code",
   "execution_count": 30,
   "metadata": {},
   "outputs": [],
   "source": [
    "X = real2[['dist_mrt', 'house_age']]\n",
    "Y = real2['price']"
   ]
  },
  {
   "cell_type": "code",
   "execution_count": 32,
   "metadata": {},
   "outputs": [],
   "source": [
    "from sklearn.model_selection import train_test_split\n",
    "\n",
    "X_train, X_test, Y_train, Y_test = train_test_split(X, Y, test_size = 0.3, random_state=415)"
   ]
  },
  {
   "cell_type": "code",
   "execution_count": 10,
   "metadata": {},
   "outputs": [
    {
     "name": "stdout",
     "output_type": "stream",
     "text": [
      "(331, 3) (82, 3)\n"
     ]
    }
   ],
   "source": [
    "test = np.random.choice(np.arange(data.shape[0]), 82, replace = False)\n",
    "train_df = data[~data.index.isin(test)].copy()\n",
    "test_df = data[data.index.isin(test)].copy()\n",
    "print(train_df.shape, test_df.shape)"
   ]
  },
  {
   "cell_type": "code",
   "execution_count": 13,
   "metadata": {},
   "outputs": [],
   "source": [
    "X_train = train_df[['dist_mrt', 'house_age']]\n",
    "Y_train = train_df['price']\n",
    "X_test = test_df[['dist_mrt', 'house_age']]\n",
    "Y_test = test_df['price']\n",
    "\n",
    "X_train.reset_index(drop = True, inplace = True)\n",
    "Y_train.reset_index(drop = True, inplace = True)\n",
    "X_test.reset_index(drop = True, inplace = True)\n",
    "Y_test.reset_index(drop = True, inplace = True)"
   ]
  },
  {
   "cell_type": "markdown",
   "metadata": {},
   "source": [
    "train:test = 8:2"
   ]
  },
  {
   "cell_type": "markdown",
   "metadata": {},
   "source": [
    "# 2. Feature Extraction (scaling)"
   ]
  },
  {
   "cell_type": "code",
   "execution_count": 33,
   "metadata": {},
   "outputs": [],
   "source": [
    "from sklearn import preprocessing\n",
    "scaler = preprocessing.StandardScaler().fit(X_train)\n",
    "\n",
    "def Scl_train(sclr, df):\n",
    "    colnames = df.columns\n",
    "    df = sclr.transform(df)\n",
    "    df = pd.DataFrame(df)\n",
    "    df.set_axis(colnames, axis=1, inplace=True)\n",
    "    return df"
   ]
  },
  {
   "cell_type": "markdown",
   "metadata": {},
   "source": [
    "스케일링: (전처리 과정) 모든 자료에 선형 변환을 가하여 자료의 분포를 평균 0, 분산 1이 되도록 한다. "
   ]
  },
  {
   "cell_type": "code",
   "execution_count": 34,
   "metadata": {},
   "outputs": [
    {
     "data": {
      "text/html": [
       "<div>\n",
       "<style scoped>\n",
       "    .dataframe tbody tr th:only-of-type {\n",
       "        vertical-align: middle;\n",
       "    }\n",
       "\n",
       "    .dataframe tbody tr th {\n",
       "        vertical-align: top;\n",
       "    }\n",
       "\n",
       "    .dataframe thead th {\n",
       "        text-align: right;\n",
       "    }\n",
       "</style>\n",
       "<table border=\"1\" class=\"dataframe\">\n",
       "  <thead>\n",
       "    <tr style=\"text-align: right;\">\n",
       "      <th></th>\n",
       "      <th>dist_mrt</th>\n",
       "      <th>house_age</th>\n",
       "    </tr>\n",
       "  </thead>\n",
       "  <tbody>\n",
       "    <tr>\n",
       "      <th>count</th>\n",
       "      <td>2.890e+02</td>\n",
       "      <td>2.890e+02</td>\n",
       "    </tr>\n",
       "    <tr>\n",
       "      <th>mean</th>\n",
       "      <td>6.154e-16</td>\n",
       "      <td>1.137e-16</td>\n",
       "    </tr>\n",
       "    <tr>\n",
       "      <th>std</th>\n",
       "      <td>1.002e+00</td>\n",
       "      <td>1.002e+00</td>\n",
       "    </tr>\n",
       "    <tr>\n",
       "      <th>min</th>\n",
       "      <td>-2.848e+00</td>\n",
       "      <td>-1.521e+00</td>\n",
       "    </tr>\n",
       "    <tr>\n",
       "      <th>25%</th>\n",
       "      <td>-6.282e-01</td>\n",
       "      <td>-7.886e-01</td>\n",
       "    </tr>\n",
       "    <tr>\n",
       "      <th>50%</th>\n",
       "      <td>-1.533e-01</td>\n",
       "      <td>-1.174e-01</td>\n",
       "    </tr>\n",
       "    <tr>\n",
       "      <th>75%</th>\n",
       "      <td>8.067e-01</td>\n",
       "      <td>9.548e-01</td>\n",
       "    </tr>\n",
       "    <tr>\n",
       "      <th>max</th>\n",
       "      <td>2.156e+00</td>\n",
       "      <td>2.201e+00</td>\n",
       "    </tr>\n",
       "  </tbody>\n",
       "</table>\n",
       "</div>"
      ],
      "text/plain": [
       "        dist_mrt  house_age\n",
       "count  2.890e+02  2.890e+02\n",
       "mean   6.154e-16  1.137e-16\n",
       "std    1.002e+00  1.002e+00\n",
       "min   -2.848e+00 -1.521e+00\n",
       "25%   -6.282e-01 -7.886e-01\n",
       "50%   -1.533e-01 -1.174e-01\n",
       "75%    8.067e-01  9.548e-01\n",
       "max    2.156e+00  2.201e+00"
      ]
     },
     "execution_count": 34,
     "metadata": {},
     "output_type": "execute_result"
    }
   ],
   "source": [
    "X_train_sc = Scl_train(scaler, X_train)\n",
    "X_train_sc.describe()"
   ]
  },
  {
   "cell_type": "code",
   "execution_count": 35,
   "metadata": {},
   "outputs": [
    {
     "data": {
      "text/html": [
       "<div>\n",
       "<style scoped>\n",
       "    .dataframe tbody tr th:only-of-type {\n",
       "        vertical-align: middle;\n",
       "    }\n",
       "\n",
       "    .dataframe tbody tr th {\n",
       "        vertical-align: top;\n",
       "    }\n",
       "\n",
       "    .dataframe thead th {\n",
       "        text-align: right;\n",
       "    }\n",
       "</style>\n",
       "<table border=\"1\" class=\"dataframe\">\n",
       "  <thead>\n",
       "    <tr style=\"text-align: right;\">\n",
       "      <th></th>\n",
       "      <th>dist_mrt</th>\n",
       "      <th>house_age</th>\n",
       "    </tr>\n",
       "  </thead>\n",
       "  <tbody>\n",
       "    <tr>\n",
       "      <th>count</th>\n",
       "      <td>124.000</td>\n",
       "      <td>124.000</td>\n",
       "    </tr>\n",
       "    <tr>\n",
       "      <th>mean</th>\n",
       "      <td>0.074</td>\n",
       "      <td>0.082</td>\n",
       "    </tr>\n",
       "    <tr>\n",
       "      <th>std</th>\n",
       "      <td>1.002</td>\n",
       "      <td>0.977</td>\n",
       "    </tr>\n",
       "    <tr>\n",
       "      <th>min</th>\n",
       "      <td>-2.193</td>\n",
       "      <td>-1.521</td>\n",
       "    </tr>\n",
       "    <tr>\n",
       "      <th>25%</th>\n",
       "      <td>-0.628</td>\n",
       "      <td>-0.523</td>\n",
       "    </tr>\n",
       "    <tr>\n",
       "      <th>50%</th>\n",
       "      <td>-0.102</td>\n",
       "      <td>-0.113</td>\n",
       "    </tr>\n",
       "    <tr>\n",
       "      <th>75%</th>\n",
       "      <td>0.851</td>\n",
       "      <td>0.892</td>\n",
       "    </tr>\n",
       "    <tr>\n",
       "      <th>max</th>\n",
       "      <td>2.143</td>\n",
       "      <td>2.297</td>\n",
       "    </tr>\n",
       "  </tbody>\n",
       "</table>\n",
       "</div>"
      ],
      "text/plain": [
       "       dist_mrt  house_age\n",
       "count   124.000    124.000\n",
       "mean      0.074      0.082\n",
       "std       1.002      0.977\n",
       "min      -2.193     -1.521\n",
       "25%      -0.628     -0.523\n",
       "50%      -0.102     -0.113\n",
       "75%       0.851      0.892\n",
       "max       2.143      2.297"
      ]
     },
     "execution_count": 35,
     "metadata": {},
     "output_type": "execute_result"
    }
   ],
   "source": [
    "X_test_sc = Scl_train(scaler, X_test)\n",
    "X_test_sc.describe()"
   ]
  },
  {
   "cell_type": "code",
   "execution_count": 36,
   "metadata": {
    "scrolled": true
   },
   "outputs": [
    {
     "data": {
      "image/png": "[encoded data removed]",
      "text/plain": [
       "<Figure size 360x360 with 1 Axes>"
      ]
     },
     "metadata": {
      "needs_background": "light"
     },
     "output_type": "display_data"
    }
   ],
   "source": [
    "fig, ax = plt.subplots(figsize=(5,5))\n",
    "ax.scatter(X_train_sc.house_age, X_train_sc.dist_mrt)\n",
    "ax.set_xlabel('house_age')\n",
    "ax.set_ylabel('dist_mrt')\n",
    "ax.axis('equal')\n",
    "fig.tight_layout()"
   ]
  },
  {
   "cell_type": "code",
   "execution_count": 37,
   "metadata": {},
   "outputs": [
    {
     "data": {
      "application/vnd.plotly.v1+json": {
       "config": {
        "plotlyServerURL": "https://plot.ly"
       },
       "data": [
        {
         "hovertemplate": "x=%{x}<br>y=%{y}<br>z=%{z}<extra></extra>",
         "legendgroup": "",
         "marker": {
          "color": "#636efa",
          "line": {
           "color": "DarkSlateGrey",
           "width": 0.1
          },
          "size": 4,
          "symbol": "circle"
         },
         "mode": "markers",
         "name": "",
         "scene": "scene",
         "showlegend": false,
         "type": "scatter3d",
         "x": [
          -0.10509105088548103,
          -0.6282232321963354,
          -1.145879552736293,
          -0.009627038361799218,
          -0.1170746687403,
          -1.6634728552943319,
          -0.2718155944612978,
          -0.5245148312840432,
          -0.9493506494463575,
          -0.0812779422224723,
          1.342165614722867,
          1.181123625074418,
          -0.6282232321963354,
          -0.15668639310551655,
          -0.15753038808718828,
          1.8491500850136156,
          1.7375966150126128,
          -1.5328167687530416,
          0.6018612799651232,
          -0.4867556563921464,
          0.2989552569988306,
          1.7375966150126128,
          -0.21167868229153047,
          -0.6767770602002245,
          1.1769743275129114,
          -0.3769506026176209,
          -0.36653614287004244,
          -0.5408051735723673,
          0.04823417535274727,
          0.6114654587505723,
          0.058191216940877435,
          -0.6601233418261161,
          -0.9211041258495234,
          0.04798294094256138,
          -0.15325165197646687,
          -0.3345887822022208,
          -0.174457321486064,
          -0.38567563082811374,
          -1.1152935044087724,
          0.7564902330622771,
          -0.6870187038443162,
          0.962881366053007,
          0.012600982900747494,
          0.7918000385424316,
          0.7564902330622771,
          1.1655118829555848,
          -1.0200172387196074,
          -0.6282232321963354,
          -0.03470647855129827,
          -0.15325165197646687,
          0.8791759827067795,
          1.2175750214492855,
          0.6176836821780706,
          -0.4559636605687179,
          0.8368751263942998,
          0.7836475105794817,
          -0.4021540697963025,
          0.04798294094256138,
          -0.8856793375049233,
          0.20283971504696718,
          0.7564902330622771,
          -0.361823290537757,
          -1.5328167687530416,
          1.7409894308973588,
          0.9652635485256759,
          -0.36011309284180687,
          -0.6282232321963354,
          -0.9868271682135367,
          0.6176836821780706,
          0.48929516399697404,
          -0.6601233418261161,
          -1.1019448560122218,
          -0.17063207314713708,
          -0.40331963317706476,
          -0.7299021628218593,
          -0.15325165197646687,
          -0.5423229581479878,
          -0.3897526691551592,
          -0.3898345271635649,
          -1.6634728552943319,
          0.18488082499337224,
          -0.405457635593877,
          -1.6949239054826735,
          -0.24520659031999248,
          -0.15325165197646687,
          -0.009627038361799218,
          1.8338335405589046,
          -0.03470647855129827,
          -0.3755945353435627,
          -0.7564140490109209,
          -1.0735917451243329,
          -0.633555671044913,
          -0.11261215230714575,
          -0.007699115142708187,
          -0.21167868229153047,
          1.7409894308973588,
          1.2081024167767298,
          1.4881025486253077,
          -1.0251964572421894,
          -0.026702637798300174,
          -1.6634728552943319,
          1.1773231013167238,
          0.02513654221776108,
          -0.3769506026176209,
          0.22683547657189254,
          -1.0251964572421894,
          -0.36011309284180687,
          -0.6282232321963354,
          -0.24587406358051883,
          0.7836475105794817,
          -1.0033065661309728,
          -0.4559636605687179,
          1.2684968511316697,
          0.11597607261041397,
          1.7659539607655095,
          -0.7248174154039074,
          -0.4944724017734069,
          -0.6282232321963354,
          1.0102617622271841,
          -1.0251964572421894,
          -2.848243818619885,
          0.23225363297624624,
          -0.6282232321963354,
          -0.5107823895977451,
          -1.6634728552943319,
          -0.36011309284180687,
          0.08106957077703972,
          0.8352055948798368,
          1.2684968511316697,
          1.7375966150126128,
          0.20900198325876135,
          -0.6282232321963354,
          1.2118711583184025,
          1.0744226773036476,
          -1.170055907983187,
          1.1769743275129114,
          -0.9341393158975774,
          -0.17063207314713708,
          0.8136142296776243,
          -0.3755945353435627,
          -0.159924171472808,
          -0.3059828290061807,
          0.9865065016263022,
          1.7409894308973588,
          -0.35582619596643245,
          -1.3640947113369106,
          1.3623163594173462,
          -0.17063207314713708,
          -0.9211041258495234,
          0.6913601190623542,
          -1.6634728552943319,
          -0.3755945353435627,
          -1.0153825843862287,
          0.5290587991955642,
          1.181123625074418,
          -1.4903425832441464,
          0.24640073318661818,
          -1.6634728552943319,
          -1.3346519199571767,
          0.32254864135119204,
          -0.6169560894860007,
          -1.6634728552943319,
          0.6135352744933427,
          -0.19045690931786022,
          -0.528060296331629,
          -0.5107823895977451,
          2.156182049390334,
          -0.03470647855129827,
          1.1791195847729279,
          0.4280145542070749,
          -1.3998999561983014,
          -0.5279603718053042,
          -0.38567563082811374,
          -1.098796642289797,
          1.6722580654627728,
          -0.7064400282739515,
          0.6124023777151009,
          1.7375966150126128,
          0.603341175295589,
          -0.15325165197646687,
          0.9259760469560573,
          -0.49036470017382666,
          2.010103531440905,
          -0.5764377828155464,
          1.7409894308973588,
          0.7564902330622771,
          -0.6169560894860007,
          1.1655118829555848,
          1.7375966150126128,
          -0.3936867475850744,
          -0.6282232321963354,
          -0.412984344869984,
          0.28653697117302235,
          -1.6634728552943319,
          -0.21167868229153047,
          0.4772565061699781,
          1.8303978174071458,
          1.739390285375291,
          0.7836475105794817,
          -0.07784573973486725,
          1.752820036645625,
          -0.23100398817428675,
          0.22362365676031257,
          -1.0251964572421894,
          -1.5328167687530416,
          1.0849260818778013,
          -1.1019448560122218,
          -2.1928652986024275,
          -0.4003101729676342,
          1.2907725181724845,
          -1.1777795224539271,
          -0.15947286001460517,
          -1.1019448560122218,
          1.1470426377262997,
          -0.21035464757097005,
          1.1465621580002336,
          0.8791759827067795,
          0.9652635485256759,
          0.7918000385424316,
          1.7659539607655095,
          -0.6688781577975189,
          1.7409894308973588,
          -0.6169560894860007,
          1.0082151733842883,
          1.1358306121501442,
          -0.6169560894860007,
          -0.230215421696455,
          1.8107973692865564,
          0.6913601190623542,
          0.9990379151798078,
          0.8173599514658493,
          0.9990379151798078,
          0.08244971403970254,
          -0.6282232321963354,
          -0.230215421696455,
          -1.2085636114510416,
          -2.079781821023766,
          1.8429088683539232,
          -1.3952697280065833,
          1.7409894308973588,
          1.7375966150126128,
          -0.37594273625890356,
          1.0922184419021703,
          0.8927922718356031,
          0.611182875609448,
          1.2223384492771148,
          0.17184470140393104,
          0.962881366053007,
          -0.12837430531947483,
          1.8303978174071458,
          -1.2514319177173807,
          -0.6169560894860007,
          -0.1170746687403,
          -1.5328167687530416,
          1.2907725181724845,
          -0.3769506026176209,
          -1.3852926624021906,
          0.04949421915307169,
          -2.079781821023766,
          -2.079781821023766,
          1.1655118829555848,
          -0.9729670011192849,
          0.08536627405722089,
          0.7564902330622771,
          1.193938532227374,
          -0.5016410946210005,
          -0.03263797616456393,
          -1.740900728223665,
          -0.9706272349446432,
          -0.9868271682135367,
          -0.4867556563921464,
          0.44893553519541063,
          0.786462632907458,
          0.4513917223913144,
          -1.6634728552943319,
          -0.20564532400964552,
          0.20283971504696718,
          0.049886850285771674,
          -0.03470647855129827,
          -0.2851848492267584,
          0.962881366053007,
          0.9164341540242655,
          -0.9081153278206731,
          -0.9868271682135367,
          1.2223384492771148,
          -0.6767770602002245,
          0.8067038638401516,
          -2.848243818619885,
          -0.9393505951055021
         ],
         "y": [
          1.6260209338245577,
          -0.0912108795170651,
          1.1727414704044337,
          -1.2505602763416122,
          0.37078549666113797,
          -1.0064867191153917,
          1.146590732130196,
          1.4865503296952887,
          -0.5096226919048715,
          -1.2941448401320086,
          -0.29169987295288896,
          0.2661825435641864,
          -0.3091336984690475,
          1.7654915379538267,
          -1.2418433635835329,
          0.5887083156131205,
          -0.12607853054938217,
          -0.8147146384376471,
          -0.37886900053368194,
          -1.5207845718420705,
          -0.15222926882362015,
          -0.04762631572666858,
          0.15286267770915543,
          -1.5207845718420705,
          -0.8582992022280436,
          -0.21324765813017518,
          -1.1110896722123433,
          -0.33528443674328545,
          1.556285631759923,
          1.2686275107433063,
          1.4865503296952887,
          -0.6578102087922196,
          -1.5207845718420705,
          1.608587108308399,
          -0.33528443674328545,
          2.079300397244681,
          1.9311128803573332,
          -0.9018837660184401,
          2.044432746212364,
          -0.4573212153563957,
          1.408098114872575,
          -0.3701520877756027,
          1.2163260341948303,
          0.04825972461220387,
          -0.4573212153563957,
          -1.1721080615188983,
          1.72190697416343,
          -0.13479544330746143,
          -0.37886900053368194,
          -0.38758591329176123,
          -1.102372759454264,
          -1.128523497728502,
          -0.3701520877756027,
          0.06569355012836241,
          1.033270866275165,
          -0.727545510856854,
          0.9199510004201341,
          0.15286267770915543,
          1.8352268400184608,
          -0.38758591329176123,
          -0.5183396046629508,
          -0.0912108795170651,
          -0.8408653767118849,
          -0.33528443674328545,
          -0.23939839640441316,
          -1.0849389339381055,
          -0.1609461815816994,
          -1.4248985315031981,
          -0.37886900053368194,
          0.13542885219299688,
          -0.6055087322437438,
          -0.4137366515659992,
          0.8153480473231826,
          -1.3551632294385638,
          1.2250429469529096,
          -0.38758591329176123,
          1.5650025445180022,
          1.3383628128079403,
          1.1640245576463546,
          -0.9803359808411538,
          1.1030061683397996,
          1.408098114872575,
          1.3470797255660198,
          -0.012758664694351184,
          -0.36143517501752326,
          -1.1982587997931364,
          0.571274490096962,
          -0.36143517501752326,
          -1.2505602763416122,
          -0.36143517501752326,
          1.5127010679695263,
          0.2487487180480279,
          0.885083349387817,
          1.5911532827922406,
          -0.19581383261401666,
          -0.32656752398520617,
          -0.6142256450018231,
          -0.7449793363730126,
          -1.5207845718420705,
          1.5214179807276058,
          -1.0239205446315505,
          -0.02147557745243061,
          1.207609121436751,
          -0.4224535643240785,
          -0.1609461815816994,
          -1.5207845718420705,
          -1.050071282905788,
          -0.07377705400090624,
          2.2013371758577915,
          -0.7362624236149333,
          1.5127010679695263,
          0.0221089863379659,
          -1.067505108421947,
          1.8352268400184608,
          -0.33528443674328545,
          -1.1198065849704226,
          -0.36143517501752326,
          -0.10864470503322363,
          0.013392073579886784,
          -1.5207845718420705,
          -1.390030880470881,
          -1.215692625309295,
          -0.29169987295288896,
          -1.4248985315031981,
          -1.0064867191153917,
          -0.52705651742103,
          -0.8670161149861229,
          -0.038909402968589156,
          -1.0326374573896295,
          -0.04762631572666858,
          0.27489945632226587,
          -0.11736161779130275,
          -0.012758664694351184,
          -0.9803359808411538,
          1.4429657659048922,
          -0.9018837660184401,
          -0.17838000709785795,
          0.797914221807024,
          -0.4050197388079198,
          -1.189541887035057,
          1.7829253634699849,
          1.2250429469529096,
          1.207609121436751,
          -0.31785061122712677,
          1.3296459000498615,
          1.4778334169372094,
          0.08312737564452095,
          1.5039841552114477,
          -1.5207845718420705,
          1.1204399938559582,
          -0.9629021553249951,
          -1.189541887035057,
          -0.4137366515659992,
          0.37078549666113797,
          0.24003180528994847,
          1.294778249017544,
          1.0594216045494032,
          -0.9716190680830744,
          0.484105362516169,
          0.013392073579886784,
          -1.5207845718420705,
          -1.0326374573896295,
          1.2424767724690682,
          1.1117230810978787,
          -0.08249396675898567,
          -1.3725970549547224,
          -0.004041751936272068,
          -0.4311704770821578,
          -1.1721080615188983,
          -0.6490932960341403,
          1.3732304638402582,
          -0.07377705400090624,
          -0.9280345042926779,
          1.5998701955503194,
          -0.0912108795170651,
          1.3034951617756232,
          0.37078549666113797,
          -0.056343228484747696,
          1.2599105979852268,
          -0.3963028260498405,
          -0.0912108795170651,
          0.858932611113579,
          1.2424767724690682,
          0.1790134159833934,
          -0.038909402968589156,
          -0.48347195363063356,
          -1.5207845718420705,
          -1.163391148760819,
          -0.11736161779130275,
          -0.9541852425669158,
          -0.0912108795170651,
          -0.04762631572666858,
          1.8439437527765403,
          -0.9454683298088367,
          0.1441457649510763,
          -0.004041751936272068,
          1.1204399938559582,
          -0.10864470503322363,
          -0.727545510856854,
          1.0594216045494032,
          1.3209289872917822,
          -1.3377294039224052,
          -0.3701520877756027,
          -1.5207845718420705,
          -0.8147146384376471,
          -0.7885639001634092,
          -0.3701520877756027,
          -1.1808249742769776,
          0.04825972461220387,
          0.27489945632226587,
          -1.3028617528900879,
          1.6696054976149541,
          -0.4137366515659992,
          -0.10864470503322363,
          1.7916422762280644,
          -0.6578102087922196,
          -1.0762220211800262,
          -0.23939839640441316,
          0.04825972461220387,
          -0.33528443674328545,
          -0.6142256450018231,
          -0.06506014124282712,
          -1.5207845718420705,
          -0.2829829601948097,
          -1.3464463166804845,
          -1.5207845718420705,
          0.0221089863379659,
          0.8414987855974205,
          1.155307644888275,
          0.03082589909604533,
          -1.3464463166804845,
          0.03954281185412444,
          0.20516415425763138,
          -0.13479544330746143,
          0.06569355012836241,
          -0.3701520877756027,
          -1.2244095380673743,
          -0.3091336984690475,
          2.044432746212364,
          -0.08249396675898567,
          -0.0999277922751442,
          0.15286267770915543,
          1.3993812021144958,
          0.684594355951993,
          1.1814583831625132,
          -0.08249396675898567,
          0.46667153700001046,
          -0.439887389840237,
          1.0158370407590065,
          1.0419877790332441,
          1.146590732130196,
          -1.5207845718420705,
          0.3272009328707415,
          -0.7798469874053299,
          0.257465630806107,
          -0.20453074537209592,
          1.9746974441477299,
          0.9548186514524512,
          -1.163391148760819,
          -1.215692625309295,
          -1.1721080615188983,
          1.3819473765983368,
          1.817793014502302,
          -0.23939839640441316,
          -0.8234315511957263,
          1.9398297931154127,
          1.3993812021144958,
          0.07441046288644183,
          0.9722524769686101,
          -1.4248985315031981,
          -1.5207845718420705,
          -0.04762631572666858,
          -0.7449793363730126,
          -0.030192490210509727,
          -0.9454683298088367,
          1.1291569066140372,
          -0.4050197388079198,
          1.9485467058734915,
          -0.36143517501752326,
          1.8962452293250163,
          -0.5619241684533473,
          0.22259797977378992,
          -0.6229425577599024,
          -1.4336154442612774,
          -0.10864470503322363,
          -1.5207845718420705,
          1.2773444235013856,
          -1.390030880470881,
          1.3383628128079403
         ],
         "z": [
          34.7,
          51,
          39.7,
          47.7,
          44.2,
          56.3,
          48.5,
          46,
          55.9,
          55,
          21.8,
          25.6,
          44.5,
          37,
          43.2,
          13.4,
          11.6,
          51.6,
          36.7,
          50.8,
          38.1,
          20.7,
          32.9,
          43.5,
          27.7,
          34.4,
          44.8,
          47.4,
          42.3,
          12.8,
          40.3,
          57.4,
          44,
          36.8,
          40.1,
          35.1,
          38.8,
          49.8,
          41,
          26.6,
          42.9,
          30.8,
          34.1,
          26.6,
          30.1,
          28.4,
          78.3,
          42.1,
          45.9,
          39.3,
          21.7,
          29.3,
          34.3,
          43.1,
          27,
          42.3,
          40.8,
          39.6,
          41,
          39,
          26.2,
          40.6,
          47,
          15.9,
          23,
          43.1,
          46.1,
          48.6,
          32.2,
          22.3,
          51.6,
          37.3,
          35.5,
          40.5,
          36.3,
          40.5,
          78,
          38.6,
          36.8,
          58,
          55.3,
          41.9,
          47.1,
          43.9,
          31.3,
          41.6,
          14.4,
          47.3,
          56.2,
          42,
          40.9,
          46.7,
          37.4,
          50.5,
          34.6,
          15.4,
          27.3,
          22,
          55.2,
          28.5,
          53.5,
          27.7,
          30.9,
          42.5,
          37.5,
          52.2,
          49.5,
          59.6,
          35.3,
          38.5,
          44.3,
          37.4,
          22.3,
          34.2,
          13,
          53.7,
          42.4,
          55,
          31.1,
          37.9,
          47.7,
          36.7,
          53.3,
          51.8,
          52.7,
          46.8,
          40.8,
          30.7,
          24.7,
          18.3,
          46.4,
          51.7,
          29.5,
          31.3,
          39.1,
          32.1,
          55.1,
          37.5,
          21.4,
          60.7,
          34.2,
          32.5,
          20.7,
          15.6,
          30.5,
          48.2,
          25.7,
          41.1,
          45.7,
          19.1,
          59.5,
          55,
          28.5,
          23.1,
          22.8,
          48,
          25,
          58.1,
          37.2,
          23,
          73.6,
          50,
          13.8,
          36.5,
          49.3,
          50.4,
          11.2,
          42,
          28.6,
          43.5,
          46.1,
          51,
          54.4,
          48.5,
          45.1,
          40.2,
          23.8,
          18.2,
          16.1,
          42.5,
          24.7,
          36.5,
          18.8,
          42.2,
          18.8,
          28.4,
          63.3,
          31.3,
          12.9,
          40.9,
          53,
          42.3,
          62.9,
          59,
          34,
          25.5,
          22.6,
          14.7,
          43.2,
          37.5,
          24.7,
          45.5,
          37.8,
          55.3,
          52.5,
          23.5,
          29.3,
          56.8,
          39.5,
          21.8,
          36.9,
          38.1,
          32.9,
          25.6,
          35.7,
          23.1,
          28.9,
          30.5,
          26.5,
          19.2,
          33.6,
          16.7,
          69.7,
          24.8,
          33.4,
          71,
          26.5,
          17.4,
          18.3,
          23.7,
          25.6,
          22.1,
          37.5,
          53,
          31.6,
          48.1,
          54.4,
          19.2,
          67.7,
          12.8,
          20.5,
          48.1,
          23.5,
          30.6,
          19,
          23.2,
          36.6,
          31.3,
          40.3,
          13.2,
          53.3,
          70.1,
          42.5,
          56.8,
          23.8,
          43.7,
          44.3,
          34.6,
          62.1,
          53.5,
          30.7,
          39.4,
          31.5,
          24.6,
          23.9,
          32.4,
          46.6,
          46.6,
          42.5,
          49,
          44.9,
          37.7,
          48,
          40,
          58.1,
          36.2,
          40.6,
          39.6,
          54.8,
          30,
          28.8,
          29.4,
          45.3,
          50.7,
          24.4,
          52.2,
          27,
          49.7,
          48.2
         ]
        }
       ],
       "layout": {
        "legend": {
         "tracegroupgap": 0
        },
        "margin": {
         "t": 60
        },
        "scene": {
         "domain": {
          "x": [
           0,
           1
          ],
          "y": [
           0,
           1
          ]
         },
         "xaxis": {
          "title": {
           "text": "x"
          }
         },
         "yaxis": {
          "title": {
           "text": "y"
          }
         },
         "zaxis": {
          "title": {
           "text": "z"
          }
         }
        },
        "template": {
         "data": {
          "bar": [
           {
            "error_x": {
             "color": "#2a3f5f"
            },
            "error_y": {
             "color": "#2a3f5f"
            },
            "marker": {
             "line": {
              "color": "#E5ECF6",
              "width": 0.5
             }
            },
            "type": "bar"
           }
          ],
          "barpolar": [
           {
            "marker": {
             "line": {
              "color": "#E5ECF6",
              "width": 0.5
             }
            },
            "type": "barpolar"
           }
          ],
          "carpet": [
           {
            "aaxis": {
             "endlinecolor": "#2a3f5f",
             "gridcolor": "white",
             "linecolor": "white",
             "minorgridcolor": "white",
             "startlinecolor": "#2a3f5f"
            },
            "baxis": {
             "endlinecolor": "#2a3f5f",
             "gridcolor": "white",
             "linecolor": "white",
             "minorgridcolor": "white",
             "startlinecolor": "#2a3f5f"
            },
            "type": "carpet"
           }
          ],
          "choropleth": [
           {
            "colorbar": {
             "outlinewidth": 0,
             "ticks": ""
            },
            "type": "choropleth"
           }
          ],
          "contour": [
           {
            "colorbar": {
             "outlinewidth": 0,
             "ticks": ""
            },
            "colorscale": [
             [
              0,
              "#0d0887"
             ],
             [
              0.1111111111111111,
              "#46039f"
             ],
             [
              0.2222222222222222,
              "#7201a8"
             ],
             [
              0.3333333333333333,
              "#9c179e"
             ],
             [
              0.4444444444444444,
              "#bd3786"
             ],
             [
              0.5555555555555556,
              "#d8576b"
             ],
             [
              0.6666666666666666,
              "#ed7953"
             ],
             [
              0.7777777777777778,
              "#fb9f3a"
             ],
             [
              0.8888888888888888,
              "#fdca26"
             ],
             [
              1,
              "#f0f921"
             ]
            ],
            "type": "contour"
           }
          ],
          "contourcarpet": [
           {
            "colorbar": {
             "outlinewidth": 0,
             "ticks": ""
            },
            "type": "contourcarpet"
           }
          ],
          "heatmap": [
           {
            "colorbar": {
             "outlinewidth": 0,
             "ticks": ""
            },
            "colorscale": [
             [
              0,
              "#0d0887"
             ],
             [
              0.1111111111111111,
              "#46039f"
             ],
             [
              0.2222222222222222,
              "#7201a8"
             ],
             [
              0.3333333333333333,
              "#9c179e"
             ],
             [
              0.4444444444444444,
              "#bd3786"
             ],
             [
              0.5555555555555556,
              "#d8576b"
             ],
             [
              0.6666666666666666,
              "#ed7953"
             ],
             [
              0.7777777777777778,
              "#fb9f3a"
             ],
             [
              0.8888888888888888,
              "#fdca26"
             ],
             [
              1,
              "#f0f921"
             ]
            ],
            "type": "heatmap"
           }
          ],
          "heatmapgl": [
           {
            "colorbar": {
             "outlinewidth": 0,
             "ticks": ""
            },
            "colorscale": [
             [
              0,
              "#0d0887"
             ],
             [
              0.1111111111111111,
              "#46039f"
             ],
             [
              0.2222222222222222,
              "#7201a8"
             ],
             [
              0.3333333333333333,
              "#9c179e"
             ],
             [
              0.4444444444444444,
              "#bd3786"
             ],
             [
              0.5555555555555556,
              "#d8576b"
             ],
             [
              0.6666666666666666,
              "#ed7953"
             ],
             [
              0.7777777777777778,
              "#fb9f3a"
             ],
             [
              0.8888888888888888,
              "#fdca26"
             ],
             [
              1,
              "#f0f921"
             ]
            ],
            "type": "heatmapgl"
           }
          ],
          "histogram": [
           {
            "marker": {
             "colorbar": {
              "outlinewidth": 0,
              "ticks": ""
             }
            },
            "type": "histogram"
           }
          ],
          "histogram2d": [
           {
            "colorbar": {
             "outlinewidth": 0,
             "ticks": ""
            },
            "colorscale": [
             [
              0,
              "#0d0887"
             ],
             [
              0.1111111111111111,
              "#46039f"
             ],
             [
              0.2222222222222222,
              "#7201a8"
             ],
             [
              0.3333333333333333,
              "#9c179e"
             ],
             [
              0.4444444444444444,
              "#bd3786"
             ],
             [
              0.5555555555555556,
              "#d8576b"
             ],
             [
              0.6666666666666666,
              "#ed7953"
             ],
             [
              0.7777777777777778,
              "#fb9f3a"
             ],
             [
              0.8888888888888888,
              "#fdca26"
             ],
             [
              1,
              "#f0f921"
             ]
            ],
            "type": "histogram2d"
           }
          ],
          "histogram2dcontour": [
           {
            "colorbar": {
             "outlinewidth": 0,
             "ticks": ""
            },
            "colorscale": [
             [
              0,
              "#0d0887"
             ],
             [
              0.1111111111111111,
              "#46039f"
             ],
             [
              0.2222222222222222,
              "#7201a8"
             ],
             [
              0.3333333333333333,
              "#9c179e"
             ],
             [
              0.4444444444444444,
              "#bd3786"
             ],
             [
              0.5555555555555556,
              "#d8576b"
             ],
             [
              0.6666666666666666,
              "#ed7953"
             ],
             [
              0.7777777777777778,
              "#fb9f3a"
             ],
             [
              0.8888888888888888,
              "#fdca26"
             ],
             [
              1,
              "#f0f921"
             ]
            ],
            "type": "histogram2dcontour"
           }
          ],
          "mesh3d": [
           {
            "colorbar": {
             "outlinewidth": 0,
             "ticks": ""
            },
            "type": "mesh3d"
           }
          ],
          "parcoords": [
           {
            "line": {
             "colorbar": {
              "outlinewidth": 0,
              "ticks": ""
             }
            },
            "type": "parcoords"
           }
          ],
          "pie": [
           {
            "automargin": true,
            "type": "pie"
           }
          ],
          "scatter": [
           {
            "marker": {
             "colorbar": {
              "outlinewidth": 0,
              "ticks": ""
             }
            },
            "type": "scatter"
           }
          ],
          "scatter3d": [
           {
            "line": {
             "colorbar": {
              "outlinewidth": 0,
              "ticks": ""
             }
            },
            "marker": {
             "colorbar": {
              "outlinewidth": 0,
              "ticks": ""
             }
            },
            "type": "scatter3d"
           }
          ],
          "scattercarpet": [
           {
            "marker": {
             "colorbar": {
              "outlinewidth": 0,
              "ticks": ""
             }
            },
            "type": "scattercarpet"
           }
          ],
          "scattergeo": [
           {
            "marker": {
             "colorbar": {
              "outlinewidth": 0,
              "ticks": ""
             }
            },
            "type": "scattergeo"
           }
          ],
          "scattergl": [
           {
            "marker": {
             "colorbar": {
              "outlinewidth": 0,
              "ticks": ""
             }
            },
            "type": "scattergl"
           }
          ],
          "scattermapbox": [
           {
            "marker": {
             "colorbar": {
              "outlinewidth": 0,
              "ticks": ""
             }
            },
            "type": "scattermapbox"
           }
          ],
          "scatterpolar": [
           {
            "marker": {
             "colorbar": {
              "outlinewidth": 0,
              "ticks": ""
             }
            },
            "type": "scatterpolar"
           }
          ],
          "scatterpolargl": [
           {
            "marker": {
             "colorbar": {
              "outlinewidth": 0,
              "ticks": ""
             }
            },
            "type": "scatterpolargl"
           }
          ],
          "scatterternary": [
           {
            "marker": {
             "colorbar": {
              "outlinewidth": 0,
              "ticks": ""
             }
            },
            "type": "scatterternary"
           }
          ],
          "surface": [
           {
            "colorbar": {
             "outlinewidth": 0,
             "ticks": ""
            },
            "colorscale": [
             [
              0,
              "#0d0887"
             ],
             [
              0.1111111111111111,
              "#46039f"
             ],
             [
              0.2222222222222222,
              "#7201a8"
             ],
             [
              0.3333333333333333,
              "#9c179e"
             ],
             [
              0.4444444444444444,
              "#bd3786"
             ],
             [
              0.5555555555555556,
              "#d8576b"
             ],
             [
              0.6666666666666666,
              "#ed7953"
             ],
             [
              0.7777777777777778,
              "#fb9f3a"
             ],
             [
              0.8888888888888888,
              "#fdca26"
             ],
             [
              1,
              "#f0f921"
             ]
            ],
            "type": "surface"
           }
          ],
          "table": [
           {
            "cells": {
             "fill": {
              "color": "#EBF0F8"
             },
             "line": {
              "color": "white"
             }
            },
            "header": {
             "fill": {
              "color": "#C8D4E3"
             },
             "line": {
              "color": "white"
             }
            },
            "type": "table"
           }
          ]
         },
         "layout": {
          "annotationdefaults": {
           "arrowcolor": "#2a3f5f",
           "arrowhead": 0,
           "arrowwidth": 1
          },
          "coloraxis": {
           "colorbar": {
            "outlinewidth": 0,
            "ticks": ""
           }
          },
          "colorscale": {
           "diverging": [
            [
             0,
             "#8e0152"
            ],
            [
             0.1,
             "#c51b7d"
            ],
            [
             0.2,
             "#de77ae"
            ],
            [
             0.3,
             "#f1b6da"
            ],
            [
             0.4,
             "#fde0ef"
            ],
            [
             0.5,
             "#f7f7f7"
            ],
            [
             0.6,
             "#e6f5d0"
            ],
            [
             0.7,
             "#b8e186"
            ],
            [
             0.8,
             "#7fbc41"
            ],
            [
             0.9,
             "#4d9221"
            ],
            [
             1,
             "#276419"
            ]
           ],
           "sequential": [
            [
             0,
             "#0d0887"
            ],
            [
             0.1111111111111111,
             "#46039f"
            ],
            [
             0.2222222222222222,
             "#7201a8"
            ],
            [
             0.3333333333333333,
             "#9c179e"
            ],
            [
             0.4444444444444444,
             "#bd3786"
            ],
            [
             0.5555555555555556,
             "#d8576b"
            ],
            [
             0.6666666666666666,
             "#ed7953"
            ],
            [
             0.7777777777777778,
             "#fb9f3a"
            ],
            [
             0.8888888888888888,
             "#fdca26"
            ],
            [
             1,
             "#f0f921"
            ]
           ],
           "sequentialminus": [
            [
             0,
             "#0d0887"
            ],
            [
             0.1111111111111111,
             "#46039f"
            ],
            [
             0.2222222222222222,
             "#7201a8"
            ],
            [
             0.3333333333333333,
             "#9c179e"
            ],
            [
             0.4444444444444444,
             "#bd3786"
            ],
            [
             0.5555555555555556,
             "#d8576b"
            ],
            [
             0.6666666666666666,
             "#ed7953"
            ],
            [
             0.7777777777777778,
             "#fb9f3a"
            ],
            [
             0.8888888888888888,
             "#fdca26"
            ],
            [
             1,
             "#f0f921"
            ]
           ]
          },
          "colorway": [
           "#636efa",
           "#EF553B",
           "#00cc96",
           "#ab63fa",
           "#FFA15A",
           "#19d3f3",
           "#FF6692",
           "#B6E880",
           "#FF97FF",
           "#FECB52"
          ],
          "font": {
           "color": "#2a3f5f"
          },
          "geo": {
           "bgcolor": "white",
           "lakecolor": "white",
           "landcolor": "#E5ECF6",
           "showlakes": true,
           "showland": true,
           "subunitcolor": "white"
          },
          "hoverlabel": {
           "align": "left"
          },
          "hovermode": "closest",
          "mapbox": {
           "style": "light"
          },
          "paper_bgcolor": "white",
          "plot_bgcolor": "#E5ECF6",
          "polar": {
           "angularaxis": {
            "gridcolor": "white",
            "linecolor": "white",
            "ticks": ""
           },
           "bgcolor": "#E5ECF6",
           "radialaxis": {
            "gridcolor": "white",
            "linecolor": "white",
            "ticks": ""
           }
          },
          "scene": {
           "xaxis": {
            "backgroundcolor": "#E5ECF6",
            "gridcolor": "white",
            "gridwidth": 2,
            "linecolor": "white",
            "showbackground": true,
            "ticks": "",
            "zerolinecolor": "white"
           },
           "yaxis": {
            "backgroundcolor": "#E5ECF6",
            "gridcolor": "white",
            "gridwidth": 2,
            "linecolor": "white",
            "showbackground": true,
            "ticks": "",
            "zerolinecolor": "white"
           },
           "zaxis": {
            "backgroundcolor": "#E5ECF6",
            "gridcolor": "white",
            "gridwidth": 2,
            "linecolor": "white",
            "showbackground": true,
            "ticks": "",
            "zerolinecolor": "white"
           }
          },
          "shapedefaults": {
           "line": {
            "color": "#2a3f5f"
           }
          },
          "ternary": {
           "aaxis": {
            "gridcolor": "white",
            "linecolor": "white",
            "ticks": ""
           },
           "baxis": {
            "gridcolor": "white",
            "linecolor": "white",
            "ticks": ""
           },
           "bgcolor": "#E5ECF6",
           "caxis": {
            "gridcolor": "white",
            "linecolor": "white",
            "ticks": ""
           }
          },
          "title": {
           "x": 0.05
          },
          "xaxis": {
           "automargin": true,
           "gridcolor": "white",
           "linecolor": "white",
           "ticks": "",
           "title": {
            "standoff": 15
           },
           "zerolinecolor": "white",
           "zerolinewidth": 2
          },
          "yaxis": {
           "automargin": true,
           "gridcolor": "white",
           "linecolor": "white",
           "ticks": "",
           "title": {
            "standoff": 15
           },
           "zerolinecolor": "white",
           "zerolinewidth": 2
          }
         }
        }
       }
      },
      "text/html": [
       "<div>\n",
       "        \n",
       "        \n",
       "            <div id=\"3c685de4-861e-4a86-a822-e0ec22ec2622\" class=\"plotly-graph-div\" style=\"height:525px; width:100%;\"></div>\n",
       "            <script type=\"text/javascript\">\n",
       "                require([\"plotly\"], function(Plotly) {\n",
       "                    window.PLOTLYENV=window.PLOTLYENV || {};\n",
       "                    \n",
       "                if (document.getElementById(\"3c685de4-861e-4a86-a822-e0ec22ec2622\")) {\n",
       "                    Plotly.newPlot(\n",
       "                        '3c685de4-861e-4a86-a822-e0ec22ec2622',\n",
       "                        [{\"hovertemplate\": \"x=%{x}<br>y=%{y}<br>z=%{z}<extra></extra>\", \"legendgroup\": \"\", \"marker\": {\"color\": \"#636efa\", \"line\": {\"color\": \"DarkSlateGrey\", \"width\": 0.1}, \"size\": 4, \"symbol\": \"circle\"}, \"mode\": \"markers\", \"name\": \"\", \"scene\": \"scene\", \"showlegend\": false, \"type\": \"scatter3d\", \"x\": [-0.10509105088548103, -0.6282232321963354, -1.145879552736293, -0.009627038361799218, -0.1170746687403, -1.6634728552943319, -0.2718155944612978, -0.5245148312840432, -0.9493506494463575, -0.0812779422224723, 1.342165614722867, 1.181123625074418, -0.6282232321963354, -0.15668639310551655, -0.15753038808718828, 1.8491500850136156, 1.7375966150126128, -1.5328167687530416, 0.6018612799651232, -0.4867556563921464, 0.2989552569988306, 1.7375966150126128, -0.21167868229153047, -0.6767770602002245, 1.1769743275129114, -0.3769506026176209, -0.36653614287004244, -0.5408051735723673, 0.04823417535274727, 0.6114654587505723, 0.058191216940877435, -0.6601233418261161, -0.9211041258495234, 0.04798294094256138, -0.15325165197646687, -0.3345887822022208, -0.174457321486064, -0.38567563082811374, -1.1152935044087724, 0.7564902330622771, -0.6870187038443162, 0.962881366053007, 0.012600982900747494, 0.7918000385424316, 0.7564902330622771, 1.1655118829555848, -1.0200172387196074, -0.6282232321963354, -0.03470647855129827, -0.15325165197646687, 0.8791759827067795, 1.2175750214492855, 0.6176836821780706, -0.4559636605687179, 0.8368751263942998, 0.7836475105794817, -0.4021540697963025, 0.04798294094256138, -0.8856793375049233, 0.20283971504696718, 0.7564902330622771, -0.361823290537757, -1.5328167687530416, 1.7409894308973588, 0.9652635485256759, -0.36011309284180687, -0.6282232321963354, -0.9868271682135367, 0.6176836821780706, 0.48929516399697404, -0.6601233418261161, -1.1019448560122218, -0.17063207314713708, -0.40331963317706476, -0.7299021628218593, -0.15325165197646687, -0.5423229581479878, -0.3897526691551592, -0.3898345271635649, -1.6634728552943319, 0.18488082499337224, -0.405457635593877, -1.6949239054826735, -0.24520659031999248, -0.15325165197646687, -0.009627038361799218, 1.8338335405589046, -0.03470647855129827, -0.3755945353435627, -0.7564140490109209, -1.0735917451243329, -0.633555671044913, -0.11261215230714575, -0.007699115142708187, -0.21167868229153047, 1.7409894308973588, 1.2081024167767298, 1.4881025486253077, -1.0251964572421894, -0.026702637798300174, -1.6634728552943319, 1.1773231013167238, 0.02513654221776108, -0.3769506026176209, 0.22683547657189254, -1.0251964572421894, -0.36011309284180687, -0.6282232321963354, -0.24587406358051883, 0.7836475105794817, -1.0033065661309728, -0.4559636605687179, 1.2684968511316697, 0.11597607261041397, 1.7659539607655095, -0.7248174154039074, -0.4944724017734069, -0.6282232321963354, 1.0102617622271841, -1.0251964572421894, -2.848243818619885, 0.23225363297624624, -0.6282232321963354, -0.5107823895977451, -1.6634728552943319, -0.36011309284180687, 0.08106957077703972, 0.8352055948798368, 1.2684968511316697, 1.7375966150126128, 0.20900198325876135, -0.6282232321963354, 1.2118711583184025, 1.0744226773036476, -1.170055907983187, 1.1769743275129114, -0.9341393158975774, -0.17063207314713708, 0.8136142296776243, -0.3755945353435627, -0.159924171472808, -0.3059828290061807, 0.9865065016263022, 1.7409894308973588, -0.35582619596643245, -1.3640947113369106, 1.3623163594173462, -0.17063207314713708, -0.9211041258495234, 0.6913601190623542, -1.6634728552943319, -0.3755945353435627, -1.0153825843862287, 0.5290587991955642, 1.181123625074418, -1.4903425832441464, 0.24640073318661818, -1.6634728552943319, -1.3346519199571767, 0.32254864135119204, -0.6169560894860007, -1.6634728552943319, 0.6135352744933427, -0.19045690931786022, -0.528060296331629, -0.5107823895977451, 2.156182049390334, -0.03470647855129827, 1.1791195847729279, 0.4280145542070749, -1.3998999561983014, -0.5279603718053042, -0.38567563082811374, -1.098796642289797, 1.6722580654627728, -0.7064400282739515, 0.6124023777151009, 1.7375966150126128, 0.603341175295589, -0.15325165197646687, 0.9259760469560573, -0.49036470017382666, 2.010103531440905, -0.5764377828155464, 1.7409894308973588, 0.7564902330622771, -0.6169560894860007, 1.1655118829555848, 1.7375966150126128, -0.3936867475850744, -0.6282232321963354, -0.412984344869984, 0.28653697117302235, -1.6634728552943319, -0.21167868229153047, 0.4772565061699781, 1.8303978174071458, 1.739390285375291, 0.7836475105794817, -0.07784573973486725, 1.752820036645625, -0.23100398817428675, 0.22362365676031257, -1.0251964572421894, -1.5328167687530416, 1.0849260818778013, -1.1019448560122218, -2.1928652986024275, -0.4003101729676342, 1.2907725181724845, -1.1777795224539271, -0.15947286001460517, -1.1019448560122218, 1.1470426377262997, -0.21035464757097005, 1.1465621580002336, 0.8791759827067795, 0.9652635485256759, 0.7918000385424316, 1.7659539607655095, -0.6688781577975189, 1.7409894308973588, -0.6169560894860007, 1.0082151733842883, 1.1358306121501442, -0.6169560894860007, -0.230215421696455, 1.8107973692865564, 0.6913601190623542, 0.9990379151798078, 0.8173599514658493, 0.9990379151798078, 0.08244971403970254, -0.6282232321963354, -0.230215421696455, -1.2085636114510416, -2.079781821023766, 1.8429088683539232, -1.3952697280065833, 1.7409894308973588, 1.7375966150126128, -0.37594273625890356, 1.0922184419021703, 0.8927922718356031, 0.611182875609448, 1.2223384492771148, 0.17184470140393104, 0.962881366053007, -0.12837430531947483, 1.8303978174071458, -1.2514319177173807, -0.6169560894860007, -0.1170746687403, -1.5328167687530416, 1.2907725181724845, -0.3769506026176209, -1.3852926624021906, 0.04949421915307169, -2.079781821023766, -2.079781821023766, 1.1655118829555848, -0.9729670011192849, 0.08536627405722089, 0.7564902330622771, 1.193938532227374, -0.5016410946210005, -0.03263797616456393, -1.740900728223665, -0.9706272349446432, -0.9868271682135367, -0.4867556563921464, 0.44893553519541063, 0.786462632907458, 0.4513917223913144, -1.6634728552943319, -0.20564532400964552, 0.20283971504696718, 0.049886850285771674, -0.03470647855129827, -0.2851848492267584, 0.962881366053007, 0.9164341540242655, -0.9081153278206731, -0.9868271682135367, 1.2223384492771148, -0.6767770602002245, 0.8067038638401516, -2.848243818619885, -0.9393505951055021], \"y\": [1.6260209338245577, -0.0912108795170651, 1.1727414704044337, -1.2505602763416122, 0.37078549666113797, -1.0064867191153917, 1.146590732130196, 1.4865503296952887, -0.5096226919048715, -1.2941448401320086, -0.29169987295288896, 0.2661825435641864, -0.3091336984690475, 1.7654915379538267, -1.2418433635835329, 0.5887083156131205, -0.12607853054938217, -0.8147146384376471, -0.37886900053368194, -1.5207845718420705, -0.15222926882362015, -0.04762631572666858, 0.15286267770915543, -1.5207845718420705, -0.8582992022280436, -0.21324765813017518, -1.1110896722123433, -0.33528443674328545, 1.556285631759923, 1.2686275107433063, 1.4865503296952887, -0.6578102087922196, -1.5207845718420705, 1.608587108308399, -0.33528443674328545, 2.079300397244681, 1.9311128803573332, -0.9018837660184401, 2.044432746212364, -0.4573212153563957, 1.408098114872575, -0.3701520877756027, 1.2163260341948303, 0.04825972461220387, -0.4573212153563957, -1.1721080615188983, 1.72190697416343, -0.13479544330746143, -0.37886900053368194, -0.38758591329176123, -1.102372759454264, -1.128523497728502, -0.3701520877756027, 0.06569355012836241, 1.033270866275165, -0.727545510856854, 0.9199510004201341, 0.15286267770915543, 1.8352268400184608, -0.38758591329176123, -0.5183396046629508, -0.0912108795170651, -0.8408653767118849, -0.33528443674328545, -0.23939839640441316, -1.0849389339381055, -0.1609461815816994, -1.4248985315031981, -0.37886900053368194, 0.13542885219299688, -0.6055087322437438, -0.4137366515659992, 0.8153480473231826, -1.3551632294385638, 1.2250429469529096, -0.38758591329176123, 1.5650025445180022, 1.3383628128079403, 1.1640245576463546, -0.9803359808411538, 1.1030061683397996, 1.408098114872575, 1.3470797255660198, -0.012758664694351184, -0.36143517501752326, -1.1982587997931364, 0.571274490096962, -0.36143517501752326, -1.2505602763416122, -0.36143517501752326, 1.5127010679695263, 0.2487487180480279, 0.885083349387817, 1.5911532827922406, -0.19581383261401666, -0.32656752398520617, -0.6142256450018231, -0.7449793363730126, -1.5207845718420705, 1.5214179807276058, -1.0239205446315505, -0.02147557745243061, 1.207609121436751, -0.4224535643240785, -0.1609461815816994, -1.5207845718420705, -1.050071282905788, -0.07377705400090624, 2.2013371758577915, -0.7362624236149333, 1.5127010679695263, 0.0221089863379659, -1.067505108421947, 1.8352268400184608, -0.33528443674328545, -1.1198065849704226, -0.36143517501752326, -0.10864470503322363, 0.013392073579886784, -1.5207845718420705, -1.390030880470881, -1.215692625309295, -0.29169987295288896, -1.4248985315031981, -1.0064867191153917, -0.52705651742103, -0.8670161149861229, -0.038909402968589156, -1.0326374573896295, -0.04762631572666858, 0.27489945632226587, -0.11736161779130275, -0.012758664694351184, -0.9803359808411538, 1.4429657659048922, -0.9018837660184401, -0.17838000709785795, 0.797914221807024, -0.4050197388079198, -1.189541887035057, 1.7829253634699849, 1.2250429469529096, 1.207609121436751, -0.31785061122712677, 1.3296459000498615, 1.4778334169372094, 0.08312737564452095, 1.5039841552114477, -1.5207845718420705, 1.1204399938559582, -0.9629021553249951, -1.189541887035057, -0.4137366515659992, 0.37078549666113797, 0.24003180528994847, 1.294778249017544, 1.0594216045494032, -0.9716190680830744, 0.484105362516169, 0.013392073579886784, -1.5207845718420705, -1.0326374573896295, 1.2424767724690682, 1.1117230810978787, -0.08249396675898567, -1.3725970549547224, -0.004041751936272068, -0.4311704770821578, -1.1721080615188983, -0.6490932960341403, 1.3732304638402582, -0.07377705400090624, -0.9280345042926779, 1.5998701955503194, -0.0912108795170651, 1.3034951617756232, 0.37078549666113797, -0.056343228484747696, 1.2599105979852268, -0.3963028260498405, -0.0912108795170651, 0.858932611113579, 1.2424767724690682, 0.1790134159833934, -0.038909402968589156, -0.48347195363063356, -1.5207845718420705, -1.163391148760819, -0.11736161779130275, -0.9541852425669158, -0.0912108795170651, -0.04762631572666858, 1.8439437527765403, -0.9454683298088367, 0.1441457649510763, -0.004041751936272068, 1.1204399938559582, -0.10864470503322363, -0.727545510856854, 1.0594216045494032, 1.3209289872917822, -1.3377294039224052, -0.3701520877756027, -1.5207845718420705, -0.8147146384376471, -0.7885639001634092, -0.3701520877756027, -1.1808249742769776, 0.04825972461220387, 0.27489945632226587, -1.3028617528900879, 1.6696054976149541, -0.4137366515659992, -0.10864470503322363, 1.7916422762280644, -0.6578102087922196, -1.0762220211800262, -0.23939839640441316, 0.04825972461220387, -0.33528443674328545, -0.6142256450018231, -0.06506014124282712, -1.5207845718420705, -0.2829829601948097, -1.3464463166804845, -1.5207845718420705, 0.0221089863379659, 0.8414987855974205, 1.155307644888275, 0.03082589909604533, -1.3464463166804845, 0.03954281185412444, 0.20516415425763138, -0.13479544330746143, 0.06569355012836241, -0.3701520877756027, -1.2244095380673743, -0.3091336984690475, 2.044432746212364, -0.08249396675898567, -0.0999277922751442, 0.15286267770915543, 1.3993812021144958, 0.684594355951993, 1.1814583831625132, -0.08249396675898567, 0.46667153700001046, -0.439887389840237, 1.0158370407590065, 1.0419877790332441, 1.146590732130196, -1.5207845718420705, 0.3272009328707415, -0.7798469874053299, 0.257465630806107, -0.20453074537209592, 1.9746974441477299, 0.9548186514524512, -1.163391148760819, -1.215692625309295, -1.1721080615188983, 1.3819473765983368, 1.817793014502302, -0.23939839640441316, -0.8234315511957263, 1.9398297931154127, 1.3993812021144958, 0.07441046288644183, 0.9722524769686101, -1.4248985315031981, -1.5207845718420705, -0.04762631572666858, -0.7449793363730126, -0.030192490210509727, -0.9454683298088367, 1.1291569066140372, -0.4050197388079198, 1.9485467058734915, -0.36143517501752326, 1.8962452293250163, -0.5619241684533473, 0.22259797977378992, -0.6229425577599024, -1.4336154442612774, -0.10864470503322363, -1.5207845718420705, 1.2773444235013856, -1.390030880470881, 1.3383628128079403], \"z\": [34.7, 51.0, 39.7, 47.7, 44.2, 56.3, 48.5, 46.0, 55.9, 55.0, 21.8, 25.6, 44.5, 37.0, 43.2, 13.4, 11.6, 51.6, 36.7, 50.8, 38.1, 20.7, 32.9, 43.5, 27.7, 34.4, 44.8, 47.4, 42.3, 12.8, 40.3, 57.4, 44.0, 36.8, 40.1, 35.1, 38.8, 49.8, 41.0, 26.6, 42.9, 30.8, 34.1, 26.6, 30.1, 28.4, 78.3, 42.1, 45.9, 39.3, 21.7, 29.3, 34.3, 43.1, 27.0, 42.3, 40.8, 39.6, 41.0, 39.0, 26.2, 40.6, 47.0, 15.9, 23.0, 43.1, 46.1, 48.6, 32.2, 22.3, 51.6, 37.3, 35.5, 40.5, 36.3, 40.5, 78.0, 38.6, 36.8, 58.0, 55.3, 41.9, 47.1, 43.9, 31.3, 41.6, 14.4, 47.3, 56.2, 42.0, 40.9, 46.7, 37.4, 50.5, 34.6, 15.4, 27.3, 22.0, 55.2, 28.5, 53.5, 27.7, 30.9, 42.5, 37.5, 52.2, 49.5, 59.6, 35.3, 38.5, 44.3, 37.4, 22.3, 34.2, 13.0, 53.7, 42.4, 55.0, 31.1, 37.9, 47.7, 36.7, 53.3, 51.8, 52.7, 46.8, 40.8, 30.7, 24.7, 18.3, 46.4, 51.7, 29.5, 31.3, 39.1, 32.1, 55.1, 37.5, 21.4, 60.7, 34.2, 32.5, 20.7, 15.6, 30.5, 48.2, 25.7, 41.1, 45.7, 19.1, 59.5, 55.0, 28.5, 23.1, 22.8, 48.0, 25.0, 58.1, 37.2, 23.0, 73.6, 50.0, 13.8, 36.5, 49.3, 50.4, 11.2, 42.0, 28.6, 43.5, 46.1, 51.0, 54.4, 48.5, 45.1, 40.2, 23.8, 18.2, 16.1, 42.5, 24.7, 36.5, 18.8, 42.2, 18.8, 28.4, 63.3, 31.3, 12.9, 40.9, 53.0, 42.3, 62.9, 59.0, 34.0, 25.5, 22.6, 14.7, 43.2, 37.5, 24.7, 45.5, 37.8, 55.3, 52.5, 23.5, 29.3, 56.8, 39.5, 21.8, 36.9, 38.1, 32.9, 25.6, 35.7, 23.1, 28.9, 30.5, 26.5, 19.2, 33.6, 16.7, 69.7, 24.8, 33.4, 71.0, 26.5, 17.4, 18.3, 23.7, 25.6, 22.1, 37.5, 53.0, 31.6, 48.1, 54.4, 19.2, 67.7, 12.8, 20.5, 48.1, 23.5, 30.6, 19.0, 23.2, 36.6, 31.3, 40.3, 13.2, 53.3, 70.1, 42.5, 56.8, 23.8, 43.7, 44.3, 34.6, 62.1, 53.5, 30.7, 39.4, 31.5, 24.6, 23.9, 32.4, 46.6, 46.6, 42.5, 49.0, 44.9, 37.7, 48.0, 40.0, 58.1, 36.2, 40.6, 39.6, 54.8, 30.0, 28.8, 29.4, 45.3, 50.7, 24.4, 52.2, 27.0, 49.7, 48.2]}],\n",
       "                        {\"legend\": {\"tracegroupgap\": 0}, \"margin\": {\"t\": 60}, \"scene\": {\"domain\": {\"x\": [0.0, 1.0], \"y\": [0.0, 1.0]}, \"xaxis\": {\"title\": {\"text\": \"x\"}}, \"yaxis\": {\"title\": {\"text\": \"y\"}}, \"zaxis\": {\"title\": {\"text\": \"z\"}}}, \"template\": {\"data\": {\"bar\": [{\"error_x\": {\"color\": \"#2a3f5f\"}, \"error_y\": {\"color\": \"#2a3f5f\"}, \"marker\": {\"line\": {\"color\": \"#E5ECF6\", \"width\": 0.5}}, \"type\": \"bar\"}], \"barpolar\": [{\"marker\": {\"line\": {\"color\": \"#E5ECF6\", \"width\": 0.5}}, \"type\": \"barpolar\"}], \"carpet\": [{\"aaxis\": {\"endlinecolor\": \"#2a3f5f\", \"gridcolor\": \"white\", \"linecolor\": \"white\", \"minorgridcolor\": \"white\", \"startlinecolor\": \"#2a3f5f\"}, \"baxis\": {\"endlinecolor\": \"#2a3f5f\", \"gridcolor\": \"white\", \"linecolor\": \"white\", \"minorgridcolor\": \"white\", \"startlinecolor\": \"#2a3f5f\"}, \"type\": \"carpet\"}], \"choropleth\": [{\"colorbar\": {\"outlinewidth\": 0, \"ticks\": \"\"}, \"type\": \"choropleth\"}], \"contour\": [{\"colorbar\": {\"outlinewidth\": 0, \"ticks\": \"\"}, \"colorscale\": [[0.0, \"#0d0887\"], [0.1111111111111111, \"#46039f\"], [0.2222222222222222, \"#7201a8\"], [0.3333333333333333, \"#9c179e\"], [0.4444444444444444, \"#bd3786\"], [0.5555555555555556, \"#d8576b\"], [0.6666666666666666, \"#ed7953\"], [0.7777777777777778, \"#fb9f3a\"], [0.8888888888888888, \"#fdca26\"], [1.0, \"#f0f921\"]], \"type\": \"contour\"}], \"contourcarpet\": [{\"colorbar\": {\"outlinewidth\": 0, \"ticks\": \"\"}, \"type\": \"contourcarpet\"}], \"heatmap\": [{\"colorbar\": {\"outlinewidth\": 0, \"ticks\": \"\"}, \"colorscale\": [[0.0, \"#0d0887\"], [0.1111111111111111, \"#46039f\"], [0.2222222222222222, \"#7201a8\"], [0.3333333333333333, \"#9c179e\"], [0.4444444444444444, \"#bd3786\"], [0.5555555555555556, \"#d8576b\"], [0.6666666666666666, \"#ed7953\"], [0.7777777777777778, \"#fb9f3a\"], [0.8888888888888888, \"#fdca26\"], [1.0, \"#f0f921\"]], \"type\": \"heatmap\"}], \"heatmapgl\": [{\"colorbar\": {\"outlinewidth\": 0, \"ticks\": \"\"}, \"colorscale\": [[0.0, \"#0d0887\"], [0.1111111111111111, \"#46039f\"], [0.2222222222222222, \"#7201a8\"], [0.3333333333333333, \"#9c179e\"], [0.4444444444444444, \"#bd3786\"], [0.5555555555555556, \"#d8576b\"], [0.6666666666666666, \"#ed7953\"], [0.7777777777777778, \"#fb9f3a\"], [0.8888888888888888, \"#fdca26\"], [1.0, \"#f0f921\"]], \"type\": \"heatmapgl\"}], \"histogram\": [{\"marker\": {\"colorbar\": {\"outlinewidth\": 0, \"ticks\": \"\"}}, \"type\": \"histogram\"}], \"histogram2d\": [{\"colorbar\": {\"outlinewidth\": 0, \"ticks\": \"\"}, \"colorscale\": [[0.0, \"#0d0887\"], [0.1111111111111111, \"#46039f\"], [0.2222222222222222, \"#7201a8\"], [0.3333333333333333, \"#9c179e\"], [0.4444444444444444, \"#bd3786\"], [0.5555555555555556, \"#d8576b\"], [0.6666666666666666, \"#ed7953\"], [0.7777777777777778, \"#fb9f3a\"], [0.8888888888888888, \"#fdca26\"], [1.0, \"#f0f921\"]], \"type\": \"histogram2d\"}], \"histogram2dcontour\": [{\"colorbar\": {\"outlinewidth\": 0, \"ticks\": \"\"}, \"colorscale\": [[0.0, \"#0d0887\"], [0.1111111111111111, \"#46039f\"], [0.2222222222222222, \"#7201a8\"], [0.3333333333333333, \"#9c179e\"], [0.4444444444444444, \"#bd3786\"], [0.5555555555555556, \"#d8576b\"], [0.6666666666666666, \"#ed7953\"], [0.7777777777777778, \"#fb9f3a\"], [0.8888888888888888, \"#fdca26\"], [1.0, \"#f0f921\"]], \"type\": \"histogram2dcontour\"}], \"mesh3d\": [{\"colorbar\": {\"outlinewidth\": 0, \"ticks\": \"\"}, \"type\": \"mesh3d\"}], \"parcoords\": [{\"line\": {\"colorbar\": {\"outlinewidth\": 0, \"ticks\": \"\"}}, \"type\": \"parcoords\"}], \"pie\": [{\"automargin\": true, \"type\": \"pie\"}], \"scatter\": [{\"marker\": {\"colorbar\": {\"outlinewidth\": 0, \"ticks\": \"\"}}, \"type\": \"scatter\"}], \"scatter3d\": [{\"line\": {\"colorbar\": {\"outlinewidth\": 0, \"ticks\": \"\"}}, \"marker\": {\"colorbar\": {\"outlinewidth\": 0, \"ticks\": \"\"}}, \"type\": \"scatter3d\"}], \"scattercarpet\": [{\"marker\": {\"colorbar\": {\"outlinewidth\": 0, \"ticks\": \"\"}}, \"type\": \"scattercarpet\"}], \"scattergeo\": [{\"marker\": {\"colorbar\": {\"outlinewidth\": 0, \"ticks\": \"\"}}, \"type\": \"scattergeo\"}], \"scattergl\": [{\"marker\": {\"colorbar\": {\"outlinewidth\": 0, \"ticks\": \"\"}}, \"type\": \"scattergl\"}], \"scattermapbox\": [{\"marker\": {\"colorbar\": {\"outlinewidth\": 0, \"ticks\": \"\"}}, \"type\": \"scattermapbox\"}], \"scatterpolar\": [{\"marker\": {\"colorbar\": {\"outlinewidth\": 0, \"ticks\": \"\"}}, \"type\": \"scatterpolar\"}], \"scatterpolargl\": [{\"marker\": {\"colorbar\": {\"outlinewidth\": 0, \"ticks\": \"\"}}, \"type\": \"scatterpolargl\"}], \"scatterternary\": [{\"marker\": {\"colorbar\": {\"outlinewidth\": 0, \"ticks\": \"\"}}, \"type\": \"scatterternary\"}], \"surface\": [{\"colorbar\": {\"outlinewidth\": 0, \"ticks\": \"\"}, \"colorscale\": [[0.0, \"#0d0887\"], [0.1111111111111111, \"#46039f\"], [0.2222222222222222, \"#7201a8\"], [0.3333333333333333, \"#9c179e\"], [0.4444444444444444, \"#bd3786\"], [0.5555555555555556, \"#d8576b\"], [0.6666666666666666, \"#ed7953\"], [0.7777777777777778, \"#fb9f3a\"], [0.8888888888888888, \"#fdca26\"], [1.0, \"#f0f921\"]], \"type\": \"surface\"}], \"table\": [{\"cells\": {\"fill\": {\"color\": \"#EBF0F8\"}, \"line\": {\"color\": \"white\"}}, \"header\": {\"fill\": {\"color\": \"#C8D4E3\"}, \"line\": {\"color\": \"white\"}}, \"type\": \"table\"}]}, \"layout\": {\"annotationdefaults\": {\"arrowcolor\": \"#2a3f5f\", \"arrowhead\": 0, \"arrowwidth\": 1}, \"coloraxis\": {\"colorbar\": {\"outlinewidth\": 0, \"ticks\": \"\"}}, \"colorscale\": {\"diverging\": [[0, \"#8e0152\"], [0.1, \"#c51b7d\"], [0.2, \"#de77ae\"], [0.3, \"#f1b6da\"], [0.4, \"#fde0ef\"], [0.5, \"#f7f7f7\"], [0.6, \"#e6f5d0\"], [0.7, \"#b8e186\"], [0.8, \"#7fbc41\"], [0.9, \"#4d9221\"], [1, \"#276419\"]], \"sequential\": [[0.0, \"#0d0887\"], [0.1111111111111111, \"#46039f\"], [0.2222222222222222, \"#7201a8\"], [0.3333333333333333, \"#9c179e\"], [0.4444444444444444, \"#bd3786\"], [0.5555555555555556, \"#d8576b\"], [0.6666666666666666, \"#ed7953\"], [0.7777777777777778, \"#fb9f3a\"], [0.8888888888888888, \"#fdca26\"], [1.0, \"#f0f921\"]], \"sequentialminus\": [[0.0, \"#0d0887\"], [0.1111111111111111, \"#46039f\"], [0.2222222222222222, \"#7201a8\"], [0.3333333333333333, \"#9c179e\"], [0.4444444444444444, \"#bd3786\"], [0.5555555555555556, \"#d8576b\"], [0.6666666666666666, \"#ed7953\"], [0.7777777777777778, \"#fb9f3a\"], [0.8888888888888888, \"#fdca26\"], [1.0, \"#f0f921\"]]}, \"colorway\": [\"#636efa\", \"#EF553B\", \"#00cc96\", \"#ab63fa\", \"#FFA15A\", \"#19d3f3\", \"#FF6692\", \"#B6E880\", \"#FF97FF\", \"#FECB52\"], \"font\": {\"color\": \"#2a3f5f\"}, \"geo\": {\"bgcolor\": \"white\", \"lakecolor\": \"white\", \"landcolor\": \"#E5ECF6\", \"showlakes\": true, \"showland\": true, \"subunitcolor\": \"white\"}, \"hoverlabel\": {\"align\": \"left\"}, \"hovermode\": \"closest\", \"mapbox\": {\"style\": \"light\"}, \"paper_bgcolor\": \"white\", \"plot_bgcolor\": \"#E5ECF6\", \"polar\": {\"angularaxis\": {\"gridcolor\": \"white\", \"linecolor\": \"white\", \"ticks\": \"\"}, \"bgcolor\": \"#E5ECF6\", \"radialaxis\": {\"gridcolor\": \"white\", \"linecolor\": \"white\", \"ticks\": \"\"}}, \"scene\": {\"xaxis\": {\"backgroundcolor\": \"#E5ECF6\", \"gridcolor\": \"white\", \"gridwidth\": 2, \"linecolor\": \"white\", \"showbackground\": true, \"ticks\": \"\", \"zerolinecolor\": \"white\"}, \"yaxis\": {\"backgroundcolor\": \"#E5ECF6\", \"gridcolor\": \"white\", \"gridwidth\": 2, \"linecolor\": \"white\", \"showbackground\": true, \"ticks\": \"\", \"zerolinecolor\": \"white\"}, \"zaxis\": {\"backgroundcolor\": \"#E5ECF6\", \"gridcolor\": \"white\", \"gridwidth\": 2, \"linecolor\": \"white\", \"showbackground\": true, \"ticks\": \"\", \"zerolinecolor\": \"white\"}}, \"shapedefaults\": {\"line\": {\"color\": \"#2a3f5f\"}}, \"ternary\": {\"aaxis\": {\"gridcolor\": \"white\", \"linecolor\": \"white\", \"ticks\": \"\"}, \"baxis\": {\"gridcolor\": \"white\", \"linecolor\": \"white\", \"ticks\": \"\"}, \"bgcolor\": \"#E5ECF6\", \"caxis\": {\"gridcolor\": \"white\", \"linecolor\": \"white\", \"ticks\": \"\"}}, \"title\": {\"x\": 0.05}, \"xaxis\": {\"automargin\": true, \"gridcolor\": \"white\", \"linecolor\": \"white\", \"ticks\": \"\", \"title\": {\"standoff\": 15}, \"zerolinecolor\": \"white\", \"zerolinewidth\": 2}, \"yaxis\": {\"automargin\": true, \"gridcolor\": \"white\", \"linecolor\": \"white\", \"ticks\": \"\", \"title\": {\"standoff\": 15}, \"zerolinecolor\": \"white\", \"zerolinewidth\": 2}}}},\n",
       "                        {\"responsive\": true}\n",
       "                    ).then(function(){\n",
       "                            \n",
       "var gd = document.getElementById('3c685de4-861e-4a86-a822-e0ec22ec2622');\n",
       "var x = new MutationObserver(function (mutations, observer) {{\n",
       "        var display = window.getComputedStyle(gd).display;\n",
       "        if (!display || display === 'none') {{\n",
       "            console.log([gd, 'removed!']);\n",
       "            Plotly.purge(gd);\n",
       "            observer.disconnect();\n",
       "        }}\n",
       "}});\n",
       "\n",
       "// Listen for the removal of the full notebook cells\n",
       "var notebookContainer = gd.closest('#notebook-container');\n",
       "if (notebookContainer) {{\n",
       "    x.observe(notebookContainer, {childList: true});\n",
       "}}\n",
       "\n",
       "// Listen for the clearing of the current output cell\n",
       "var outputEl = gd.closest('.output');\n",
       "if (outputEl) {{\n",
       "    x.observe(outputEl, {childList: true});\n",
       "}}\n",
       "\n",
       "                        })\n",
       "                };\n",
       "                });\n",
       "            </script>\n",
       "        </div>"
      ]
     },
     "metadata": {},
     "output_type": "display_data"
    }
   ],
   "source": [
    "import plotly.express as px\n",
    "fig = px.scatter_3d(x=X_train_sc.dist_mrt, y=X_train_sc.house_age, z=Y_train)\n",
    "fig.update_traces(marker=dict(size=4,\n",
    "                              line=dict(width=0.1,\n",
    "                                        color='DarkSlateGrey')))\n",
    "fig.show()"
   ]
  },
  {
   "cell_type": "markdown",
   "metadata": {},
   "source": [
    "# 3. Linear Basis Model Fitting (Polynomial Basis)"
   ]
  },
  {
   "cell_type": "code",
   "execution_count": 38,
   "metadata": {},
   "outputs": [],
   "source": [
    "from sklearn.linear_model import LinearRegression\n",
    "from sklearn.preprocessing import PolynomialFeatures"
   ]
  },
  {
   "cell_type": "code",
   "execution_count": 39,
   "metadata": {},
   "outputs": [],
   "source": [
    "def Poly_Reg(X_train, Y_train, X_test, Y_test, m, fig=False):\n",
    "    # Feature Extraction\n",
    "    poly = PolynomialFeatures(degree=m)\n",
    "    X_train_poly = poly.fit_transform(X_train)\n",
    "    X_test_poly = poly.fit_transform(X_test)\n",
    "\n",
    "    # LR Fitting\n",
    "    lin = LinearRegression(fit_intercept=False)\n",
    "    lin.fit(X_train_poly, Y_train)\n",
    "    Y_train_pred = lin.predict(X_train_poly)\n",
    "    Y_test_pred = lin.predict(X_test_poly)\n",
    "\n",
    "    # Compute MSE\n",
    "    train_MSE = np.sqrt(np.linalg.norm(Y_train - Y_train_pred)**2/Y_train.shape[0])\n",
    "    test_MSE = np.sqrt(np.linalg.norm(Y_test - Y_test_pred)**2/Y_test.shape[0])\n",
    "\n",
    "    # Visualize\n",
    "    if fig is True:\n",
    "        fig = px.scatter_3d(x=X_train.dist_mrt, y=X_train.house_age, z=Y_train_pred)\n",
    "        fig.update_traces(marker=dict(size=3,\n",
    "                                  line=dict(width=0.1,\n",
    "                                            color='DarkSlateGrey')))\n",
    "        fig.show()\n",
    "    \n",
    "    # Residual\n",
    "    Resid = Y_train - Y_train_pred\n",
    "    \n",
    "    return {'coef':lin.coef_, 'train_MSE':train_MSE, 'test_MSE':test_MSE, 'Resid':Resid}"
   ]
  },
  {
   "cell_type": "code",
   "execution_count": 40,
   "metadata": {},
   "outputs": [
    {
     "data": {
      "application/vnd.plotly.v1+json": {
       "config": {
        "plotlyServerURL": "https://plot.ly"
       },
       "data": [
        {
         "hovertemplate": "x=%{x}<br>y=%{y}<br>z=%{z}<extra></extra>",
         "legendgroup": "",
         "marker": {
          "color": "#636efa",
          "line": {
           "color": "DarkSlateGrey",
           "width": 0.1
          },
          "size": 3,
          "symbol": "circle"
         },
         "mode": "markers",
         "name": "",
         "scene": "scene",
         "showlegend": false,
         "type": "scatter3d",
         "x": [
          -0.10509105088548103,
          -0.6282232321963354,
          -1.145879552736293,
          -0.009627038361799218,
          -0.1170746687403,
          -1.6634728552943319,
          -0.2718155944612978,
          -0.5245148312840432,
          -0.9493506494463575,
          -0.0812779422224723,
          1.342165614722867,
          1.181123625074418,
          -0.6282232321963354,
          -0.15668639310551655,
          -0.15753038808718828,
          1.8491500850136156,
          1.7375966150126128,
          -1.5328167687530416,
          0.6018612799651232,
          -0.4867556563921464,
          0.2989552569988306,
          1.7375966150126128,
          -0.21167868229153047,
          -0.6767770602002245,
          1.1769743275129114,
          -0.3769506026176209,
          -0.36653614287004244,
          -0.5408051735723673,
          0.04823417535274727,
          0.6114654587505723,
          0.058191216940877435,
          -0.6601233418261161,
          -0.9211041258495234,
          0.04798294094256138,
          -0.15325165197646687,
          -0.3345887822022208,
          -0.174457321486064,
          -0.38567563082811374,
          -1.1152935044087724,
          0.7564902330622771,
          -0.6870187038443162,
          0.962881366053007,
          0.012600982900747494,
          0.7918000385424316,
          0.7564902330622771,
          1.1655118829555848,
          -1.0200172387196074,
          -0.6282232321963354,
          -0.03470647855129827,
          -0.15325165197646687,
          0.8791759827067795,
          1.2175750214492855,
          0.6176836821780706,
          -0.4559636605687179,
          0.8368751263942998,
          0.7836475105794817,
          -0.4021540697963025,
          0.04798294094256138,
          -0.8856793375049233,
          0.20283971504696718,
          0.7564902330622771,
          -0.361823290537757,
          -1.5328167687530416,
          1.7409894308973588,
          0.9652635485256759,
          -0.36011309284180687,
          -0.6282232321963354,
          -0.9868271682135367,
          0.6176836821780706,
          0.48929516399697404,
          -0.6601233418261161,
          -1.1019448560122218,
          -0.17063207314713708,
          -0.40331963317706476,
          -0.7299021628218593,
          -0.15325165197646687,
          -0.5423229581479878,
          -0.3897526691551592,
          -0.3898345271635649,
          -1.6634728552943319,
          0.18488082499337224,
          -0.405457635593877,
          -1.6949239054826735,
          -0.24520659031999248,
          -0.15325165197646687,
          -0.009627038361799218,
          1.8338335405589046,
          -0.03470647855129827,
          -0.3755945353435627,
          -0.7564140490109209,
          -1.0735917451243329,
          -0.633555671044913,
          -0.11261215230714575,
          -0.007699115142708187,
          -0.21167868229153047,
          1.7409894308973588,
          1.2081024167767298,
          1.4881025486253077,
          -1.0251964572421894,
          -0.026702637798300174,
          -1.6634728552943319,
          1.1773231013167238,
          0.02513654221776108,
          -0.3769506026176209,
          0.22683547657189254,
          -1.0251964572421894,
          -0.36011309284180687,
          -0.6282232321963354,
          -0.24587406358051883,
          0.7836475105794817,
          -1.0033065661309728,
          -0.4559636605687179,
          1.2684968511316697,
          0.11597607261041397,
          1.7659539607655095,
          -0.7248174154039074,
          -0.4944724017734069,
          -0.6282232321963354,
          1.0102617622271841,
          -1.0251964572421894,
          -2.848243818619885,
          0.23225363297624624,
          -0.6282232321963354,
          -0.5107823895977451,
          -1.6634728552943319,
          -0.36011309284180687,
          0.08106957077703972,
          0.8352055948798368,
          1.2684968511316697,
          1.7375966150126128,
          0.20900198325876135,
          -0.6282232321963354,
          1.2118711583184025,
          1.0744226773036476,
          -1.170055907983187,
          1.1769743275129114,
          -0.9341393158975774,
          -0.17063207314713708,
          0.8136142296776243,
          -0.3755945353435627,
          -0.159924171472808,
          -0.3059828290061807,
          0.9865065016263022,
          1.7409894308973588,
          -0.35582619596643245,
          -1.3640947113369106,
          1.3623163594173462,
          -0.17063207314713708,
          -0.9211041258495234,
          0.6913601190623542,
          -1.6634728552943319,
          -0.3755945353435627,
          -1.0153825843862287,
          0.5290587991955642,
          1.181123625074418,
          -1.4903425832441464,
          0.24640073318661818,
          -1.6634728552943319,
          -1.3346519199571767,
          0.32254864135119204,
          -0.6169560894860007,
          -1.6634728552943319,
          0.6135352744933427,
          -0.19045690931786022,
          -0.528060296331629,
          -0.5107823895977451,
          2.156182049390334,
          -0.03470647855129827,
          1.1791195847729279,
          0.4280145542070749,
          -1.3998999561983014,
          -0.5279603718053042,
          -0.38567563082811374,
          -1.098796642289797,
          1.6722580654627728,
          -0.7064400282739515,
          0.6124023777151009,
          1.7375966150126128,
          0.603341175295589,
          -0.15325165197646687,
          0.9259760469560573,
          -0.49036470017382666,
          2.010103531440905,
          -0.5764377828155464,
          1.7409894308973588,
          0.7564902330622771,
          -0.6169560894860007,
          1.1655118829555848,
          1.7375966150126128,
          -0.3936867475850744,
          -0.6282232321963354,
          -0.412984344869984,
          0.28653697117302235,
          -1.6634728552943319,
          -0.21167868229153047,
          0.4772565061699781,
          1.8303978174071458,
          1.739390285375291,
          0.7836475105794817,
          -0.07784573973486725,
          1.752820036645625,
          -0.23100398817428675,
          0.22362365676031257,
          -1.0251964572421894,
          -1.5328167687530416,
          1.0849260818778013,
          -1.1019448560122218,
          -2.1928652986024275,
          -0.4003101729676342,
          1.2907725181724845,
          -1.1777795224539271,
          -0.15947286001460517,
          -1.1019448560122218,
          1.1470426377262997,
          -0.21035464757097005,
          1.1465621580002336,
          0.8791759827067795,
          0.9652635485256759,
          0.7918000385424316,
          1.7659539607655095,
          -0.6688781577975189,
          1.7409894308973588,
          -0.6169560894860007,
          1.0082151733842883,
          1.1358306121501442,
          -0.6169560894860007,
          -0.230215421696455,
          1.8107973692865564,
          0.6913601190623542,
          0.9990379151798078,
          0.8173599514658493,
          0.9990379151798078,
          0.08244971403970254,
          -0.6282232321963354,
          -0.230215421696455,
          -1.2085636114510416,
          -2.079781821023766,
          1.8429088683539232,
          -1.3952697280065833,
          1.7409894308973588,
          1.7375966150126128,
          -0.37594273625890356,
          1.0922184419021703,
          0.8927922718356031,
          0.611182875609448,
          1.2223384492771148,
          0.17184470140393104,
          0.962881366053007,
          -0.12837430531947483,
          1.8303978174071458,
          -1.2514319177173807,
          -0.6169560894860007,
          -0.1170746687403,
          -1.5328167687530416,
          1.2907725181724845,
          -0.3769506026176209,
          -1.3852926624021906,
          0.04949421915307169,
          -2.079781821023766,
          -2.079781821023766,
          1.1655118829555848,
          -0.9729670011192849,
          0.08536627405722089,
          0.7564902330622771,
          1.193938532227374,
          -0.5016410946210005,
          -0.03263797616456393,
          -1.740900728223665,
          -0.9706272349446432,
          -0.9868271682135367,
          -0.4867556563921464,
          0.44893553519541063,
          0.786462632907458,
          0.4513917223913144,
          -1.6634728552943319,
          -0.20564532400964552,
          0.20283971504696718,
          0.049886850285771674,
          -0.03470647855129827,
          -0.2851848492267584,
          0.962881366053007,
          0.9164341540242655,
          -0.9081153278206731,
          -0.9868271682135367,
          1.2223384492771148,
          -0.6767770602002245,
          0.8067038638401516,
          -2.848243818619885,
          -0.9393505951055021
         ],
         "y": [
          1.6260209338245577,
          -0.0912108795170651,
          1.1727414704044337,
          -1.2505602763416122,
          0.37078549666113797,
          -1.0064867191153917,
          1.146590732130196,
          1.4865503296952887,
          -0.5096226919048715,
          -1.2941448401320086,
          -0.29169987295288896,
          0.2661825435641864,
          -0.3091336984690475,
          1.7654915379538267,
          -1.2418433635835329,
          0.5887083156131205,
          -0.12607853054938217,
          -0.8147146384376471,
          -0.37886900053368194,
          -1.5207845718420705,
          -0.15222926882362015,
          -0.04762631572666858,
          0.15286267770915543,
          -1.5207845718420705,
          -0.8582992022280436,
          -0.21324765813017518,
          -1.1110896722123433,
          -0.33528443674328545,
          1.556285631759923,
          1.2686275107433063,
          1.4865503296952887,
          -0.6578102087922196,
          -1.5207845718420705,
          1.608587108308399,
          -0.33528443674328545,
          2.079300397244681,
          1.9311128803573332,
          -0.9018837660184401,
          2.044432746212364,
          -0.4573212153563957,
          1.408098114872575,
          -0.3701520877756027,
          1.2163260341948303,
          0.04825972461220387,
          -0.4573212153563957,
          -1.1721080615188983,
          1.72190697416343,
          -0.13479544330746143,
          -0.37886900053368194,
          -0.38758591329176123,
          -1.102372759454264,
          -1.128523497728502,
          -0.3701520877756027,
          0.06569355012836241,
          1.033270866275165,
          -0.727545510856854,
          0.9199510004201341,
          0.15286267770915543,
          1.8352268400184608,
          -0.38758591329176123,
          -0.5183396046629508,
          -0.0912108795170651,
          -0.8408653767118849,
          -0.33528443674328545,
          -0.23939839640441316,
          -1.0849389339381055,
          -0.1609461815816994,
          -1.4248985315031981,
          -0.37886900053368194,
          0.13542885219299688,
          -0.6055087322437438,
          -0.4137366515659992,
          0.8153480473231826,
          -1.3551632294385638,
          1.2250429469529096,
          -0.38758591329176123,
          1.5650025445180022,
          1.3383628128079403,
          1.1640245576463546,
          -0.9803359808411538,
          1.1030061683397996,
          1.408098114872575,
          1.3470797255660198,
          -0.012758664694351184,
          -0.36143517501752326,
          -1.1982587997931364,
          0.571274490096962,
          -0.36143517501752326,
          -1.2505602763416122,
          -0.36143517501752326,
          1.5127010679695263,
          0.2487487180480279,
          0.885083349387817,
          1.5911532827922406,
          -0.19581383261401666,
          -0.32656752398520617,
          -0.6142256450018231,
          -0.7449793363730126,
          -1.5207845718420705,
          1.5214179807276058,
          -1.0239205446315505,
          -0.02147557745243061,
          1.207609121436751,
          -0.4224535643240785,
          -0.1609461815816994,
          -1.5207845718420705,
          -1.050071282905788,
          -0.07377705400090624,
          2.2013371758577915,
          -0.7362624236149333,
          1.5127010679695263,
          0.0221089863379659,
          -1.067505108421947,
          1.8352268400184608,
          -0.33528443674328545,
          -1.1198065849704226,
          -0.36143517501752326,
          -0.10864470503322363,
          0.013392073579886784,
          -1.5207845718420705,
          -1.390030880470881,
          -1.215692625309295,
          -0.29169987295288896,
          -1.4248985315031981,
          -1.0064867191153917,
          -0.52705651742103,
          -0.8670161149861229,
          -0.038909402968589156,
          -1.0326374573896295,
          -0.04762631572666858,
          0.27489945632226587,
          -0.11736161779130275,
          -0.012758664694351184,
          -0.9803359808411538,
          1.4429657659048922,
          -0.9018837660184401,
          -0.17838000709785795,
          0.797914221807024,
          -0.4050197388079198,
          -1.189541887035057,
          1.7829253634699849,
          1.2250429469529096,
          1.207609121436751,
          -0.31785061122712677,
          1.3296459000498615,
          1.4778334169372094,
          0.08312737564452095,
          1.5039841552114477,
          -1.5207845718420705,
          1.1204399938559582,
          -0.9629021553249951,
          -1.189541887035057,
          -0.4137366515659992,
          0.37078549666113797,
          0.24003180528994847,
          1.294778249017544,
          1.0594216045494032,
          -0.9716190680830744,
          0.484105362516169,
          0.013392073579886784,
          -1.5207845718420705,
          -1.0326374573896295,
          1.2424767724690682,
          1.1117230810978787,
          -0.08249396675898567,
          -1.3725970549547224,
          -0.004041751936272068,
          -0.4311704770821578,
          -1.1721080615188983,
          -0.6490932960341403,
          1.3732304638402582,
          -0.07377705400090624,
          -0.9280345042926779,
          1.5998701955503194,
          -0.0912108795170651,
          1.3034951617756232,
          0.37078549666113797,
          -0.056343228484747696,
          1.2599105979852268,
          -0.3963028260498405,
          -0.0912108795170651,
          0.858932611113579,
          1.2424767724690682,
          0.1790134159833934,
          -0.038909402968589156,
          -0.48347195363063356,
          -1.5207845718420705,
          -1.163391148760819,
          -0.11736161779130275,
          -0.9541852425669158,
          -0.0912108795170651,
          -0.04762631572666858,
          1.8439437527765403,
          -0.9454683298088367,
          0.1441457649510763,
          -0.004041751936272068,
          1.1204399938559582,
          -0.10864470503322363,
          -0.727545510856854,
          1.0594216045494032,
          1.3209289872917822,
          -1.3377294039224052,
          -0.3701520877756027,
          -1.5207845718420705,
          -0.8147146384376471,
          -0.7885639001634092,
          -0.3701520877756027,
          -1.1808249742769776,
          0.04825972461220387,
          0.27489945632226587,
          -1.3028617528900879,
          1.6696054976149541,
          -0.4137366515659992,
          -0.10864470503322363,
          1.7916422762280644,
          -0.6578102087922196,
          -1.0762220211800262,
          -0.23939839640441316,
          0.04825972461220387,
          -0.33528443674328545,
          -0.6142256450018231,
          -0.06506014124282712,
          -1.5207845718420705,
          -0.2829829601948097,
          -1.3464463166804845,
          -1.5207845718420705,
          0.0221089863379659,
          0.8414987855974205,
          1.155307644888275,
          0.03082589909604533,
          -1.3464463166804845,
          0.03954281185412444,
          0.20516415425763138,
          -0.13479544330746143,
          0.06569355012836241,
          -0.3701520877756027,
          -1.2244095380673743,
          -0.3091336984690475,
          2.044432746212364,
          -0.08249396675898567,
          -0.0999277922751442,
          0.15286267770915543,
          1.3993812021144958,
          0.684594355951993,
          1.1814583831625132,
          -0.08249396675898567,
          0.46667153700001046,
          -0.439887389840237,
          1.0158370407590065,
          1.0419877790332441,
          1.146590732130196,
          -1.5207845718420705,
          0.3272009328707415,
          -0.7798469874053299,
          0.257465630806107,
          -0.20453074537209592,
          1.9746974441477299,
          0.9548186514524512,
          -1.163391148760819,
          -1.215692625309295,
          -1.1721080615188983,
          1.3819473765983368,
          1.817793014502302,
          -0.23939839640441316,
          -0.8234315511957263,
          1.9398297931154127,
          1.3993812021144958,
          0.07441046288644183,
          0.9722524769686101,
          -1.4248985315031981,
          -1.5207845718420705,
          -0.04762631572666858,
          -0.7449793363730126,
          -0.030192490210509727,
          -0.9454683298088367,
          1.1291569066140372,
          -0.4050197388079198,
          1.9485467058734915,
          -0.36143517501752326,
          1.8962452293250163,
          -0.5619241684533473,
          0.22259797977378992,
          -0.6229425577599024,
          -1.4336154442612774,
          -0.10864470503322363,
          -1.5207845718420705,
          1.2773444235013856,
          -1.390030880470881,
          1.3383628128079403
         ],
         "z": [
          38.40918435666509,
          43.74511220370261,
          45.46037041215909,
          45.27231478766036,
          38.34728295554499,
          53.389216612390925,
          39.208792493909435,
          41.76679605560697,
          47.53459627647545,
          46.2446695859463,
          23.531793120580986,
          23.685570871456207,
          44.5870656146071,
          39.254253912938225,
          46.49418929656739,
          12.785057981075399,
          16.812710362189083,
          51.81793597475241,
          33.52191185923913,
          51.30429294192271,
          35.852816758177156,
          16.48321036056535,
          39.71070170412616,
          52.59118595612293,
          29.0882529260366,
          42.319106416523965,
          47.21766363461998,
          44.076075410555504,
          36.756190211605706,
          30.105242365897595,
          36.523135935646145,
          46.49425121514617,
          54.04818884153854,
          36.86942628247889,
          40.97077894430804,
          41.93386338796245,
          39.93498586860799,
          45.9547924177152,
          47.52743876952316,
          32.08986535263026,
          42.85652514476299,
          29.071918915909762,
          36.62078472864241,
          29.47831881350278,
          32.08986535263026,
          31.517113063579586,
          45.82414611988798,
          43.900312723372245,
          40.10929292922411,
          41.20979399155759,
          34.66941830377487,
          30.478008966660855,
          33.29664566789353,
          41.96462244628652,
          27.199775771178317,
          33.290007719843096,
          40.23850918919965,
          37.33453126162706,
          45.31534071663379,
          37.869102399550776,
          32.41261830084075,
          41.73737722064826,
          51.96865369550584,
          17.74228877391608,
          28.424284881475934,
          46.983413118597774,
          43.99659867417673,
          53.61864233646329,
          33.338950496169424,
          32.7723978989805,
          46.214347566440686,
          47.919796298106405,
          38.27258314536326,
          49.33361865299456,
          42.90301893987099,
          41.20979399155759,
          42.072044058721524,
          40.42030573360502,
          40.228910768419084,
          53.224516229563235,
          34.80307350547228,
          40.658007089397486,
          48.187216958034625,
          40.50328224068221,
          41.0890993533068,
          44.874283105255515,
          13.070399417851855,
          40.02845603145421,
          48.31183170358217,
          45.67487983520506,
          45.607215640639126,
          42.798939846299184,
          37.71649043837954,
          37.38688066390194,
          40.88631715202318,
          17.69828204729297,
          27.129798473172333,
          23.950416771876053,
          54.60137245883958,
          37.43090713861213,
          53.500335883860515,
          24.68784838039382,
          36.48995445044611,
          43.229071929005976,
          36.63327727409657,
          54.60137245883958,
          46.7408227568066,
          43.68487861858633,
          41.64392067721281,
          33.34357480915015,
          45.18501400690569,
          42.09839696824355,
          29.319171743442762,
          36.759903144714826,
          17.346914280957993,
          49.79864460442276,
          43.84984623828187,
          43.806401001819786,
          26.810703946399368,
          54.60137245883958,
          56.760362188249886,
          42.72052484630137,
          44.51364186697955,
          50.67683761081326,
          53.389216612390925,
          43.60846957037147,
          41.73280300872644,
          29.251882759632597,
          29.061172475769407,
          16.48321036056535,
          35.40728542661728,
          43.83744110575372,
          24.17619087868487,
          31.296325243705727,
          46.00822379436677,
          29.383800532675817,
          46.033321780800485,
          38.281462074124676,
          31.12611965091214,
          47.85527411281332,
          39.334199380192615,
          39.572178782607786,
          25.27495052856785,
          17.654539123920088,
          40.122187063033415,
          47.07859691576394,
          21.688937390364693,
          38.76590395838255,
          54.04818884153854,
          29.04369583334377,
          53.1160349905959,
          47.85527411281332,
          47.45778417128545,
          31.698223799747662,
          23.760049644063326,
          47.30306328329637,
          34.14014796210229,
          53.17014370845446,
          46.48391519616329,
          34.99134561431642,
          52.20056437228777,
          53.55629122447064,
          30.059122495107253,
          38.46308221961063,
          42.99072590189682,
          50.25523610351281,
          9.335682273358175,
          40.35813490053921,
          31.334574927380473,
          36.89724430099431,
          47.036312119174156,
          42.95973029817943,
          46.12267928184477,
          45.961575294993125,
          17.691528112472803,
          42.833831956590835,
          30.72733133560507,
          16.51876625885597,
          30.19591595866216,
          41.25055314414165,
          28.303782217074016,
          40.95436913297352,
          9.558967772205532,
          42.556171624602435,
          16.394053692106752,
          32.22660522521912,
          52.20056437228777,
          31.449328861032672,
          16.775044037896656,
          46.35432738796995,
          43.74511220370261,
          41.99196606597043,
          34.95628081771023,
          53.00860896462947,
          39.734947926944194,
          33.365525132762244,
          12.582854727764943,
          16.70920901790356,
          33.290007719843096,
          37.398686631823544,
          13.92447579949224,
          47.84910292118656,
          37.57677283775443,
          54.60137245883958,
          51.81793597475241,
          29.860567289672257,
          47.72875717402951,
          55.53338666798104,
          41.581644068068684,
          22.11546443505221,
          53.617583055799756,
          39.02627035497451,
          47.919796298106405,
          25.44728079139315,
          39.8269917693793,
          28.225267827884203,
          34.47549851976035,
          28.424284881475934,
          29.47831881350278,
          17.346914280957993,
          46.3193797435831,
          16.50074875995445,
          52.20056437228777,
          28.065079713533216,
          33.32236033778662,
          52.20056437228777,
          40.26137146598692,
          13.050726309275587,
          29.05676342151317,
          26.895704250752658,
          37.345100614107444,
          26.8647725964304,
          36.85555876883486,
          43.900312723372245,
          40.12456141184671,
          48.260887224432544,
          55.711122793658845,
          15.981484790680266,
          49.02902745548015,
          16.573197821437383,
          16.700502799062477,
          41.084181149743934,
          23.990066755012865,
          26.704350220967264,
          30.047449754935,
          24.302595315490592,
          35.378285165313365,
          29.42517077494286,
          37.859016520413505,
          12.596454148361044,
          45.992902488797725,
          52.20056437228777,
          38.439448792285035,
          51.620672259250995,
          22.164915299558693,
          42.284488727465025,
          48.69867943536575,
          36.153245701501326,
          55.29218665693594,
          55.65048336437632,
          31.517113063579586,
          44.740461433421494,
          37.02524020367318,
          31.04269755196859,
          28.626344625202652,
          42.8268968976936,
          37.27923589130354,
          48.79995562112461,
          44.30651041996494,
          53.61864233646329,
          51.30429294192271,
          33.837307611276984,
          33.36333298590216,
          33.746712657773536,
          53.00860896462947,
          38.61029327620001,
          37.95279978635205,
          37.80110154042749,
          40.02845603145421,
          40.8304800243243,
          30.08398722878545,
          27.353733225361157,
          47.867837390822984,
          53.68855233491906,
          24.409062996134843,
          52.59118595612293,
          27.683194338997378,
          56.760362188249886,
          44.45768244765494
         ]
        }
       ],
       "layout": {
        "legend": {
         "tracegroupgap": 0
        },
        "margin": {
         "t": 60
        },
        "scene": {
         "domain": {
          "x": [
           0,
           1
          ],
          "y": [
           0,
           1
          ]
         },
         "xaxis": {
          "title": {
           "text": "x"
          }
         },
         "yaxis": {
          "title": {
           "text": "y"
          }
         },
         "zaxis": {
          "title": {
           "text": "z"
          }
         }
        },
        "template": {
         "data": {
          "bar": [
           {
            "error_x": {
             "color": "#2a3f5f"
            },
            "error_y": {
             "color": "#2a3f5f"
            },
            "marker": {
             "line": {
              "color": "#E5ECF6",
              "width": 0.5
             }
            },
            "type": "bar"
           }
          ],
          "barpolar": [
           {
            "marker": {
             "line": {
              "color": "#E5ECF6",
              "width": 0.5
             }
            },
            "type": "barpolar"
           }
          ],
          "carpet": [
           {
            "aaxis": {
             "endlinecolor": "#2a3f5f",
             "gridcolor": "white",
             "linecolor": "white",
             "minorgridcolor": "white",
             "startlinecolor": "#2a3f5f"
            },
            "baxis": {
             "endlinecolor": "#2a3f5f",
             "gridcolor": "white",
             "linecolor": "white",
             "minorgridcolor": "white",
             "startlinecolor": "#2a3f5f"
            },
            "type": "carpet"
           }
          ],
          "choropleth": [
           {
            "colorbar": {
             "outlinewidth": 0,
             "ticks": ""
            },
            "type": "choropleth"
           }
          ],
          "contour": [
           {
            "colorbar": {
             "outlinewidth": 0,
             "ticks": ""
            },
            "colorscale": [
             [
              0,
              "#0d0887"
             ],
             [
              0.1111111111111111,
              "#46039f"
             ],
             [
              0.2222222222222222,
              "#7201a8"
             ],
             [
              0.3333333333333333,
              "#9c179e"
             ],
             [
              0.4444444444444444,
              "#bd3786"
             ],
             [
              0.5555555555555556,
              "#d8576b"
             ],
             [
              0.6666666666666666,
              "#ed7953"
             ],
             [
              0.7777777777777778,
              "#fb9f3a"
             ],
             [
              0.8888888888888888,
              "#fdca26"
             ],
             [
              1,
              "#f0f921"
             ]
            ],
            "type": "contour"
           }
          ],
          "contourcarpet": [
           {
            "colorbar": {
             "outlinewidth": 0,
             "ticks": ""
            },
            "type": "contourcarpet"
           }
          ],
          "heatmap": [
           {
            "colorbar": {
             "outlinewidth": 0,
             "ticks": ""
            },
            "colorscale": [
             [
              0,
              "#0d0887"
             ],
             [
              0.1111111111111111,
              "#46039f"
             ],
             [
              0.2222222222222222,
              "#7201a8"
             ],
             [
              0.3333333333333333,
              "#9c179e"
             ],
             [
              0.4444444444444444,
              "#bd3786"
             ],
             [
              0.5555555555555556,
              "#d8576b"
             ],
             [
              0.6666666666666666,
              "#ed7953"
             ],
             [
              0.7777777777777778,
              "#fb9f3a"
             ],
             [
              0.8888888888888888,
              "#fdca26"
             ],
             [
              1,
              "#f0f921"
             ]
            ],
            "type": "heatmap"
           }
          ],
          "heatmapgl": [
           {
            "colorbar": {
             "outlinewidth": 0,
             "ticks": ""
            },
            "colorscale": [
             [
              0,
              "#0d0887"
             ],
             [
              0.1111111111111111,
              "#46039f"
             ],
             [
              0.2222222222222222,
              "#7201a8"
             ],
             [
              0.3333333333333333,
              "#9c179e"
             ],
             [
              0.4444444444444444,
              "#bd3786"
             ],
             [
              0.5555555555555556,
              "#d8576b"
             ],
             [
              0.6666666666666666,
              "#ed7953"
             ],
             [
              0.7777777777777778,
              "#fb9f3a"
             ],
             [
              0.8888888888888888,
              "#fdca26"
             ],
             [
              1,
              "#f0f921"
             ]
            ],
            "type": "heatmapgl"
           }
          ],
          "histogram": [
           {
            "marker": {
             "colorbar": {
              "outlinewidth": 0,
              "ticks": ""
             }
            },
            "type": "histogram"
           }
          ],
          "histogram2d": [
           {
            "colorbar": {
             "outlinewidth": 0,
             "ticks": ""
            },
            "colorscale": [
             [
              0,
              "#0d0887"
             ],
             [
              0.1111111111111111,
              "#46039f"
             ],
             [
              0.2222222222222222,
              "#7201a8"
             ],
             [
              0.3333333333333333,
              "#9c179e"
             ],
             [
              0.4444444444444444,
              "#bd3786"
             ],
             [
              0.5555555555555556,
              "#d8576b"
             ],
             [
              0.6666666666666666,
              "#ed7953"
             ],
             [
              0.7777777777777778,
              "#fb9f3a"
             ],
             [
              0.8888888888888888,
              "#fdca26"
             ],
             [
              1,
              "#f0f921"
             ]
            ],
            "type": "histogram2d"
           }
          ],
          "histogram2dcontour": [
           {
            "colorbar": {
             "outlinewidth": 0,
             "ticks": ""
            },
            "colorscale": [
             [
              0,
              "#0d0887"
             ],
             [
              0.1111111111111111,
              "#46039f"
             ],
             [
              0.2222222222222222,
              "#7201a8"
             ],
             [
              0.3333333333333333,
              "#9c179e"
             ],
             [
              0.4444444444444444,
              "#bd3786"
             ],
             [
              0.5555555555555556,
              "#d8576b"
             ],
             [
              0.6666666666666666,
              "#ed7953"
             ],
             [
              0.7777777777777778,
              "#fb9f3a"
             ],
             [
              0.8888888888888888,
              "#fdca26"
             ],
             [
              1,
              "#f0f921"
             ]
            ],
            "type": "histogram2dcontour"
           }
          ],
          "mesh3d": [
           {
            "colorbar": {
             "outlinewidth": 0,
             "ticks": ""
            },
            "type": "mesh3d"
           }
          ],
          "parcoords": [
           {
            "line": {
             "colorbar": {
              "outlinewidth": 0,
              "ticks": ""
             }
            },
            "type": "parcoords"
           }
          ],
          "pie": [
           {
            "automargin": true,
            "type": "pie"
           }
          ],
          "scatter": [
           {
            "marker": {
             "colorbar": {
              "outlinewidth": 0,
              "ticks": ""
             }
            },
            "type": "scatter"
           }
          ],
          "scatter3d": [
           {
            "line": {
             "colorbar": {
              "outlinewidth": 0,
              "ticks": ""
             }
            },
            "marker": {
             "colorbar": {
              "outlinewidth": 0,
              "ticks": ""
             }
            },
            "type": "scatter3d"
           }
          ],
          "scattercarpet": [
           {
            "marker": {
             "colorbar": {
              "outlinewidth": 0,
              "ticks": ""
             }
            },
            "type": "scattercarpet"
           }
          ],
          "scattergeo": [
           {
            "marker": {
             "colorbar": {
              "outlinewidth": 0,
              "ticks": ""
             }
            },
            "type": "scattergeo"
           }
          ],
          "scattergl": [
           {
            "marker": {
             "colorbar": {
              "outlinewidth": 0,
              "ticks": ""
             }
            },
            "type": "scattergl"
           }
          ],
          "scattermapbox": [
           {
            "marker": {
             "colorbar": {
              "outlinewidth": 0,
              "ticks": ""
             }
            },
            "type": "scattermapbox"
           }
          ],
          "scatterpolar": [
           {
            "marker": {
             "colorbar": {
              "outlinewidth": 0,
              "ticks": ""
             }
            },
            "type": "scatterpolar"
           }
          ],
          "scatterpolargl": [
           {
            "marker": {
             "colorbar": {
              "outlinewidth": 0,
              "ticks": ""
             }
            },
            "type": "scatterpolargl"
           }
          ],
          "scatterternary": [
           {
            "marker": {
             "colorbar": {
              "outlinewidth": 0,
              "ticks": ""
             }
            },
            "type": "scatterternary"
           }
          ],
          "surface": [
           {
            "colorbar": {
             "outlinewidth": 0,
             "ticks": ""
            },
            "colorscale": [
             [
              0,
              "#0d0887"
             ],
             [
              0.1111111111111111,
              "#46039f"
             ],
             [
              0.2222222222222222,
              "#7201a8"
             ],
             [
              0.3333333333333333,
              "#9c179e"
             ],
             [
              0.4444444444444444,
              "#bd3786"
             ],
             [
              0.5555555555555556,
              "#d8576b"
             ],
             [
              0.6666666666666666,
              "#ed7953"
             ],
             [
              0.7777777777777778,
              "#fb9f3a"
             ],
             [
              0.8888888888888888,
              "#fdca26"
             ],
             [
              1,
              "#f0f921"
             ]
            ],
            "type": "surface"
           }
          ],
          "table": [
           {
            "cells": {
             "fill": {
              "color": "#EBF0F8"
             },
             "line": {
              "color": "white"
             }
            },
            "header": {
             "fill": {
              "color": "#C8D4E3"
             },
             "line": {
              "color": "white"
             }
            },
            "type": "table"
           }
          ]
         },
         "layout": {
          "annotationdefaults": {
           "arrowcolor": "#2a3f5f",
           "arrowhead": 0,
           "arrowwidth": 1
          },
          "coloraxis": {
           "colorbar": {
            "outlinewidth": 0,
            "ticks": ""
           }
          },
          "colorscale": {
           "diverging": [
            [
             0,
             "#8e0152"
            ],
            [
             0.1,
             "#c51b7d"
            ],
            [
             0.2,
             "#de77ae"
            ],
            [
             0.3,
             "#f1b6da"
            ],
            [
             0.4,
             "#fde0ef"
            ],
            [
             0.5,
             "#f7f7f7"
            ],
            [
             0.6,
             "#e6f5d0"
            ],
            [
             0.7,
             "#b8e186"
            ],
            [
             0.8,
             "#7fbc41"
            ],
            [
             0.9,
             "#4d9221"
            ],
            [
             1,
             "#276419"
            ]
           ],
           "sequential": [
            [
             0,
             "#0d0887"
            ],
            [
             0.1111111111111111,
             "#46039f"
            ],
            [
             0.2222222222222222,
             "#7201a8"
            ],
            [
             0.3333333333333333,
             "#9c179e"
            ],
            [
             0.4444444444444444,
             "#bd3786"
            ],
            [
             0.5555555555555556,
             "#d8576b"
            ],
            [
             0.6666666666666666,
             "#ed7953"
            ],
            [
             0.7777777777777778,
             "#fb9f3a"
            ],
            [
             0.8888888888888888,
             "#fdca26"
            ],
            [
             1,
             "#f0f921"
            ]
           ],
           "sequentialminus": [
            [
             0,
             "#0d0887"
            ],
            [
             0.1111111111111111,
             "#46039f"
            ],
            [
             0.2222222222222222,
             "#7201a8"
            ],
            [
             0.3333333333333333,
             "#9c179e"
            ],
            [
             0.4444444444444444,
             "#bd3786"
            ],
            [
             0.5555555555555556,
             "#d8576b"
            ],
            [
             0.6666666666666666,
             "#ed7953"
            ],
            [
             0.7777777777777778,
             "#fb9f3a"
            ],
            [
             0.8888888888888888,
             "#fdca26"
            ],
            [
             1,
             "#f0f921"
            ]
           ]
          },
          "colorway": [
           "#636efa",
           "#EF553B",
           "#00cc96",
           "#ab63fa",
           "#FFA15A",
           "#19d3f3",
           "#FF6692",
           "#B6E880",
           "#FF97FF",
           "#FECB52"
          ],
          "font": {
           "color": "#2a3f5f"
          },
          "geo": {
           "bgcolor": "white",
           "lakecolor": "white",
           "landcolor": "#E5ECF6",
           "showlakes": true,
           "showland": true,
           "subunitcolor": "white"
          },
          "hoverlabel": {
           "align": "left"
          },
          "hovermode": "closest",
          "mapbox": {
           "style": "light"
          },
          "paper_bgcolor": "white",
          "plot_bgcolor": "#E5ECF6",
          "polar": {
           "angularaxis": {
            "gridcolor": "white",
            "linecolor": "white",
            "ticks": ""
           },
           "bgcolor": "#E5ECF6",
           "radialaxis": {
            "gridcolor": "white",
            "linecolor": "white",
            "ticks": ""
           }
          },
          "scene": {
           "xaxis": {
            "backgroundcolor": "#E5ECF6",
            "gridcolor": "white",
            "gridwidth": 2,
            "linecolor": "white",
            "showbackground": true,
            "ticks": "",
            "zerolinecolor": "white"
           },
           "yaxis": {
            "backgroundcolor": "#E5ECF6",
            "gridcolor": "white",
            "gridwidth": 2,
            "linecolor": "white",
            "showbackground": true,
            "ticks": "",
            "zerolinecolor": "white"
           },
           "zaxis": {
            "backgroundcolor": "#E5ECF6",
            "gridcolor": "white",
            "gridwidth": 2,
            "linecolor": "white",
            "showbackground": true,
            "ticks": "",
            "zerolinecolor": "white"
           }
          },
          "shapedefaults": {
           "line": {
            "color": "#2a3f5f"
           }
          },
          "ternary": {
           "aaxis": {
            "gridcolor": "white",
            "linecolor": "white",
            "ticks": ""
           },
           "baxis": {
            "gridcolor": "white",
            "linecolor": "white",
            "ticks": ""
           },
           "bgcolor": "#E5ECF6",
           "caxis": {
            "gridcolor": "white",
            "linecolor": "white",
            "ticks": ""
           }
          },
          "title": {
           "x": 0.05
          },
          "xaxis": {
           "automargin": true,
           "gridcolor": "white",
           "linecolor": "white",
           "ticks": "",
           "title": {
            "standoff": 15
           },
           "zerolinecolor": "white",
           "zerolinewidth": 2
          },
          "yaxis": {
           "automargin": true,
           "gridcolor": "white",
           "linecolor": "white",
           "ticks": "",
           "title": {
            "standoff": 15
           },
           "zerolinecolor": "white",
           "zerolinewidth": 2
          }
         }
        }
       }
      },
      "text/html": [
       "<div>\n",
       "        \n",
       "        \n",
       "            <div id=\"18b0edb4-b298-4840-9207-b10556fc3342\" class=\"plotly-graph-div\" style=\"height:525px; width:100%;\"></div>\n",
       "            <script type=\"text/javascript\">\n",
       "                require([\"plotly\"], function(Plotly) {\n",
       "                    window.PLOTLYENV=window.PLOTLYENV || {};\n",
       "                    \n",
       "                if (document.getElementById(\"18b0edb4-b298-4840-9207-b10556fc3342\")) {\n",
       "                    Plotly.newPlot(\n",
       "                        '18b0edb4-b298-4840-9207-b10556fc3342',\n",
       "                        [{\"hovertemplate\": \"x=%{x}<br>y=%{y}<br>z=%{z}<extra></extra>\", \"legendgroup\": \"\", \"marker\": {\"color\": \"#636efa\", \"line\": {\"color\": \"DarkSlateGrey\", \"width\": 0.1}, \"size\": 3, \"symbol\": \"circle\"}, \"mode\": \"markers\", \"name\": \"\", \"scene\": \"scene\", \"showlegend\": false, \"type\": \"scatter3d\", \"x\": [-0.10509105088548103, -0.6282232321963354, -1.145879552736293, -0.009627038361799218, -0.1170746687403, -1.6634728552943319, -0.2718155944612978, -0.5245148312840432, -0.9493506494463575, -0.0812779422224723, 1.342165614722867, 1.181123625074418, -0.6282232321963354, -0.15668639310551655, -0.15753038808718828, 1.8491500850136156, 1.7375966150126128, -1.5328167687530416, 0.6018612799651232, -0.4867556563921464, 0.2989552569988306, 1.7375966150126128, -0.21167868229153047, -0.6767770602002245, 1.1769743275129114, -0.3769506026176209, -0.36653614287004244, -0.5408051735723673, 0.04823417535274727, 0.6114654587505723, 0.058191216940877435, -0.6601233418261161, -0.9211041258495234, 0.04798294094256138, -0.15325165197646687, -0.3345887822022208, -0.174457321486064, -0.38567563082811374, -1.1152935044087724, 0.7564902330622771, -0.6870187038443162, 0.962881366053007, 0.012600982900747494, 0.7918000385424316, 0.7564902330622771, 1.1655118829555848, -1.0200172387196074, -0.6282232321963354, -0.03470647855129827, -0.15325165197646687, 0.8791759827067795, 1.2175750214492855, 0.6176836821780706, -0.4559636605687179, 0.8368751263942998, 0.7836475105794817, -0.4021540697963025, 0.04798294094256138, -0.8856793375049233, 0.20283971504696718, 0.7564902330622771, -0.361823290537757, -1.5328167687530416, 1.7409894308973588, 0.9652635485256759, -0.36011309284180687, -0.6282232321963354, -0.9868271682135367, 0.6176836821780706, 0.48929516399697404, -0.6601233418261161, -1.1019448560122218, -0.17063207314713708, -0.40331963317706476, -0.7299021628218593, -0.15325165197646687, -0.5423229581479878, -0.3897526691551592, -0.3898345271635649, -1.6634728552943319, 0.18488082499337224, -0.405457635593877, -1.6949239054826735, -0.24520659031999248, -0.15325165197646687, -0.009627038361799218, 1.8338335405589046, -0.03470647855129827, -0.3755945353435627, -0.7564140490109209, -1.0735917451243329, -0.633555671044913, -0.11261215230714575, -0.007699115142708187, -0.21167868229153047, 1.7409894308973588, 1.2081024167767298, 1.4881025486253077, -1.0251964572421894, -0.026702637798300174, -1.6634728552943319, 1.1773231013167238, 0.02513654221776108, -0.3769506026176209, 0.22683547657189254, -1.0251964572421894, -0.36011309284180687, -0.6282232321963354, -0.24587406358051883, 0.7836475105794817, -1.0033065661309728, -0.4559636605687179, 1.2684968511316697, 0.11597607261041397, 1.7659539607655095, -0.7248174154039074, -0.4944724017734069, -0.6282232321963354, 1.0102617622271841, -1.0251964572421894, -2.848243818619885, 0.23225363297624624, -0.6282232321963354, -0.5107823895977451, -1.6634728552943319, -0.36011309284180687, 0.08106957077703972, 0.8352055948798368, 1.2684968511316697, 1.7375966150126128, 0.20900198325876135, -0.6282232321963354, 1.2118711583184025, 1.0744226773036476, -1.170055907983187, 1.1769743275129114, -0.9341393158975774, -0.17063207314713708, 0.8136142296776243, -0.3755945353435627, -0.159924171472808, -0.3059828290061807, 0.9865065016263022, 1.7409894308973588, -0.35582619596643245, -1.3640947113369106, 1.3623163594173462, -0.17063207314713708, -0.9211041258495234, 0.6913601190623542, -1.6634728552943319, -0.3755945353435627, -1.0153825843862287, 0.5290587991955642, 1.181123625074418, -1.4903425832441464, 0.24640073318661818, -1.6634728552943319, -1.3346519199571767, 0.32254864135119204, -0.6169560894860007, -1.6634728552943319, 0.6135352744933427, -0.19045690931786022, -0.528060296331629, -0.5107823895977451, 2.156182049390334, -0.03470647855129827, 1.1791195847729279, 0.4280145542070749, -1.3998999561983014, -0.5279603718053042, -0.38567563082811374, -1.098796642289797, 1.6722580654627728, -0.7064400282739515, 0.6124023777151009, 1.7375966150126128, 0.603341175295589, -0.15325165197646687, 0.9259760469560573, -0.49036470017382666, 2.010103531440905, -0.5764377828155464, 1.7409894308973588, 0.7564902330622771, -0.6169560894860007, 1.1655118829555848, 1.7375966150126128, -0.3936867475850744, -0.6282232321963354, -0.412984344869984, 0.28653697117302235, -1.6634728552943319, -0.21167868229153047, 0.4772565061699781, 1.8303978174071458, 1.739390285375291, 0.7836475105794817, -0.07784573973486725, 1.752820036645625, -0.23100398817428675, 0.22362365676031257, -1.0251964572421894, -1.5328167687530416, 1.0849260818778013, -1.1019448560122218, -2.1928652986024275, -0.4003101729676342, 1.2907725181724845, -1.1777795224539271, -0.15947286001460517, -1.1019448560122218, 1.1470426377262997, -0.21035464757097005, 1.1465621580002336, 0.8791759827067795, 0.9652635485256759, 0.7918000385424316, 1.7659539607655095, -0.6688781577975189, 1.7409894308973588, -0.6169560894860007, 1.0082151733842883, 1.1358306121501442, -0.6169560894860007, -0.230215421696455, 1.8107973692865564, 0.6913601190623542, 0.9990379151798078, 0.8173599514658493, 0.9990379151798078, 0.08244971403970254, -0.6282232321963354, -0.230215421696455, -1.2085636114510416, -2.079781821023766, 1.8429088683539232, -1.3952697280065833, 1.7409894308973588, 1.7375966150126128, -0.37594273625890356, 1.0922184419021703, 0.8927922718356031, 0.611182875609448, 1.2223384492771148, 0.17184470140393104, 0.962881366053007, -0.12837430531947483, 1.8303978174071458, -1.2514319177173807, -0.6169560894860007, -0.1170746687403, -1.5328167687530416, 1.2907725181724845, -0.3769506026176209, -1.3852926624021906, 0.04949421915307169, -2.079781821023766, -2.079781821023766, 1.1655118829555848, -0.9729670011192849, 0.08536627405722089, 0.7564902330622771, 1.193938532227374, -0.5016410946210005, -0.03263797616456393, -1.740900728223665, -0.9706272349446432, -0.9868271682135367, -0.4867556563921464, 0.44893553519541063, 0.786462632907458, 0.4513917223913144, -1.6634728552943319, -0.20564532400964552, 0.20283971504696718, 0.049886850285771674, -0.03470647855129827, -0.2851848492267584, 0.962881366053007, 0.9164341540242655, -0.9081153278206731, -0.9868271682135367, 1.2223384492771148, -0.6767770602002245, 0.8067038638401516, -2.848243818619885, -0.9393505951055021], \"y\": [1.6260209338245577, -0.0912108795170651, 1.1727414704044337, -1.2505602763416122, 0.37078549666113797, -1.0064867191153917, 1.146590732130196, 1.4865503296952887, -0.5096226919048715, -1.2941448401320086, -0.29169987295288896, 0.2661825435641864, -0.3091336984690475, 1.7654915379538267, -1.2418433635835329, 0.5887083156131205, -0.12607853054938217, -0.8147146384376471, -0.37886900053368194, -1.5207845718420705, -0.15222926882362015, -0.04762631572666858, 0.15286267770915543, -1.5207845718420705, -0.8582992022280436, -0.21324765813017518, -1.1110896722123433, -0.33528443674328545, 1.556285631759923, 1.2686275107433063, 1.4865503296952887, -0.6578102087922196, -1.5207845718420705, 1.608587108308399, -0.33528443674328545, 2.079300397244681, 1.9311128803573332, -0.9018837660184401, 2.044432746212364, -0.4573212153563957, 1.408098114872575, -0.3701520877756027, 1.2163260341948303, 0.04825972461220387, -0.4573212153563957, -1.1721080615188983, 1.72190697416343, -0.13479544330746143, -0.37886900053368194, -0.38758591329176123, -1.102372759454264, -1.128523497728502, -0.3701520877756027, 0.06569355012836241, 1.033270866275165, -0.727545510856854, 0.9199510004201341, 0.15286267770915543, 1.8352268400184608, -0.38758591329176123, -0.5183396046629508, -0.0912108795170651, -0.8408653767118849, -0.33528443674328545, -0.23939839640441316, -1.0849389339381055, -0.1609461815816994, -1.4248985315031981, -0.37886900053368194, 0.13542885219299688, -0.6055087322437438, -0.4137366515659992, 0.8153480473231826, -1.3551632294385638, 1.2250429469529096, -0.38758591329176123, 1.5650025445180022, 1.3383628128079403, 1.1640245576463546, -0.9803359808411538, 1.1030061683397996, 1.408098114872575, 1.3470797255660198, -0.012758664694351184, -0.36143517501752326, -1.1982587997931364, 0.571274490096962, -0.36143517501752326, -1.2505602763416122, -0.36143517501752326, 1.5127010679695263, 0.2487487180480279, 0.885083349387817, 1.5911532827922406, -0.19581383261401666, -0.32656752398520617, -0.6142256450018231, -0.7449793363730126, -1.5207845718420705, 1.5214179807276058, -1.0239205446315505, -0.02147557745243061, 1.207609121436751, -0.4224535643240785, -0.1609461815816994, -1.5207845718420705, -1.050071282905788, -0.07377705400090624, 2.2013371758577915, -0.7362624236149333, 1.5127010679695263, 0.0221089863379659, -1.067505108421947, 1.8352268400184608, -0.33528443674328545, -1.1198065849704226, -0.36143517501752326, -0.10864470503322363, 0.013392073579886784, -1.5207845718420705, -1.390030880470881, -1.215692625309295, -0.29169987295288896, -1.4248985315031981, -1.0064867191153917, -0.52705651742103, -0.8670161149861229, -0.038909402968589156, -1.0326374573896295, -0.04762631572666858, 0.27489945632226587, -0.11736161779130275, -0.012758664694351184, -0.9803359808411538, 1.4429657659048922, -0.9018837660184401, -0.17838000709785795, 0.797914221807024, -0.4050197388079198, -1.189541887035057, 1.7829253634699849, 1.2250429469529096, 1.207609121436751, -0.31785061122712677, 1.3296459000498615, 1.4778334169372094, 0.08312737564452095, 1.5039841552114477, -1.5207845718420705, 1.1204399938559582, -0.9629021553249951, -1.189541887035057, -0.4137366515659992, 0.37078549666113797, 0.24003180528994847, 1.294778249017544, 1.0594216045494032, -0.9716190680830744, 0.484105362516169, 0.013392073579886784, -1.5207845718420705, -1.0326374573896295, 1.2424767724690682, 1.1117230810978787, -0.08249396675898567, -1.3725970549547224, -0.004041751936272068, -0.4311704770821578, -1.1721080615188983, -0.6490932960341403, 1.3732304638402582, -0.07377705400090624, -0.9280345042926779, 1.5998701955503194, -0.0912108795170651, 1.3034951617756232, 0.37078549666113797, -0.056343228484747696, 1.2599105979852268, -0.3963028260498405, -0.0912108795170651, 0.858932611113579, 1.2424767724690682, 0.1790134159833934, -0.038909402968589156, -0.48347195363063356, -1.5207845718420705, -1.163391148760819, -0.11736161779130275, -0.9541852425669158, -0.0912108795170651, -0.04762631572666858, 1.8439437527765403, -0.9454683298088367, 0.1441457649510763, -0.004041751936272068, 1.1204399938559582, -0.10864470503322363, -0.727545510856854, 1.0594216045494032, 1.3209289872917822, -1.3377294039224052, -0.3701520877756027, -1.5207845718420705, -0.8147146384376471, -0.7885639001634092, -0.3701520877756027, -1.1808249742769776, 0.04825972461220387, 0.27489945632226587, -1.3028617528900879, 1.6696054976149541, -0.4137366515659992, -0.10864470503322363, 1.7916422762280644, -0.6578102087922196, -1.0762220211800262, -0.23939839640441316, 0.04825972461220387, -0.33528443674328545, -0.6142256450018231, -0.06506014124282712, -1.5207845718420705, -0.2829829601948097, -1.3464463166804845, -1.5207845718420705, 0.0221089863379659, 0.8414987855974205, 1.155307644888275, 0.03082589909604533, -1.3464463166804845, 0.03954281185412444, 0.20516415425763138, -0.13479544330746143, 0.06569355012836241, -0.3701520877756027, -1.2244095380673743, -0.3091336984690475, 2.044432746212364, -0.08249396675898567, -0.0999277922751442, 0.15286267770915543, 1.3993812021144958, 0.684594355951993, 1.1814583831625132, -0.08249396675898567, 0.46667153700001046, -0.439887389840237, 1.0158370407590065, 1.0419877790332441, 1.146590732130196, -1.5207845718420705, 0.3272009328707415, -0.7798469874053299, 0.257465630806107, -0.20453074537209592, 1.9746974441477299, 0.9548186514524512, -1.163391148760819, -1.215692625309295, -1.1721080615188983, 1.3819473765983368, 1.817793014502302, -0.23939839640441316, -0.8234315511957263, 1.9398297931154127, 1.3993812021144958, 0.07441046288644183, 0.9722524769686101, -1.4248985315031981, -1.5207845718420705, -0.04762631572666858, -0.7449793363730126, -0.030192490210509727, -0.9454683298088367, 1.1291569066140372, -0.4050197388079198, 1.9485467058734915, -0.36143517501752326, 1.8962452293250163, -0.5619241684533473, 0.22259797977378992, -0.6229425577599024, -1.4336154442612774, -0.10864470503322363, -1.5207845718420705, 1.2773444235013856, -1.390030880470881, 1.3383628128079403], \"z\": [38.40918435666509, 43.74511220370261, 45.46037041215909, 45.27231478766036, 38.34728295554499, 53.389216612390925, 39.208792493909435, 41.76679605560697, 47.53459627647545, 46.2446695859463, 23.531793120580986, 23.685570871456207, 44.5870656146071, 39.254253912938225, 46.49418929656739, 12.785057981075399, 16.812710362189083, 51.81793597475241, 33.52191185923913, 51.30429294192271, 35.852816758177156, 16.48321036056535, 39.71070170412616, 52.59118595612293, 29.0882529260366, 42.319106416523965, 47.21766363461998, 44.076075410555504, 36.756190211605706, 30.105242365897595, 36.523135935646145, 46.49425121514617, 54.04818884153854, 36.86942628247889, 40.97077894430804, 41.93386338796245, 39.93498586860799, 45.9547924177152, 47.52743876952316, 32.08986535263026, 42.85652514476299, 29.071918915909762, 36.62078472864241, 29.47831881350278, 32.08986535263026, 31.517113063579586, 45.82414611988798, 43.900312723372245, 40.10929292922411, 41.20979399155759, 34.66941830377487, 30.478008966660855, 33.29664566789353, 41.96462244628652, 27.199775771178317, 33.290007719843096, 40.23850918919965, 37.33453126162706, 45.31534071663379, 37.869102399550776, 32.41261830084075, 41.73737722064826, 51.96865369550584, 17.74228877391608, 28.424284881475934, 46.983413118597774, 43.99659867417673, 53.61864233646329, 33.338950496169424, 32.7723978989805, 46.214347566440686, 47.919796298106405, 38.27258314536326, 49.33361865299456, 42.90301893987099, 41.20979399155759, 42.072044058721524, 40.42030573360502, 40.228910768419084, 53.224516229563235, 34.80307350547228, 40.658007089397486, 48.187216958034625, 40.50328224068221, 41.0890993533068, 44.874283105255515, 13.070399417851855, 40.02845603145421, 48.31183170358217, 45.67487983520506, 45.607215640639126, 42.798939846299184, 37.71649043837954, 37.38688066390194, 40.88631715202318, 17.69828204729297, 27.129798473172333, 23.950416771876053, 54.60137245883958, 37.43090713861213, 53.500335883860515, 24.68784838039382, 36.48995445044611, 43.229071929005976, 36.63327727409657, 54.60137245883958, 46.7408227568066, 43.68487861858633, 41.64392067721281, 33.34357480915015, 45.18501400690569, 42.09839696824355, 29.319171743442762, 36.759903144714826, 17.346914280957993, 49.79864460442276, 43.84984623828187, 43.806401001819786, 26.810703946399368, 54.60137245883958, 56.760362188249886, 42.72052484630137, 44.51364186697955, 50.67683761081326, 53.389216612390925, 43.60846957037147, 41.73280300872644, 29.251882759632597, 29.061172475769407, 16.48321036056535, 35.40728542661728, 43.83744110575372, 24.17619087868487, 31.296325243705727, 46.00822379436677, 29.383800532675817, 46.033321780800485, 38.281462074124676, 31.12611965091214, 47.85527411281332, 39.334199380192615, 39.572178782607786, 25.27495052856785, 17.654539123920088, 40.122187063033415, 47.07859691576394, 21.688937390364693, 38.76590395838255, 54.04818884153854, 29.04369583334377, 53.1160349905959, 47.85527411281332, 47.45778417128545, 31.698223799747662, 23.760049644063326, 47.30306328329637, 34.14014796210229, 53.17014370845446, 46.48391519616329, 34.99134561431642, 52.20056437228777, 53.55629122447064, 30.059122495107253, 38.46308221961063, 42.99072590189682, 50.25523610351281, 9.335682273358175, 40.35813490053921, 31.334574927380473, 36.89724430099431, 47.036312119174156, 42.95973029817943, 46.12267928184477, 45.961575294993125, 17.691528112472803, 42.833831956590835, 30.72733133560507, 16.51876625885597, 30.19591595866216, 41.25055314414165, 28.303782217074016, 40.95436913297352, 9.558967772205532, 42.556171624602435, 16.394053692106752, 32.22660522521912, 52.20056437228777, 31.449328861032672, 16.775044037896656, 46.35432738796995, 43.74511220370261, 41.99196606597043, 34.95628081771023, 53.00860896462947, 39.734947926944194, 33.365525132762244, 12.582854727764943, 16.70920901790356, 33.290007719843096, 37.398686631823544, 13.92447579949224, 47.84910292118656, 37.57677283775443, 54.60137245883958, 51.81793597475241, 29.860567289672257, 47.72875717402951, 55.53338666798104, 41.581644068068684, 22.11546443505221, 53.617583055799756, 39.02627035497451, 47.919796298106405, 25.44728079139315, 39.8269917693793, 28.225267827884203, 34.47549851976035, 28.424284881475934, 29.47831881350278, 17.346914280957993, 46.3193797435831, 16.50074875995445, 52.20056437228777, 28.065079713533216, 33.32236033778662, 52.20056437228777, 40.26137146598692, 13.050726309275587, 29.05676342151317, 26.895704250752658, 37.345100614107444, 26.8647725964304, 36.85555876883486, 43.900312723372245, 40.12456141184671, 48.260887224432544, 55.711122793658845, 15.981484790680266, 49.02902745548015, 16.573197821437383, 16.700502799062477, 41.084181149743934, 23.990066755012865, 26.704350220967264, 30.047449754935, 24.302595315490592, 35.378285165313365, 29.42517077494286, 37.859016520413505, 12.596454148361044, 45.992902488797725, 52.20056437228777, 38.439448792285035, 51.620672259250995, 22.164915299558693, 42.284488727465025, 48.69867943536575, 36.153245701501326, 55.29218665693594, 55.65048336437632, 31.517113063579586, 44.740461433421494, 37.02524020367318, 31.04269755196859, 28.626344625202652, 42.8268968976936, 37.27923589130354, 48.79995562112461, 44.30651041996494, 53.61864233646329, 51.30429294192271, 33.837307611276984, 33.36333298590216, 33.746712657773536, 53.00860896462947, 38.61029327620001, 37.95279978635205, 37.80110154042749, 40.02845603145421, 40.8304800243243, 30.08398722878545, 27.353733225361157, 47.867837390822984, 53.68855233491906, 24.409062996134843, 52.59118595612293, 27.683194338997378, 56.760362188249886, 44.45768244765494]}],\n",
       "                        {\"legend\": {\"tracegroupgap\": 0}, \"margin\": {\"t\": 60}, \"scene\": {\"domain\": {\"x\": [0.0, 1.0], \"y\": [0.0, 1.0]}, \"xaxis\": {\"title\": {\"text\": \"x\"}}, \"yaxis\": {\"title\": {\"text\": \"y\"}}, \"zaxis\": {\"title\": {\"text\": \"z\"}}}, \"template\": {\"data\": {\"bar\": [{\"error_x\": {\"color\": \"#2a3f5f\"}, \"error_y\": {\"color\": \"#2a3f5f\"}, \"marker\": {\"line\": {\"color\": \"#E5ECF6\", \"width\": 0.5}}, \"type\": \"bar\"}], \"barpolar\": [{\"marker\": {\"line\": {\"color\": \"#E5ECF6\", \"width\": 0.5}}, \"type\": \"barpolar\"}], \"carpet\": [{\"aaxis\": {\"endlinecolor\": \"#2a3f5f\", \"gridcolor\": \"white\", \"linecolor\": \"white\", \"minorgridcolor\": \"white\", \"startlinecolor\": \"#2a3f5f\"}, \"baxis\": {\"endlinecolor\": \"#2a3f5f\", \"gridcolor\": \"white\", \"linecolor\": \"white\", \"minorgridcolor\": \"white\", \"startlinecolor\": \"#2a3f5f\"}, \"type\": \"carpet\"}], \"choropleth\": [{\"colorbar\": {\"outlinewidth\": 0, \"ticks\": \"\"}, \"type\": \"choropleth\"}], \"contour\": [{\"colorbar\": {\"outlinewidth\": 0, \"ticks\": \"\"}, \"colorscale\": [[0.0, \"#0d0887\"], [0.1111111111111111, \"#46039f\"], [0.2222222222222222, \"#7201a8\"], [0.3333333333333333, \"#9c179e\"], [0.4444444444444444, \"#bd3786\"], [0.5555555555555556, \"#d8576b\"], [0.6666666666666666, \"#ed7953\"], [0.7777777777777778, \"#fb9f3a\"], [0.8888888888888888, \"#fdca26\"], [1.0, \"#f0f921\"]], \"type\": \"contour\"}], \"contourcarpet\": [{\"colorbar\": {\"outlinewidth\": 0, \"ticks\": \"\"}, \"type\": \"contourcarpet\"}], \"heatmap\": [{\"colorbar\": {\"outlinewidth\": 0, \"ticks\": \"\"}, \"colorscale\": [[0.0, \"#0d0887\"], [0.1111111111111111, \"#46039f\"], [0.2222222222222222, \"#7201a8\"], [0.3333333333333333, \"#9c179e\"], [0.4444444444444444, \"#bd3786\"], [0.5555555555555556, \"#d8576b\"], [0.6666666666666666, \"#ed7953\"], [0.7777777777777778, \"#fb9f3a\"], [0.8888888888888888, \"#fdca26\"], [1.0, \"#f0f921\"]], \"type\": \"heatmap\"}], \"heatmapgl\": [{\"colorbar\": {\"outlinewidth\": 0, \"ticks\": \"\"}, \"colorscale\": [[0.0, \"#0d0887\"], [0.1111111111111111, \"#46039f\"], [0.2222222222222222, \"#7201a8\"], [0.3333333333333333, \"#9c179e\"], [0.4444444444444444, \"#bd3786\"], [0.5555555555555556, \"#d8576b\"], [0.6666666666666666, \"#ed7953\"], [0.7777777777777778, \"#fb9f3a\"], [0.8888888888888888, \"#fdca26\"], [1.0, \"#f0f921\"]], \"type\": \"heatmapgl\"}], \"histogram\": [{\"marker\": {\"colorbar\": {\"outlinewidth\": 0, \"ticks\": \"\"}}, \"type\": \"histogram\"}], \"histogram2d\": [{\"colorbar\": {\"outlinewidth\": 0, \"ticks\": \"\"}, \"colorscale\": [[0.0, \"#0d0887\"], [0.1111111111111111, \"#46039f\"], [0.2222222222222222, \"#7201a8\"], [0.3333333333333333, \"#9c179e\"], [0.4444444444444444, \"#bd3786\"], [0.5555555555555556, \"#d8576b\"], [0.6666666666666666, \"#ed7953\"], [0.7777777777777778, \"#fb9f3a\"], [0.8888888888888888, \"#fdca26\"], [1.0, \"#f0f921\"]], \"type\": \"histogram2d\"}], \"histogram2dcontour\": [{\"colorbar\": {\"outlinewidth\": 0, \"ticks\": \"\"}, \"colorscale\": [[0.0, \"#0d0887\"], [0.1111111111111111, \"#46039f\"], [0.2222222222222222, \"#7201a8\"], [0.3333333333333333, \"#9c179e\"], [0.4444444444444444, \"#bd3786\"], [0.5555555555555556, \"#d8576b\"], [0.6666666666666666, \"#ed7953\"], [0.7777777777777778, \"#fb9f3a\"], [0.8888888888888888, \"#fdca26\"], [1.0, \"#f0f921\"]], \"type\": \"histogram2dcontour\"}], \"mesh3d\": [{\"colorbar\": {\"outlinewidth\": 0, \"ticks\": \"\"}, \"type\": \"mesh3d\"}], \"parcoords\": [{\"line\": {\"colorbar\": {\"outlinewidth\": 0, \"ticks\": \"\"}}, \"type\": \"parcoords\"}], \"pie\": [{\"automargin\": true, \"type\": \"pie\"}], \"scatter\": [{\"marker\": {\"colorbar\": {\"outlinewidth\": 0, \"ticks\": \"\"}}, \"type\": \"scatter\"}], \"scatter3d\": [{\"line\": {\"colorbar\": {\"outlinewidth\": 0, \"ticks\": \"\"}}, \"marker\": {\"colorbar\": {\"outlinewidth\": 0, \"ticks\": \"\"}}, \"type\": \"scatter3d\"}], \"scattercarpet\": [{\"marker\": {\"colorbar\": {\"outlinewidth\": 0, \"ticks\": \"\"}}, \"type\": \"scattercarpet\"}], \"scattergeo\": [{\"marker\": {\"colorbar\": {\"outlinewidth\": 0, \"ticks\": \"\"}}, \"type\": \"scattergeo\"}], \"scattergl\": [{\"marker\": {\"colorbar\": {\"outlinewidth\": 0, \"ticks\": \"\"}}, \"type\": \"scattergl\"}], \"scattermapbox\": [{\"marker\": {\"colorbar\": {\"outlinewidth\": 0, \"ticks\": \"\"}}, \"type\": \"scattermapbox\"}], \"scatterpolar\": [{\"marker\": {\"colorbar\": {\"outlinewidth\": 0, \"ticks\": \"\"}}, \"type\": \"scatterpolar\"}], \"scatterpolargl\": [{\"marker\": {\"colorbar\": {\"outlinewidth\": 0, \"ticks\": \"\"}}, \"type\": \"scatterpolargl\"}], \"scatterternary\": [{\"marker\": {\"colorbar\": {\"outlinewidth\": 0, \"ticks\": \"\"}}, \"type\": \"scatterternary\"}], \"surface\": [{\"colorbar\": {\"outlinewidth\": 0, \"ticks\": \"\"}, \"colorscale\": [[0.0, \"#0d0887\"], [0.1111111111111111, \"#46039f\"], [0.2222222222222222, \"#7201a8\"], [0.3333333333333333, \"#9c179e\"], [0.4444444444444444, \"#bd3786\"], [0.5555555555555556, \"#d8576b\"], [0.6666666666666666, \"#ed7953\"], [0.7777777777777778, \"#fb9f3a\"], [0.8888888888888888, \"#fdca26\"], [1.0, \"#f0f921\"]], \"type\": \"surface\"}], \"table\": [{\"cells\": {\"fill\": {\"color\": \"#EBF0F8\"}, \"line\": {\"color\": \"white\"}}, \"header\": {\"fill\": {\"color\": \"#C8D4E3\"}, \"line\": {\"color\": \"white\"}}, \"type\": \"table\"}]}, \"layout\": {\"annotationdefaults\": {\"arrowcolor\": \"#2a3f5f\", \"arrowhead\": 0, \"arrowwidth\": 1}, \"coloraxis\": {\"colorbar\": {\"outlinewidth\": 0, \"ticks\": \"\"}}, \"colorscale\": {\"diverging\": [[0, \"#8e0152\"], [0.1, \"#c51b7d\"], [0.2, \"#de77ae\"], [0.3, \"#f1b6da\"], [0.4, \"#fde0ef\"], [0.5, \"#f7f7f7\"], [0.6, \"#e6f5d0\"], [0.7, \"#b8e186\"], [0.8, \"#7fbc41\"], [0.9, \"#4d9221\"], [1, \"#276419\"]], \"sequential\": [[0.0, \"#0d0887\"], [0.1111111111111111, \"#46039f\"], [0.2222222222222222, \"#7201a8\"], [0.3333333333333333, \"#9c179e\"], [0.4444444444444444, \"#bd3786\"], [0.5555555555555556, \"#d8576b\"], [0.6666666666666666, \"#ed7953\"], [0.7777777777777778, \"#fb9f3a\"], [0.8888888888888888, \"#fdca26\"], [1.0, \"#f0f921\"]], \"sequentialminus\": [[0.0, \"#0d0887\"], [0.1111111111111111, \"#46039f\"], [0.2222222222222222, \"#7201a8\"], [0.3333333333333333, \"#9c179e\"], [0.4444444444444444, \"#bd3786\"], [0.5555555555555556, \"#d8576b\"], [0.6666666666666666, \"#ed7953\"], [0.7777777777777778, \"#fb9f3a\"], [0.8888888888888888, \"#fdca26\"], [1.0, \"#f0f921\"]]}, \"colorway\": [\"#636efa\", \"#EF553B\", \"#00cc96\", \"#ab63fa\", \"#FFA15A\", \"#19d3f3\", \"#FF6692\", \"#B6E880\", \"#FF97FF\", \"#FECB52\"], \"font\": {\"color\": \"#2a3f5f\"}, \"geo\": {\"bgcolor\": \"white\", \"lakecolor\": \"white\", \"landcolor\": \"#E5ECF6\", \"showlakes\": true, \"showland\": true, \"subunitcolor\": \"white\"}, \"hoverlabel\": {\"align\": \"left\"}, \"hovermode\": \"closest\", \"mapbox\": {\"style\": \"light\"}, \"paper_bgcolor\": \"white\", \"plot_bgcolor\": \"#E5ECF6\", \"polar\": {\"angularaxis\": {\"gridcolor\": \"white\", \"linecolor\": \"white\", \"ticks\": \"\"}, \"bgcolor\": \"#E5ECF6\", \"radialaxis\": {\"gridcolor\": \"white\", \"linecolor\": \"white\", \"ticks\": \"\"}}, \"scene\": {\"xaxis\": {\"backgroundcolor\": \"#E5ECF6\", \"gridcolor\": \"white\", \"gridwidth\": 2, \"linecolor\": \"white\", \"showbackground\": true, \"ticks\": \"\", \"zerolinecolor\": \"white\"}, \"yaxis\": {\"backgroundcolor\": \"#E5ECF6\", \"gridcolor\": \"white\", \"gridwidth\": 2, \"linecolor\": \"white\", \"showbackground\": true, \"ticks\": \"\", \"zerolinecolor\": \"white\"}, \"zaxis\": {\"backgroundcolor\": \"#E5ECF6\", \"gridcolor\": \"white\", \"gridwidth\": 2, \"linecolor\": \"white\", \"showbackground\": true, \"ticks\": \"\", \"zerolinecolor\": \"white\"}}, \"shapedefaults\": {\"line\": {\"color\": \"#2a3f5f\"}}, \"ternary\": {\"aaxis\": {\"gridcolor\": \"white\", \"linecolor\": \"white\", \"ticks\": \"\"}, \"baxis\": {\"gridcolor\": \"white\", \"linecolor\": \"white\", \"ticks\": \"\"}, \"bgcolor\": \"#E5ECF6\", \"caxis\": {\"gridcolor\": \"white\", \"linecolor\": \"white\", \"ticks\": \"\"}}, \"title\": {\"x\": 0.05}, \"xaxis\": {\"automargin\": true, \"gridcolor\": \"white\", \"linecolor\": \"white\", \"ticks\": \"\", \"title\": {\"standoff\": 15}, \"zerolinecolor\": \"white\", \"zerolinewidth\": 2}, \"yaxis\": {\"automargin\": true, \"gridcolor\": \"white\", \"linecolor\": \"white\", \"ticks\": \"\", \"title\": {\"standoff\": 15}, \"zerolinecolor\": \"white\", \"zerolinewidth\": 2}}}},\n",
       "                        {\"responsive\": true}\n",
       "                    ).then(function(){\n",
       "                            \n",
       "var gd = document.getElementById('18b0edb4-b298-4840-9207-b10556fc3342');\n",
       "var x = new MutationObserver(function (mutations, observer) {{\n",
       "        var display = window.getComputedStyle(gd).display;\n",
       "        if (!display || display === 'none') {{\n",
       "            console.log([gd, 'removed!']);\n",
       "            Plotly.purge(gd);\n",
       "            observer.disconnect();\n",
       "        }}\n",
       "}});\n",
       "\n",
       "// Listen for the removal of the full notebook cells\n",
       "var notebookContainer = gd.closest('#notebook-container');\n",
       "if (notebookContainer) {{\n",
       "    x.observe(notebookContainer, {childList: true});\n",
       "}}\n",
       "\n",
       "// Listen for the clearing of the current output cell\n",
       "var outputEl = gd.closest('.output');\n",
       "if (outputEl) {{\n",
       "    x.observe(outputEl, {childList: true});\n",
       "}}\n",
       "\n",
       "                        })\n",
       "                };\n",
       "                });\n",
       "            </script>\n",
       "        </div>"
      ]
     },
     "metadata": {},
     "output_type": "display_data"
    },
    {
     "data": {
      "text/plain": [
       "{'coef': array([38.266, -9.409, -3.362, -1.863, -0.309,  1.736]),\n",
       " 'train_MSE': 7.658409955501454,\n",
       " 'test_MSE': 8.343885796510566,\n",
       " 'Resid': 166   -3.709\n",
       " 347    7.255\n",
       " 222   -5.760\n",
       " 321    2.428\n",
       " 287    5.853\n",
       "        ...  \n",
       " 71    -0.009\n",
       " 355   -0.391\n",
       " 98    -0.683\n",
       " 338   -7.060\n",
       " 329    3.742\n",
       " Name: price, Length: 289, dtype: float64}"
      ]
     },
     "execution_count": 40,
     "metadata": {},
     "output_type": "execute_result"
    }
   ],
   "source": [
    "PRmodel = Poly_Reg(X_train_sc, Y_train, X_test_sc, Y_test, 2, fig=True)\n",
    "PRmodel"
   ]
  },
  {
   "cell_type": "code",
   "execution_count": 41,
   "metadata": {},
   "outputs": [
    {
     "data": {
      "application/vnd.plotly.v1+json": {
       "config": {
        "plotlyServerURL": "https://plot.ly"
       },
       "data": [
        {
         "hovertemplate": "x=%{x}<br>y=%{y}<br>z=%{z}<extra></extra>",
         "legendgroup": "",
         "marker": {
          "color": "#636efa",
          "line": {
           "color": "DarkSlateGrey",
           "width": 0.1
          },
          "size": 3,
          "symbol": "circle"
         },
         "mode": "markers",
         "name": "",
         "scene": "scene",
         "showlegend": false,
         "type": "scatter3d",
         "x": [
          -0.10509105088548103,
          -0.6282232321963354,
          -1.145879552736293,
          -0.009627038361799218,
          -0.1170746687403,
          -1.6634728552943319,
          -0.2718155944612978,
          -0.5245148312840432,
          -0.9493506494463575,
          -0.0812779422224723,
          1.342165614722867,
          1.181123625074418,
          -0.6282232321963354,
          -0.15668639310551655,
          -0.15753038808718828,
          1.8491500850136156,
          1.7375966150126128,
          -1.5328167687530416,
          0.6018612799651232,
          -0.4867556563921464,
          0.2989552569988306,
          1.7375966150126128,
          -0.21167868229153047,
          -0.6767770602002245,
          1.1769743275129114,
          -0.3769506026176209,
          -0.36653614287004244,
          -0.5408051735723673,
          0.04823417535274727,
          0.6114654587505723,
          0.058191216940877435,
          -0.6601233418261161,
          -0.9211041258495234,
          0.04798294094256138,
          -0.15325165197646687,
          -0.3345887822022208,
          -0.174457321486064,
          -0.38567563082811374,
          -1.1152935044087724,
          0.7564902330622771,
          -0.6870187038443162,
          0.962881366053007,
          0.012600982900747494,
          0.7918000385424316,
          0.7564902330622771,
          1.1655118829555848,
          -1.0200172387196074,
          -0.6282232321963354,
          -0.03470647855129827,
          -0.15325165197646687,
          0.8791759827067795,
          1.2175750214492855,
          0.6176836821780706,
          -0.4559636605687179,
          0.8368751263942998,
          0.7836475105794817,
          -0.4021540697963025,
          0.04798294094256138,
          -0.8856793375049233,
          0.20283971504696718,
          0.7564902330622771,
          -0.361823290537757,
          -1.5328167687530416,
          1.7409894308973588,
          0.9652635485256759,
          -0.36011309284180687,
          -0.6282232321963354,
          -0.9868271682135367,
          0.6176836821780706,
          0.48929516399697404,
          -0.6601233418261161,
          -1.1019448560122218,
          -0.17063207314713708,
          -0.40331963317706476,
          -0.7299021628218593,
          -0.15325165197646687,
          -0.5423229581479878,
          -0.3897526691551592,
          -0.3898345271635649,
          -1.6634728552943319,
          0.18488082499337224,
          -0.405457635593877,
          -1.6949239054826735,
          -0.24520659031999248,
          -0.15325165197646687,
          -0.009627038361799218,
          1.8338335405589046,
          -0.03470647855129827,
          -0.3755945353435627,
          -0.7564140490109209,
          -1.0735917451243329,
          -0.633555671044913,
          -0.11261215230714575,
          -0.007699115142708187,
          -0.21167868229153047,
          1.7409894308973588,
          1.2081024167767298,
          1.4881025486253077,
          -1.0251964572421894,
          -0.026702637798300174,
          -1.6634728552943319,
          1.1773231013167238,
          0.02513654221776108,
          -0.3769506026176209,
          0.22683547657189254,
          -1.0251964572421894,
          -0.36011309284180687,
          -0.6282232321963354,
          -0.24587406358051883,
          0.7836475105794817,
          -1.0033065661309728,
          -0.4559636605687179,
          1.2684968511316697,
          0.11597607261041397,
          1.7659539607655095,
          -0.7248174154039074,
          -0.4944724017734069,
          -0.6282232321963354,
          1.0102617622271841,
          -1.0251964572421894,
          -2.848243818619885,
          0.23225363297624624,
          -0.6282232321963354,
          -0.5107823895977451,
          -1.6634728552943319,
          -0.36011309284180687,
          0.08106957077703972,
          0.8352055948798368,
          1.2684968511316697,
          1.7375966150126128,
          0.20900198325876135,
          -0.6282232321963354,
          1.2118711583184025,
          1.0744226773036476,
          -1.170055907983187,
          1.1769743275129114,
          -0.9341393158975774,
          -0.17063207314713708,
          0.8136142296776243,
          -0.3755945353435627,
          -0.159924171472808,
          -0.3059828290061807,
          0.9865065016263022,
          1.7409894308973588,
          -0.35582619596643245,
          -1.3640947113369106,
          1.3623163594173462,
          -0.17063207314713708,
          -0.9211041258495234,
          0.6913601190623542,
          -1.6634728552943319,
          -0.3755945353435627,
          -1.0153825843862287,
          0.5290587991955642,
          1.181123625074418,
          -1.4903425832441464,
          0.24640073318661818,
          -1.6634728552943319,
          -1.3346519199571767,
          0.32254864135119204,
          -0.6169560894860007,
          -1.6634728552943319,
          0.6135352744933427,
          -0.19045690931786022,
          -0.528060296331629,
          -0.5107823895977451,
          2.156182049390334,
          -0.03470647855129827,
          1.1791195847729279,
          0.4280145542070749,
          -1.3998999561983014,
          -0.5279603718053042,
          -0.38567563082811374,
          -1.098796642289797,
          1.6722580654627728,
          -0.7064400282739515,
          0.6124023777151009,
          1.7375966150126128,
          0.603341175295589,
          -0.15325165197646687,
          0.9259760469560573,
          -0.49036470017382666,
          2.010103531440905,
          -0.5764377828155464,
          1.7409894308973588,
          0.7564902330622771,
          -0.6169560894860007,
          1.1655118829555848,
          1.7375966150126128,
          -0.3936867475850744,
          -0.6282232321963354,
          -0.412984344869984,
          0.28653697117302235,
          -1.6634728552943319,
          -0.21167868229153047,
          0.4772565061699781,
          1.8303978174071458,
          1.739390285375291,
          0.7836475105794817,
          -0.07784573973486725,
          1.752820036645625,
          -0.23100398817428675,
          0.22362365676031257,
          -1.0251964572421894,
          -1.5328167687530416,
          1.0849260818778013,
          -1.1019448560122218,
          -2.1928652986024275,
          -0.4003101729676342,
          1.2907725181724845,
          -1.1777795224539271,
          -0.15947286001460517,
          -1.1019448560122218,
          1.1470426377262997,
          -0.21035464757097005,
          1.1465621580002336,
          0.8791759827067795,
          0.9652635485256759,
          0.7918000385424316,
          1.7659539607655095,
          -0.6688781577975189,
          1.7409894308973588,
          -0.6169560894860007,
          1.0082151733842883,
          1.1358306121501442,
          -0.6169560894860007,
          -0.230215421696455,
          1.8107973692865564,
          0.6913601190623542,
          0.9990379151798078,
          0.8173599514658493,
          0.9990379151798078,
          0.08244971403970254,
          -0.6282232321963354,
          -0.230215421696455,
          -1.2085636114510416,
          -2.079781821023766,
          1.8429088683539232,
          -1.3952697280065833,
          1.7409894308973588,
          1.7375966150126128,
          -0.37594273625890356,
          1.0922184419021703,
          0.8927922718356031,
          0.611182875609448,
          1.2223384492771148,
          0.17184470140393104,
          0.962881366053007,
          -0.12837430531947483,
          1.8303978174071458,
          -1.2514319177173807,
          -0.6169560894860007,
          -0.1170746687403,
          -1.5328167687530416,
          1.2907725181724845,
          -0.3769506026176209,
          -1.3852926624021906,
          0.04949421915307169,
          -2.079781821023766,
          -2.079781821023766,
          1.1655118829555848,
          -0.9729670011192849,
          0.08536627405722089,
          0.7564902330622771,
          1.193938532227374,
          -0.5016410946210005,
          -0.03263797616456393,
          -1.740900728223665,
          -0.9706272349446432,
          -0.9868271682135367,
          -0.4867556563921464,
          0.44893553519541063,
          0.786462632907458,
          0.4513917223913144,
          -1.6634728552943319,
          -0.20564532400964552,
          0.20283971504696718,
          0.049886850285771674,
          -0.03470647855129827,
          -0.2851848492267584,
          0.962881366053007,
          0.9164341540242655,
          -0.9081153278206731,
          -0.9868271682135367,
          1.2223384492771148,
          -0.6767770602002245,
          0.8067038638401516,
          -2.848243818619885,
          -0.9393505951055021
         ],
         "y": [
          1.6260209338245577,
          -0.0912108795170651,
          1.1727414704044337,
          -1.2505602763416122,
          0.37078549666113797,
          -1.0064867191153917,
          1.146590732130196,
          1.4865503296952887,
          -0.5096226919048715,
          -1.2941448401320086,
          -0.29169987295288896,
          0.2661825435641864,
          -0.3091336984690475,
          1.7654915379538267,
          -1.2418433635835329,
          0.5887083156131205,
          -0.12607853054938217,
          -0.8147146384376471,
          -0.37886900053368194,
          -1.5207845718420705,
          -0.15222926882362015,
          -0.04762631572666858,
          0.15286267770915543,
          -1.5207845718420705,
          -0.8582992022280436,
          -0.21324765813017518,
          -1.1110896722123433,
          -0.33528443674328545,
          1.556285631759923,
          1.2686275107433063,
          1.4865503296952887,
          -0.6578102087922196,
          -1.5207845718420705,
          1.608587108308399,
          -0.33528443674328545,
          2.079300397244681,
          1.9311128803573332,
          -0.9018837660184401,
          2.044432746212364,
          -0.4573212153563957,
          1.408098114872575,
          -0.3701520877756027,
          1.2163260341948303,
          0.04825972461220387,
          -0.4573212153563957,
          -1.1721080615188983,
          1.72190697416343,
          -0.13479544330746143,
          -0.37886900053368194,
          -0.38758591329176123,
          -1.102372759454264,
          -1.128523497728502,
          -0.3701520877756027,
          0.06569355012836241,
          1.033270866275165,
          -0.727545510856854,
          0.9199510004201341,
          0.15286267770915543,
          1.8352268400184608,
          -0.38758591329176123,
          -0.5183396046629508,
          -0.0912108795170651,
          -0.8408653767118849,
          -0.33528443674328545,
          -0.23939839640441316,
          -1.0849389339381055,
          -0.1609461815816994,
          -1.4248985315031981,
          -0.37886900053368194,
          0.13542885219299688,
          -0.6055087322437438,
          -0.4137366515659992,
          0.8153480473231826,
          -1.3551632294385638,
          1.2250429469529096,
          -0.38758591329176123,
          1.5650025445180022,
          1.3383628128079403,
          1.1640245576463546,
          -0.9803359808411538,
          1.1030061683397996,
          1.408098114872575,
          1.3470797255660198,
          -0.012758664694351184,
          -0.36143517501752326,
          -1.1982587997931364,
          0.571274490096962,
          -0.36143517501752326,
          -1.2505602763416122,
          -0.36143517501752326,
          1.5127010679695263,
          0.2487487180480279,
          0.885083349387817,
          1.5911532827922406,
          -0.19581383261401666,
          -0.32656752398520617,
          -0.6142256450018231,
          -0.7449793363730126,
          -1.5207845718420705,
          1.5214179807276058,
          -1.0239205446315505,
          -0.02147557745243061,
          1.207609121436751,
          -0.4224535643240785,
          -0.1609461815816994,
          -1.5207845718420705,
          -1.050071282905788,
          -0.07377705400090624,
          2.2013371758577915,
          -0.7362624236149333,
          1.5127010679695263,
          0.0221089863379659,
          -1.067505108421947,
          1.8352268400184608,
          -0.33528443674328545,
          -1.1198065849704226,
          -0.36143517501752326,
          -0.10864470503322363,
          0.013392073579886784,
          -1.5207845718420705,
          -1.390030880470881,
          -1.215692625309295,
          -0.29169987295288896,
          -1.4248985315031981,
          -1.0064867191153917,
          -0.52705651742103,
          -0.8670161149861229,
          -0.038909402968589156,
          -1.0326374573896295,
          -0.04762631572666858,
          0.27489945632226587,
          -0.11736161779130275,
          -0.012758664694351184,
          -0.9803359808411538,
          1.4429657659048922,
          -0.9018837660184401,
          -0.17838000709785795,
          0.797914221807024,
          -0.4050197388079198,
          -1.189541887035057,
          1.7829253634699849,
          1.2250429469529096,
          1.207609121436751,
          -0.31785061122712677,
          1.3296459000498615,
          1.4778334169372094,
          0.08312737564452095,
          1.5039841552114477,
          -1.5207845718420705,
          1.1204399938559582,
          -0.9629021553249951,
          -1.189541887035057,
          -0.4137366515659992,
          0.37078549666113797,
          0.24003180528994847,
          1.294778249017544,
          1.0594216045494032,
          -0.9716190680830744,
          0.484105362516169,
          0.013392073579886784,
          -1.5207845718420705,
          -1.0326374573896295,
          1.2424767724690682,
          1.1117230810978787,
          -0.08249396675898567,
          -1.3725970549547224,
          -0.004041751936272068,
          -0.4311704770821578,
          -1.1721080615188983,
          -0.6490932960341403,
          1.3732304638402582,
          -0.07377705400090624,
          -0.9280345042926779,
          1.5998701955503194,
          -0.0912108795170651,
          1.3034951617756232,
          0.37078549666113797,
          -0.056343228484747696,
          1.2599105979852268,
          -0.3963028260498405,
          -0.0912108795170651,
          0.858932611113579,
          1.2424767724690682,
          0.1790134159833934,
          -0.038909402968589156,
          -0.48347195363063356,
          -1.5207845718420705,
          -1.163391148760819,
          -0.11736161779130275,
          -0.9541852425669158,
          -0.0912108795170651,
          -0.04762631572666858,
          1.8439437527765403,
          -0.9454683298088367,
          0.1441457649510763,
          -0.004041751936272068,
          1.1204399938559582,
          -0.10864470503322363,
          -0.727545510856854,
          1.0594216045494032,
          1.3209289872917822,
          -1.3377294039224052,
          -0.3701520877756027,
          -1.5207845718420705,
          -0.8147146384376471,
          -0.7885639001634092,
          -0.3701520877756027,
          -1.1808249742769776,
          0.04825972461220387,
          0.27489945632226587,
          -1.3028617528900879,
          1.6696054976149541,
          -0.4137366515659992,
          -0.10864470503322363,
          1.7916422762280644,
          -0.6578102087922196,
          -1.0762220211800262,
          -0.23939839640441316,
          0.04825972461220387,
          -0.33528443674328545,
          -0.6142256450018231,
          -0.06506014124282712,
          -1.5207845718420705,
          -0.2829829601948097,
          -1.3464463166804845,
          -1.5207845718420705,
          0.0221089863379659,
          0.8414987855974205,
          1.155307644888275,
          0.03082589909604533,
          -1.3464463166804845,
          0.03954281185412444,
          0.20516415425763138,
          -0.13479544330746143,
          0.06569355012836241,
          -0.3701520877756027,
          -1.2244095380673743,
          -0.3091336984690475,
          2.044432746212364,
          -0.08249396675898567,
          -0.0999277922751442,
          0.15286267770915543,
          1.3993812021144958,
          0.684594355951993,
          1.1814583831625132,
          -0.08249396675898567,
          0.46667153700001046,
          -0.439887389840237,
          1.0158370407590065,
          1.0419877790332441,
          1.146590732130196,
          -1.5207845718420705,
          0.3272009328707415,
          -0.7798469874053299,
          0.257465630806107,
          -0.20453074537209592,
          1.9746974441477299,
          0.9548186514524512,
          -1.163391148760819,
          -1.215692625309295,
          -1.1721080615188983,
          1.3819473765983368,
          1.817793014502302,
          -0.23939839640441316,
          -0.8234315511957263,
          1.9398297931154127,
          1.3993812021144958,
          0.07441046288644183,
          0.9722524769686101,
          -1.4248985315031981,
          -1.5207845718420705,
          -0.04762631572666858,
          -0.7449793363730126,
          -0.030192490210509727,
          -0.9454683298088367,
          1.1291569066140372,
          -0.4050197388079198,
          1.9485467058734915,
          -0.36143517501752326,
          1.8962452293250163,
          -0.5619241684533473,
          0.22259797977378992,
          -0.6229425577599024,
          -1.4336154442612774,
          -0.10864470503322363,
          -1.5207845718420705,
          1.2773444235013856,
          -1.390030880470881,
          1.3383628128079403
         ],
         "z": [
          -3.7091843566650837,
          7.254887796297389,
          -5.760370412159084,
          2.4276852123396395,
          5.852717044455012,
          2.9107833876090723,
          9.291207506090565,
          4.233203944393033,
          8.365403723524551,
          8.755330414053702,
          -1.731793120580985,
          1.9144291285437944,
          -0.0870656146070985,
          -2.254253912938225,
          -3.2941892965673887,
          0.6149420189246015,
          -5.212710362189084,
          -0.21793597475240745,
          3.1780881407608703,
          -0.5042929419227136,
          2.247183241822846,
          4.216789639434648,
          -6.81070170412616,
          -9.091185956122928,
          -1.3882529260365999,
          -7.919106416523967,
          -2.4176636346199842,
          3.323924589444495,
          5.543809788394292,
          -17.305242365897595,
          3.776864064353852,
          10.905748784853827,
          -10.04818884153854,
          -0.0694262824788936,
          -0.8707789443080358,
          -6.833863387962445,
          -1.1349858686079912,
          3.8452075822848,
          -6.527438769523158,
          -5.489865352630261,
          0.043474855237008114,
          1.7280810840902383,
          -2.520784728642411,
          -2.87831881350278,
          -1.989865352630261,
          -3.1171130635795876,
          32.47585388011202,
          -1.8003127233722438,
          5.790707070775888,
          -1.909793991557592,
          -12.96941830377487,
          -1.1780089666608546,
          1.0033543321064684,
          1.1353775537134823,
          -0.19977577117831657,
          9.0099922801569,
          0.5614908108003505,
          2.265468738372938,
          -4.315340716633791,
          1.1308976004492237,
          -6.212618300840749,
          -1.1373772206482613,
          -4.968653695505843,
          -1.8422887739160796,
          -5.424284881475934,
          -3.8834131185977725,
          2.1034013258232704,
          -5.018642336463287,
          -1.1389504961694215,
          -10.4723978989805,
          5.385652433559315,
          -10.619796298106408,
          -2.7725831453632566,
          -8.83361865299456,
          -6.603018939870992,
          -0.7097939915575893,
          35.927955941278476,
          -1.820305733605018,
          -3.4289107684190867,
          4.7754837704367645,
          20.49692649452772,
          1.2419929106025123,
          -1.0872169580346238,
          3.396717759317788,
          -9.7890993533068,
          -3.2742831052555132,
          1.3296005821481458,
          7.271543968545785,
          7.888168296417831,
          -3.6748798352050613,
          -4.707215640639127,
          3.9010601537008185,
          -0.31649043837953883,
          13.113119336098059,
          -6.28631715202318,
          -2.29828204729297,
          0.1702015268276682,
          -1.9504167718760534,
          0.5986275411604254,
          -8.930907138612127,
          -0.0003358838605151959,
          3.012151619606179,
          -5.589954450446115,
          -0.7290719290059755,
          0.8667227259034291,
          -2.4013724588395746,
          2.759177243193399,
          15.91512138141367,
          -6.3439206772128145,
          5.156425190849852,
          -0.885014006905692,
          -4.69839696824355,
          -7.019171743442762,
          -2.5599031447148235,
          -4.346914280957993,
          3.901355395577241,
          -1.4498462382818715,
          11.193598998180214,
          4.2892960536006335,
          -16.70137245883958,
          -9.060362188249883,
          -6.02052484630137,
          8.78635813302045,
          1.1231623891867386,
          -0.689216612390922,
          3.1915304296285285,
          -0.9328030087264452,
          1.4481172403674023,
          -4.361172475769408,
          1.8167896394346492,
          10.99271457338272,
          7.862558894246284,
          5.323809121315129,
          0.0036747562942736067,
          -6.908223794366769,
          2.7161994673241843,
          9.066678219199517,
          -0.7814620741246756,
          -9.726119650912143,
          12.844725887186684,
          -5.134199380192612,
          -7.072178782607786,
          -4.57495052856785,
          -2.0545391239200885,
          -9.622187063033415,
          1.1214030842360643,
          4.011062609635307,
          2.3340960416174497,
          -8.348188841538537,
          -9.943695833343767,
          6.3839650094041005,
          7.144725887186681,
          -18.957784171285446,
          -8.598223799747661,
          -0.960049644063325,
          0.6969367167036324,
          -9.14014796210229,
          4.929856291545541,
          -9.283915196163285,
          -11.991345614316423,
          21.399435627712222,
          -3.556291224470641,
          -16.259122495107253,
          -1.9630822196106266,
          6.309274098103174,
          0.14476389648719135,
          1.8643177266418238,
          1.6418650994607873,
          -2.7345749273804714,
          6.602755699005691,
          -0.9363121191741541,
          8.04026970182057,
          8.27732071815523,
          2.538424705006875,
          27.4084718875272,
          -2.633831956590832,
          -6.927331335605068,
          1.6812337411440303,
          -14.095915958662157,
          1.249446855858352,
          -3.6037822170740164,
          -4.454369132973518,
          9.241032227794468,
          -0.3561716246024318,
          2.405946307893249,
          -3.8266052252191187,
          11.099435627712225,
          -0.1493288610326715,
          -3.8750440378966555,
          -5.454327387969954,
          9.254887796297389,
          0.3080339340295666,
          27.94371918228977,
          5.991391035370533,
          -5.734947926944194,
          -7.865525132762244,
          10.017145272235059,
          -2.0092090179035615,
          9.909992280156906,
          0.10131336817645575,
          10.775524200507759,
          -2.3491029211865566,
          0.22322716224556416,
          0.6986275411604197,
          0.6820640252475911,
          -6.360567289672257,
          -18.42875717402951,
          1.2666133320189559,
          -2.081644068068684,
          -0.3154644350522098,
          -16.717583055799757,
          -0.9262703549745055,
          -15.019796298106407,
          0.1527192086068503,
          -4.126991769379295,
          -5.125267827884201,
          -5.575498519760352,
          2.075715118524066,
          -2.9783188135027814,
          1.8530857190420065,
          -12.719379743583097,
          0.19925124004554817,
          17.49943562771223,
          -3.265079713533215,
          0.07763966221337881,
          18.799435627712228,
          -13.761371465986919,
          4.349273690724411,
          -10.75676342151317,
          -3.1957042507526587,
          -11.745100614107443,
          -4.764772596430397,
          0.6444412311651391,
          9.099687276627755,
          -8.524561411846712,
          -0.16088722443254255,
          -1.3111227936588463,
          3.218515209319733,
          18.670972544519856,
          -3.773197821437382,
          3.799497200937523,
          7.015818850256068,
          -0.49006675501286523,
          3.8956497790327376,
          -11.047449754934998,
          -1.1025953154905928,
          1.2217148346866367,
          1.874829225057141,
          2.4409834795864924,
          0.6035458516389554,
          7.307097511202272,
          17.899435627712222,
          4.0605512077149655,
          5.179327740749002,
          1.6350847004413076,
          1.415511272534978,
          -4.39867943536575,
          -1.553245701501325,
          6.807813343064062,
          -2.1504833643763206,
          -0.8171130635795869,
          -5.3404614334214955,
          -5.525240203673178,
          -6.442697551968589,
          -4.726344625202653,
          -10.426896897693602,
          9.320764108696459,
          -2.1999556211246087,
          -1.8065104199649369,
          -4.618642336463289,
          -6.404292941922712,
          3.862692388723019,
          14.636667014097839,
          6.253287342226464,
          5.091391035370535,
          -2.410293276200008,
          2.647200213647949,
          1.7988984595725128,
          14.771543968545785,
          -10.830480024324302,
          -1.283987228785449,
          2.046266774638841,
          -2.5678373908229872,
          -2.9885523349190564,
          -0.00906299613484407,
          -0.39118595612292495,
          -0.683194338997378,
          -7.060362188249883,
          3.742317552345064
         ]
        }
       ],
       "layout": {
        "legend": {
         "tracegroupgap": 0
        },
        "margin": {
         "t": 60
        },
        "scene": {
         "domain": {
          "x": [
           0,
           1
          ],
          "y": [
           0,
           1
          ]
         },
         "xaxis": {
          "title": {
           "text": "x"
          }
         },
         "yaxis": {
          "title": {
           "text": "y"
          }
         },
         "zaxis": {
          "title": {
           "text": "z"
          }
         }
        },
        "template": {
         "data": {
          "bar": [
           {
            "error_x": {
             "color": "#2a3f5f"
            },
            "error_y": {
             "color": "#2a3f5f"
            },
            "marker": {
             "line": {
              "color": "#E5ECF6",
              "width": 0.5
             }
            },
            "type": "bar"
           }
          ],
          "barpolar": [
           {
            "marker": {
             "line": {
              "color": "#E5ECF6",
              "width": 0.5
             }
            },
            "type": "barpolar"
           }
          ],
          "carpet": [
           {
            "aaxis": {
             "endlinecolor": "#2a3f5f",
             "gridcolor": "white",
             "linecolor": "white",
             "minorgridcolor": "white",
             "startlinecolor": "#2a3f5f"
            },
            "baxis": {
             "endlinecolor": "#2a3f5f",
             "gridcolor": "white",
             "linecolor": "white",
             "minorgridcolor": "white",
             "startlinecolor": "#2a3f5f"
            },
            "type": "carpet"
           }
          ],
          "choropleth": [
           {
            "colorbar": {
             "outlinewidth": 0,
             "ticks": ""
            },
            "type": "choropleth"
           }
          ],
          "contour": [
           {
            "colorbar": {
             "outlinewidth": 0,
             "ticks": ""
            },
            "colorscale": [
             [
              0,
              "#0d0887"
             ],
             [
              0.1111111111111111,
              "#46039f"
             ],
             [
              0.2222222222222222,
              "#7201a8"
             ],
             [
              0.3333333333333333,
              "#9c179e"
             ],
             [
              0.4444444444444444,
              "#bd3786"
             ],
             [
              0.5555555555555556,
              "#d8576b"
             ],
             [
              0.6666666666666666,
              "#ed7953"
             ],
             [
              0.7777777777777778,
              "#fb9f3a"
             ],
             [
              0.8888888888888888,
              "#fdca26"
             ],
             [
              1,
              "#f0f921"
             ]
            ],
            "type": "contour"
           }
          ],
          "contourcarpet": [
           {
            "colorbar": {
             "outlinewidth": 0,
             "ticks": ""
            },
            "type": "contourcarpet"
           }
          ],
          "heatmap": [
           {
            "colorbar": {
             "outlinewidth": 0,
             "ticks": ""
            },
            "colorscale": [
             [
              0,
              "#0d0887"
             ],
             [
              0.1111111111111111,
              "#46039f"
             ],
             [
              0.2222222222222222,
              "#7201a8"
             ],
             [
              0.3333333333333333,
              "#9c179e"
             ],
             [
              0.4444444444444444,
              "#bd3786"
             ],
             [
              0.5555555555555556,
              "#d8576b"
             ],
             [
              0.6666666666666666,
              "#ed7953"
             ],
             [
              0.7777777777777778,
              "#fb9f3a"
             ],
             [
              0.8888888888888888,
              "#fdca26"
             ],
             [
              1,
              "#f0f921"
             ]
            ],
            "type": "heatmap"
           }
          ],
          "heatmapgl": [
           {
            "colorbar": {
             "outlinewidth": 0,
             "ticks": ""
            },
            "colorscale": [
             [
              0,
              "#0d0887"
             ],
             [
              0.1111111111111111,
              "#46039f"
             ],
             [
              0.2222222222222222,
              "#7201a8"
             ],
             [
              0.3333333333333333,
              "#9c179e"
             ],
             [
              0.4444444444444444,
              "#bd3786"
             ],
             [
              0.5555555555555556,
              "#d8576b"
             ],
             [
              0.6666666666666666,
              "#ed7953"
             ],
             [
              0.7777777777777778,
              "#fb9f3a"
             ],
             [
              0.8888888888888888,
              "#fdca26"
             ],
             [
              1,
              "#f0f921"
             ]
            ],
            "type": "heatmapgl"
           }
          ],
          "histogram": [
           {
            "marker": {
             "colorbar": {
              "outlinewidth": 0,
              "ticks": ""
             }
            },
            "type": "histogram"
           }
          ],
          "histogram2d": [
           {
            "colorbar": {
             "outlinewidth": 0,
             "ticks": ""
            },
            "colorscale": [
             [
              0,
              "#0d0887"
             ],
             [
              0.1111111111111111,
              "#46039f"
             ],
             [
              0.2222222222222222,
              "#7201a8"
             ],
             [
              0.3333333333333333,
              "#9c179e"
             ],
             [
              0.4444444444444444,
              "#bd3786"
             ],
             [
              0.5555555555555556,
              "#d8576b"
             ],
             [
              0.6666666666666666,
              "#ed7953"
             ],
             [
              0.7777777777777778,
              "#fb9f3a"
             ],
             [
              0.8888888888888888,
              "#fdca26"
             ],
             [
              1,
              "#f0f921"
             ]
            ],
            "type": "histogram2d"
           }
          ],
          "histogram2dcontour": [
           {
            "colorbar": {
             "outlinewidth": 0,
             "ticks": ""
            },
            "colorscale": [
             [
              0,
              "#0d0887"
             ],
             [
              0.1111111111111111,
              "#46039f"
             ],
             [
              0.2222222222222222,
              "#7201a8"
             ],
             [
              0.3333333333333333,
              "#9c179e"
             ],
             [
              0.4444444444444444,
              "#bd3786"
             ],
             [
              0.5555555555555556,
              "#d8576b"
             ],
             [
              0.6666666666666666,
              "#ed7953"
             ],
             [
              0.7777777777777778,
              "#fb9f3a"
             ],
             [
              0.8888888888888888,
              "#fdca26"
             ],
             [
              1,
              "#f0f921"
             ]
            ],
            "type": "histogram2dcontour"
           }
          ],
          "mesh3d": [
           {
            "colorbar": {
             "outlinewidth": 0,
             "ticks": ""
            },
            "type": "mesh3d"
           }
          ],
          "parcoords": [
           {
            "line": {
             "colorbar": {
              "outlinewidth": 0,
              "ticks": ""
             }
            },
            "type": "parcoords"
           }
          ],
          "pie": [
           {
            "automargin": true,
            "type": "pie"
           }
          ],
          "scatter": [
           {
            "marker": {
             "colorbar": {
              "outlinewidth": 0,
              "ticks": ""
             }
            },
            "type": "scatter"
           }
          ],
          "scatter3d": [
           {
            "line": {
             "colorbar": {
              "outlinewidth": 0,
              "ticks": ""
             }
            },
            "marker": {
             "colorbar": {
              "outlinewidth": 0,
              "ticks": ""
             }
            },
            "type": "scatter3d"
           }
          ],
          "scattercarpet": [
           {
            "marker": {
             "colorbar": {
              "outlinewidth": 0,
              "ticks": ""
             }
            },
            "type": "scattercarpet"
           }
          ],
          "scattergeo": [
           {
            "marker": {
             "colorbar": {
              "outlinewidth": 0,
              "ticks": ""
             }
            },
            "type": "scattergeo"
           }
          ],
          "scattergl": [
           {
            "marker": {
             "colorbar": {
              "outlinewidth": 0,
              "ticks": ""
             }
            },
            "type": "scattergl"
           }
          ],
          "scattermapbox": [
           {
            "marker": {
             "colorbar": {
              "outlinewidth": 0,
              "ticks": ""
             }
            },
            "type": "scattermapbox"
           }
          ],
          "scatterpolar": [
           {
            "marker": {
             "colorbar": {
              "outlinewidth": 0,
              "ticks": ""
             }
            },
            "type": "scatterpolar"
           }
          ],
          "scatterpolargl": [
           {
            "marker": {
             "colorbar": {
              "outlinewidth": 0,
              "ticks": ""
             }
            },
            "type": "scatterpolargl"
           }
          ],
          "scatterternary": [
           {
            "marker": {
             "colorbar": {
              "outlinewidth": 0,
              "ticks": ""
             }
            },
            "type": "scatterternary"
           }
          ],
          "surface": [
           {
            "colorbar": {
             "outlinewidth": 0,
             "ticks": ""
            },
            "colorscale": [
             [
              0,
              "#0d0887"
             ],
             [
              0.1111111111111111,
              "#46039f"
             ],
             [
              0.2222222222222222,
              "#7201a8"
             ],
             [
              0.3333333333333333,
              "#9c179e"
             ],
             [
              0.4444444444444444,
              "#bd3786"
             ],
             [
              0.5555555555555556,
              "#d8576b"
             ],
             [
              0.6666666666666666,
              "#ed7953"
             ],
             [
              0.7777777777777778,
              "#fb9f3a"
             ],
             [
              0.8888888888888888,
              "#fdca26"
             ],
             [
              1,
              "#f0f921"
             ]
            ],
            "type": "surface"
           }
          ],
          "table": [
           {
            "cells": {
             "fill": {
              "color": "#EBF0F8"
             },
             "line": {
              "color": "white"
             }
            },
            "header": {
             "fill": {
              "color": "#C8D4E3"
             },
             "line": {
              "color": "white"
             }
            },
            "type": "table"
           }
          ]
         },
         "layout": {
          "annotationdefaults": {
           "arrowcolor": "#2a3f5f",
           "arrowhead": 0,
           "arrowwidth": 1
          },
          "coloraxis": {
           "colorbar": {
            "outlinewidth": 0,
            "ticks": ""
           }
          },
          "colorscale": {
           "diverging": [
            [
             0,
             "#8e0152"
            ],
            [
             0.1,
             "#c51b7d"
            ],
            [
             0.2,
             "#de77ae"
            ],
            [
             0.3,
             "#f1b6da"
            ],
            [
             0.4,
             "#fde0ef"
            ],
            [
             0.5,
             "#f7f7f7"
            ],
            [
             0.6,
             "#e6f5d0"
            ],
            [
             0.7,
             "#b8e186"
            ],
            [
             0.8,
             "#7fbc41"
            ],
            [
             0.9,
             "#4d9221"
            ],
            [
             1,
             "#276419"
            ]
           ],
           "sequential": [
            [
             0,
             "#0d0887"
            ],
            [
             0.1111111111111111,
             "#46039f"
            ],
            [
             0.2222222222222222,
             "#7201a8"
            ],
            [
             0.3333333333333333,
             "#9c179e"
            ],
            [
             0.4444444444444444,
             "#bd3786"
            ],
            [
             0.5555555555555556,
             "#d8576b"
            ],
            [
             0.6666666666666666,
             "#ed7953"
            ],
            [
             0.7777777777777778,
             "#fb9f3a"
            ],
            [
             0.8888888888888888,
             "#fdca26"
            ],
            [
             1,
             "#f0f921"
            ]
           ],
           "sequentialminus": [
            [
             0,
             "#0d0887"
            ],
            [
             0.1111111111111111,
             "#46039f"
            ],
            [
             0.2222222222222222,
             "#7201a8"
            ],
            [
             0.3333333333333333,
             "#9c179e"
            ],
            [
             0.4444444444444444,
             "#bd3786"
            ],
            [
             0.5555555555555556,
             "#d8576b"
            ],
            [
             0.6666666666666666,
             "#ed7953"
            ],
            [
             0.7777777777777778,
             "#fb9f3a"
            ],
            [
             0.8888888888888888,
             "#fdca26"
            ],
            [
             1,
             "#f0f921"
            ]
           ]
          },
          "colorway": [
           "#636efa",
           "#EF553B",
           "#00cc96",
           "#ab63fa",
           "#FFA15A",
           "#19d3f3",
           "#FF6692",
           "#B6E880",
           "#FF97FF",
           "#FECB52"
          ],
          "font": {
           "color": "#2a3f5f"
          },
          "geo": {
           "bgcolor": "white",
           "lakecolor": "white",
           "landcolor": "#E5ECF6",
           "showlakes": true,
           "showland": true,
           "subunitcolor": "white"
          },
          "hoverlabel": {
           "align": "left"
          },
          "hovermode": "closest",
          "mapbox": {
           "style": "light"
          },
          "paper_bgcolor": "white",
          "plot_bgcolor": "#E5ECF6",
          "polar": {
           "angularaxis": {
            "gridcolor": "white",
            "linecolor": "white",
            "ticks": ""
           },
           "bgcolor": "#E5ECF6",
           "radialaxis": {
            "gridcolor": "white",
            "linecolor": "white",
            "ticks": ""
           }
          },
          "scene": {
           "xaxis": {
            "backgroundcolor": "#E5ECF6",
            "gridcolor": "white",
            "gridwidth": 2,
            "linecolor": "white",
            "showbackground": true,
            "ticks": "",
            "zerolinecolor": "white"
           },
           "yaxis": {
            "backgroundcolor": "#E5ECF6",
            "gridcolor": "white",
            "gridwidth": 2,
            "linecolor": "white",
            "showbackground": true,
            "ticks": "",
            "zerolinecolor": "white"
           },
           "zaxis": {
            "backgroundcolor": "#E5ECF6",
            "gridcolor": "white",
            "gridwidth": 2,
            "linecolor": "white",
            "showbackground": true,
            "ticks": "",
            "zerolinecolor": "white"
           }
          },
          "shapedefaults": {
           "line": {
            "color": "#2a3f5f"
           }
          },
          "ternary": {
           "aaxis": {
            "gridcolor": "white",
            "linecolor": "white",
            "ticks": ""
           },
           "baxis": {
            "gridcolor": "white",
            "linecolor": "white",
            "ticks": ""
           },
           "bgcolor": "#E5ECF6",
           "caxis": {
            "gridcolor": "white",
            "linecolor": "white",
            "ticks": ""
           }
          },
          "title": {
           "x": 0.05
          },
          "xaxis": {
           "automargin": true,
           "gridcolor": "white",
           "linecolor": "white",
           "ticks": "",
           "title": {
            "standoff": 15
           },
           "zerolinecolor": "white",
           "zerolinewidth": 2
          },
          "yaxis": {
           "automargin": true,
           "gridcolor": "white",
           "linecolor": "white",
           "ticks": "",
           "title": {
            "standoff": 15
           },
           "zerolinecolor": "white",
           "zerolinewidth": 2
          }
         }
        }
       }
      },
      "text/html": [
       "<div>\n",
       "        \n",
       "        \n",
       "            <div id=\"c95935d8-999e-4cdf-bfcc-1a9b3da6e354\" class=\"plotly-graph-div\" style=\"height:525px; width:100%;\"></div>\n",
       "            <script type=\"text/javascript\">\n",
       "                require([\"plotly\"], function(Plotly) {\n",
       "                    window.PLOTLYENV=window.PLOTLYENV || {};\n",
       "                    \n",
       "                if (document.getElementById(\"c95935d8-999e-4cdf-bfcc-1a9b3da6e354\")) {\n",
       "                    Plotly.newPlot(\n",
       "                        'c95935d8-999e-4cdf-bfcc-1a9b3da6e354',\n",
       "                        [{\"hovertemplate\": \"x=%{x}<br>y=%{y}<br>z=%{z}<extra></extra>\", \"legendgroup\": \"\", \"marker\": {\"color\": \"#636efa\", \"line\": {\"color\": \"DarkSlateGrey\", \"width\": 0.1}, \"size\": 3, \"symbol\": \"circle\"}, \"mode\": \"markers\", \"name\": \"\", \"scene\": \"scene\", \"showlegend\": false, \"type\": \"scatter3d\", \"x\": [-0.10509105088548103, -0.6282232321963354, -1.145879552736293, -0.009627038361799218, -0.1170746687403, -1.6634728552943319, -0.2718155944612978, -0.5245148312840432, -0.9493506494463575, -0.0812779422224723, 1.342165614722867, 1.181123625074418, -0.6282232321963354, -0.15668639310551655, -0.15753038808718828, 1.8491500850136156, 1.7375966150126128, -1.5328167687530416, 0.6018612799651232, -0.4867556563921464, 0.2989552569988306, 1.7375966150126128, -0.21167868229153047, -0.6767770602002245, 1.1769743275129114, -0.3769506026176209, -0.36653614287004244, -0.5408051735723673, 0.04823417535274727, 0.6114654587505723, 0.058191216940877435, -0.6601233418261161, -0.9211041258495234, 0.04798294094256138, -0.15325165197646687, -0.3345887822022208, -0.174457321486064, -0.38567563082811374, -1.1152935044087724, 0.7564902330622771, -0.6870187038443162, 0.962881366053007, 0.012600982900747494, 0.7918000385424316, 0.7564902330622771, 1.1655118829555848, -1.0200172387196074, -0.6282232321963354, -0.03470647855129827, -0.15325165197646687, 0.8791759827067795, 1.2175750214492855, 0.6176836821780706, -0.4559636605687179, 0.8368751263942998, 0.7836475105794817, -0.4021540697963025, 0.04798294094256138, -0.8856793375049233, 0.20283971504696718, 0.7564902330622771, -0.361823290537757, -1.5328167687530416, 1.7409894308973588, 0.9652635485256759, -0.36011309284180687, -0.6282232321963354, -0.9868271682135367, 0.6176836821780706, 0.48929516399697404, -0.6601233418261161, -1.1019448560122218, -0.17063207314713708, -0.40331963317706476, -0.7299021628218593, -0.15325165197646687, -0.5423229581479878, -0.3897526691551592, -0.3898345271635649, -1.6634728552943319, 0.18488082499337224, -0.405457635593877, -1.6949239054826735, -0.24520659031999248, -0.15325165197646687, -0.009627038361799218, 1.8338335405589046, -0.03470647855129827, -0.3755945353435627, -0.7564140490109209, -1.0735917451243329, -0.633555671044913, -0.11261215230714575, -0.007699115142708187, -0.21167868229153047, 1.7409894308973588, 1.2081024167767298, 1.4881025486253077, -1.0251964572421894, -0.026702637798300174, -1.6634728552943319, 1.1773231013167238, 0.02513654221776108, -0.3769506026176209, 0.22683547657189254, -1.0251964572421894, -0.36011309284180687, -0.6282232321963354, -0.24587406358051883, 0.7836475105794817, -1.0033065661309728, -0.4559636605687179, 1.2684968511316697, 0.11597607261041397, 1.7659539607655095, -0.7248174154039074, -0.4944724017734069, -0.6282232321963354, 1.0102617622271841, -1.0251964572421894, -2.848243818619885, 0.23225363297624624, -0.6282232321963354, -0.5107823895977451, -1.6634728552943319, -0.36011309284180687, 0.08106957077703972, 0.8352055948798368, 1.2684968511316697, 1.7375966150126128, 0.20900198325876135, -0.6282232321963354, 1.2118711583184025, 1.0744226773036476, -1.170055907983187, 1.1769743275129114, -0.9341393158975774, -0.17063207314713708, 0.8136142296776243, -0.3755945353435627, -0.159924171472808, -0.3059828290061807, 0.9865065016263022, 1.7409894308973588, -0.35582619596643245, -1.3640947113369106, 1.3623163594173462, -0.17063207314713708, -0.9211041258495234, 0.6913601190623542, -1.6634728552943319, -0.3755945353435627, -1.0153825843862287, 0.5290587991955642, 1.181123625074418, -1.4903425832441464, 0.24640073318661818, -1.6634728552943319, -1.3346519199571767, 0.32254864135119204, -0.6169560894860007, -1.6634728552943319, 0.6135352744933427, -0.19045690931786022, -0.528060296331629, -0.5107823895977451, 2.156182049390334, -0.03470647855129827, 1.1791195847729279, 0.4280145542070749, -1.3998999561983014, -0.5279603718053042, -0.38567563082811374, -1.098796642289797, 1.6722580654627728, -0.7064400282739515, 0.6124023777151009, 1.7375966150126128, 0.603341175295589, -0.15325165197646687, 0.9259760469560573, -0.49036470017382666, 2.010103531440905, -0.5764377828155464, 1.7409894308973588, 0.7564902330622771, -0.6169560894860007, 1.1655118829555848, 1.7375966150126128, -0.3936867475850744, -0.6282232321963354, -0.412984344869984, 0.28653697117302235, -1.6634728552943319, -0.21167868229153047, 0.4772565061699781, 1.8303978174071458, 1.739390285375291, 0.7836475105794817, -0.07784573973486725, 1.752820036645625, -0.23100398817428675, 0.22362365676031257, -1.0251964572421894, -1.5328167687530416, 1.0849260818778013, -1.1019448560122218, -2.1928652986024275, -0.4003101729676342, 1.2907725181724845, -1.1777795224539271, -0.15947286001460517, -1.1019448560122218, 1.1470426377262997, -0.21035464757097005, 1.1465621580002336, 0.8791759827067795, 0.9652635485256759, 0.7918000385424316, 1.7659539607655095, -0.6688781577975189, 1.7409894308973588, -0.6169560894860007, 1.0082151733842883, 1.1358306121501442, -0.6169560894860007, -0.230215421696455, 1.8107973692865564, 0.6913601190623542, 0.9990379151798078, 0.8173599514658493, 0.9990379151798078, 0.08244971403970254, -0.6282232321963354, -0.230215421696455, -1.2085636114510416, -2.079781821023766, 1.8429088683539232, -1.3952697280065833, 1.7409894308973588, 1.7375966150126128, -0.37594273625890356, 1.0922184419021703, 0.8927922718356031, 0.611182875609448, 1.2223384492771148, 0.17184470140393104, 0.962881366053007, -0.12837430531947483, 1.8303978174071458, -1.2514319177173807, -0.6169560894860007, -0.1170746687403, -1.5328167687530416, 1.2907725181724845, -0.3769506026176209, -1.3852926624021906, 0.04949421915307169, -2.079781821023766, -2.079781821023766, 1.1655118829555848, -0.9729670011192849, 0.08536627405722089, 0.7564902330622771, 1.193938532227374, -0.5016410946210005, -0.03263797616456393, -1.740900728223665, -0.9706272349446432, -0.9868271682135367, -0.4867556563921464, 0.44893553519541063, 0.786462632907458, 0.4513917223913144, -1.6634728552943319, -0.20564532400964552, 0.20283971504696718, 0.049886850285771674, -0.03470647855129827, -0.2851848492267584, 0.962881366053007, 0.9164341540242655, -0.9081153278206731, -0.9868271682135367, 1.2223384492771148, -0.6767770602002245, 0.8067038638401516, -2.848243818619885, -0.9393505951055021], \"y\": [1.6260209338245577, -0.0912108795170651, 1.1727414704044337, -1.2505602763416122, 0.37078549666113797, -1.0064867191153917, 1.146590732130196, 1.4865503296952887, -0.5096226919048715, -1.2941448401320086, -0.29169987295288896, 0.2661825435641864, -0.3091336984690475, 1.7654915379538267, -1.2418433635835329, 0.5887083156131205, -0.12607853054938217, -0.8147146384376471, -0.37886900053368194, -1.5207845718420705, -0.15222926882362015, -0.04762631572666858, 0.15286267770915543, -1.5207845718420705, -0.8582992022280436, -0.21324765813017518, -1.1110896722123433, -0.33528443674328545, 1.556285631759923, 1.2686275107433063, 1.4865503296952887, -0.6578102087922196, -1.5207845718420705, 1.608587108308399, -0.33528443674328545, 2.079300397244681, 1.9311128803573332, -0.9018837660184401, 2.044432746212364, -0.4573212153563957, 1.408098114872575, -0.3701520877756027, 1.2163260341948303, 0.04825972461220387, -0.4573212153563957, -1.1721080615188983, 1.72190697416343, -0.13479544330746143, -0.37886900053368194, -0.38758591329176123, -1.102372759454264, -1.128523497728502, -0.3701520877756027, 0.06569355012836241, 1.033270866275165, -0.727545510856854, 0.9199510004201341, 0.15286267770915543, 1.8352268400184608, -0.38758591329176123, -0.5183396046629508, -0.0912108795170651, -0.8408653767118849, -0.33528443674328545, -0.23939839640441316, -1.0849389339381055, -0.1609461815816994, -1.4248985315031981, -0.37886900053368194, 0.13542885219299688, -0.6055087322437438, -0.4137366515659992, 0.8153480473231826, -1.3551632294385638, 1.2250429469529096, -0.38758591329176123, 1.5650025445180022, 1.3383628128079403, 1.1640245576463546, -0.9803359808411538, 1.1030061683397996, 1.408098114872575, 1.3470797255660198, -0.012758664694351184, -0.36143517501752326, -1.1982587997931364, 0.571274490096962, -0.36143517501752326, -1.2505602763416122, -0.36143517501752326, 1.5127010679695263, 0.2487487180480279, 0.885083349387817, 1.5911532827922406, -0.19581383261401666, -0.32656752398520617, -0.6142256450018231, -0.7449793363730126, -1.5207845718420705, 1.5214179807276058, -1.0239205446315505, -0.02147557745243061, 1.207609121436751, -0.4224535643240785, -0.1609461815816994, -1.5207845718420705, -1.050071282905788, -0.07377705400090624, 2.2013371758577915, -0.7362624236149333, 1.5127010679695263, 0.0221089863379659, -1.067505108421947, 1.8352268400184608, -0.33528443674328545, -1.1198065849704226, -0.36143517501752326, -0.10864470503322363, 0.013392073579886784, -1.5207845718420705, -1.390030880470881, -1.215692625309295, -0.29169987295288896, -1.4248985315031981, -1.0064867191153917, -0.52705651742103, -0.8670161149861229, -0.038909402968589156, -1.0326374573896295, -0.04762631572666858, 0.27489945632226587, -0.11736161779130275, -0.012758664694351184, -0.9803359808411538, 1.4429657659048922, -0.9018837660184401, -0.17838000709785795, 0.797914221807024, -0.4050197388079198, -1.189541887035057, 1.7829253634699849, 1.2250429469529096, 1.207609121436751, -0.31785061122712677, 1.3296459000498615, 1.4778334169372094, 0.08312737564452095, 1.5039841552114477, -1.5207845718420705, 1.1204399938559582, -0.9629021553249951, -1.189541887035057, -0.4137366515659992, 0.37078549666113797, 0.24003180528994847, 1.294778249017544, 1.0594216045494032, -0.9716190680830744, 0.484105362516169, 0.013392073579886784, -1.5207845718420705, -1.0326374573896295, 1.2424767724690682, 1.1117230810978787, -0.08249396675898567, -1.3725970549547224, -0.004041751936272068, -0.4311704770821578, -1.1721080615188983, -0.6490932960341403, 1.3732304638402582, -0.07377705400090624, -0.9280345042926779, 1.5998701955503194, -0.0912108795170651, 1.3034951617756232, 0.37078549666113797, -0.056343228484747696, 1.2599105979852268, -0.3963028260498405, -0.0912108795170651, 0.858932611113579, 1.2424767724690682, 0.1790134159833934, -0.038909402968589156, -0.48347195363063356, -1.5207845718420705, -1.163391148760819, -0.11736161779130275, -0.9541852425669158, -0.0912108795170651, -0.04762631572666858, 1.8439437527765403, -0.9454683298088367, 0.1441457649510763, -0.004041751936272068, 1.1204399938559582, -0.10864470503322363, -0.727545510856854, 1.0594216045494032, 1.3209289872917822, -1.3377294039224052, -0.3701520877756027, -1.5207845718420705, -0.8147146384376471, -0.7885639001634092, -0.3701520877756027, -1.1808249742769776, 0.04825972461220387, 0.27489945632226587, -1.3028617528900879, 1.6696054976149541, -0.4137366515659992, -0.10864470503322363, 1.7916422762280644, -0.6578102087922196, -1.0762220211800262, -0.23939839640441316, 0.04825972461220387, -0.33528443674328545, -0.6142256450018231, -0.06506014124282712, -1.5207845718420705, -0.2829829601948097, -1.3464463166804845, -1.5207845718420705, 0.0221089863379659, 0.8414987855974205, 1.155307644888275, 0.03082589909604533, -1.3464463166804845, 0.03954281185412444, 0.20516415425763138, -0.13479544330746143, 0.06569355012836241, -0.3701520877756027, -1.2244095380673743, -0.3091336984690475, 2.044432746212364, -0.08249396675898567, -0.0999277922751442, 0.15286267770915543, 1.3993812021144958, 0.684594355951993, 1.1814583831625132, -0.08249396675898567, 0.46667153700001046, -0.439887389840237, 1.0158370407590065, 1.0419877790332441, 1.146590732130196, -1.5207845718420705, 0.3272009328707415, -0.7798469874053299, 0.257465630806107, -0.20453074537209592, 1.9746974441477299, 0.9548186514524512, -1.163391148760819, -1.215692625309295, -1.1721080615188983, 1.3819473765983368, 1.817793014502302, -0.23939839640441316, -0.8234315511957263, 1.9398297931154127, 1.3993812021144958, 0.07441046288644183, 0.9722524769686101, -1.4248985315031981, -1.5207845718420705, -0.04762631572666858, -0.7449793363730126, -0.030192490210509727, -0.9454683298088367, 1.1291569066140372, -0.4050197388079198, 1.9485467058734915, -0.36143517501752326, 1.8962452293250163, -0.5619241684533473, 0.22259797977378992, -0.6229425577599024, -1.4336154442612774, -0.10864470503322363, -1.5207845718420705, 1.2773444235013856, -1.390030880470881, 1.3383628128079403], \"z\": [-3.7091843566650837, 7.254887796297389, -5.760370412159084, 2.4276852123396395, 5.852717044455012, 2.9107833876090723, 9.291207506090565, 4.233203944393033, 8.365403723524551, 8.755330414053702, -1.731793120580985, 1.9144291285437944, -0.0870656146070985, -2.254253912938225, -3.2941892965673887, 0.6149420189246015, -5.212710362189084, -0.21793597475240745, 3.1780881407608703, -0.5042929419227136, 2.247183241822846, 4.216789639434648, -6.81070170412616, -9.091185956122928, -1.3882529260365999, -7.919106416523967, -2.4176636346199842, 3.323924589444495, 5.543809788394292, -17.305242365897595, 3.776864064353852, 10.905748784853827, -10.04818884153854, -0.0694262824788936, -0.8707789443080358, -6.833863387962445, -1.1349858686079912, 3.8452075822848, -6.527438769523158, -5.489865352630261, 0.043474855237008114, 1.7280810840902383, -2.520784728642411, -2.87831881350278, -1.989865352630261, -3.1171130635795876, 32.47585388011202, -1.8003127233722438, 5.790707070775888, -1.909793991557592, -12.96941830377487, -1.1780089666608546, 1.0033543321064684, 1.1353775537134823, -0.19977577117831657, 9.0099922801569, 0.5614908108003505, 2.265468738372938, -4.315340716633791, 1.1308976004492237, -6.212618300840749, -1.1373772206482613, -4.968653695505843, -1.8422887739160796, -5.424284881475934, -3.8834131185977725, 2.1034013258232704, -5.018642336463287, -1.1389504961694215, -10.4723978989805, 5.385652433559315, -10.619796298106408, -2.7725831453632566, -8.83361865299456, -6.603018939870992, -0.7097939915575893, 35.927955941278476, -1.820305733605018, -3.4289107684190867, 4.7754837704367645, 20.49692649452772, 1.2419929106025123, -1.0872169580346238, 3.396717759317788, -9.7890993533068, -3.2742831052555132, 1.3296005821481458, 7.271543968545785, 7.888168296417831, -3.6748798352050613, -4.707215640639127, 3.9010601537008185, -0.31649043837953883, 13.113119336098059, -6.28631715202318, -2.29828204729297, 0.1702015268276682, -1.9504167718760534, 0.5986275411604254, -8.930907138612127, -0.0003358838605151959, 3.012151619606179, -5.589954450446115, -0.7290719290059755, 0.8667227259034291, -2.4013724588395746, 2.759177243193399, 15.91512138141367, -6.3439206772128145, 5.156425190849852, -0.885014006905692, -4.69839696824355, -7.019171743442762, -2.5599031447148235, -4.346914280957993, 3.901355395577241, -1.4498462382818715, 11.193598998180214, 4.2892960536006335, -16.70137245883958, -9.060362188249883, -6.02052484630137, 8.78635813302045, 1.1231623891867386, -0.689216612390922, 3.1915304296285285, -0.9328030087264452, 1.4481172403674023, -4.361172475769408, 1.8167896394346492, 10.99271457338272, 7.862558894246284, 5.323809121315129, 0.0036747562942736067, -6.908223794366769, 2.7161994673241843, 9.066678219199517, -0.7814620741246756, -9.726119650912143, 12.844725887186684, -5.134199380192612, -7.072178782607786, -4.57495052856785, -2.0545391239200885, -9.622187063033415, 1.1214030842360643, 4.011062609635307, 2.3340960416174497, -8.348188841538537, -9.943695833343767, 6.3839650094041005, 7.144725887186681, -18.957784171285446, -8.598223799747661, -0.960049644063325, 0.6969367167036324, -9.14014796210229, 4.929856291545541, -9.283915196163285, -11.991345614316423, 21.399435627712222, -3.556291224470641, -16.259122495107253, -1.9630822196106266, 6.309274098103174, 0.14476389648719135, 1.8643177266418238, 1.6418650994607873, -2.7345749273804714, 6.602755699005691, -0.9363121191741541, 8.04026970182057, 8.27732071815523, 2.538424705006875, 27.4084718875272, -2.633831956590832, -6.927331335605068, 1.6812337411440303, -14.095915958662157, 1.249446855858352, -3.6037822170740164, -4.454369132973518, 9.241032227794468, -0.3561716246024318, 2.405946307893249, -3.8266052252191187, 11.099435627712225, -0.1493288610326715, -3.8750440378966555, -5.454327387969954, 9.254887796297389, 0.3080339340295666, 27.94371918228977, 5.991391035370533, -5.734947926944194, -7.865525132762244, 10.017145272235059, -2.0092090179035615, 9.909992280156906, 0.10131336817645575, 10.775524200507759, -2.3491029211865566, 0.22322716224556416, 0.6986275411604197, 0.6820640252475911, -6.360567289672257, -18.42875717402951, 1.2666133320189559, -2.081644068068684, -0.3154644350522098, -16.717583055799757, -0.9262703549745055, -15.019796298106407, 0.1527192086068503, -4.126991769379295, -5.125267827884201, -5.575498519760352, 2.075715118524066, -2.9783188135027814, 1.8530857190420065, -12.719379743583097, 0.19925124004554817, 17.49943562771223, -3.265079713533215, 0.07763966221337881, 18.799435627712228, -13.761371465986919, 4.349273690724411, -10.75676342151317, -3.1957042507526587, -11.745100614107443, -4.764772596430397, 0.6444412311651391, 9.099687276627755, -8.524561411846712, -0.16088722443254255, -1.3111227936588463, 3.218515209319733, 18.670972544519856, -3.773197821437382, 3.799497200937523, 7.015818850256068, -0.49006675501286523, 3.8956497790327376, -11.047449754934998, -1.1025953154905928, 1.2217148346866367, 1.874829225057141, 2.4409834795864924, 0.6035458516389554, 7.307097511202272, 17.899435627712222, 4.0605512077149655, 5.179327740749002, 1.6350847004413076, 1.415511272534978, -4.39867943536575, -1.553245701501325, 6.807813343064062, -2.1504833643763206, -0.8171130635795869, -5.3404614334214955, -5.525240203673178, -6.442697551968589, -4.726344625202653, -10.426896897693602, 9.320764108696459, -2.1999556211246087, -1.8065104199649369, -4.618642336463289, -6.404292941922712, 3.862692388723019, 14.636667014097839, 6.253287342226464, 5.091391035370535, -2.410293276200008, 2.647200213647949, 1.7988984595725128, 14.771543968545785, -10.830480024324302, -1.283987228785449, 2.046266774638841, -2.5678373908229872, -2.9885523349190564, -0.00906299613484407, -0.39118595612292495, -0.683194338997378, -7.060362188249883, 3.742317552345064]}],\n",
       "                        {\"legend\": {\"tracegroupgap\": 0}, \"margin\": {\"t\": 60}, \"scene\": {\"domain\": {\"x\": [0.0, 1.0], \"y\": [0.0, 1.0]}, \"xaxis\": {\"title\": {\"text\": \"x\"}}, \"yaxis\": {\"title\": {\"text\": \"y\"}}, \"zaxis\": {\"title\": {\"text\": \"z\"}}}, \"template\": {\"data\": {\"bar\": [{\"error_x\": {\"color\": \"#2a3f5f\"}, \"error_y\": {\"color\": \"#2a3f5f\"}, \"marker\": {\"line\": {\"color\": \"#E5ECF6\", \"width\": 0.5}}, \"type\": \"bar\"}], \"barpolar\": [{\"marker\": {\"line\": {\"color\": \"#E5ECF6\", \"width\": 0.5}}, \"type\": \"barpolar\"}], \"carpet\": [{\"aaxis\": {\"endlinecolor\": \"#2a3f5f\", \"gridcolor\": \"white\", \"linecolor\": \"white\", \"minorgridcolor\": \"white\", \"startlinecolor\": \"#2a3f5f\"}, \"baxis\": {\"endlinecolor\": \"#2a3f5f\", \"gridcolor\": \"white\", \"linecolor\": \"white\", \"minorgridcolor\": \"white\", \"startlinecolor\": \"#2a3f5f\"}, \"type\": \"carpet\"}], \"choropleth\": [{\"colorbar\": {\"outlinewidth\": 0, \"ticks\": \"\"}, \"type\": \"choropleth\"}], \"contour\": [{\"colorbar\": {\"outlinewidth\": 0, \"ticks\": \"\"}, \"colorscale\": [[0.0, \"#0d0887\"], [0.1111111111111111, \"#46039f\"], [0.2222222222222222, \"#7201a8\"], [0.3333333333333333, \"#9c179e\"], [0.4444444444444444, \"#bd3786\"], [0.5555555555555556, \"#d8576b\"], [0.6666666666666666, \"#ed7953\"], [0.7777777777777778, \"#fb9f3a\"], [0.8888888888888888, \"#fdca26\"], [1.0, \"#f0f921\"]], \"type\": \"contour\"}], \"contourcarpet\": [{\"colorbar\": {\"outlinewidth\": 0, \"ticks\": \"\"}, \"type\": \"contourcarpet\"}], \"heatmap\": [{\"colorbar\": {\"outlinewidth\": 0, \"ticks\": \"\"}, \"colorscale\": [[0.0, \"#0d0887\"], [0.1111111111111111, \"#46039f\"], [0.2222222222222222, \"#7201a8\"], [0.3333333333333333, \"#9c179e\"], [0.4444444444444444, \"#bd3786\"], [0.5555555555555556, \"#d8576b\"], [0.6666666666666666, \"#ed7953\"], [0.7777777777777778, \"#fb9f3a\"], [0.8888888888888888, \"#fdca26\"], [1.0, \"#f0f921\"]], \"type\": \"heatmap\"}], \"heatmapgl\": [{\"colorbar\": {\"outlinewidth\": 0, \"ticks\": \"\"}, \"colorscale\": [[0.0, \"#0d0887\"], [0.1111111111111111, \"#46039f\"], [0.2222222222222222, \"#7201a8\"], [0.3333333333333333, \"#9c179e\"], [0.4444444444444444, \"#bd3786\"], [0.5555555555555556, \"#d8576b\"], [0.6666666666666666, \"#ed7953\"], [0.7777777777777778, \"#fb9f3a\"], [0.8888888888888888, \"#fdca26\"], [1.0, \"#f0f921\"]], \"type\": \"heatmapgl\"}], \"histogram\": [{\"marker\": {\"colorbar\": {\"outlinewidth\": 0, \"ticks\": \"\"}}, \"type\": \"histogram\"}], \"histogram2d\": [{\"colorbar\": {\"outlinewidth\": 0, \"ticks\": \"\"}, \"colorscale\": [[0.0, \"#0d0887\"], [0.1111111111111111, \"#46039f\"], [0.2222222222222222, \"#7201a8\"], [0.3333333333333333, \"#9c179e\"], [0.4444444444444444, \"#bd3786\"], [0.5555555555555556, \"#d8576b\"], [0.6666666666666666, \"#ed7953\"], [0.7777777777777778, \"#fb9f3a\"], [0.8888888888888888, \"#fdca26\"], [1.0, \"#f0f921\"]], \"type\": \"histogram2d\"}], \"histogram2dcontour\": [{\"colorbar\": {\"outlinewidth\": 0, \"ticks\": \"\"}, \"colorscale\": [[0.0, \"#0d0887\"], [0.1111111111111111, \"#46039f\"], [0.2222222222222222, \"#7201a8\"], [0.3333333333333333, \"#9c179e\"], [0.4444444444444444, \"#bd3786\"], [0.5555555555555556, \"#d8576b\"], [0.6666666666666666, \"#ed7953\"], [0.7777777777777778, \"#fb9f3a\"], [0.8888888888888888, \"#fdca26\"], [1.0, \"#f0f921\"]], \"type\": \"histogram2dcontour\"}], \"mesh3d\": [{\"colorbar\": {\"outlinewidth\": 0, \"ticks\": \"\"}, \"type\": \"mesh3d\"}], \"parcoords\": [{\"line\": {\"colorbar\": {\"outlinewidth\": 0, \"ticks\": \"\"}}, \"type\": \"parcoords\"}], \"pie\": [{\"automargin\": true, \"type\": \"pie\"}], \"scatter\": [{\"marker\": {\"colorbar\": {\"outlinewidth\": 0, \"ticks\": \"\"}}, \"type\": \"scatter\"}], \"scatter3d\": [{\"line\": {\"colorbar\": {\"outlinewidth\": 0, \"ticks\": \"\"}}, \"marker\": {\"colorbar\": {\"outlinewidth\": 0, \"ticks\": \"\"}}, \"type\": \"scatter3d\"}], \"scattercarpet\": [{\"marker\": {\"colorbar\": {\"outlinewidth\": 0, \"ticks\": \"\"}}, \"type\": \"scattercarpet\"}], \"scattergeo\": [{\"marker\": {\"colorbar\": {\"outlinewidth\": 0, \"ticks\": \"\"}}, \"type\": \"scattergeo\"}], \"scattergl\": [{\"marker\": {\"colorbar\": {\"outlinewidth\": 0, \"ticks\": \"\"}}, \"type\": \"scattergl\"}], \"scattermapbox\": [{\"marker\": {\"colorbar\": {\"outlinewidth\": 0, \"ticks\": \"\"}}, \"type\": \"scattermapbox\"}], \"scatterpolar\": [{\"marker\": {\"colorbar\": {\"outlinewidth\": 0, \"ticks\": \"\"}}, \"type\": \"scatterpolar\"}], \"scatterpolargl\": [{\"marker\": {\"colorbar\": {\"outlinewidth\": 0, \"ticks\": \"\"}}, \"type\": \"scatterpolargl\"}], \"scatterternary\": [{\"marker\": {\"colorbar\": {\"outlinewidth\": 0, \"ticks\": \"\"}}, \"type\": \"scatterternary\"}], \"surface\": [{\"colorbar\": {\"outlinewidth\": 0, \"ticks\": \"\"}, \"colorscale\": [[0.0, \"#0d0887\"], [0.1111111111111111, \"#46039f\"], [0.2222222222222222, \"#7201a8\"], [0.3333333333333333, \"#9c179e\"], [0.4444444444444444, \"#bd3786\"], [0.5555555555555556, \"#d8576b\"], [0.6666666666666666, \"#ed7953\"], [0.7777777777777778, \"#fb9f3a\"], [0.8888888888888888, \"#fdca26\"], [1.0, \"#f0f921\"]], \"type\": \"surface\"}], \"table\": [{\"cells\": {\"fill\": {\"color\": \"#EBF0F8\"}, \"line\": {\"color\": \"white\"}}, \"header\": {\"fill\": {\"color\": \"#C8D4E3\"}, \"line\": {\"color\": \"white\"}}, \"type\": \"table\"}]}, \"layout\": {\"annotationdefaults\": {\"arrowcolor\": \"#2a3f5f\", \"arrowhead\": 0, \"arrowwidth\": 1}, \"coloraxis\": {\"colorbar\": {\"outlinewidth\": 0, \"ticks\": \"\"}}, \"colorscale\": {\"diverging\": [[0, \"#8e0152\"], [0.1, \"#c51b7d\"], [0.2, \"#de77ae\"], [0.3, \"#f1b6da\"], [0.4, \"#fde0ef\"], [0.5, \"#f7f7f7\"], [0.6, \"#e6f5d0\"], [0.7, \"#b8e186\"], [0.8, \"#7fbc41\"], [0.9, \"#4d9221\"], [1, \"#276419\"]], \"sequential\": [[0.0, \"#0d0887\"], [0.1111111111111111, \"#46039f\"], [0.2222222222222222, \"#7201a8\"], [0.3333333333333333, \"#9c179e\"], [0.4444444444444444, \"#bd3786\"], [0.5555555555555556, \"#d8576b\"], [0.6666666666666666, \"#ed7953\"], [0.7777777777777778, \"#fb9f3a\"], [0.8888888888888888, \"#fdca26\"], [1.0, \"#f0f921\"]], \"sequentialminus\": [[0.0, \"#0d0887\"], [0.1111111111111111, \"#46039f\"], [0.2222222222222222, \"#7201a8\"], [0.3333333333333333, \"#9c179e\"], [0.4444444444444444, \"#bd3786\"], [0.5555555555555556, \"#d8576b\"], [0.6666666666666666, \"#ed7953\"], [0.7777777777777778, \"#fb9f3a\"], [0.8888888888888888, \"#fdca26\"], [1.0, \"#f0f921\"]]}, \"colorway\": [\"#636efa\", \"#EF553B\", \"#00cc96\", \"#ab63fa\", \"#FFA15A\", \"#19d3f3\", \"#FF6692\", \"#B6E880\", \"#FF97FF\", \"#FECB52\"], \"font\": {\"color\": \"#2a3f5f\"}, \"geo\": {\"bgcolor\": \"white\", \"lakecolor\": \"white\", \"landcolor\": \"#E5ECF6\", \"showlakes\": true, \"showland\": true, \"subunitcolor\": \"white\"}, \"hoverlabel\": {\"align\": \"left\"}, \"hovermode\": \"closest\", \"mapbox\": {\"style\": \"light\"}, \"paper_bgcolor\": \"white\", \"plot_bgcolor\": \"#E5ECF6\", \"polar\": {\"angularaxis\": {\"gridcolor\": \"white\", \"linecolor\": \"white\", \"ticks\": \"\"}, \"bgcolor\": \"#E5ECF6\", \"radialaxis\": {\"gridcolor\": \"white\", \"linecolor\": \"white\", \"ticks\": \"\"}}, \"scene\": {\"xaxis\": {\"backgroundcolor\": \"#E5ECF6\", \"gridcolor\": \"white\", \"gridwidth\": 2, \"linecolor\": \"white\", \"showbackground\": true, \"ticks\": \"\", \"zerolinecolor\": \"white\"}, \"yaxis\": {\"backgroundcolor\": \"#E5ECF6\", \"gridcolor\": \"white\", \"gridwidth\": 2, \"linecolor\": \"white\", \"showbackground\": true, \"ticks\": \"\", \"zerolinecolor\": \"white\"}, \"zaxis\": {\"backgroundcolor\": \"#E5ECF6\", \"gridcolor\": \"white\", \"gridwidth\": 2, \"linecolor\": \"white\", \"showbackground\": true, \"ticks\": \"\", \"zerolinecolor\": \"white\"}}, \"shapedefaults\": {\"line\": {\"color\": \"#2a3f5f\"}}, \"ternary\": {\"aaxis\": {\"gridcolor\": \"white\", \"linecolor\": \"white\", \"ticks\": \"\"}, \"baxis\": {\"gridcolor\": \"white\", \"linecolor\": \"white\", \"ticks\": \"\"}, \"bgcolor\": \"#E5ECF6\", \"caxis\": {\"gridcolor\": \"white\", \"linecolor\": \"white\", \"ticks\": \"\"}}, \"title\": {\"x\": 0.05}, \"xaxis\": {\"automargin\": true, \"gridcolor\": \"white\", \"linecolor\": \"white\", \"ticks\": \"\", \"title\": {\"standoff\": 15}, \"zerolinecolor\": \"white\", \"zerolinewidth\": 2}, \"yaxis\": {\"automargin\": true, \"gridcolor\": \"white\", \"linecolor\": \"white\", \"ticks\": \"\", \"title\": {\"standoff\": 15}, \"zerolinecolor\": \"white\", \"zerolinewidth\": 2}}}},\n",
       "                        {\"responsive\": true}\n",
       "                    ).then(function(){\n",
       "                            \n",
       "var gd = document.getElementById('c95935d8-999e-4cdf-bfcc-1a9b3da6e354');\n",
       "var x = new MutationObserver(function (mutations, observer) {{\n",
       "        var display = window.getComputedStyle(gd).display;\n",
       "        if (!display || display === 'none') {{\n",
       "            console.log([gd, 'removed!']);\n",
       "            Plotly.purge(gd);\n",
       "            observer.disconnect();\n",
       "        }}\n",
       "}});\n",
       "\n",
       "// Listen for the removal of the full notebook cells\n",
       "var notebookContainer = gd.closest('#notebook-container');\n",
       "if (notebookContainer) {{\n",
       "    x.observe(notebookContainer, {childList: true});\n",
       "}}\n",
       "\n",
       "// Listen for the clearing of the current output cell\n",
       "var outputEl = gd.closest('.output');\n",
       "if (outputEl) {{\n",
       "    x.observe(outputEl, {childList: true});\n",
       "}}\n",
       "\n",
       "                        })\n",
       "                };\n",
       "                });\n",
       "            </script>\n",
       "        </div>"
      ]
     },
     "metadata": {},
     "output_type": "display_data"
    }
   ],
   "source": [
    "fig = px.scatter_3d(x=X_train_sc.dist_mrt, y=X_train_sc.house_age, z=PRmodel['Resid'])\n",
    "fig.update_traces(marker=dict(size=3,\n",
    "                                  line=dict(width=0.1,\n",
    "                                            color='DarkSlateGrey')))\n",
    "fig.show()"
   ]
  },
  {
   "cell_type": "markdown",
   "metadata": {},
   "source": [
    "                                                        잔차 그림"
   ]
  },
  {
   "cell_type": "code",
   "execution_count": 42,
   "metadata": {},
   "outputs": [
    {
     "data": {
      "text/plain": [
       "<matplotlib.legend.Legend at 0x24049cd5d48>"
      ]
     },
     "execution_count": 42,
     "metadata": {},
     "output_type": "execute_result"
    },
    {
     "data": {
      "image/png": "[encoded data removed]",
      "text/plain": [
       "<Figure size 504x360 with 1 Axes>"
      ]
     },
     "metadata": {
      "needs_background": "light"
     },
     "output_type": "display_data"
    }
   ],
   "source": [
    "output = pd.DataFrame(columns=['d','Train MSE','Test MSE'])\n",
    "for i in np.arange(12):\n",
    "    m = i+1\n",
    "    Reg = Poly_Reg(X_train_sc, Y_train, X_test_sc, Y_test, m, fig=False)\n",
    "    output.loc[i] = [m, Reg['train_MSE'], Reg['test_MSE']]\n",
    "\n",
    "\n",
    "fig, ax = plt.subplots(figsize=(7,5))\n",
    "ax.plot(output['d'], np.log(output['Train MSE']), 'o-', label='Train MSE')\n",
    "ax.plot(output['d'], np.log(output['Test MSE']), 'o-', label='Test MSE')\n",
    "\n",
    "ax.legend()"
   ]
  },
  {
   "cell_type": "code",
   "execution_count": 43,
   "metadata": {},
   "outputs": [
    {
     "name": "stdout",
     "output_type": "stream",
     "text": [
      "(289, 6)\n",
      "(124, 6)\n"
     ]
    }
   ],
   "source": [
    "poly = PolynomialFeatures(degree=2)\n",
    "Phi_train = poly.fit_transform(X_train_sc)\n",
    "Phi_test = poly.fit_transform(X_test_sc)\n",
    "print(Phi_train.shape)\n",
    "print(Phi_test.shape)"
   ]
  },
  {
   "cell_type": "markdown",
   "metadata": {},
   "source": [
    "# 4. Regularization"
   ]
  },
  {
   "cell_type": "markdown",
   "metadata": {},
   "source": [
    "## 1) Ridge Regression"
   ]
  },
  {
   "cell_type": "code",
   "execution_count": 44,
   "metadata": {},
   "outputs": [],
   "source": [
    "from sklearn.metrics import mean_squared_error"
   ]
  },
  {
   "cell_type": "code",
   "execution_count": 45,
   "metadata": {},
   "outputs": [],
   "source": [
    "from sklearn.linear_model import Ridge\n",
    "alphas=np.logspace(-6, 6, 500)"
   ]
  },
  {
   "cell_type": "code",
   "execution_count": 59,
   "metadata": {},
   "outputs": [],
   "source": [
    "def Ridge_Reg(Phi_train, Y_train, Phi_test, Y_test, alphas, fig=False):\n",
    "    \n",
    "    ## How to Ridge?##\n",
    "    #1. Call Ridge function as an object\n",
    "    reg = Ridge()\n",
    "    \n",
    "    coefs = []\n",
    "    train_MSE = []\n",
    "    test_MSE = []\n",
    "    \n",
    "    for a in alphas:\n",
    "        #2. Choose your lambda (Regularization coefficient)\n",
    "        reg.set_params(alpha=a)\n",
    "        \n",
    "        #3. Fit your model\n",
    "        reg.fit(Phi_train, Y_train)\n",
    "        \n",
    "        #4 view result with reg.coef_, reg.predict, ...\n",
    "        coefs.append(reg.coef_)\n",
    "    \n",
    "        train_pred = reg.predict(Phi_train)\n",
    "        train_MSE.append(mean_squared_error(Y_train, train_pred))\n",
    "    \n",
    "        test_pred = reg.predict(Phi_test)\n",
    "        test_MSE.append(mean_squared_error(Y_test, test_pred))\n",
    "   \n",
    "    ## just for plotting purpose.. trivial ##\n",
    "    #print(np.array(coefs).shape)\n",
    "    \n",
    "    if fig==True:\n",
    "        fig = plt.figure(figsize=(14,6))\n",
    "\n",
    "        ax1 = fig.add_subplot(121)\n",
    "        labels = ['X%d'%i for i in range(Phi_train.shape[1])]\n",
    "        for i in range(Phi_train.shape[1]):\n",
    "            ax1.plot(alphas, np.array(coefs)[:,i], label=labels[i])\n",
    "        ax1.set_xscale('log')\n",
    "        ax1.axvline(x=alphas[np.argmin(test_MSE)], linestyle='--', color='grey')\n",
    "        ax1.legend()\n",
    "\n",
    "        ax2 = fig.add_subplot(122)\n",
    "        ax2.plot(alphas, train_MSE, label='Train MSE')\n",
    "        ax2.plot(alphas, test_MSE, label='Test MSE')\n",
    "        ax2.set_xscale('log')\n",
    "        ax2.axvline(x=alphas[np.argmin(test_MSE)], linestyle='--', color='grey')\n",
    "        alpha = np.around(alphas[np.argmin(test_MSE)],3)\n",
    "        ax2.text(alphas[np.argmin(test_MSE)], np.amin(test_MSE), 'alpha={0}'.format(alpha), size=15)\n",
    "        ax2.legend()\n",
    "\n",
    "        print(\"Weight:\" ,coefs[np.argmin(test_MSE)])\n",
    "        \n",
    "    return {'coefs': coefs, 'train_MSE': train_MSE, 'test_MSE': test_MSE}"
   ]
  },
  {
   "cell_type": "code",
   "execution_count": 60,
   "metadata": {},
   "outputs": [
    {
     "name": "stdout",
     "output_type": "stream",
     "text": [
      "Weight: [ 0.    -7.674 -2.671 -1.701  0.27   1.765]\n"
     ]
    },
    {
     "data": {
      "image/png": "[encoded data removed]",
      "text/plain": [
       "<Figure size 1008x432 with 2 Axes>"
      ]
     },
     "metadata": {
      "needs_background": "light"
     },
     "output_type": "display_data"
    }
   ],
   "source": [
    "Ridge_output = Ridge_Reg(Phi_train, Y_train, Phi_test, Y_test, alphas, fig=True)"
   ]
  },
  {
   "cell_type": "markdown",
   "metadata": {},
   "source": [
    "## 2) Lasso Regression "
   ]
  },
  {
   "cell_type": "code",
   "execution_count": 50,
   "metadata": {},
   "outputs": [],
   "source": [
    "from sklearn.linear_model import Lasso\n",
    "alphas=np.logspace(-6, 6, 500)"
   ]
  },
  {
   "cell_type": "code",
   "execution_count": 51,
   "metadata": {},
   "outputs": [],
   "source": [
    "def Lasso_Reg(Phi_train, Y_train, Phi_test, Y_test, alphas, fig=False):\n",
    "    \n",
    "    ## How to Lasso?##\n",
    "    #1. Call Lasso function as an object\n",
    "    reg = Lasso()\n",
    "    \n",
    "    coefs = []\n",
    "    train_MSE = []\n",
    "    test_MSE = []\n",
    "    \n",
    "    for a in alphas:\n",
    "        #2. Choose your lambda (Regularization coefficient)\n",
    "        reg.set_params(alpha=a)\n",
    "        \n",
    "        #3. Fit your model\n",
    "        reg.fit(Phi_train, Y_train)\n",
    "        \n",
    "        #4 view result with reg.coef_, reg.predict, ...\n",
    "        coefs.append(reg.coef_)\n",
    "    \n",
    "        train_pred = reg.predict(Phi_train)\n",
    "        train_MSE.append(mean_squared_error(Y_train, train_pred))\n",
    "    \n",
    "        test_pred = reg.predict(Phi_test)\n",
    "        test_MSE.append(mean_squared_error(Y_test, test_pred))\n",
    "    \n",
    "    ## just for plotting purpose.. trivial ##\n",
    "    #print(np.array(coefs).shape)\n",
    "    if fig==True:\n",
    "        fig = plt.figure(figsize=(14,6))\n",
    "\n",
    "        ax1 = fig.add_subplot(121)\n",
    "        labels = ['X%d'%i for i in range(Phi_train.shape[1])]\n",
    "        for i in range(Phi_train.shape[1]):\n",
    "            ax1.plot(alphas, np.array(coefs)[:,i], label=labels[i])\n",
    "        ax1.set_xscale('log')\n",
    "        ax1.axvline(x=alphas[np.argmin(test_MSE)], linestyle='--', color='grey')\n",
    "        ax1.legend()\n",
    "\n",
    "        ax2 = fig.add_subplot(122)\n",
    "        ax2.plot(alphas, train_MSE, label='Train MSE')\n",
    "        ax2.plot(alphas, test_MSE, label='Test MSE')\n",
    "        ax2.set_xscale('log')\n",
    "        ax2.axvline(x=alphas[np.argmin(test_MSE)], linestyle='--', color='grey')\n",
    "        alpha = np.around(alphas[np.argmin(test_MSE)],3)\n",
    "        ax2.text(alphas[np.argmin(test_MSE)], np.amin(test_MSE), 'alpha={0}'.format(alpha), size=15)\n",
    "        ax2.legend()\n",
    "\n",
    "        print(\"Weight:\" ,coefs[np.argmin(test_MSE)])\n",
    "        \n",
    "    return {'coefs': coefs, 'train_MSE': train_MSE, 'test_MSE': test_MSE}"
   ]
  },
  {
   "cell_type": "code",
   "execution_count": 52,
   "metadata": {},
   "outputs": [
    {
     "name": "stdout",
     "output_type": "stream",
     "text": [
      "Weight: [ 0.    -9.127 -2.462 -1.527 -0.     1.113]\n"
     ]
    },
    {
     "data": {
      "image/png": "[encoded data removed]",
      "text/plain": [
       "<Figure size 1008x432 with 2 Axes>"
      ]
     },
     "metadata": {
      "needs_background": "light"
     },
     "output_type": "display_data"
    }
   ],
   "source": [
    "Lasso_output = Lasso_Reg(Phi_train, Y_train, Phi_test, Y_test, alphas, fig=True)"
   ]
  },
  {
   "cell_type": "markdown",
   "metadata": {},
   "source": [
    "# 5. k-fold CV"
   ]
  },
  {
   "cell_type": "code",
   "execution_count": 54,
   "metadata": {},
   "outputs": [
    {
     "name": "stdout",
     "output_type": "stream",
     "text": [
      "TRAIN: [  0   1   2   3   4   5   6   7   8   9  10  13  14  16  17  19  20  21\n",
      "  22  24  25  26  27  28  29  30  31  32  33  34  35  37  39  42  43  44\n",
      "  45  47  50  51  52  53  54  55  57  65  67  69  70  71  72  73  74  75\n",
      "  76  77  78  79  80  81  82  83  84  85  86  87  88  89  90  91  93  94\n",
      "  95  96  97  98  99 100 102 103 104 106 107 109 110 111 113 114 116 117\n",
      " 118 119 120 121 122 123 124 126 127 128 129 131 132 133 134 135 136 138\n",
      " 139 140 142 143 144 146 147 148 149 150 151 152 154 155 158 159 160 162\n",
      " 163 164 165 166 167 168 169 170 171 172 173 174 175 176 177 178 179 180\n",
      " 181 182 184 185 186 187 188 189 190 191 192 193 194 196 197 198 199 201\n",
      " 203 204 205 206 207 208 209 210 212 213 214 215 216 219 221 222 223 225\n",
      " 226 227 228 230 231 232 234 236 237 238 239 240 241 242 245 246 247 248\n",
      " 249 250 251 252 253 254 255 257 258 259 261 262 263 264 265 266 267 268\n",
      " 270 272 274 275 277 278 279 280 281 282 283 284 285 287 288] TEST: [ 11  12  15  18  23  36  38  40  41  46  48  49  56  58  59  60  61  62\n",
      "  63  64  66  68  92 101 105 108 112 115 125 130 137 141 145 153 156 157\n",
      " 161 183 195 200 202 211 217 218 220 224 229 233 235 243 244 256 260 269\n",
      " 271 273 276 286]\n",
      "TRAIN: [  0   1   4   5   7   8  11  12  13  15  16  17  18  19  20  21  22  23\n",
      "  26  27  32  34  36  38  39  40  41  42  43  45  46  47  48  49  51  53\n",
      "  54  55  56  57  58  59  60  61  62  63  64  66  68  70  71  72  73  75\n",
      "  76  77  78  80  81  82  83  84  86  89  90  92  94  95  96  98  99 101\n",
      " 102 104 105 106 107 108 109 110 111 112 113 114 115 116 118 121 123 124\n",
      " 125 126 127 128 130 131 132 133 135 137 138 139 140 141 143 144 145 147\n",
      " 148 149 150 151 152 153 154 155 156 157 159 160 161 162 163 165 166 167\n",
      " 168 169 170 171 172 173 174 175 177 178 179 180 182 183 184 185 187 188\n",
      " 190 191 192 193 194 195 197 198 199 200 202 203 204 206 207 208 209 210\n",
      " 211 212 213 214 215 216 217 218 220 221 222 223 224 225 226 227 228 229\n",
      " 230 231 232 233 234 235 237 238 239 241 242 243 244 245 246 247 248 249\n",
      " 250 251 253 256 257 258 259 260 261 262 264 265 266 267 269 270 271 272\n",
      " 273 275 276 277 278 279 280 281 282 283 284 285 286 287 288] TEST: [  2   3   6   9  10  14  24  25  28  29  30  31  33  35  37  44  50  52\n",
      "  65  67  69  74  79  85  87  88  91  93  97 100 103 117 119 120 122 129\n",
      " 134 136 142 146 158 164 176 181 186 189 196 201 205 219 236 240 252 254\n",
      " 255 263 268 274]\n",
      "TRAIN: [  2   3   4   5   6   7   9  10  11  12  14  15  18  19  20  21  23  24\n",
      "  25  28  29  30  31  32  33  34  35  36  37  38  40  41  42  44  46  47\n",
      "  48  49  50  51  52  53  54  55  56  57  58  59  60  61  62  63  64  65\n",
      "  66  67  68  69  70  71  72  74  75  76  78  79  80  82  85  86  87  88\n",
      "  90  91  92  93  94  97  99 100 101 103 104 105 106 108 109 110 111 112\n",
      " 113 114 115 116 117 119 120 121 122 123 124 125 126 127 128 129 130 131\n",
      " 133 134 136 137 138 139 140 141 142 143 144 145 146 147 150 151 152 153\n",
      " 154 156 157 158 159 160 161 162 163 164 165 169 170 171 172 173 174 175\n",
      " 176 177 178 179 180 181 183 185 186 187 189 190 191 192 194 195 196 197\n",
      " 198 200 201 202 204 205 206 207 209 211 212 213 215 216 217 218 219 220\n",
      " 221 222 223 224 226 227 228 229 230 231 232 233 235 236 239 240 241 243\n",
      " 244 245 246 247 248 249 251 252 253 254 255 256 258 260 262 263 264 265\n",
      " 267 268 269 270 271 273 274 276 277 278 281 285 286 287 288] TEST: [  0   1   8  13  16  17  22  26  27  39  43  45  73  77  81  83  84  89\n",
      "  95  96  98 102 107 118 132 135 148 149 155 166 167 168 182 184 188 193\n",
      " 199 203 208 210 214 225 234 237 238 242 250 257 259 261 266 272 275 279\n",
      " 280 282 283 284]\n",
      "TRAIN: [  0   1   2   3   4   5   6   8   9  10  11  12  13  14  15  16  17  18\n",
      "  19  20  22  23  24  25  26  27  28  29  30  31  32  33  35  36  37  38\n",
      "  39  40  41  43  44  45  46  47  48  49  50  51  52  55  56  58  59  60\n",
      "  61  62  63  64  65  66  67  68  69  72  73  74  75  76  77  79  80  81\n",
      "  83  84  85  87  88  89  90  91  92  93  95  96  97  98  99 100 101 102\n",
      " 103 104 105 106 107 108 109 110 112 114 115 116 117 118 119 120 122 125\n",
      " 126 127 129 130 132 134 135 136 137 138 139 140 141 142 144 145 146 148\n",
      " 149 150 152 153 155 156 157 158 159 160 161 162 163 164 165 166 167 168\n",
      " 170 174 176 178 179 181 182 183 184 185 186 188 189 191 193 195 196 197\n",
      " 198 199 200 201 202 203 205 208 209 210 211 213 214 215 216 217 218 219\n",
      " 220 224 225 226 227 229 233 234 235 236 237 238 240 241 242 243 244 247\n",
      " 250 251 252 254 255 256 257 258 259 260 261 263 264 266 267 268 269 270\n",
      " 271 272 273 274 275 276 279 280 281 282 283 284 285 286 287] TEST: [  7  21  34  42  53  54  57  70  71  78  82  86  94 111 113 121 123 124\n",
      " 128 131 133 143 147 151 154 169 171 172 173 175 177 180 187 190 192 194\n",
      " 204 206 207 212 221 222 223 228 230 231 232 239 245 246 248 249 253 262\n",
      " 265 277 278 288]\n",
      "TRAIN: [  0   1   2   3   6   7   8   9  10  11  12  13  14  15  16  17  18  21\n",
      "  22  23  24  25  26  27  28  29  30  31  33  34  35  36  37  38  39  40\n",
      "  41  42  43  44  45  46  48  49  50  52  53  54  56  57  58  59  60  61\n",
      "  62  63  64  65  66  67  68  69  70  71  73  74  77  78  79  81  82  83\n",
      "  84  85  86  87  88  89  91  92  93  94  95  96  97  98 100 101 102 103\n",
      " 105 107 108 111 112 113 115 117 118 119 120 121 122 123 124 125 128 129\n",
      " 130 131 132 133 134 135 136 137 141 142 143 145 146 147 148 149 151 153\n",
      " 154 155 156 157 158 161 164 166 167 168 169 171 172 173 175 176 177 180\n",
      " 181 182 183 184 186 187 188 189 190 192 193 194 195 196 199 200 201 202\n",
      " 203 204 205 206 207 208 210 211 212 214 217 218 219 220 221 222 223 224\n",
      " 225 228 229 230 231 232 233 234 235 236 237 238 239 240 242 243 244 245\n",
      " 246 248 249 250 252 253 254 255 256 257 259 260 261 262 263 265 266 268\n",
      " 269 271 272 273 274 275 276 277 278 279 280 282 283 284 286 288] TEST: [  4   5  19  20  32  47  51  55  72  75  76  80  90  99 104 106 109 110\n",
      " 114 116 126 127 138 139 140 144 150 152 159 160 162 163 165 170 174 178\n",
      " 179 185 191 197 198 209 213 215 216 226 227 241 247 251 258 264 267 270\n",
      " 281 285 287]\n"
     ]
    }
   ],
   "source": [
    "from sklearn.model_selection import KFold\n",
    "\n",
    "kcv = KFold(n_splits=5, shuffle=True)\n",
    "\n",
    "kcvMSE_Ridge = np.zeros((kcv.get_n_splits(), alphas.size))\n",
    "kcvMSE_Lasso = np.zeros((kcv.get_n_splits(), alphas.size))\n",
    "\n",
    "i = 0\n",
    "for train_index, test_index in kcv.split(Phi_train, Y_train):\n",
    "    print(\"TRAIN:\", train_index, \"TEST:\", test_index)\n",
    "    CV_Phi_train, CV_Phi_test = Phi_train[train_index,:], Phi_train[test_index,:]\n",
    "    CV_Y_train, CV_Y_test = Y_train.iloc[train_index], Y_train.iloc[test_index]\n",
    "    \n",
    "    Ridge_output = Ridge_Reg(CV_Phi_train, CV_Y_train, CV_Phi_test, CV_Y_test, alphas, fig=False)\n",
    "    kcvMSE_Ridge[i, :] = Ridge_output['test_MSE']\n",
    "    \n",
    "    Lasso_output = Lasso_Reg(CV_Phi_train, CV_Y_train, CV_Phi_test, CV_Y_test, alphas, fig=False)\n",
    "    kcvMSE_Lasso[i, :] = Lasso_output['test_MSE']\n",
    "    i += 1"
   ]
  },
  {
   "cell_type": "code",
   "execution_count": 61,
   "metadata": {},
   "outputs": [
    {
     "name": "stdout",
     "output_type": "stream",
     "text": [
      "Weight: [ 0.    -9.286 -3.313 -1.856 -0.257  1.743]\n"
     ]
    },
    {
     "data": {
      "image/png": "[encoded data removed]",
      "text/plain": [
       "<Figure size 720x432 with 1 Axes>"
      ]
     },
     "metadata": {
      "needs_background": "light"
     },
     "output_type": "display_data"
    }
   ],
   "source": [
    "fig, ax= plt.subplots(figsize=(10,6))\n",
    "meanMSE = np.apply_along_axis(np.mean, 1, kcvMSE_Ridge.T)\n",
    "ax.plot(alphas, kcvMSE_Ridge.T, linestyle='--')\n",
    "ax.plot(alphas, meanMSE, color='black', label='Average MSE')\n",
    "ax.set_xscale('log')\n",
    "ax.axvline(x=alphas[np.argmin(meanMSE)], linestyle='--', color='black')\n",
    "alpha = np.around(alphas[np.argmin(meanMSE)],3)\n",
    "ax.text(alphas[np.argmin(meanMSE)], np.amin(meanMSE), 'alpha={0}'.format(alpha), size=15)\n",
    "ax.set_title('Ridge Complexity')\n",
    "ax.legend()\n",
    "\n",
    "coefs = Ridge_output['coefs']\n",
    "print(\"Weight:\" ,coefs[np.argmin(meanMSE)])\n",
    "Ridge_alphas = [alphas[np.argmin(meanMSE)]]"
   ]
  },
  {
   "cell_type": "code",
   "execution_count": 62,
   "metadata": {},
   "outputs": [
    {
     "name": "stdout",
     "output_type": "stream",
     "text": [
      "Weight: [ 0.    -9.491 -2.636 -1.765 -0.     1.21 ]\n"
     ]
    },
    {
     "data": {
      "image/png": "[encoded data removed]",
      "text/plain": [
       "<Figure size 720x432 with 1 Axes>"
      ]
     },
     "metadata": {
      "needs_background": "light"
     },
     "output_type": "display_data"
    }
   ],
   "source": [
    "fig, ax= plt.subplots(figsize=(10,6))\n",
    "meanMSE = np.apply_along_axis(np.mean, 1, kcvMSE_Lasso.T)\n",
    "ax.plot(alphas, kcvMSE_Lasso.T, linestyle='--')\n",
    "ax.plot(alphas, meanMSE, color='black', label='Average MSE')\n",
    "ax.set_xscale('log')\n",
    "ax.axvline(x=alphas[np.argmin(meanMSE)], linestyle='--', color='black')\n",
    "alpha = np.around(alphas[np.argmin(meanMSE)],3)\n",
    "ax.text(alphas[np.argmin(meanMSE)], np.amin(meanMSE), 'alpha={0}'.format(alpha), size=15)\n",
    "ax.set_title('Lasso Complexity')\n",
    "ax.legend()\n",
    "\n",
    "coefs = Lasso_output['coefs']\n",
    "print(\"Weight:\" ,coefs[np.argmin(meanMSE)])\n",
    "Lasso_alphas = [alphas[np.argmin(meanMSE)]]"
   ]
  },
  {
   "cell_type": "markdown",
   "metadata": {},
   "source": [
    "# 6. Test MSE (which feature is the best)"
   ]
  },
  {
   "cell_type": "markdown",
   "metadata": {},
   "source": [
    "### 1) Polynomial Regression"
   ]
  },
  {
   "cell_type": "code",
   "execution_count": 57,
   "metadata": {},
   "outputs": [
    {
     "name": "stdout",
     "output_type": "stream",
     "text": [
      "[38.266 -9.409 -3.362 -1.863 -0.309  1.736]\n",
      "8.343885796510566\n"
     ]
    }
   ],
   "source": [
    "print(PRmodel['coef'])\n",
    "print(PRmodel['test_MSE'])"
   ]
  },
  {
   "cell_type": "markdown",
   "metadata": {},
   "source": [
    "### 2) Ridge Regression"
   ]
  },
  {
   "cell_type": "code",
   "execution_count": null,
   "metadata": {},
   "outputs": [],
   "source": []
  }
 ],
 "metadata": {
  "kernelspec": {
   "display_name": "Python 3",
   "language": "python",
   "name": "python3"
  },
  "language_info": {
   "codemirror_mode": {
    "name": "ipython",
    "version": 3
   },
   "file_extension": ".py",
   "mimetype": "text/x-python",
   "name": "python",
   "nbconvert_exporter": "python",
   "pygments_lexer": "ipython3",
   "version": "3.7.6"
  }
 },
 "nbformat": 4,
 "nbformat_minor": 4
}
