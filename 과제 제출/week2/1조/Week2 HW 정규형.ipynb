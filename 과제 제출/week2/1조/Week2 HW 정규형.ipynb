{
 "cells": [
  {
   "cell_type": "code",
   "execution_count": 32,
   "metadata": {},
   "outputs": [],
   "source": [
    "import numpy as np; np.set_printoptions(precision=3)\n",
    "import pandas as pd; pd.set_option('display.precision',3)\n",
    "import matplotlib.pyplot as plt\n",
    "import seaborn as sns"
   ]
  },
  {
   "cell_type": "code",
   "execution_count": 18,
   "metadata": {},
   "outputs": [
    {
     "data": {
      "text/html": [
       "<div>\n",
       "<style scoped>\n",
       "    .dataframe tbody tr th:only-of-type {\n",
       "        vertical-align: middle;\n",
       "    }\n",
       "\n",
       "    .dataframe tbody tr th {\n",
       "        vertical-align: top;\n",
       "    }\n",
       "\n",
       "    .dataframe thead th {\n",
       "        text-align: right;\n",
       "    }\n",
       "</style>\n",
       "<table border=\"1\" class=\"dataframe\">\n",
       "  <thead>\n",
       "    <tr style=\"text-align: right;\">\n",
       "      <th></th>\n",
       "      <th>X1 transaction date</th>\n",
       "      <th>X2 house age</th>\n",
       "      <th>X3 distance to the nearest MRT station</th>\n",
       "      <th>X4 number of convenience stores</th>\n",
       "      <th>X5 latitude</th>\n",
       "      <th>X6 longitude</th>\n",
       "      <th>Y house price of unit area</th>\n",
       "    </tr>\n",
       "    <tr>\n",
       "      <th>No</th>\n",
       "      <th></th>\n",
       "      <th></th>\n",
       "      <th></th>\n",
       "      <th></th>\n",
       "      <th></th>\n",
       "      <th></th>\n",
       "      <th></th>\n",
       "    </tr>\n",
       "  </thead>\n",
       "  <tbody>\n",
       "    <tr>\n",
       "      <td>1</td>\n",
       "      <td>2012.917</td>\n",
       "      <td>32.0</td>\n",
       "      <td>84.879</td>\n",
       "      <td>10</td>\n",
       "      <td>24.983</td>\n",
       "      <td>121.540</td>\n",
       "      <td>37.9</td>\n",
       "    </tr>\n",
       "    <tr>\n",
       "      <td>2</td>\n",
       "      <td>2012.917</td>\n",
       "      <td>19.5</td>\n",
       "      <td>306.595</td>\n",
       "      <td>9</td>\n",
       "      <td>24.980</td>\n",
       "      <td>121.540</td>\n",
       "      <td>42.2</td>\n",
       "    </tr>\n",
       "    <tr>\n",
       "      <td>3</td>\n",
       "      <td>2013.583</td>\n",
       "      <td>13.3</td>\n",
       "      <td>561.985</td>\n",
       "      <td>5</td>\n",
       "      <td>24.987</td>\n",
       "      <td>121.544</td>\n",
       "      <td>47.3</td>\n",
       "    </tr>\n",
       "    <tr>\n",
       "      <td>4</td>\n",
       "      <td>2013.500</td>\n",
       "      <td>13.3</td>\n",
       "      <td>561.985</td>\n",
       "      <td>5</td>\n",
       "      <td>24.987</td>\n",
       "      <td>121.544</td>\n",
       "      <td>54.8</td>\n",
       "    </tr>\n",
       "    <tr>\n",
       "      <td>5</td>\n",
       "      <td>2012.833</td>\n",
       "      <td>5.0</td>\n",
       "      <td>390.568</td>\n",
       "      <td>5</td>\n",
       "      <td>24.979</td>\n",
       "      <td>121.542</td>\n",
       "      <td>43.1</td>\n",
       "    </tr>\n",
       "  </tbody>\n",
       "</table>\n",
       "</div>"
      ],
      "text/plain": [
       "    X1 transaction date  X2 house age  X3 distance to the nearest MRT station  \\\n",
       "No                                                                              \n",
       "1              2012.917          32.0                                  84.879   \n",
       "2              2012.917          19.5                                 306.595   \n",
       "3              2013.583          13.3                                 561.985   \n",
       "4              2013.500          13.3                                 561.985   \n",
       "5              2012.833           5.0                                 390.568   \n",
       "\n",
       "    X4 number of convenience stores  X5 latitude  X6 longitude  \\\n",
       "No                                                               \n",
       "1                                10       24.983       121.540   \n",
       "2                                 9       24.980       121.540   \n",
       "3                                 5       24.987       121.544   \n",
       "4                                 5       24.987       121.544   \n",
       "5                                 5       24.979       121.542   \n",
       "\n",
       "    Y house price of unit area  \n",
       "No                              \n",
       "1                         37.9  \n",
       "2                         42.2  \n",
       "3                         47.3  \n",
       "4                         54.8  \n",
       "5                         43.1  "
      ]
     },
     "execution_count": 18,
     "metadata": {},
     "output_type": "execute_result"
    }
   ],
   "source": [
    "from sklearn.model_selection import train_test_split\n",
    "real=pd.read_csv(\"real.csv\",index_col=0)\n",
    "real.head()"
   ]
  },
  {
   "cell_type": "code",
   "execution_count": 25,
   "metadata": {},
   "outputs": [],
   "source": [
    "real.columns=['date','house_age','dist_mrt','con_store','lat','long','price']"
   ]
  },
  {
   "cell_type": "code",
   "execution_count": 26,
   "metadata": {
    "scrolled": true
   },
   "outputs": [
    {
     "name": "stdout",
     "output_type": "stream",
     "text": [
      "<class 'pandas.core.frame.DataFrame'>\n",
      "Int64Index: 414 entries, 1 to 414\n",
      "Data columns (total 7 columns):\n",
      "date         414 non-null float64\n",
      "house_age    414 non-null float64\n",
      "dist_mrt     414 non-null float64\n",
      "con_store    414 non-null int64\n",
      "lat          414 non-null float64\n",
      "long         414 non-null float64\n",
      "price        414 non-null float64\n",
      "dtypes: float64(6), int64(1)\n",
      "memory usage: 25.9 KB\n"
     ]
    }
   ],
   "source": [
    "real.info()"
   ]
  },
  {
   "cell_type": "code",
   "execution_count": 28,
   "metadata": {},
   "outputs": [
    {
     "data": {
      "text/html": [
       "<div>\n",
       "<style scoped>\n",
       "    .dataframe tbody tr th:only-of-type {\n",
       "        vertical-align: middle;\n",
       "    }\n",
       "\n",
       "    .dataframe tbody tr th {\n",
       "        vertical-align: top;\n",
       "    }\n",
       "\n",
       "    .dataframe thead th {\n",
       "        text-align: right;\n",
       "    }\n",
       "</style>\n",
       "<table border=\"1\" class=\"dataframe\">\n",
       "  <thead>\n",
       "    <tr style=\"text-align: right;\">\n",
       "      <th></th>\n",
       "      <th>date</th>\n",
       "      <th>house_age</th>\n",
       "      <th>dist_mrt</th>\n",
       "      <th>con_store</th>\n",
       "      <th>lat</th>\n",
       "      <th>long</th>\n",
       "      <th>price</th>\n",
       "    </tr>\n",
       "  </thead>\n",
       "  <tbody>\n",
       "    <tr>\n",
       "      <td>count</td>\n",
       "      <td>414.000</td>\n",
       "      <td>414.000</td>\n",
       "      <td>414.000</td>\n",
       "      <td>414.000</td>\n",
       "      <td>414.000</td>\n",
       "      <td>414.000</td>\n",
       "      <td>414.000</td>\n",
       "    </tr>\n",
       "    <tr>\n",
       "      <td>mean</td>\n",
       "      <td>2013.149</td>\n",
       "      <td>17.713</td>\n",
       "      <td>1083.886</td>\n",
       "      <td>4.094</td>\n",
       "      <td>24.969</td>\n",
       "      <td>121.533</td>\n",
       "      <td>37.980</td>\n",
       "    </tr>\n",
       "    <tr>\n",
       "      <td>std</td>\n",
       "      <td>0.282</td>\n",
       "      <td>11.392</td>\n",
       "      <td>1262.110</td>\n",
       "      <td>2.946</td>\n",
       "      <td>0.012</td>\n",
       "      <td>0.015</td>\n",
       "      <td>13.606</td>\n",
       "    </tr>\n",
       "    <tr>\n",
       "      <td>min</td>\n",
       "      <td>2012.667</td>\n",
       "      <td>0.000</td>\n",
       "      <td>23.383</td>\n",
       "      <td>0.000</td>\n",
       "      <td>24.932</td>\n",
       "      <td>121.474</td>\n",
       "      <td>7.600</td>\n",
       "    </tr>\n",
       "    <tr>\n",
       "      <td>25%</td>\n",
       "      <td>2012.917</td>\n",
       "      <td>9.025</td>\n",
       "      <td>289.325</td>\n",
       "      <td>1.000</td>\n",
       "      <td>24.963</td>\n",
       "      <td>121.528</td>\n",
       "      <td>27.700</td>\n",
       "    </tr>\n",
       "    <tr>\n",
       "      <td>50%</td>\n",
       "      <td>2013.167</td>\n",
       "      <td>16.100</td>\n",
       "      <td>492.231</td>\n",
       "      <td>4.000</td>\n",
       "      <td>24.971</td>\n",
       "      <td>121.539</td>\n",
       "      <td>38.450</td>\n",
       "    </tr>\n",
       "    <tr>\n",
       "      <td>75%</td>\n",
       "      <td>2013.417</td>\n",
       "      <td>28.150</td>\n",
       "      <td>1454.279</td>\n",
       "      <td>6.000</td>\n",
       "      <td>24.977</td>\n",
       "      <td>121.543</td>\n",
       "      <td>46.600</td>\n",
       "    </tr>\n",
       "    <tr>\n",
       "      <td>max</td>\n",
       "      <td>2013.583</td>\n",
       "      <td>43.800</td>\n",
       "      <td>6488.021</td>\n",
       "      <td>10.000</td>\n",
       "      <td>25.015</td>\n",
       "      <td>121.566</td>\n",
       "      <td>117.500</td>\n",
       "    </tr>\n",
       "  </tbody>\n",
       "</table>\n",
       "</div>"
      ],
      "text/plain": [
       "           date  house_age  dist_mrt  con_store      lat     long    price\n",
       "count   414.000    414.000   414.000    414.000  414.000  414.000  414.000\n",
       "mean   2013.149     17.713  1083.886      4.094   24.969  121.533   37.980\n",
       "std       0.282     11.392  1262.110      2.946    0.012    0.015   13.606\n",
       "min    2012.667      0.000    23.383      0.000   24.932  121.474    7.600\n",
       "25%    2012.917      9.025   289.325      1.000   24.963  121.528   27.700\n",
       "50%    2013.167     16.100   492.231      4.000   24.971  121.539   38.450\n",
       "75%    2013.417     28.150  1454.279      6.000   24.977  121.543   46.600\n",
       "max    2013.583     43.800  6488.021     10.000   25.015  121.566  117.500"
      ]
     },
     "execution_count": 28,
     "metadata": {},
     "output_type": "execute_result"
    }
   ],
   "source": [
    "real.describe()"
   ]
  },
  {
   "cell_type": "code",
   "execution_count": 29,
   "metadata": {},
   "outputs": [
    {
     "data": {
      "image/png": "[encoded data removed]",
      "text/plain": [
       "<Figure size 864x720 with 9 Axes>"
      ]
     },
     "metadata": {
      "needs_background": "light"
     },
     "output_type": "display_data"
    }
   ],
   "source": [
    "real.hist(bins=50, figsize=(12,10))\n",
    "plt.tight_layout()"
   ]
  },
  {
   "cell_type": "code",
   "execution_count": 30,
   "metadata": {},
   "outputs": [
    {
     "data": {
      "image/png": "[encoded data removed]",
      "text/plain": [
       "<Figure size 432x288 with 1 Axes>"
      ]
     },
     "metadata": {
      "needs_background": "light"
     },
     "output_type": "display_data"
    }
   ],
   "source": [
    "real = real[real.price < 80] #거리 80이상은 제외하였다\n",
    "plt.hist(real.price, bins=50)\n",
    "plt.tight_layout()"
   ]
  },
  {
   "cell_type": "code",
   "execution_count": 35,
   "metadata": {},
   "outputs": [
    {
     "data": {
      "text/plain": [
       "<seaborn.axisgrid.PairGrid at 0x2538b6f2048>"
      ]
     },
     "execution_count": 35,
     "metadata": {},
     "output_type": "execute_result"
    },
    {
     "data": {
      "image/png": "[encoded data removed]",
      "text/plain": [
       "<Figure size 720x720 with 20 Axes>"
      ]
     },
     "metadata": {
      "needs_background": "light"
     },
     "output_type": "display_data"
    }
   ],
   "source": [
    "sns.pairplot(real[['dist_mrt', 'house_age', 'con_store', 'price']])"
   ]
  },
  {
   "cell_type": "code",
   "execution_count": 36,
   "metadata": {},
   "outputs": [
    {
     "data": {
      "text/plain": [
       "<seaborn.axisgrid.PairGrid at 0x2538b3a3048>"
      ]
     },
     "execution_count": 36,
     "metadata": {},
     "output_type": "execute_result"
    },
    {
     "data": {
      "image/png": "[encoded data removed]",
      "text/plain": [
       "<Figure size 720x720 with 20 Axes>"
      ]
     },
     "metadata": {
      "needs_background": "light"
     },
     "output_type": "display_data"
    }
   ],
   "source": [
    "real2 = real.copy()\n",
    "real2['dist_mrt'] = np.log(1+real.dist_mrt) #bell shape로 만들고자 함\n",
    "sns.pairplot(real2[['dist_mrt', 'house_age','con_store','price']])"
   ]
  },
  {
   "cell_type": "code",
   "execution_count": 37,
   "metadata": {},
   "outputs": [],
   "source": [
    "data=real2[['dist_mrt','house_age','price']]"
   ]
  },
  {
   "cell_type": "code",
   "execution_count": 39,
   "metadata": {},
   "outputs": [],
   "source": [
    "X=real2[['dist_mrt','house_age']]\n",
    "Y=real2['price']"
   ]
  },
  {
   "cell_type": "code",
   "execution_count": 40,
   "metadata": {},
   "outputs": [],
   "source": [
    "from sklearn.model_selection import train_test_split\n",
    "X_train, X_test, Y_train, Y_test = train_test_split(X, Y, test_size = 0.3, random_state=77)"
   ]
  },
  {
   "cell_type": "code",
   "execution_count": 41,
   "metadata": {},
   "outputs": [],
   "source": [
    "from sklearn import preprocessing\n",
    "scaler = preprocessing.StandardScaler().fit(X_train)\n",
    "\n",
    "def Scl_train(sclr, df):\n",
    "    colnames = df.columns\n",
    "    df = sclr.transform(df)\n",
    "    df = pd.DataFrame(df)\n",
    "    df.set_axis(colnames, axis=1, inplace=True)\n",
    "    return df"
   ]
  },
  {
   "cell_type": "code",
   "execution_count": 42,
   "metadata": {},
   "outputs": [
    {
     "data": {
      "text/html": [
       "<div>\n",
       "<style scoped>\n",
       "    .dataframe tbody tr th:only-of-type {\n",
       "        vertical-align: middle;\n",
       "    }\n",
       "\n",
       "    .dataframe tbody tr th {\n",
       "        vertical-align: top;\n",
       "    }\n",
       "\n",
       "    .dataframe thead th {\n",
       "        text-align: right;\n",
       "    }\n",
       "</style>\n",
       "<table border=\"1\" class=\"dataframe\">\n",
       "  <thead>\n",
       "    <tr style=\"text-align: right;\">\n",
       "      <th></th>\n",
       "      <th>dist_mrt</th>\n",
       "      <th>house_age</th>\n",
       "    </tr>\n",
       "  </thead>\n",
       "  <tbody>\n",
       "    <tr>\n",
       "      <td>count</td>\n",
       "      <td>2.890e+02</td>\n",
       "      <td>2.890e+02</td>\n",
       "    </tr>\n",
       "    <tr>\n",
       "      <td>mean</td>\n",
       "      <td>8.836e-17</td>\n",
       "      <td>2.299e-16</td>\n",
       "    </tr>\n",
       "    <tr>\n",
       "      <td>std</td>\n",
       "      <td>1.002e+00</td>\n",
       "      <td>1.002e+00</td>\n",
       "    </tr>\n",
       "    <tr>\n",
       "      <td>min</td>\n",
       "      <td>-2.896e+00</td>\n",
       "      <td>-1.505e+00</td>\n",
       "    </tr>\n",
       "    <tr>\n",
       "      <td>25%</td>\n",
       "      <td>-5.921e-01</td>\n",
       "      <td>-8.152e-01</td>\n",
       "    </tr>\n",
       "    <tr>\n",
       "      <td>50%</td>\n",
       "      <td>-1.212e-01</td>\n",
       "      <td>-1.254e-01</td>\n",
       "    </tr>\n",
       "    <tr>\n",
       "      <td>75%</td>\n",
       "      <td>8.448e-01</td>\n",
       "      <td>8.475e-01</td>\n",
       "    </tr>\n",
       "    <tr>\n",
       "      <td>max</td>\n",
       "      <td>2.297e+00</td>\n",
       "      <td>2.369e+00</td>\n",
       "    </tr>\n",
       "  </tbody>\n",
       "</table>\n",
       "</div>"
      ],
      "text/plain": [
       "        dist_mrt  house_age\n",
       "count  2.890e+02  2.890e+02\n",
       "mean   8.836e-17  2.299e-16\n",
       "std    1.002e+00  1.002e+00\n",
       "min   -2.896e+00 -1.505e+00\n",
       "25%   -5.921e-01 -8.152e-01\n",
       "50%   -1.212e-01 -1.254e-01\n",
       "75%    8.448e-01  8.475e-01\n",
       "max    2.297e+00  2.369e+00"
      ]
     },
     "execution_count": 42,
     "metadata": {},
     "output_type": "execute_result"
    }
   ],
   "source": [
    "X_train_sc = Scl_train(scaler, X_train)\n",
    "X_train_sc.describe()"
   ]
  },
  {
   "cell_type": "code",
   "execution_count": 44,
   "metadata": {},
   "outputs": [
    {
     "data": {
      "text/html": [
       "<div>\n",
       "<style scoped>\n",
       "    .dataframe tbody tr th:only-of-type {\n",
       "        vertical-align: middle;\n",
       "    }\n",
       "\n",
       "    .dataframe tbody tr th {\n",
       "        vertical-align: top;\n",
       "    }\n",
       "\n",
       "    .dataframe thead th {\n",
       "        text-align: right;\n",
       "    }\n",
       "</style>\n",
       "<table border=\"1\" class=\"dataframe\">\n",
       "  <thead>\n",
       "    <tr style=\"text-align: right;\">\n",
       "      <th></th>\n",
       "      <th>dist_mrt</th>\n",
       "      <th>house_age</th>\n",
       "    </tr>\n",
       "  </thead>\n",
       "  <tbody>\n",
       "    <tr>\n",
       "      <td>count</td>\n",
       "      <td>124.000</td>\n",
       "      <td>124.000</td>\n",
       "    </tr>\n",
       "    <tr>\n",
       "      <td>mean</td>\n",
       "      <td>0.276</td>\n",
       "      <td>0.210</td>\n",
       "    </tr>\n",
       "    <tr>\n",
       "      <td>std</td>\n",
       "      <td>1.101</td>\n",
       "      <td>1.013</td>\n",
       "    </tr>\n",
       "    <tr>\n",
       "      <td>min</td>\n",
       "      <td>-2.896</td>\n",
       "      <td>-1.505</td>\n",
       "    </tr>\n",
       "    <tr>\n",
       "      <td>25%</td>\n",
       "      <td>-0.423</td>\n",
       "      <td>-0.417</td>\n",
       "    </tr>\n",
       "    <tr>\n",
       "      <td>50%</td>\n",
       "      <td>0.109</td>\n",
       "      <td>-0.046</td>\n",
       "    </tr>\n",
       "    <tr>\n",
       "      <td>75%</td>\n",
       "      <td>1.187</td>\n",
       "      <td>1.274</td>\n",
       "    </tr>\n",
       "    <tr>\n",
       "      <td>max</td>\n",
       "      <td>2.146</td>\n",
       "      <td>2.156</td>\n",
       "    </tr>\n",
       "  </tbody>\n",
       "</table>\n",
       "</div>"
      ],
      "text/plain": [
       "       dist_mrt  house_age\n",
       "count   124.000    124.000\n",
       "mean      0.276      0.210\n",
       "std       1.101      1.013\n",
       "min      -2.896     -1.505\n",
       "25%      -0.423     -0.417\n",
       "50%       0.109     -0.046\n",
       "75%       1.187      1.274\n",
       "max       2.146      2.156"
      ]
     },
     "execution_count": 44,
     "metadata": {},
     "output_type": "execute_result"
    }
   ],
   "source": [
    "X_test_sc = Scl_train(scaler, X_test)\n",
    "X_test_sc.describe()"
   ]
  },
  {
   "cell_type": "code",
   "execution_count": 45,
   "metadata": {},
   "outputs": [
    {
     "data": {
      "image/png": "[encoded data removed]",
      "text/plain": [
       "<Figure size 360x360 with 1 Axes>"
      ]
     },
     "metadata": {
      "needs_background": "light"
     },
     "output_type": "display_data"
    }
   ],
   "source": [
    "fig, ax = plt.subplots(figsize=(5,5))\n",
    "ax.scatter(X_train_sc.house_age, X_train_sc.dist_mrt)\n",
    "ax.set_xlabel('house_age')\n",
    "ax.set_ylabel('dist_mrt')\n",
    "ax.axis('equal')\n",
    "fig.tight_layout()"
   ]
  },
  {
   "cell_type": "code",
   "execution_count": 48,
   "metadata": {},
   "outputs": [
    {
     "data": {
      "application/vnd.plotly.v1+json": {
       "config": {
        "plotlyServerURL": "https://plot.ly"
       },
       "data": [
        {
         "hovertemplate": "x=%{x}<br>y=%{y}<br>z=%{z}<extra></extra>",
         "legendgroup": "",
         "marker": {
          "color": "#636efa",
          "line": {
           "color": "red",
           "width": 0.1
          },
          "size": 4,
          "symbol": "circle"
         },
         "mode": "markers",
         "name": "",
         "scene": "scene",
         "showlegend": false,
         "type": "scatter3d",
         "x": [
          1.9464093073773896,
          -1.530710680774949,
          0.9720641133687735,
          -0.8824968669960647,
          -0.7250858894487129,
          0.9687353836592613,
          -0.061683196850930815,
          1.3172811954474961,
          -0.313869046697087,
          1.0613918236988813,
          -0.32993317626253826,
          1.4733888193126303,
          0.02378514882278702,
          1.8627937890726702,
          0.8758612392855356,
          -0.09922180127535903,
          -0.9641712459993568,
          0.8447607449713986,
          -0.44527815467541765,
          2.2706981367163537,
          -0.449023034838214,
          -0.6251710142043551,
          -1.1542963080173299,
          -0.33134028289278084,
          1.1723854330678756,
          0.5256303723051423,
          -0.11725638284332936,
          0.9079214641961488,
          -1.3250873478062164,
          1.9785458835799197,
          1.0834343143080452,
          -0.2057387066045171,
          0.39448655687203943,
          -1.6662843718231866,
          -0.9095003401045774,
          -0.12122560502204947,
          -1.0094848912083898,
          -0.4133272166132642,
          0.7562517832204915,
          0.1095868141579558,
          1.2810709255440644,
          1.1196718213927277,
          -1.746626457683276,
          0.3007930452057896,
          0.02378514882278702,
          1.1746594593046873,
          1.2691770600670709,
          0.1201793069607574,
          -0.10278581842134403,
          -1.6662843718231866,
          0.5281790049243266,
          1.3760381533978034,
          -1.0836217075350636,
          -1.6662843718231866,
          -2.0982622811154346,
          0.5712810423596868,
          -0.6424515414987512,
          -2.2156019692826963,
          -0.15847402662202517,
          1.9590878223274117,
          0.77717927833554,
          0.8447607449713986,
          0.567509047771482,
          0.27666625510662396,
          1.0206256279489927,
          1.8352661323224646,
          -0.17908231611350942,
          -0.23612067063927966,
          1.8627937890726702,
          -1.6662843718231866,
          -1.1623106221587605,
          0.9040347617706251,
          -1.6989191695907542,
          0.9264387779379804,
          -0.03099764436123012,
          -0.538335716876568,
          0.8447607449713986,
          1.3991522270030194,
          -1.392791175014166,
          -0.017051402450825676,
          -0.3129167188070005,
          1.6060191825075611,
          -1.0039846697304218,
          -0.32993317626253826,
          -0.024539161161996136,
          -0.1799005624797265,
          -0.47020920068133687,
          -0.34039370175989725,
          -0.5920702553967196,
          0.7007298242297169,
          1.0964373823967544,
          -0.6530786578313028,
          -0.4445644943576976,
          -0.5920702553967196,
          -0.061683196850930815,
          0.5256303723051423,
          0.02378514882278702,
          -1.7247975953763814,
          1.7928553679083643,
          -0.3094208005577539,
          -0.22025516402697218,
          1.8663143030014013,
          -0.9149077602715515,
          -0.32993317626253826,
          0.04980852336216896,
          -1.530710680774949,
          1.8663143030014013,
          0.555017281638897,
          0.1095868141579558,
          -0.4881374093971212,
          -0.5803790424938704,
          0.6087692977611742,
          0.8813995329977566,
          -0.5920702553967196,
          -0.6923000288263846,
          -0.9641712459993568,
          -1.0039846697304218,
          -0.09922180127535903,
          -0.5920702553967196,
          1.0964373823967544,
          0.04980852336216896,
          -0.9938014245270672,
          -0.32993317626253826,
          0.31547261080370226,
          -0.15984789506469946,
          0.8447607449713986,
          -0.09922180127535903,
          -0.5920702553967196,
          -1.0342811381592598,
          -0.9473615832722786,
          -0.5920702553967196,
          2.283893060082616,
          -1.0039846697304218,
          -0.35557905551705843,
          -1.530710680774949,
          -0.5803790424938704,
          0.567509047771482,
          1.3760381533978034,
          1.2830176340440838,
          -0.024539161161996136,
          1.2853763934373885,
          -0.6923000288263846,
          0.14837717278727638,
          -0.35870178511547146,
          -0.3609202571881497,
          -0.1799005624797265,
          0.08588052779752602,
          0.10984750447257398,
          1.2813760083286438,
          -0.502936886082851,
          1.313370606856203,
          -1.054201448613132,
          1.2832969255161097,
          -0.35447389809224256,
          -0.9497894130418909,
          1.0589199811761216,
          -1.530710680774949,
          0.29183825587890366,
          0.8729401620142104,
          0.8729401620142104,
          -0.15984789506469946,
          0.48013115081648633,
          -0.22224822685882914,
          -0.09922180127535903,
          -1.2387351297706162,
          -0.3074971816078059,
          -2.080391015077452,
          -0.024539161161996136,
          1.2691770600670709,
          2.297133848230063,
          1.9610092660270046,
          -1.6662843718231866,
          -1.1942533557992427,
          -0.34470912970366874,
          1.8663143030014013,
          0.9024719251571862,
          0.14554214026267503,
          -0.44527815467541765,
          -0.6424515414987512,
          -0.8592164359044182,
          0.016311330066540987,
          -0.6469804781387392,
          -0.5013619754714888,
          1.2814328264181492,
          1.1080836700841847,
          -0.5920702553967196,
          0.8447607449713986,
          -0.5920702553967196,
          1.8627937890726702,
          -0.04924854227266179,
          0.8447607449713986,
          -0.9938014245270672,
          -0.5803790424938704,
          1.2691770600670709,
          0.1801390560791652,
          -0.15358745459579637,
          0.9720641133687735,
          -0.5194768116862994,
          -0.10366157949700786,
          -0.020977778206273598,
          1.2810709255440644,
          -1.530710680774949,
          1.1059600521890336,
          -0.6424515414987512,
          0.1439187511518699,
          0.025931505038829357,
          -0.5920702553967196,
          -0.243212533159976,
          -0.9641712459993568,
          -1.0039846697304218,
          -0.48803372393386635,
          -0.9252841944168086,
          -0.3446241907418859,
          -0.6251710142043551,
          -0.6342553419774516,
          -0.47020920068133687,
          -1.6662843718231866,
          1.9610092660270046,
          0.14554214026267503,
          1.3281424519577316,
          -2.0982622811154346,
          -1.6662843718231866,
          0.9343000564038215,
          0.00787943808711172,
          -1.1542963080173299,
          -0.9641712459993568,
          -0.33134028289278084,
          0.77717927833554,
          -1.1292100085292536,
          1.2853763934373885,
          -1.6662843718231866,
          0.6973688030126728,
          -0.20392394254488913,
          -0.3205338460429651,
          0.6942775607022756,
          -1.530710680774949,
          0.23811045580379492,
          -0.3487063391341715,
          -1.0836217075350636,
          0.7007298242297169,
          1.89221844225051,
          1.2691770600670709,
          -1.0803550020500272,
          -0.8959745344945077,
          -2.895647479174948,
          0.02378514882278702,
          0.29517096144482574,
          1.8663143030014013,
          0.9281711469054649,
          -0.05705272122425618,
          -1.3683744411197563,
          0.2516372300916733,
          0.5281790049243266,
          -0.5920702553967196,
          0.3700051700063879,
          -0.11725638284332936,
          1.2691770600670709,
          -0.19533031445191193,
          0.032090236340492045,
          0.11115497351909594,
          -1.3142140334000607,
          1.4524796454048547,
          0.6939843417602088,
          0.06561708355193852,
          -0.697576154828229,
          0.3571194875214408,
          -0.11725638284332936,
          -0.19463771898237778,
          1.6039093209229867,
          -0.30182041223651734,
          -0.17908231611350942,
          -0.27972306155107907,
          -0.34039370175989725,
          -0.313869046697087,
          -0.5920702553967196,
          1.6316252865486252,
          0.69524974321284,
          -0.7250858894487129,
          -0.15984789506469946,
          -1.6662843718231866,
          1.89221844225051,
          -0.469898218278821,
          -0.4844585009305659,
          0.8447607449713986,
          -0.4547374506607182,
          -0.7250858894487129,
          -0.33134028289278084,
          -1.530710680774949,
          -0.33029448268590356
         ],
         "y": [
          0.8740329437239449,
          -0.7887106801699406,
          -1.0540421095147094,
          -0.5941342986504432,
          -0.29342534539303855,
          -1.2751516339686837,
          0.4141251328596787,
          0.024972369820684365,
          -1.0628864904928685,
          -0.20498153561144886,
          -1.169019062230776,
          0.1222605605804328,
          -0.32880286930567426,
          -0.09000458289538225,
          -0.7179556323446687,
          -0.32880286930567426,
          -1.4078173486410681,
          -0.4172466790872639,
          -1.5051055394008168,
          0.08688303666779706,
          0.909410467636581,
          -0.6295118225630791,
          1.4931396121950724,
          -0.39071353615278714,
          -0.20498153561144886,
          0.04266113177700223,
          0.8651885627457861,
          -1.3282179198376374,
          0.5291020855757453,
          0.6352346573136529,
          1.2631857067629395,
          -0.26689220245856154,
          0.09572741764595616,
          -0.930220775820484,
          -0.14307086876433603,
          1.9972693279501337,
          -1.3016847769031605,
          0.10457179862411493,
          -0.29342534539303855,
          0.1930156084057046,
          -0.8771544899515302,
          -0.1784483926769719,
          0.11341617960227401,
          -1.195552205165253,
          -0.39955791713094607,
          -0.956753918754961,
          -1.1513303002744582,
          1.5462058980640263,
          1.8292260893651136,
          -0.9390651567986429,
          -0.010405154091951687,
          -1.0098202046239146,
          -0.33764725028383336,
          -0.9479095377768019,
          -1.195552205165253,
          1.1482087540468728,
          -1.5051055394008168,
          -1.160174681252617,
          1.8557592322995902,
          1.095142468177919,
          1.2101194208939856,
          -0.4526242029998998,
          0.16648246547122764,
          0.3168369420999303,
          -0.054627058982746515,
          0.5291020855757453,
          0.0603498937333201,
          1.961891804037498,
          -0.019249535070110464,
          -0.9832870616894378,
          -1.2839960149468426,
          -0.37302477419646907,
          1.4046958024134828,
          -0.001560773113792596,
          1.0862980871997603,
          0.21954875134018154,
          -0.426091060065423,
          0.3168369420999303,
          1.43122894534796,
          0.378747608947043,
          0.15763808449306885,
          1.5550502790421854,
          -1.5051055394008168,
          -1.186707824187094,
          -0.46146858397805873,
          -1.3193735388594785,
          -1.3547510627721144,
          -0.9036876328860071,
          -0.07231582093906438,
          -0.33764725028383336,
          0.09572741764595616,
          1.4666064692605958,
          -0.2138259165896078,
          -0.12538210680801815,
          0.3699032279688839,
          -0.010405154091951687,
          -0.3464916312619923,
          1.3250963736100523,
          -0.16075963072065405,
          1.3870070404571653,
          -1.124797157339981,
          -0.3022697263711975,
          1.3958514214353237,
          -1.169019062230776,
          -1.230929729077889,
          -0.7887106801699406,
          -0.001560773113792596,
          0.033816750798843144,
          1.6700272317582519,
          -0.04578267800458743,
          -1.5051055394008168,
          0.4141251328596787,
          0.08688303666779706,
          -0.054627058982746515,
          -1.0982640144055045,
          -1.4078173486410681,
          -1.5051055394008168,
          -0.33764725028383336,
          -0.07231582093906438,
          0.07803865568963797,
          -1.177863443208935,
          -0.38186915517462816,
          -1.230929729077889,
          1.1128312301342371,
          -0.16075963072065405,
          -0.20498153561144886,
          -0.3022697263711975,
          -0.09884896387354118,
          1.5815834219766622,
          1.0243874203526475,
          -0.09884896387354118,
          1.2278081828503036,
          -1.5051055394008168,
          0.08688303666779706,
          -0.8152438231044173,
          -1.5051055394008168,
          0.17532684644938673,
          -1.0451977285365506,
          0.10457179862411493,
          -1.2663072529905248,
          0.28145941818729425,
          -1.0363533475583915,
          1.8822923752340668,
          -1.3370623008157965,
          1.4666064692605958,
          -0.8771544899515302,
          1.2631857067629395,
          1.616960945889298,
          0.1311049415585919,
          1.625805326867457,
          -0.5852899176722843,
          1.5727390409985031,
          -1.1513303002744582,
          -1.186707824187094,
          1.4400733263261185,
          -0.33764725028383336,
          -0.8152438231044173,
          -0.33764725028383336,
          -0.7091112513665099,
          -0.7002668703883509,
          0.1930156084057046,
          1.7761598034961597,
          1.201275039915827,
          -0.3022697263711975,
          1.201275039915827,
          -0.1961371546332898,
          2.36873332903281,
          -1.2751516339686837,
          -1.160174681252617,
          0.033816750798843144,
          0.7590559910078786,
          -0.9390651567986429,
          -0.33764725028383336,
          1.2189638018721447,
          -0.04578267800458743,
          1.2720300877410984,
          1.6346497078456161,
          -1.5051055394008168,
          -1.5051055394008168,
          1.899981137190385,
          0.1930156084057046,
          1.5550502790421854,
          -0.3022697263711975,
          0.01612798884252527,
          0.051505512755161326,
          -0.07231582093906438,
          -0.4880017269125357,
          -0.2580478214804026,
          -0.06347143996090529,
          1.68771599371457,
          -0.426091060065423,
          -0.36418039321831014,
          -1.5051055394008168,
          -1.1513303002744582,
          1.899981137190385,
          1.1835862779595088,
          -1.0805752524491863,
          -1.1424859192962993,
          -1.22208534809973,
          1.1128312301342371,
          -0.8329325850607354,
          -0.7710219182136225,
          -0.2492034405022437,
          -1.5051055394008168,
          -0.8417769660388943,
          1.4577620882824367,
          -0.054627058982746515,
          -0.6472005845193971,
          -1.4078173486410681,
          -1.5051055394008168,
          -0.036938297026428334,
          -0.47915734593437675,
          1.3958514214353237,
          -0.6118230606067613,
          -0.5852899176722843,
          -1.4078173486410681,
          -1.0098202046239146,
          0.7855891339423552,
          1.6700272317582519,
          -0.04578267800458743,
          -1.2043965861434118,
          -0.921376394842325,
          -0.09884896387354118,
          1.8734479942559084,
          1.5019839931732315,
          -1.4166617296192272,
          -0.1784483926769719,
          1.17474189698135,
          1.2278081828503036,
          0.3433700850344069,
          -0.956753918754961,
          1.2985632306755752,
          1.8822923752340668,
          -1.0894196334273454,
          1.3250963736100523,
          -0.7533331562573047,
          0.5114133236194275,
          -0.930220775820484,
          -0.38186915517462816,
          -0.3464916312619923,
          -0.3111141073493564,
          -1.1513303002744582,
          1.6611828507800928,
          -1.5051055394008168,
          -1.3724398247284322,
          -0.32880286930567426,
          -0.12538210680801815,
          -0.29342534539303855,
          1.0862980871997603,
          0.9359436105710579,
          2.147623804578836,
          1.157053135025032,
          0.007283607864366495,
          -0.054627058982746515,
          -0.08116020191722316,
          0.8474998007894682,
          -0.3111141073493564,
          2.271445138273062,
          1.5815834219766622,
          1.0066986583963293,
          -0.7975550611480995,
          -0.2580478214804026,
          1.2366525638284627,
          1.7938485654524772,
          1.2808744687192575,
          1.908825518168544,
          1.5638946600203445,
          0.024972369820684365,
          -0.7179556323446687,
          0.04266113177700223,
          0.10457179862411493,
          1.5727390409985031,
          0.4583470377504736,
          -1.0275089665802326,
          -0.08116020191722316,
          -0.4526242029998998,
          0.4141251328596787,
          -0.32880286930567426,
          0.1841712274275458,
          -0.921376394842325,
          -0.3022697263711975,
          0.9890098964400115,
          1.5462058980640263,
          -0.4437798220217409,
          0.8298110388331501,
          -0.36418039321831014,
          -0.16960401169881298,
          -0.7975550611480995,
          0.1930156084057046
         ],
         "z": [
          15.5,
          51.6,
          28.9,
          45.3,
          41.4,
          31.1,
          44.2,
          29.5,
          43.1,
          23,
          60.7,
          25.7,
          47.3,
          11.6,
          48,
          31.3,
          54.4,
          29.5,
          50.8,
          15,
          36.5,
          57.4,
          41.5,
          42.5,
          22.9,
          38.2,
          35.5,
          25.6,
          37.2,
          13.4,
          20.7,
          42.6,
          29.7,
          63.9,
          55.1,
          38.8,
          45.4,
          43.1,
          30.6,
          39.6,
          32.1,
          20.9,
          46.6,
          36.7,
          42,
          31.3,
          30.7,
          40.3,
          37,
          62.2,
          40.3,
          24.7,
          29.3,
          58.1,
          53.5,
          22.8,
          45.4,
          56.8,
          35.7,
          13.2,
          18.3,
          28.4,
          20.8,
          46.4,
          24.7,
          25.3,
          26.5,
          30,
          18.2,
          56.3,
          36.9,
          21.4,
          47.1,
          30.7,
          40.2,
          42.2,
          30.1,
          21.8,
          46.1,
          42.2,
          40.6,
          41.2,
          52.2,
          58.8,
          40.3,
          45.5,
          50.4,
          54.4,
          51.4,
          34.3,
          20.9,
          42.9,
          26.5,
          46.1,
          42.5,
          37.7,
          45.9,
          37.9,
          29.3,
          30.5,
          45.2,
          15.9,
          48.2,
          55,
          47.7,
          52.5,
          18.8,
          25.5,
          36.8,
          49.3,
          63.3,
          23.1,
          26.5,
          41.2,
          53.7,
          45.1,
          55.2,
          42.3,
          55,
          22.1,
          41.6,
          28.5,
          56.2,
          25,
          34.6,
          24.6,
          43.8,
          42.1,
          39.7,
          42.5,
          53,
          12.2,
          37.9,
          39.5,
          47,
          71,
          22.3,
          22.3,
          21.8,
          53.9,
          22.8,
          63.2,
          31.5,
          40.5,
          41.9,
          57.1,
          30.9,
          42.3,
          28.1,
          78,
          27.3,
          40.9,
          28.6,
          61.9,
          39.4,
          30.8,
          38.4,
          37.8,
          38.5,
          43.2,
          32.9,
          31.9,
          48.5,
          48,
          53.3,
          7.6,
          42.7,
          55,
          31.7,
          11.2,
          15.6,
          59.5,
          48.1,
          36.8,
          12.8,
          21.5,
          40.8,
          44.9,
          43.5,
          41,
          47,
          26.9,
          47.4,
          27.7,
          31.1,
          46.2,
          26.2,
          53.3,
          20.5,
          34.7,
          26.6,
          33.1,
          73.6,
          33.4,
          34.2,
          36.2,
          21.7,
          51.7,
          43.2,
          37.5,
          27.7,
          42.8,
          24.8,
          52.2,
          40.8,
          46.6,
          51,
          49.3,
          49,
          55.3,
          51,
          55.9,
          38.6,
          47.9,
          33.6,
          51.8,
          50,
          22.1,
          61.5,
          23.2,
          54.4,
          59,
          23.6,
          29.8,
          39.1,
          50.7,
          34.4,
          19.1,
          39.7,
          25.7,
          58,
          13.7,
          38.4,
          44.8,
          12.8,
          55.5,
          36.6,
          40.9,
          32.9,
          32.2,
          18.6,
          28.4,
          48.5,
          44,
          49.7,
          54.8,
          37.5,
          15.4,
          27,
          37.4,
          60.7,
          55.3,
          40,
          53,
          35.6,
          37.5,
          23.6,
          35.3,
          28.5,
          34.6,
          47.3,
          21.8,
          19,
          37.4,
          36.3,
          62.9,
          41.1,
          43.9,
          22,
          24.5,
          31.6,
          41.4,
          44,
          49.5,
          51.7,
          46.6,
          23.8,
          42,
          34,
          58.1,
          13,
          43.4,
          46,
          28.9,
          38.1,
          39.3,
          43.7,
          51.8,
          48.1
         ]
        }
       ],
       "layout": {
        "legend": {
         "tracegroupgap": 0
        },
        "margin": {
         "t": 60
        },
        "scene": {
         "domain": {
          "x": [
           0,
           1
          ],
          "y": [
           0,
           1
          ]
         },
         "xaxis": {
          "title": {
           "text": "x"
          }
         },
         "yaxis": {
          "title": {
           "text": "y"
          }
         },
         "zaxis": {
          "title": {
           "text": "z"
          }
         }
        },
        "template": {
         "data": {
          "bar": [
           {
            "error_x": {
             "color": "#2a3f5f"
            },
            "error_y": {
             "color": "#2a3f5f"
            },
            "marker": {
             "line": {
              "color": "#E5ECF6",
              "width": 0.5
             }
            },
            "type": "bar"
           }
          ],
          "barpolar": [
           {
            "marker": {
             "line": {
              "color": "#E5ECF6",
              "width": 0.5
             }
            },
            "type": "barpolar"
           }
          ],
          "carpet": [
           {
            "aaxis": {
             "endlinecolor": "#2a3f5f",
             "gridcolor": "white",
             "linecolor": "white",
             "minorgridcolor": "white",
             "startlinecolor": "#2a3f5f"
            },
            "baxis": {
             "endlinecolor": "#2a3f5f",
             "gridcolor": "white",
             "linecolor": "white",
             "minorgridcolor": "white",
             "startlinecolor": "#2a3f5f"
            },
            "type": "carpet"
           }
          ],
          "choropleth": [
           {
            "colorbar": {
             "outlinewidth": 0,
             "ticks": ""
            },
            "type": "choropleth"
           }
          ],
          "contour": [
           {
            "colorbar": {
             "outlinewidth": 0,
             "ticks": ""
            },
            "colorscale": [
             [
              0,
              "#0d0887"
             ],
             [
              0.1111111111111111,
              "#46039f"
             ],
             [
              0.2222222222222222,
              "#7201a8"
             ],
             [
              0.3333333333333333,
              "#9c179e"
             ],
             [
              0.4444444444444444,
              "#bd3786"
             ],
             [
              0.5555555555555556,
              "#d8576b"
             ],
             [
              0.6666666666666666,
              "#ed7953"
             ],
             [
              0.7777777777777778,
              "#fb9f3a"
             ],
             [
              0.8888888888888888,
              "#fdca26"
             ],
             [
              1,
              "#f0f921"
             ]
            ],
            "type": "contour"
           }
          ],
          "contourcarpet": [
           {
            "colorbar": {
             "outlinewidth": 0,
             "ticks": ""
            },
            "type": "contourcarpet"
           }
          ],
          "heatmap": [
           {
            "colorbar": {
             "outlinewidth": 0,
             "ticks": ""
            },
            "colorscale": [
             [
              0,
              "#0d0887"
             ],
             [
              0.1111111111111111,
              "#46039f"
             ],
             [
              0.2222222222222222,
              "#7201a8"
             ],
             [
              0.3333333333333333,
              "#9c179e"
             ],
             [
              0.4444444444444444,
              "#bd3786"
             ],
             [
              0.5555555555555556,
              "#d8576b"
             ],
             [
              0.6666666666666666,
              "#ed7953"
             ],
             [
              0.7777777777777778,
              "#fb9f3a"
             ],
             [
              0.8888888888888888,
              "#fdca26"
             ],
             [
              1,
              "#f0f921"
             ]
            ],
            "type": "heatmap"
           }
          ],
          "heatmapgl": [
           {
            "colorbar": {
             "outlinewidth": 0,
             "ticks": ""
            },
            "colorscale": [
             [
              0,
              "#0d0887"
             ],
             [
              0.1111111111111111,
              "#46039f"
             ],
             [
              0.2222222222222222,
              "#7201a8"
             ],
             [
              0.3333333333333333,
              "#9c179e"
             ],
             [
              0.4444444444444444,
              "#bd3786"
             ],
             [
              0.5555555555555556,
              "#d8576b"
             ],
             [
              0.6666666666666666,
              "#ed7953"
             ],
             [
              0.7777777777777778,
              "#fb9f3a"
             ],
             [
              0.8888888888888888,
              "#fdca26"
             ],
             [
              1,
              "#f0f921"
             ]
            ],
            "type": "heatmapgl"
           }
          ],
          "histogram": [
           {
            "marker": {
             "colorbar": {
              "outlinewidth": 0,
              "ticks": ""
             }
            },
            "type": "histogram"
           }
          ],
          "histogram2d": [
           {
            "colorbar": {
             "outlinewidth": 0,
             "ticks": ""
            },
            "colorscale": [
             [
              0,
              "#0d0887"
             ],
             [
              0.1111111111111111,
              "#46039f"
             ],
             [
              0.2222222222222222,
              "#7201a8"
             ],
             [
              0.3333333333333333,
              "#9c179e"
             ],
             [
              0.4444444444444444,
              "#bd3786"
             ],
             [
              0.5555555555555556,
              "#d8576b"
             ],
             [
              0.6666666666666666,
              "#ed7953"
             ],
             [
              0.7777777777777778,
              "#fb9f3a"
             ],
             [
              0.8888888888888888,
              "#fdca26"
             ],
             [
              1,
              "#f0f921"
             ]
            ],
            "type": "histogram2d"
           }
          ],
          "histogram2dcontour": [
           {
            "colorbar": {
             "outlinewidth": 0,
             "ticks": ""
            },
            "colorscale": [
             [
              0,
              "#0d0887"
             ],
             [
              0.1111111111111111,
              "#46039f"
             ],
             [
              0.2222222222222222,
              "#7201a8"
             ],
             [
              0.3333333333333333,
              "#9c179e"
             ],
             [
              0.4444444444444444,
              "#bd3786"
             ],
             [
              0.5555555555555556,
              "#d8576b"
             ],
             [
              0.6666666666666666,
              "#ed7953"
             ],
             [
              0.7777777777777778,
              "#fb9f3a"
             ],
             [
              0.8888888888888888,
              "#fdca26"
             ],
             [
              1,
              "#f0f921"
             ]
            ],
            "type": "histogram2dcontour"
           }
          ],
          "mesh3d": [
           {
            "colorbar": {
             "outlinewidth": 0,
             "ticks": ""
            },
            "type": "mesh3d"
           }
          ],
          "parcoords": [
           {
            "line": {
             "colorbar": {
              "outlinewidth": 0,
              "ticks": ""
             }
            },
            "type": "parcoords"
           }
          ],
          "pie": [
           {
            "automargin": true,
            "type": "pie"
           }
          ],
          "scatter": [
           {
            "marker": {
             "colorbar": {
              "outlinewidth": 0,
              "ticks": ""
             }
            },
            "type": "scatter"
           }
          ],
          "scatter3d": [
           {
            "line": {
             "colorbar": {
              "outlinewidth": 0,
              "ticks": ""
             }
            },
            "marker": {
             "colorbar": {
              "outlinewidth": 0,
              "ticks": ""
             }
            },
            "type": "scatter3d"
           }
          ],
          "scattercarpet": [
           {
            "marker": {
             "colorbar": {
              "outlinewidth": 0,
              "ticks": ""
             }
            },
            "type": "scattercarpet"
           }
          ],
          "scattergeo": [
           {
            "marker": {
             "colorbar": {
              "outlinewidth": 0,
              "ticks": ""
             }
            },
            "type": "scattergeo"
           }
          ],
          "scattergl": [
           {
            "marker": {
             "colorbar": {
              "outlinewidth": 0,
              "ticks": ""
             }
            },
            "type": "scattergl"
           }
          ],
          "scattermapbox": [
           {
            "marker": {
             "colorbar": {
              "outlinewidth": 0,
              "ticks": ""
             }
            },
            "type": "scattermapbox"
           }
          ],
          "scatterpolar": [
           {
            "marker": {
             "colorbar": {
              "outlinewidth": 0,
              "ticks": ""
             }
            },
            "type": "scatterpolar"
           }
          ],
          "scatterpolargl": [
           {
            "marker": {
             "colorbar": {
              "outlinewidth": 0,
              "ticks": ""
             }
            },
            "type": "scatterpolargl"
           }
          ],
          "scatterternary": [
           {
            "marker": {
             "colorbar": {
              "outlinewidth": 0,
              "ticks": ""
             }
            },
            "type": "scatterternary"
           }
          ],
          "surface": [
           {
            "colorbar": {
             "outlinewidth": 0,
             "ticks": ""
            },
            "colorscale": [
             [
              0,
              "#0d0887"
             ],
             [
              0.1111111111111111,
              "#46039f"
             ],
             [
              0.2222222222222222,
              "#7201a8"
             ],
             [
              0.3333333333333333,
              "#9c179e"
             ],
             [
              0.4444444444444444,
              "#bd3786"
             ],
             [
              0.5555555555555556,
              "#d8576b"
             ],
             [
              0.6666666666666666,
              "#ed7953"
             ],
             [
              0.7777777777777778,
              "#fb9f3a"
             ],
             [
              0.8888888888888888,
              "#fdca26"
             ],
             [
              1,
              "#f0f921"
             ]
            ],
            "type": "surface"
           }
          ],
          "table": [
           {
            "cells": {
             "fill": {
              "color": "#EBF0F8"
             },
             "line": {
              "color": "white"
             }
            },
            "header": {
             "fill": {
              "color": "#C8D4E3"
             },
             "line": {
              "color": "white"
             }
            },
            "type": "table"
           }
          ]
         },
         "layout": {
          "annotationdefaults": {
           "arrowcolor": "#2a3f5f",
           "arrowhead": 0,
           "arrowwidth": 1
          },
          "coloraxis": {
           "colorbar": {
            "outlinewidth": 0,
            "ticks": ""
           }
          },
          "colorscale": {
           "diverging": [
            [
             0,
             "#8e0152"
            ],
            [
             0.1,
             "#c51b7d"
            ],
            [
             0.2,
             "#de77ae"
            ],
            [
             0.3,
             "#f1b6da"
            ],
            [
             0.4,
             "#fde0ef"
            ],
            [
             0.5,
             "#f7f7f7"
            ],
            [
             0.6,
             "#e6f5d0"
            ],
            [
             0.7,
             "#b8e186"
            ],
            [
             0.8,
             "#7fbc41"
            ],
            [
             0.9,
             "#4d9221"
            ],
            [
             1,
             "#276419"
            ]
           ],
           "sequential": [
            [
             0,
             "#0d0887"
            ],
            [
             0.1111111111111111,
             "#46039f"
            ],
            [
             0.2222222222222222,
             "#7201a8"
            ],
            [
             0.3333333333333333,
             "#9c179e"
            ],
            [
             0.4444444444444444,
             "#bd3786"
            ],
            [
             0.5555555555555556,
             "#d8576b"
            ],
            [
             0.6666666666666666,
             "#ed7953"
            ],
            [
             0.7777777777777778,
             "#fb9f3a"
            ],
            [
             0.8888888888888888,
             "#fdca26"
            ],
            [
             1,
             "#f0f921"
            ]
           ],
           "sequentialminus": [
            [
             0,
             "#0d0887"
            ],
            [
             0.1111111111111111,
             "#46039f"
            ],
            [
             0.2222222222222222,
             "#7201a8"
            ],
            [
             0.3333333333333333,
             "#9c179e"
            ],
            [
             0.4444444444444444,
             "#bd3786"
            ],
            [
             0.5555555555555556,
             "#d8576b"
            ],
            [
             0.6666666666666666,
             "#ed7953"
            ],
            [
             0.7777777777777778,
             "#fb9f3a"
            ],
            [
             0.8888888888888888,
             "#fdca26"
            ],
            [
             1,
             "#f0f921"
            ]
           ]
          },
          "colorway": [
           "#636efa",
           "#EF553B",
           "#00cc96",
           "#ab63fa",
           "#FFA15A",
           "#19d3f3",
           "#FF6692",
           "#B6E880",
           "#FF97FF",
           "#FECB52"
          ],
          "font": {
           "color": "#2a3f5f"
          },
          "geo": {
           "bgcolor": "white",
           "lakecolor": "white",
           "landcolor": "#E5ECF6",
           "showlakes": true,
           "showland": true,
           "subunitcolor": "white"
          },
          "hoverlabel": {
           "align": "left"
          },
          "hovermode": "closest",
          "mapbox": {
           "style": "light"
          },
          "paper_bgcolor": "white",
          "plot_bgcolor": "#E5ECF6",
          "polar": {
           "angularaxis": {
            "gridcolor": "white",
            "linecolor": "white",
            "ticks": ""
           },
           "bgcolor": "#E5ECF6",
           "radialaxis": {
            "gridcolor": "white",
            "linecolor": "white",
            "ticks": ""
           }
          },
          "scene": {
           "xaxis": {
            "backgroundcolor": "#E5ECF6",
            "gridcolor": "white",
            "gridwidth": 2,
            "linecolor": "white",
            "showbackground": true,
            "ticks": "",
            "zerolinecolor": "white"
           },
           "yaxis": {
            "backgroundcolor": "#E5ECF6",
            "gridcolor": "white",
            "gridwidth": 2,
            "linecolor": "white",
            "showbackground": true,
            "ticks": "",
            "zerolinecolor": "white"
           },
           "zaxis": {
            "backgroundcolor": "#E5ECF6",
            "gridcolor": "white",
            "gridwidth": 2,
            "linecolor": "white",
            "showbackground": true,
            "ticks": "",
            "zerolinecolor": "white"
           }
          },
          "shapedefaults": {
           "line": {
            "color": "#2a3f5f"
           }
          },
          "ternary": {
           "aaxis": {
            "gridcolor": "white",
            "linecolor": "white",
            "ticks": ""
           },
           "baxis": {
            "gridcolor": "white",
            "linecolor": "white",
            "ticks": ""
           },
           "bgcolor": "#E5ECF6",
           "caxis": {
            "gridcolor": "white",
            "linecolor": "white",
            "ticks": ""
           }
          },
          "title": {
           "x": 0.05
          },
          "xaxis": {
           "automargin": true,
           "gridcolor": "white",
           "linecolor": "white",
           "ticks": "",
           "title": {
            "standoff": 15
           },
           "zerolinecolor": "white",
           "zerolinewidth": 2
          },
          "yaxis": {
           "automargin": true,
           "gridcolor": "white",
           "linecolor": "white",
           "ticks": "",
           "title": {
            "standoff": 15
           },
           "zerolinecolor": "white",
           "zerolinewidth": 2
          }
         }
        }
       }
      },
      "text/html": [
       "<div>\n",
       "        \n",
       "        \n",
       "            <div id=\"2ee7263e-ab00-443e-8959-e1461ba0b5bb\" class=\"plotly-graph-div\" style=\"height:525px; width:100%;\"></div>\n",
       "            <script type=\"text/javascript\">\n",
       "                require([\"plotly\"], function(Plotly) {\n",
       "                    window.PLOTLYENV=window.PLOTLYENV || {};\n",
       "                    \n",
       "                if (document.getElementById(\"2ee7263e-ab00-443e-8959-e1461ba0b5bb\")) {\n",
       "                    Plotly.newPlot(\n",
       "                        '2ee7263e-ab00-443e-8959-e1461ba0b5bb',\n",
       "                        [{\"hovertemplate\": \"x=%{x}<br>y=%{y}<br>z=%{z}<extra></extra>\", \"legendgroup\": \"\", \"marker\": {\"color\": \"#636efa\", \"line\": {\"color\": \"red\", \"width\": 0.1}, \"size\": 4, \"symbol\": \"circle\"}, \"mode\": \"markers\", \"name\": \"\", \"scene\": \"scene\", \"showlegend\": false, \"type\": \"scatter3d\", \"x\": [1.9464093073773896, -1.530710680774949, 0.9720641133687735, -0.8824968669960647, -0.7250858894487129, 0.9687353836592613, -0.061683196850930815, 1.3172811954474961, -0.313869046697087, 1.0613918236988813, -0.32993317626253826, 1.4733888193126303, 0.02378514882278702, 1.8627937890726702, 0.8758612392855356, -0.09922180127535903, -0.9641712459993568, 0.8447607449713986, -0.44527815467541765, 2.2706981367163537, -0.449023034838214, -0.6251710142043551, -1.1542963080173299, -0.33134028289278084, 1.1723854330678756, 0.5256303723051423, -0.11725638284332936, 0.9079214641961488, -1.3250873478062164, 1.9785458835799197, 1.0834343143080452, -0.2057387066045171, 0.39448655687203943, -1.6662843718231866, -0.9095003401045774, -0.12122560502204947, -1.0094848912083898, -0.4133272166132642, 0.7562517832204915, 0.1095868141579558, 1.2810709255440644, 1.1196718213927277, -1.746626457683276, 0.3007930452057896, 0.02378514882278702, 1.1746594593046873, 1.2691770600670709, 0.1201793069607574, -0.10278581842134403, -1.6662843718231866, 0.5281790049243266, 1.3760381533978034, -1.0836217075350636, -1.6662843718231866, -2.0982622811154346, 0.5712810423596868, -0.6424515414987512, -2.2156019692826963, -0.15847402662202517, 1.9590878223274117, 0.77717927833554, 0.8447607449713986, 0.567509047771482, 0.27666625510662396, 1.0206256279489927, 1.8352661323224646, -0.17908231611350942, -0.23612067063927966, 1.8627937890726702, -1.6662843718231866, -1.1623106221587605, 0.9040347617706251, -1.6989191695907542, 0.9264387779379804, -0.03099764436123012, -0.538335716876568, 0.8447607449713986, 1.3991522270030194, -1.392791175014166, -0.017051402450825676, -0.3129167188070005, 1.6060191825075611, -1.0039846697304218, -0.32993317626253826, -0.024539161161996136, -0.1799005624797265, -0.47020920068133687, -0.34039370175989725, -0.5920702553967196, 0.7007298242297169, 1.0964373823967544, -0.6530786578313028, -0.4445644943576976, -0.5920702553967196, -0.061683196850930815, 0.5256303723051423, 0.02378514882278702, -1.7247975953763814, 1.7928553679083643, -0.3094208005577539, -0.22025516402697218, 1.8663143030014013, -0.9149077602715515, -0.32993317626253826, 0.04980852336216896, -1.530710680774949, 1.8663143030014013, 0.555017281638897, 0.1095868141579558, -0.4881374093971212, -0.5803790424938704, 0.6087692977611742, 0.8813995329977566, -0.5920702553967196, -0.6923000288263846, -0.9641712459993568, -1.0039846697304218, -0.09922180127535903, -0.5920702553967196, 1.0964373823967544, 0.04980852336216896, -0.9938014245270672, -0.32993317626253826, 0.31547261080370226, -0.15984789506469946, 0.8447607449713986, -0.09922180127535903, -0.5920702553967196, -1.0342811381592598, -0.9473615832722786, -0.5920702553967196, 2.283893060082616, -1.0039846697304218, -0.35557905551705843, -1.530710680774949, -0.5803790424938704, 0.567509047771482, 1.3760381533978034, 1.2830176340440838, -0.024539161161996136, 1.2853763934373885, -0.6923000288263846, 0.14837717278727638, -0.35870178511547146, -0.3609202571881497, -0.1799005624797265, 0.08588052779752602, 0.10984750447257398, 1.2813760083286438, -0.502936886082851, 1.313370606856203, -1.054201448613132, 1.2832969255161097, -0.35447389809224256, -0.9497894130418909, 1.0589199811761216, -1.530710680774949, 0.29183825587890366, 0.8729401620142104, 0.8729401620142104, -0.15984789506469946, 0.48013115081648633, -0.22224822685882914, -0.09922180127535903, -1.2387351297706162, -0.3074971816078059, -2.080391015077452, -0.024539161161996136, 1.2691770600670709, 2.297133848230063, 1.9610092660270046, -1.6662843718231866, -1.1942533557992427, -0.34470912970366874, 1.8663143030014013, 0.9024719251571862, 0.14554214026267503, -0.44527815467541765, -0.6424515414987512, -0.8592164359044182, 0.016311330066540987, -0.6469804781387392, -0.5013619754714888, 1.2814328264181492, 1.1080836700841847, -0.5920702553967196, 0.8447607449713986, -0.5920702553967196, 1.8627937890726702, -0.04924854227266179, 0.8447607449713986, -0.9938014245270672, -0.5803790424938704, 1.2691770600670709, 0.1801390560791652, -0.15358745459579637, 0.9720641133687735, -0.5194768116862994, -0.10366157949700786, -0.020977778206273598, 1.2810709255440644, -1.530710680774949, 1.1059600521890336, -0.6424515414987512, 0.1439187511518699, 0.025931505038829357, -0.5920702553967196, -0.243212533159976, -0.9641712459993568, -1.0039846697304218, -0.48803372393386635, -0.9252841944168086, -0.3446241907418859, -0.6251710142043551, -0.6342553419774516, -0.47020920068133687, -1.6662843718231866, 1.9610092660270046, 0.14554214026267503, 1.3281424519577316, -2.0982622811154346, -1.6662843718231866, 0.9343000564038215, 0.00787943808711172, -1.1542963080173299, -0.9641712459993568, -0.33134028289278084, 0.77717927833554, -1.1292100085292536, 1.2853763934373885, -1.6662843718231866, 0.6973688030126728, -0.20392394254488913, -0.3205338460429651, 0.6942775607022756, -1.530710680774949, 0.23811045580379492, -0.3487063391341715, -1.0836217075350636, 0.7007298242297169, 1.89221844225051, 1.2691770600670709, -1.0803550020500272, -0.8959745344945077, -2.895647479174948, 0.02378514882278702, 0.29517096144482574, 1.8663143030014013, 0.9281711469054649, -0.05705272122425618, -1.3683744411197563, 0.2516372300916733, 0.5281790049243266, -0.5920702553967196, 0.3700051700063879, -0.11725638284332936, 1.2691770600670709, -0.19533031445191193, 0.032090236340492045, 0.11115497351909594, -1.3142140334000607, 1.4524796454048547, 0.6939843417602088, 0.06561708355193852, -0.697576154828229, 0.3571194875214408, -0.11725638284332936, -0.19463771898237778, 1.6039093209229867, -0.30182041223651734, -0.17908231611350942, -0.27972306155107907, -0.34039370175989725, -0.313869046697087, -0.5920702553967196, 1.6316252865486252, 0.69524974321284, -0.7250858894487129, -0.15984789506469946, -1.6662843718231866, 1.89221844225051, -0.469898218278821, -0.4844585009305659, 0.8447607449713986, -0.4547374506607182, -0.7250858894487129, -0.33134028289278084, -1.530710680774949, -0.33029448268590356], \"y\": [0.8740329437239449, -0.7887106801699406, -1.0540421095147094, -0.5941342986504432, -0.29342534539303855, -1.2751516339686837, 0.4141251328596787, 0.024972369820684365, -1.0628864904928685, -0.20498153561144886, -1.169019062230776, 0.1222605605804328, -0.32880286930567426, -0.09000458289538225, -0.7179556323446687, -0.32880286930567426, -1.4078173486410681, -0.4172466790872639, -1.5051055394008168, 0.08688303666779706, 0.909410467636581, -0.6295118225630791, 1.4931396121950724, -0.39071353615278714, -0.20498153561144886, 0.04266113177700223, 0.8651885627457861, -1.3282179198376374, 0.5291020855757453, 0.6352346573136529, 1.2631857067629395, -0.26689220245856154, 0.09572741764595616, -0.930220775820484, -0.14307086876433603, 1.9972693279501337, -1.3016847769031605, 0.10457179862411493, -0.29342534539303855, 0.1930156084057046, -0.8771544899515302, -0.1784483926769719, 0.11341617960227401, -1.195552205165253, -0.39955791713094607, -0.956753918754961, -1.1513303002744582, 1.5462058980640263, 1.8292260893651136, -0.9390651567986429, -0.010405154091951687, -1.0098202046239146, -0.33764725028383336, -0.9479095377768019, -1.195552205165253, 1.1482087540468728, -1.5051055394008168, -1.160174681252617, 1.8557592322995902, 1.095142468177919, 1.2101194208939856, -0.4526242029998998, 0.16648246547122764, 0.3168369420999303, -0.054627058982746515, 0.5291020855757453, 0.0603498937333201, 1.961891804037498, -0.019249535070110464, -0.9832870616894378, -1.2839960149468426, -0.37302477419646907, 1.4046958024134828, -0.001560773113792596, 1.0862980871997603, 0.21954875134018154, -0.426091060065423, 0.3168369420999303, 1.43122894534796, 0.378747608947043, 0.15763808449306885, 1.5550502790421854, -1.5051055394008168, -1.186707824187094, -0.46146858397805873, -1.3193735388594785, -1.3547510627721144, -0.9036876328860071, -0.07231582093906438, -0.33764725028383336, 0.09572741764595616, 1.4666064692605958, -0.2138259165896078, -0.12538210680801815, 0.3699032279688839, -0.010405154091951687, -0.3464916312619923, 1.3250963736100523, -0.16075963072065405, 1.3870070404571653, -1.124797157339981, -0.3022697263711975, 1.3958514214353237, -1.169019062230776, -1.230929729077889, -0.7887106801699406, -0.001560773113792596, 0.033816750798843144, 1.6700272317582519, -0.04578267800458743, -1.5051055394008168, 0.4141251328596787, 0.08688303666779706, -0.054627058982746515, -1.0982640144055045, -1.4078173486410681, -1.5051055394008168, -0.33764725028383336, -0.07231582093906438, 0.07803865568963797, -1.177863443208935, -0.38186915517462816, -1.230929729077889, 1.1128312301342371, -0.16075963072065405, -0.20498153561144886, -0.3022697263711975, -0.09884896387354118, 1.5815834219766622, 1.0243874203526475, -0.09884896387354118, 1.2278081828503036, -1.5051055394008168, 0.08688303666779706, -0.8152438231044173, -1.5051055394008168, 0.17532684644938673, -1.0451977285365506, 0.10457179862411493, -1.2663072529905248, 0.28145941818729425, -1.0363533475583915, 1.8822923752340668, -1.3370623008157965, 1.4666064692605958, -0.8771544899515302, 1.2631857067629395, 1.616960945889298, 0.1311049415585919, 1.625805326867457, -0.5852899176722843, 1.5727390409985031, -1.1513303002744582, -1.186707824187094, 1.4400733263261185, -0.33764725028383336, -0.8152438231044173, -0.33764725028383336, -0.7091112513665099, -0.7002668703883509, 0.1930156084057046, 1.7761598034961597, 1.201275039915827, -0.3022697263711975, 1.201275039915827, -0.1961371546332898, 2.36873332903281, -1.2751516339686837, -1.160174681252617, 0.033816750798843144, 0.7590559910078786, -0.9390651567986429, -0.33764725028383336, 1.2189638018721447, -0.04578267800458743, 1.2720300877410984, 1.6346497078456161, -1.5051055394008168, -1.5051055394008168, 1.899981137190385, 0.1930156084057046, 1.5550502790421854, -0.3022697263711975, 0.01612798884252527, 0.051505512755161326, -0.07231582093906438, -0.4880017269125357, -0.2580478214804026, -0.06347143996090529, 1.68771599371457, -0.426091060065423, -0.36418039321831014, -1.5051055394008168, -1.1513303002744582, 1.899981137190385, 1.1835862779595088, -1.0805752524491863, -1.1424859192962993, -1.22208534809973, 1.1128312301342371, -0.8329325850607354, -0.7710219182136225, -0.2492034405022437, -1.5051055394008168, -0.8417769660388943, 1.4577620882824367, -0.054627058982746515, -0.6472005845193971, -1.4078173486410681, -1.5051055394008168, -0.036938297026428334, -0.47915734593437675, 1.3958514214353237, -0.6118230606067613, -0.5852899176722843, -1.4078173486410681, -1.0098202046239146, 0.7855891339423552, 1.6700272317582519, -0.04578267800458743, -1.2043965861434118, -0.921376394842325, -0.09884896387354118, 1.8734479942559084, 1.5019839931732315, -1.4166617296192272, -0.1784483926769719, 1.17474189698135, 1.2278081828503036, 0.3433700850344069, -0.956753918754961, 1.2985632306755752, 1.8822923752340668, -1.0894196334273454, 1.3250963736100523, -0.7533331562573047, 0.5114133236194275, -0.930220775820484, -0.38186915517462816, -0.3464916312619923, -0.3111141073493564, -1.1513303002744582, 1.6611828507800928, -1.5051055394008168, -1.3724398247284322, -0.32880286930567426, -0.12538210680801815, -0.29342534539303855, 1.0862980871997603, 0.9359436105710579, 2.147623804578836, 1.157053135025032, 0.007283607864366495, -0.054627058982746515, -0.08116020191722316, 0.8474998007894682, -0.3111141073493564, 2.271445138273062, 1.5815834219766622, 1.0066986583963293, -0.7975550611480995, -0.2580478214804026, 1.2366525638284627, 1.7938485654524772, 1.2808744687192575, 1.908825518168544, 1.5638946600203445, 0.024972369820684365, -0.7179556323446687, 0.04266113177700223, 0.10457179862411493, 1.5727390409985031, 0.4583470377504736, -1.0275089665802326, -0.08116020191722316, -0.4526242029998998, 0.4141251328596787, -0.32880286930567426, 0.1841712274275458, -0.921376394842325, -0.3022697263711975, 0.9890098964400115, 1.5462058980640263, -0.4437798220217409, 0.8298110388331501, -0.36418039321831014, -0.16960401169881298, -0.7975550611480995, 0.1930156084057046], \"z\": [15.5, 51.6, 28.9, 45.3, 41.4, 31.1, 44.2, 29.5, 43.1, 23.0, 60.7, 25.7, 47.3, 11.6, 48.0, 31.3, 54.4, 29.5, 50.8, 15.0, 36.5, 57.4, 41.5, 42.5, 22.9, 38.2, 35.5, 25.6, 37.2, 13.4, 20.7, 42.6, 29.7, 63.9, 55.1, 38.8, 45.4, 43.1, 30.6, 39.6, 32.1, 20.9, 46.6, 36.7, 42.0, 31.3, 30.7, 40.3, 37.0, 62.2, 40.3, 24.7, 29.3, 58.1, 53.5, 22.8, 45.4, 56.8, 35.7, 13.2, 18.3, 28.4, 20.8, 46.4, 24.7, 25.3, 26.5, 30.0, 18.2, 56.3, 36.9, 21.4, 47.1, 30.7, 40.2, 42.2, 30.1, 21.8, 46.1, 42.2, 40.6, 41.2, 52.2, 58.8, 40.3, 45.5, 50.4, 54.4, 51.4, 34.3, 20.9, 42.9, 26.5, 46.1, 42.5, 37.7, 45.9, 37.9, 29.3, 30.5, 45.2, 15.9, 48.2, 55.0, 47.7, 52.5, 18.8, 25.5, 36.8, 49.3, 63.3, 23.1, 26.5, 41.2, 53.7, 45.1, 55.2, 42.3, 55.0, 22.1, 41.6, 28.5, 56.2, 25.0, 34.6, 24.6, 43.8, 42.1, 39.7, 42.5, 53.0, 12.2, 37.9, 39.5, 47.0, 71.0, 22.3, 22.3, 21.8, 53.9, 22.8, 63.2, 31.5, 40.5, 41.9, 57.1, 30.9, 42.3, 28.1, 78.0, 27.3, 40.9, 28.6, 61.9, 39.4, 30.8, 38.4, 37.8, 38.5, 43.2, 32.9, 31.9, 48.5, 48.0, 53.3, 7.6, 42.7, 55.0, 31.7, 11.2, 15.6, 59.5, 48.1, 36.8, 12.8, 21.5, 40.8, 44.9, 43.5, 41.0, 47.0, 26.9, 47.4, 27.7, 31.1, 46.2, 26.2, 53.3, 20.5, 34.7, 26.6, 33.1, 73.6, 33.4, 34.2, 36.2, 21.7, 51.7, 43.2, 37.5, 27.7, 42.8, 24.8, 52.2, 40.8, 46.6, 51.0, 49.3, 49.0, 55.3, 51.0, 55.9, 38.6, 47.9, 33.6, 51.8, 50.0, 22.1, 61.5, 23.2, 54.4, 59.0, 23.6, 29.8, 39.1, 50.7, 34.4, 19.1, 39.7, 25.7, 58.0, 13.7, 38.4, 44.8, 12.8, 55.5, 36.6, 40.9, 32.9, 32.2, 18.6, 28.4, 48.5, 44.0, 49.7, 54.8, 37.5, 15.4, 27.0, 37.4, 60.7, 55.3, 40.0, 53.0, 35.6, 37.5, 23.6, 35.3, 28.5, 34.6, 47.3, 21.8, 19.0, 37.4, 36.3, 62.9, 41.1, 43.9, 22.0, 24.5, 31.6, 41.4, 44.0, 49.5, 51.7, 46.6, 23.8, 42.0, 34.0, 58.1, 13.0, 43.4, 46.0, 28.9, 38.1, 39.3, 43.7, 51.8, 48.1]}],\n",
       "                        {\"legend\": {\"tracegroupgap\": 0}, \"margin\": {\"t\": 60}, \"scene\": {\"domain\": {\"x\": [0.0, 1.0], \"y\": [0.0, 1.0]}, \"xaxis\": {\"title\": {\"text\": \"x\"}}, \"yaxis\": {\"title\": {\"text\": \"y\"}}, \"zaxis\": {\"title\": {\"text\": \"z\"}}}, \"template\": {\"data\": {\"bar\": [{\"error_x\": {\"color\": \"#2a3f5f\"}, \"error_y\": {\"color\": \"#2a3f5f\"}, \"marker\": {\"line\": {\"color\": \"#E5ECF6\", \"width\": 0.5}}, \"type\": \"bar\"}], \"barpolar\": [{\"marker\": {\"line\": {\"color\": \"#E5ECF6\", \"width\": 0.5}}, \"type\": \"barpolar\"}], \"carpet\": [{\"aaxis\": {\"endlinecolor\": \"#2a3f5f\", \"gridcolor\": \"white\", \"linecolor\": \"white\", \"minorgridcolor\": \"white\", \"startlinecolor\": \"#2a3f5f\"}, \"baxis\": {\"endlinecolor\": \"#2a3f5f\", \"gridcolor\": \"white\", \"linecolor\": \"white\", \"minorgridcolor\": \"white\", \"startlinecolor\": \"#2a3f5f\"}, \"type\": \"carpet\"}], \"choropleth\": [{\"colorbar\": {\"outlinewidth\": 0, \"ticks\": \"\"}, \"type\": \"choropleth\"}], \"contour\": [{\"colorbar\": {\"outlinewidth\": 0, \"ticks\": \"\"}, \"colorscale\": [[0.0, \"#0d0887\"], [0.1111111111111111, \"#46039f\"], [0.2222222222222222, \"#7201a8\"], [0.3333333333333333, \"#9c179e\"], [0.4444444444444444, \"#bd3786\"], [0.5555555555555556, \"#d8576b\"], [0.6666666666666666, \"#ed7953\"], [0.7777777777777778, \"#fb9f3a\"], [0.8888888888888888, \"#fdca26\"], [1.0, \"#f0f921\"]], \"type\": \"contour\"}], \"contourcarpet\": [{\"colorbar\": {\"outlinewidth\": 0, \"ticks\": \"\"}, \"type\": \"contourcarpet\"}], \"heatmap\": [{\"colorbar\": {\"outlinewidth\": 0, \"ticks\": \"\"}, \"colorscale\": [[0.0, \"#0d0887\"], [0.1111111111111111, \"#46039f\"], [0.2222222222222222, \"#7201a8\"], [0.3333333333333333, \"#9c179e\"], [0.4444444444444444, \"#bd3786\"], [0.5555555555555556, \"#d8576b\"], [0.6666666666666666, \"#ed7953\"], [0.7777777777777778, \"#fb9f3a\"], [0.8888888888888888, \"#fdca26\"], [1.0, \"#f0f921\"]], \"type\": \"heatmap\"}], \"heatmapgl\": [{\"colorbar\": {\"outlinewidth\": 0, \"ticks\": \"\"}, \"colorscale\": [[0.0, \"#0d0887\"], [0.1111111111111111, \"#46039f\"], [0.2222222222222222, \"#7201a8\"], [0.3333333333333333, \"#9c179e\"], [0.4444444444444444, \"#bd3786\"], [0.5555555555555556, \"#d8576b\"], [0.6666666666666666, \"#ed7953\"], [0.7777777777777778, \"#fb9f3a\"], [0.8888888888888888, \"#fdca26\"], [1.0, \"#f0f921\"]], \"type\": \"heatmapgl\"}], \"histogram\": [{\"marker\": {\"colorbar\": {\"outlinewidth\": 0, \"ticks\": \"\"}}, \"type\": \"histogram\"}], \"histogram2d\": [{\"colorbar\": {\"outlinewidth\": 0, \"ticks\": \"\"}, \"colorscale\": [[0.0, \"#0d0887\"], [0.1111111111111111, \"#46039f\"], [0.2222222222222222, \"#7201a8\"], [0.3333333333333333, \"#9c179e\"], [0.4444444444444444, \"#bd3786\"], [0.5555555555555556, \"#d8576b\"], [0.6666666666666666, \"#ed7953\"], [0.7777777777777778, \"#fb9f3a\"], [0.8888888888888888, \"#fdca26\"], [1.0, \"#f0f921\"]], \"type\": \"histogram2d\"}], \"histogram2dcontour\": [{\"colorbar\": {\"outlinewidth\": 0, \"ticks\": \"\"}, \"colorscale\": [[0.0, \"#0d0887\"], [0.1111111111111111, \"#46039f\"], [0.2222222222222222, \"#7201a8\"], [0.3333333333333333, \"#9c179e\"], [0.4444444444444444, \"#bd3786\"], [0.5555555555555556, \"#d8576b\"], [0.6666666666666666, \"#ed7953\"], [0.7777777777777778, \"#fb9f3a\"], [0.8888888888888888, \"#fdca26\"], [1.0, \"#f0f921\"]], \"type\": \"histogram2dcontour\"}], \"mesh3d\": [{\"colorbar\": {\"outlinewidth\": 0, \"ticks\": \"\"}, \"type\": \"mesh3d\"}], \"parcoords\": [{\"line\": {\"colorbar\": {\"outlinewidth\": 0, \"ticks\": \"\"}}, \"type\": \"parcoords\"}], \"pie\": [{\"automargin\": true, \"type\": \"pie\"}], \"scatter\": [{\"marker\": {\"colorbar\": {\"outlinewidth\": 0, \"ticks\": \"\"}}, \"type\": \"scatter\"}], \"scatter3d\": [{\"line\": {\"colorbar\": {\"outlinewidth\": 0, \"ticks\": \"\"}}, \"marker\": {\"colorbar\": {\"outlinewidth\": 0, \"ticks\": \"\"}}, \"type\": \"scatter3d\"}], \"scattercarpet\": [{\"marker\": {\"colorbar\": {\"outlinewidth\": 0, \"ticks\": \"\"}}, \"type\": \"scattercarpet\"}], \"scattergeo\": [{\"marker\": {\"colorbar\": {\"outlinewidth\": 0, \"ticks\": \"\"}}, \"type\": \"scattergeo\"}], \"scattergl\": [{\"marker\": {\"colorbar\": {\"outlinewidth\": 0, \"ticks\": \"\"}}, \"type\": \"scattergl\"}], \"scattermapbox\": [{\"marker\": {\"colorbar\": {\"outlinewidth\": 0, \"ticks\": \"\"}}, \"type\": \"scattermapbox\"}], \"scatterpolar\": [{\"marker\": {\"colorbar\": {\"outlinewidth\": 0, \"ticks\": \"\"}}, \"type\": \"scatterpolar\"}], \"scatterpolargl\": [{\"marker\": {\"colorbar\": {\"outlinewidth\": 0, \"ticks\": \"\"}}, \"type\": \"scatterpolargl\"}], \"scatterternary\": [{\"marker\": {\"colorbar\": {\"outlinewidth\": 0, \"ticks\": \"\"}}, \"type\": \"scatterternary\"}], \"surface\": [{\"colorbar\": {\"outlinewidth\": 0, \"ticks\": \"\"}, \"colorscale\": [[0.0, \"#0d0887\"], [0.1111111111111111, \"#46039f\"], [0.2222222222222222, \"#7201a8\"], [0.3333333333333333, \"#9c179e\"], [0.4444444444444444, \"#bd3786\"], [0.5555555555555556, \"#d8576b\"], [0.6666666666666666, \"#ed7953\"], [0.7777777777777778, \"#fb9f3a\"], [0.8888888888888888, \"#fdca26\"], [1.0, \"#f0f921\"]], \"type\": \"surface\"}], \"table\": [{\"cells\": {\"fill\": {\"color\": \"#EBF0F8\"}, \"line\": {\"color\": \"white\"}}, \"header\": {\"fill\": {\"color\": \"#C8D4E3\"}, \"line\": {\"color\": \"white\"}}, \"type\": \"table\"}]}, \"layout\": {\"annotationdefaults\": {\"arrowcolor\": \"#2a3f5f\", \"arrowhead\": 0, \"arrowwidth\": 1}, \"coloraxis\": {\"colorbar\": {\"outlinewidth\": 0, \"ticks\": \"\"}}, \"colorscale\": {\"diverging\": [[0, \"#8e0152\"], [0.1, \"#c51b7d\"], [0.2, \"#de77ae\"], [0.3, \"#f1b6da\"], [0.4, \"#fde0ef\"], [0.5, \"#f7f7f7\"], [0.6, \"#e6f5d0\"], [0.7, \"#b8e186\"], [0.8, \"#7fbc41\"], [0.9, \"#4d9221\"], [1, \"#276419\"]], \"sequential\": [[0.0, \"#0d0887\"], [0.1111111111111111, \"#46039f\"], [0.2222222222222222, \"#7201a8\"], [0.3333333333333333, \"#9c179e\"], [0.4444444444444444, \"#bd3786\"], [0.5555555555555556, \"#d8576b\"], [0.6666666666666666, \"#ed7953\"], [0.7777777777777778, \"#fb9f3a\"], [0.8888888888888888, \"#fdca26\"], [1.0, \"#f0f921\"]], \"sequentialminus\": [[0.0, \"#0d0887\"], [0.1111111111111111, \"#46039f\"], [0.2222222222222222, \"#7201a8\"], [0.3333333333333333, \"#9c179e\"], [0.4444444444444444, \"#bd3786\"], [0.5555555555555556, \"#d8576b\"], [0.6666666666666666, \"#ed7953\"], [0.7777777777777778, \"#fb9f3a\"], [0.8888888888888888, \"#fdca26\"], [1.0, \"#f0f921\"]]}, \"colorway\": [\"#636efa\", \"#EF553B\", \"#00cc96\", \"#ab63fa\", \"#FFA15A\", \"#19d3f3\", \"#FF6692\", \"#B6E880\", \"#FF97FF\", \"#FECB52\"], \"font\": {\"color\": \"#2a3f5f\"}, \"geo\": {\"bgcolor\": \"white\", \"lakecolor\": \"white\", \"landcolor\": \"#E5ECF6\", \"showlakes\": true, \"showland\": true, \"subunitcolor\": \"white\"}, \"hoverlabel\": {\"align\": \"left\"}, \"hovermode\": \"closest\", \"mapbox\": {\"style\": \"light\"}, \"paper_bgcolor\": \"white\", \"plot_bgcolor\": \"#E5ECF6\", \"polar\": {\"angularaxis\": {\"gridcolor\": \"white\", \"linecolor\": \"white\", \"ticks\": \"\"}, \"bgcolor\": \"#E5ECF6\", \"radialaxis\": {\"gridcolor\": \"white\", \"linecolor\": \"white\", \"ticks\": \"\"}}, \"scene\": {\"xaxis\": {\"backgroundcolor\": \"#E5ECF6\", \"gridcolor\": \"white\", \"gridwidth\": 2, \"linecolor\": \"white\", \"showbackground\": true, \"ticks\": \"\", \"zerolinecolor\": \"white\"}, \"yaxis\": {\"backgroundcolor\": \"#E5ECF6\", \"gridcolor\": \"white\", \"gridwidth\": 2, \"linecolor\": \"white\", \"showbackground\": true, \"ticks\": \"\", \"zerolinecolor\": \"white\"}, \"zaxis\": {\"backgroundcolor\": \"#E5ECF6\", \"gridcolor\": \"white\", \"gridwidth\": 2, \"linecolor\": \"white\", \"showbackground\": true, \"ticks\": \"\", \"zerolinecolor\": \"white\"}}, \"shapedefaults\": {\"line\": {\"color\": \"#2a3f5f\"}}, \"ternary\": {\"aaxis\": {\"gridcolor\": \"white\", \"linecolor\": \"white\", \"ticks\": \"\"}, \"baxis\": {\"gridcolor\": \"white\", \"linecolor\": \"white\", \"ticks\": \"\"}, \"bgcolor\": \"#E5ECF6\", \"caxis\": {\"gridcolor\": \"white\", \"linecolor\": \"white\", \"ticks\": \"\"}}, \"title\": {\"x\": 0.05}, \"xaxis\": {\"automargin\": true, \"gridcolor\": \"white\", \"linecolor\": \"white\", \"ticks\": \"\", \"title\": {\"standoff\": 15}, \"zerolinecolor\": \"white\", \"zerolinewidth\": 2}, \"yaxis\": {\"automargin\": true, \"gridcolor\": \"white\", \"linecolor\": \"white\", \"ticks\": \"\", \"title\": {\"standoff\": 15}, \"zerolinecolor\": \"white\", \"zerolinewidth\": 2}}}},\n",
       "                        {\"responsive\": true}\n",
       "                    ).then(function(){\n",
       "                            \n",
       "var gd = document.getElementById('2ee7263e-ab00-443e-8959-e1461ba0b5bb');\n",
       "var x = new MutationObserver(function (mutations, observer) {{\n",
       "        var display = window.getComputedStyle(gd).display;\n",
       "        if (!display || display === 'none') {{\n",
       "            console.log([gd, 'removed!']);\n",
       "            Plotly.purge(gd);\n",
       "            observer.disconnect();\n",
       "        }}\n",
       "}});\n",
       "\n",
       "// Listen for the removal of the full notebook cells\n",
       "var notebookContainer = gd.closest('#notebook-container');\n",
       "if (notebookContainer) {{\n",
       "    x.observe(notebookContainer, {childList: true});\n",
       "}}\n",
       "\n",
       "// Listen for the clearing of the current output cell\n",
       "var outputEl = gd.closest('.output');\n",
       "if (outputEl) {{\n",
       "    x.observe(outputEl, {childList: true});\n",
       "}}\n",
       "\n",
       "                        })\n",
       "                };\n",
       "                });\n",
       "            </script>\n",
       "        </div>"
      ]
     },
     "metadata": {},
     "output_type": "display_data"
    }
   ],
   "source": [
    "import plotly.express as px\n",
    "fig = px.scatter_3d(x=X_train_sc.dist_mrt, y=X_train_sc.house_age, z=Y_train)\n",
    "fig.update_traces(marker=dict(size=4,\n",
    "                              line=dict(width=0.1,\n",
    "                                        color='red')))\n",
    "fig.show()"
   ]
  },
  {
   "cell_type": "code",
   "execution_count": 51,
   "metadata": {},
   "outputs": [
    {
     "data": {
      "application/vnd.plotly.v1+json": {
       "config": {
        "plotlyServerURL": "https://plot.ly"
       },
       "data": [
        {
         "hovertemplate": "x=%{x}<br>y=%{y}<br>z=%{z}<extra></extra>",
         "legendgroup": "",
         "marker": {
          "color": "#636efa",
          "line": {
           "color": "DarkSlateGrey",
           "width": 0.1
          },
          "size": 4,
          "symbol": "circle"
         },
         "mode": "markers",
         "name": "",
         "scene": "scene",
         "showlegend": false,
         "type": "scatter3d",
         "x": [
          1.9464093073773896,
          -1.530710680774949,
          0.9720641133687735,
          -0.8824968669960647,
          -0.7250858894487129,
          0.9687353836592613,
          -0.061683196850930815,
          1.3172811954474961,
          -0.313869046697087,
          1.0613918236988813,
          -0.32993317626253826,
          1.4733888193126303,
          0.02378514882278702,
          1.8627937890726702,
          0.8758612392855356,
          -0.09922180127535903,
          -0.9641712459993568,
          0.8447607449713986,
          -0.44527815467541765,
          2.2706981367163537,
          -0.449023034838214,
          -0.6251710142043551,
          -1.1542963080173299,
          -0.33134028289278084,
          1.1723854330678756,
          0.5256303723051423,
          -0.11725638284332936,
          0.9079214641961488,
          -1.3250873478062164,
          1.9785458835799197,
          1.0834343143080452,
          -0.2057387066045171,
          0.39448655687203943,
          -1.6662843718231866,
          -0.9095003401045774,
          -0.12122560502204947,
          -1.0094848912083898,
          -0.4133272166132642,
          0.7562517832204915,
          0.1095868141579558,
          1.2810709255440644,
          1.1196718213927277,
          -1.746626457683276,
          0.3007930452057896,
          0.02378514882278702,
          1.1746594593046873,
          1.2691770600670709,
          0.1201793069607574,
          -0.10278581842134403,
          -1.6662843718231866,
          0.5281790049243266,
          1.3760381533978034,
          -1.0836217075350636,
          -1.6662843718231866,
          -2.0982622811154346,
          0.5712810423596868,
          -0.6424515414987512,
          -2.2156019692826963,
          -0.15847402662202517,
          1.9590878223274117,
          0.77717927833554,
          0.8447607449713986,
          0.567509047771482,
          0.27666625510662396,
          1.0206256279489927,
          1.8352661323224646,
          -0.17908231611350942,
          -0.23612067063927966,
          1.8627937890726702,
          -1.6662843718231866,
          -1.1623106221587605,
          0.9040347617706251,
          -1.6989191695907542,
          0.9264387779379804,
          -0.03099764436123012,
          -0.538335716876568,
          0.8447607449713986,
          1.3991522270030194,
          -1.392791175014166,
          -0.017051402450825676,
          -0.3129167188070005,
          1.6060191825075611,
          -1.0039846697304218,
          -0.32993317626253826,
          -0.024539161161996136,
          -0.1799005624797265,
          -0.47020920068133687,
          -0.34039370175989725,
          -0.5920702553967196,
          0.7007298242297169,
          1.0964373823967544,
          -0.6530786578313028,
          -0.4445644943576976,
          -0.5920702553967196,
          -0.061683196850930815,
          0.5256303723051423,
          0.02378514882278702,
          -1.7247975953763814,
          1.7928553679083643,
          -0.3094208005577539,
          -0.22025516402697218,
          1.8663143030014013,
          -0.9149077602715515,
          -0.32993317626253826,
          0.04980852336216896,
          -1.530710680774949,
          1.8663143030014013,
          0.555017281638897,
          0.1095868141579558,
          -0.4881374093971212,
          -0.5803790424938704,
          0.6087692977611742,
          0.8813995329977566,
          -0.5920702553967196,
          -0.6923000288263846,
          -0.9641712459993568,
          -1.0039846697304218,
          -0.09922180127535903,
          -0.5920702553967196,
          1.0964373823967544,
          0.04980852336216896,
          -0.9938014245270672,
          -0.32993317626253826,
          0.31547261080370226,
          -0.15984789506469946,
          0.8447607449713986,
          -0.09922180127535903,
          -0.5920702553967196,
          -1.0342811381592598,
          -0.9473615832722786,
          -0.5920702553967196,
          2.283893060082616,
          -1.0039846697304218,
          -0.35557905551705843,
          -1.530710680774949,
          -0.5803790424938704,
          0.567509047771482,
          1.3760381533978034,
          1.2830176340440838,
          -0.024539161161996136,
          1.2853763934373885,
          -0.6923000288263846,
          0.14837717278727638,
          -0.35870178511547146,
          -0.3609202571881497,
          -0.1799005624797265,
          0.08588052779752602,
          0.10984750447257398,
          1.2813760083286438,
          -0.502936886082851,
          1.313370606856203,
          -1.054201448613132,
          1.2832969255161097,
          -0.35447389809224256,
          -0.9497894130418909,
          1.0589199811761216,
          -1.530710680774949,
          0.29183825587890366,
          0.8729401620142104,
          0.8729401620142104,
          -0.15984789506469946,
          0.48013115081648633,
          -0.22224822685882914,
          -0.09922180127535903,
          -1.2387351297706162,
          -0.3074971816078059,
          -2.080391015077452,
          -0.024539161161996136,
          1.2691770600670709,
          2.297133848230063,
          1.9610092660270046,
          -1.6662843718231866,
          -1.1942533557992427,
          -0.34470912970366874,
          1.8663143030014013,
          0.9024719251571862,
          0.14554214026267503,
          -0.44527815467541765,
          -0.6424515414987512,
          -0.8592164359044182,
          0.016311330066540987,
          -0.6469804781387392,
          -0.5013619754714888,
          1.2814328264181492,
          1.1080836700841847,
          -0.5920702553967196,
          0.8447607449713986,
          -0.5920702553967196,
          1.8627937890726702,
          -0.04924854227266179,
          0.8447607449713986,
          -0.9938014245270672,
          -0.5803790424938704,
          1.2691770600670709,
          0.1801390560791652,
          -0.15358745459579637,
          0.9720641133687735,
          -0.5194768116862994,
          -0.10366157949700786,
          -0.020977778206273598,
          1.2810709255440644,
          -1.530710680774949,
          1.1059600521890336,
          -0.6424515414987512,
          0.1439187511518699,
          0.025931505038829357,
          -0.5920702553967196,
          -0.243212533159976,
          -0.9641712459993568,
          -1.0039846697304218,
          -0.48803372393386635,
          -0.9252841944168086,
          -0.3446241907418859,
          -0.6251710142043551,
          -0.6342553419774516,
          -0.47020920068133687,
          -1.6662843718231866,
          1.9610092660270046,
          0.14554214026267503,
          1.3281424519577316,
          -2.0982622811154346,
          -1.6662843718231866,
          0.9343000564038215,
          0.00787943808711172,
          -1.1542963080173299,
          -0.9641712459993568,
          -0.33134028289278084,
          0.77717927833554,
          -1.1292100085292536,
          1.2853763934373885,
          -1.6662843718231866,
          0.6973688030126728,
          -0.20392394254488913,
          -0.3205338460429651,
          0.6942775607022756,
          -1.530710680774949,
          0.23811045580379492,
          -0.3487063391341715,
          -1.0836217075350636,
          0.7007298242297169,
          1.89221844225051,
          1.2691770600670709,
          -1.0803550020500272,
          -0.8959745344945077,
          -2.895647479174948,
          0.02378514882278702,
          0.29517096144482574,
          1.8663143030014013,
          0.9281711469054649,
          -0.05705272122425618,
          -1.3683744411197563,
          0.2516372300916733,
          0.5281790049243266,
          -0.5920702553967196,
          0.3700051700063879,
          -0.11725638284332936,
          1.2691770600670709,
          -0.19533031445191193,
          0.032090236340492045,
          0.11115497351909594,
          -1.3142140334000607,
          1.4524796454048547,
          0.6939843417602088,
          0.06561708355193852,
          -0.697576154828229,
          0.3571194875214408,
          -0.11725638284332936,
          -0.19463771898237778,
          1.6039093209229867,
          -0.30182041223651734,
          -0.17908231611350942,
          -0.27972306155107907,
          -0.34039370175989725,
          -0.313869046697087,
          -0.5920702553967196,
          1.6316252865486252,
          0.69524974321284,
          -0.7250858894487129,
          -0.15984789506469946,
          -1.6662843718231866,
          1.89221844225051,
          -0.469898218278821,
          -0.4844585009305659,
          0.8447607449713986,
          -0.4547374506607182,
          -0.7250858894487129,
          -0.33134028289278084,
          -1.530710680774949,
          -0.33029448268590356
         ],
         "y": [
          0.8740329437239449,
          -0.7887106801699406,
          -1.0540421095147094,
          -0.5941342986504432,
          -0.29342534539303855,
          -1.2751516339686837,
          0.4141251328596787,
          0.024972369820684365,
          -1.0628864904928685,
          -0.20498153561144886,
          -1.169019062230776,
          0.1222605605804328,
          -0.32880286930567426,
          -0.09000458289538225,
          -0.7179556323446687,
          -0.32880286930567426,
          -1.4078173486410681,
          -0.4172466790872639,
          -1.5051055394008168,
          0.08688303666779706,
          0.909410467636581,
          -0.6295118225630791,
          1.4931396121950724,
          -0.39071353615278714,
          -0.20498153561144886,
          0.04266113177700223,
          0.8651885627457861,
          -1.3282179198376374,
          0.5291020855757453,
          0.6352346573136529,
          1.2631857067629395,
          -0.26689220245856154,
          0.09572741764595616,
          -0.930220775820484,
          -0.14307086876433603,
          1.9972693279501337,
          -1.3016847769031605,
          0.10457179862411493,
          -0.29342534539303855,
          0.1930156084057046,
          -0.8771544899515302,
          -0.1784483926769719,
          0.11341617960227401,
          -1.195552205165253,
          -0.39955791713094607,
          -0.956753918754961,
          -1.1513303002744582,
          1.5462058980640263,
          1.8292260893651136,
          -0.9390651567986429,
          -0.010405154091951687,
          -1.0098202046239146,
          -0.33764725028383336,
          -0.9479095377768019,
          -1.195552205165253,
          1.1482087540468728,
          -1.5051055394008168,
          -1.160174681252617,
          1.8557592322995902,
          1.095142468177919,
          1.2101194208939856,
          -0.4526242029998998,
          0.16648246547122764,
          0.3168369420999303,
          -0.054627058982746515,
          0.5291020855757453,
          0.0603498937333201,
          1.961891804037498,
          -0.019249535070110464,
          -0.9832870616894378,
          -1.2839960149468426,
          -0.37302477419646907,
          1.4046958024134828,
          -0.001560773113792596,
          1.0862980871997603,
          0.21954875134018154,
          -0.426091060065423,
          0.3168369420999303,
          1.43122894534796,
          0.378747608947043,
          0.15763808449306885,
          1.5550502790421854,
          -1.5051055394008168,
          -1.186707824187094,
          -0.46146858397805873,
          -1.3193735388594785,
          -1.3547510627721144,
          -0.9036876328860071,
          -0.07231582093906438,
          -0.33764725028383336,
          0.09572741764595616,
          1.4666064692605958,
          -0.2138259165896078,
          -0.12538210680801815,
          0.3699032279688839,
          -0.010405154091951687,
          -0.3464916312619923,
          1.3250963736100523,
          -0.16075963072065405,
          1.3870070404571653,
          -1.124797157339981,
          -0.3022697263711975,
          1.3958514214353237,
          -1.169019062230776,
          -1.230929729077889,
          -0.7887106801699406,
          -0.001560773113792596,
          0.033816750798843144,
          1.6700272317582519,
          -0.04578267800458743,
          -1.5051055394008168,
          0.4141251328596787,
          0.08688303666779706,
          -0.054627058982746515,
          -1.0982640144055045,
          -1.4078173486410681,
          -1.5051055394008168,
          -0.33764725028383336,
          -0.07231582093906438,
          0.07803865568963797,
          -1.177863443208935,
          -0.38186915517462816,
          -1.230929729077889,
          1.1128312301342371,
          -0.16075963072065405,
          -0.20498153561144886,
          -0.3022697263711975,
          -0.09884896387354118,
          1.5815834219766622,
          1.0243874203526475,
          -0.09884896387354118,
          1.2278081828503036,
          -1.5051055394008168,
          0.08688303666779706,
          -0.8152438231044173,
          -1.5051055394008168,
          0.17532684644938673,
          -1.0451977285365506,
          0.10457179862411493,
          -1.2663072529905248,
          0.28145941818729425,
          -1.0363533475583915,
          1.8822923752340668,
          -1.3370623008157965,
          1.4666064692605958,
          -0.8771544899515302,
          1.2631857067629395,
          1.616960945889298,
          0.1311049415585919,
          1.625805326867457,
          -0.5852899176722843,
          1.5727390409985031,
          -1.1513303002744582,
          -1.186707824187094,
          1.4400733263261185,
          -0.33764725028383336,
          -0.8152438231044173,
          -0.33764725028383336,
          -0.7091112513665099,
          -0.7002668703883509,
          0.1930156084057046,
          1.7761598034961597,
          1.201275039915827,
          -0.3022697263711975,
          1.201275039915827,
          -0.1961371546332898,
          2.36873332903281,
          -1.2751516339686837,
          -1.160174681252617,
          0.033816750798843144,
          0.7590559910078786,
          -0.9390651567986429,
          -0.33764725028383336,
          1.2189638018721447,
          -0.04578267800458743,
          1.2720300877410984,
          1.6346497078456161,
          -1.5051055394008168,
          -1.5051055394008168,
          1.899981137190385,
          0.1930156084057046,
          1.5550502790421854,
          -0.3022697263711975,
          0.01612798884252527,
          0.051505512755161326,
          -0.07231582093906438,
          -0.4880017269125357,
          -0.2580478214804026,
          -0.06347143996090529,
          1.68771599371457,
          -0.426091060065423,
          -0.36418039321831014,
          -1.5051055394008168,
          -1.1513303002744582,
          1.899981137190385,
          1.1835862779595088,
          -1.0805752524491863,
          -1.1424859192962993,
          -1.22208534809973,
          1.1128312301342371,
          -0.8329325850607354,
          -0.7710219182136225,
          -0.2492034405022437,
          -1.5051055394008168,
          -0.8417769660388943,
          1.4577620882824367,
          -0.054627058982746515,
          -0.6472005845193971,
          -1.4078173486410681,
          -1.5051055394008168,
          -0.036938297026428334,
          -0.47915734593437675,
          1.3958514214353237,
          -0.6118230606067613,
          -0.5852899176722843,
          -1.4078173486410681,
          -1.0098202046239146,
          0.7855891339423552,
          1.6700272317582519,
          -0.04578267800458743,
          -1.2043965861434118,
          -0.921376394842325,
          -0.09884896387354118,
          1.8734479942559084,
          1.5019839931732315,
          -1.4166617296192272,
          -0.1784483926769719,
          1.17474189698135,
          1.2278081828503036,
          0.3433700850344069,
          -0.956753918754961,
          1.2985632306755752,
          1.8822923752340668,
          -1.0894196334273454,
          1.3250963736100523,
          -0.7533331562573047,
          0.5114133236194275,
          -0.930220775820484,
          -0.38186915517462816,
          -0.3464916312619923,
          -0.3111141073493564,
          -1.1513303002744582,
          1.6611828507800928,
          -1.5051055394008168,
          -1.3724398247284322,
          -0.32880286930567426,
          -0.12538210680801815,
          -0.29342534539303855,
          1.0862980871997603,
          0.9359436105710579,
          2.147623804578836,
          1.157053135025032,
          0.007283607864366495,
          -0.054627058982746515,
          -0.08116020191722316,
          0.8474998007894682,
          -0.3111141073493564,
          2.271445138273062,
          1.5815834219766622,
          1.0066986583963293,
          -0.7975550611480995,
          -0.2580478214804026,
          1.2366525638284627,
          1.7938485654524772,
          1.2808744687192575,
          1.908825518168544,
          1.5638946600203445,
          0.024972369820684365,
          -0.7179556323446687,
          0.04266113177700223,
          0.10457179862411493,
          1.5727390409985031,
          0.4583470377504736,
          -1.0275089665802326,
          -0.08116020191722316,
          -0.4526242029998998,
          0.4141251328596787,
          -0.32880286930567426,
          0.1841712274275458,
          -0.921376394842325,
          -0.3022697263711975,
          0.9890098964400115,
          1.5462058980640263,
          -0.4437798220217409,
          0.8298110388331501,
          -0.36418039321831014,
          -0.16960401169881298,
          -0.7975550611480995,
          0.1930156084057046
         ],
         "z": [
          0.7821062691770315,
          0.5320314142544689,
          -5.182309293488167,
          -1.8197304085776054,
          -3.1828481332779006,
          -4.70922524099835,
          6.49764544338273,
          5.159067977662964,
          -3.6952751281692215,
          -5.315724691853905,
          12.934363434650905,
          3.675754353045807,
          7.803111651877337,
          -5.450422080731693,
          14.973917028135503,
          -9.202070027105282,
          0.48321592053915907,
          -2.2795384410414066,
          -0.8050951489935869,
          4.814723310078213,
          -3.380165587214961,
          11.522481806319291,
          -2.1873801587347543,
          -0.06154768045644943,
          -4.0471112649329015,
          4.798577044523654,
          -2.1524675548694745,
          -11.382995090949024,
          -7.128005603420959,
          -0.759715487841957,
          -5.94921961459762,
          1.5667527379013535,
          -4.827474290878687,
          11.3926246196203,
          10.253498750856274,
          -1.191516032653233,
          -7.770170747991777,
          2.0693425202015945,
          -1.6128530392373008,
          2.7779782947822014,
          3.1423023512213284,
          -6.603067643552485,
          0.03633099266900075,
          -5.834862389517383,
          2.155241125872614,
          0.4325838216501836,
          -0.3080962925684432,
          3.633872567693487,
          -2.2038633583316596,
          9.622769090697048,
          6.754147882016937,
          -3.858094045242563,
          -17.303844956887,
          5.4526076520527695,
          -2.0244572707818165,
          -9.12057371215823,
          -7.555162143242079,
          1.5007270945413325,
          -3.983034752763409,
          -1.5982496181709323,
          -11.628145710434026,
          -3.5503598710144146,
          -11.824930671228177,
          11.340410205770283,
          -3.572277353942045,
          8.970332180071974,
          -13.026706983534197,
          -10.606331670679168,
          1.3539878012636848,
          3.3689028002654595,
          -16.839926283999006,
          -9.490044526523086,
          2.2881220424213993,
          1.491790341965359,
          3.1290442049439235,
          0.7291326294659157,
          -1.7217849339531277,
          -0.8217882353454229,
          1.8312509634944192,
          4.778021789548454,
          0.4173488663198057,
          20.293988773721097,
          -2.8620274052606334,
          10.888328789973194,
          -0.2695336127603696,
          -2.372810024840355,
          0.015240936714619124,
          8.601249504498938,
          8.591446310019144,
          1.2833426616057793,
          -6.017329847509885,
          1.3716154305523744,
          -15.981524442724698,
          3.071088436801972,
          4.709323680737732,
          4.1284298081290345,
          6.317979478702277,
          -6.860246290613091,
          10.983120784931387,
          -8.896102760311948,
          -1.3658739749607633,
          -1.8279527080832043,
          5.573388037250901,
          7.234363434650902,
          2.5313941663779076,
          1.4320314142544674,
          2.054729216765015,
          -7.631612932666066,
          -0.3007590617572333,
          7.243180553761313,
          10.754552062350342,
          -8.583253723893524,
          -2.9640692070547807,
          -1.5375483433432748,
          4.04728700506768,
          -8.816784079460838,
          0.13797259473936663,
          1.755033528445388,
          12.191446310019145,
          -4.864665465042133,
          -3.1339478965442993,
          -17.934280178281213,
          7.917888758161112,
          -9.254824444858833,
          -5.615740299308591,
          -6.257395527466091,
          3.424783847916565,
          -0.8173560328448488,
          -3.747864258769745,
          0.0392657606974538,
          10.08264396715515,
          2.137544932613862,
          -17.162027405260638,
          -1.2010829257341769,
          -4.262171167082812,
          18.454552062350345,
          -10.302090766199154,
          -6.502549406547992,
          -2.7695415928586122,
          7.783325839492562,
          -1.3542504272251463,
          14.041607716145961,
          -6.0394810213801975,
          -8.918155225106553,
          2.025656827518965,
          12.710921687596567,
          -5.46130894005185,
          5.359055071849269,
          3.5750630183958947,
          36.91331089653897,
          0.4581773975002079,
          -2.6011390658333937,
          -2.219842720306925,
          13.805705726658154,
          -3.4426993774698786,
          1.9112394402790756,
          -12.862171167082813,
          0.6434968859924908,
          5.492048700999746,
          10.243973583835803,
          -6.0736915205940605,
          -2.418096770715593,
          9.948286899019244,
          7.624783847916568,
          9.702773601948266,
          -33.85912455701067,
          -5.2022913428347834,
          8.808296403888868,
          0.6259343029165407,
          1.3306495000655012,
          1.1642902673805935,
          6.922769090697045,
          1.0362928067015318,
          -2.578393524422097,
          -4.067604376232833,
          -7.197114249880066,
          4.089787551945832,
          -6.7050951489935855,
          -9.455162143242077,
          -2.677363495409921,
          9.40310898590522,
          -14.784378312074452,
          4.1286996596863474,
          2.871591867011432,
          4.20369324924258,
          3.3914463100191483,
          -5.926075856523735,
          9.672012972698354,
          3.52852594792423,
          -3.650819369488673,
          -5.221784933953128,
          -13.238704227358888,
          21.05455206235034,
          2.391903707431556,
          -3.157992684474152,
          -1.8556249321310503,
          -12.574542419147651,
          2.8014011431517005,
          -3.2164651237339115,
          0.48414876703285614,
          -0.9800889426674466,
          -8.14002974679245,
          -3.1440265981846096,
          -0.7551621432420745,
          -0.6001392010024915,
          9.414823373599432,
          8.262451656656722,
          5.934065866999397,
          -4.9167840794608395,
          0.23797259473936094,
          8.978173509995088,
          9.25215153181248,
          -1.0355647014825067,
          2.1322918934791133,
          -12.060930298853897,
          0.9316144681768037,
          -3.1470878906457074,
          7.653978586444387,
          24.68281954358757,
          -1.2089368844142854,
          -1.2051873972126828,
          6.562174238822543,
          -5.836848591711618,
          -8.774983137740211,
          -4.603661480844401,
          -3.3004000257344757,
          -7.150524418493902,
          -10.774879736536448,
          -3.5546166587039423,
          1.6516227613126446,
          5.282140303687477,
          -17.20295048608599,
          -1.6851223502286814,
          -2.2535009359239595,
          -18.185613709572042,
          4.68668545327656,
          1.5407519124927163,
          -5.151693984875273,
          -13.942255097979803,
          -0.8567165628672129,
          1.2304998496580701,
          -2.608096292568444,
          4.69848883530198,
          -10.482557310258066,
          -7.226250971361182,
          15.303111651877337,
          1.2826651623331387,
          -2.2940027881320173,
          -1.1335277895765579,
          0.19715618409307467,
          14.423672334427621,
          20.443249076584117,
          6.512067238447663,
          10.262451656656722,
          0.2540596651011384,
          -0.15611244995561435,
          -2.5359511914931723,
          -6.492215275826858,
          -8.942143504899235,
          -1.3074573354965509,
          -3.1122709190361775,
          -1.6931925978216746,
          -11.828090493742707,
          -0.4496703544056757,
          -5.163313917823913,
          26.974589265326905,
          2.612747648629977,
          4.136253577326443,
          -1.5561166064676186,
          -15.97843064511975,
          -7.782544626133692,
          1.7948810956708456,
          4.364356214168943,
          2.9781871044448778,
          8.855484772118835,
          24.78704101347257,
          -6.987410558537697,
          -2.761211268667097,
          -4.99877750050203,
          5.662174238822544,
          -4.33534610191095,
          3.3928251829840406,
          5.215266407336564,
          -3.007195648939632,
          -1.839287906870645,
          -5.644468959592629,
          2.1877776792417976,
          0.6676031301963832,
          7.9019603160341205
         ]
        }
       ],
       "layout": {
        "legend": {
         "tracegroupgap": 0
        },
        "margin": {
         "t": 60
        },
        "scene": {
         "domain": {
          "x": [
           0,
           1
          ],
          "y": [
           0,
           1
          ]
         },
         "xaxis": {
          "title": {
           "text": "x"
          }
         },
         "yaxis": {
          "title": {
           "text": "y"
          }
         },
         "zaxis": {
          "title": {
           "text": "z"
          }
         }
        },
        "template": {
         "data": {
          "bar": [
           {
            "error_x": {
             "color": "#2a3f5f"
            },
            "error_y": {
             "color": "#2a3f5f"
            },
            "marker": {
             "line": {
              "color": "#E5ECF6",
              "width": 0.5
             }
            },
            "type": "bar"
           }
          ],
          "barpolar": [
           {
            "marker": {
             "line": {
              "color": "#E5ECF6",
              "width": 0.5
             }
            },
            "type": "barpolar"
           }
          ],
          "carpet": [
           {
            "aaxis": {
             "endlinecolor": "#2a3f5f",
             "gridcolor": "white",
             "linecolor": "white",
             "minorgridcolor": "white",
             "startlinecolor": "#2a3f5f"
            },
            "baxis": {
             "endlinecolor": "#2a3f5f",
             "gridcolor": "white",
             "linecolor": "white",
             "minorgridcolor": "white",
             "startlinecolor": "#2a3f5f"
            },
            "type": "carpet"
           }
          ],
          "choropleth": [
           {
            "colorbar": {
             "outlinewidth": 0,
             "ticks": ""
            },
            "type": "choropleth"
           }
          ],
          "contour": [
           {
            "colorbar": {
             "outlinewidth": 0,
             "ticks": ""
            },
            "colorscale": [
             [
              0,
              "#0d0887"
             ],
             [
              0.1111111111111111,
              "#46039f"
             ],
             [
              0.2222222222222222,
              "#7201a8"
             ],
             [
              0.3333333333333333,
              "#9c179e"
             ],
             [
              0.4444444444444444,
              "#bd3786"
             ],
             [
              0.5555555555555556,
              "#d8576b"
             ],
             [
              0.6666666666666666,
              "#ed7953"
             ],
             [
              0.7777777777777778,
              "#fb9f3a"
             ],
             [
              0.8888888888888888,
              "#fdca26"
             ],
             [
              1,
              "#f0f921"
             ]
            ],
            "type": "contour"
           }
          ],
          "contourcarpet": [
           {
            "colorbar": {
             "outlinewidth": 0,
             "ticks": ""
            },
            "type": "contourcarpet"
           }
          ],
          "heatmap": [
           {
            "colorbar": {
             "outlinewidth": 0,
             "ticks": ""
            },
            "colorscale": [
             [
              0,
              "#0d0887"
             ],
             [
              0.1111111111111111,
              "#46039f"
             ],
             [
              0.2222222222222222,
              "#7201a8"
             ],
             [
              0.3333333333333333,
              "#9c179e"
             ],
             [
              0.4444444444444444,
              "#bd3786"
             ],
             [
              0.5555555555555556,
              "#d8576b"
             ],
             [
              0.6666666666666666,
              "#ed7953"
             ],
             [
              0.7777777777777778,
              "#fb9f3a"
             ],
             [
              0.8888888888888888,
              "#fdca26"
             ],
             [
              1,
              "#f0f921"
             ]
            ],
            "type": "heatmap"
           }
          ],
          "heatmapgl": [
           {
            "colorbar": {
             "outlinewidth": 0,
             "ticks": ""
            },
            "colorscale": [
             [
              0,
              "#0d0887"
             ],
             [
              0.1111111111111111,
              "#46039f"
             ],
             [
              0.2222222222222222,
              "#7201a8"
             ],
             [
              0.3333333333333333,
              "#9c179e"
             ],
             [
              0.4444444444444444,
              "#bd3786"
             ],
             [
              0.5555555555555556,
              "#d8576b"
             ],
             [
              0.6666666666666666,
              "#ed7953"
             ],
             [
              0.7777777777777778,
              "#fb9f3a"
             ],
             [
              0.8888888888888888,
              "#fdca26"
             ],
             [
              1,
              "#f0f921"
             ]
            ],
            "type": "heatmapgl"
           }
          ],
          "histogram": [
           {
            "marker": {
             "colorbar": {
              "outlinewidth": 0,
              "ticks": ""
             }
            },
            "type": "histogram"
           }
          ],
          "histogram2d": [
           {
            "colorbar": {
             "outlinewidth": 0,
             "ticks": ""
            },
            "colorscale": [
             [
              0,
              "#0d0887"
             ],
             [
              0.1111111111111111,
              "#46039f"
             ],
             [
              0.2222222222222222,
              "#7201a8"
             ],
             [
              0.3333333333333333,
              "#9c179e"
             ],
             [
              0.4444444444444444,
              "#bd3786"
             ],
             [
              0.5555555555555556,
              "#d8576b"
             ],
             [
              0.6666666666666666,
              "#ed7953"
             ],
             [
              0.7777777777777778,
              "#fb9f3a"
             ],
             [
              0.8888888888888888,
              "#fdca26"
             ],
             [
              1,
              "#f0f921"
             ]
            ],
            "type": "histogram2d"
           }
          ],
          "histogram2dcontour": [
           {
            "colorbar": {
             "outlinewidth": 0,
             "ticks": ""
            },
            "colorscale": [
             [
              0,
              "#0d0887"
             ],
             [
              0.1111111111111111,
              "#46039f"
             ],
             [
              0.2222222222222222,
              "#7201a8"
             ],
             [
              0.3333333333333333,
              "#9c179e"
             ],
             [
              0.4444444444444444,
              "#bd3786"
             ],
             [
              0.5555555555555556,
              "#d8576b"
             ],
             [
              0.6666666666666666,
              "#ed7953"
             ],
             [
              0.7777777777777778,
              "#fb9f3a"
             ],
             [
              0.8888888888888888,
              "#fdca26"
             ],
             [
              1,
              "#f0f921"
             ]
            ],
            "type": "histogram2dcontour"
           }
          ],
          "mesh3d": [
           {
            "colorbar": {
             "outlinewidth": 0,
             "ticks": ""
            },
            "type": "mesh3d"
           }
          ],
          "parcoords": [
           {
            "line": {
             "colorbar": {
              "outlinewidth": 0,
              "ticks": ""
             }
            },
            "type": "parcoords"
           }
          ],
          "pie": [
           {
            "automargin": true,
            "type": "pie"
           }
          ],
          "scatter": [
           {
            "marker": {
             "colorbar": {
              "outlinewidth": 0,
              "ticks": ""
             }
            },
            "type": "scatter"
           }
          ],
          "scatter3d": [
           {
            "line": {
             "colorbar": {
              "outlinewidth": 0,
              "ticks": ""
             }
            },
            "marker": {
             "colorbar": {
              "outlinewidth": 0,
              "ticks": ""
             }
            },
            "type": "scatter3d"
           }
          ],
          "scattercarpet": [
           {
            "marker": {
             "colorbar": {
              "outlinewidth": 0,
              "ticks": ""
             }
            },
            "type": "scattercarpet"
           }
          ],
          "scattergeo": [
           {
            "marker": {
             "colorbar": {
              "outlinewidth": 0,
              "ticks": ""
             }
            },
            "type": "scattergeo"
           }
          ],
          "scattergl": [
           {
            "marker": {
             "colorbar": {
              "outlinewidth": 0,
              "ticks": ""
             }
            },
            "type": "scattergl"
           }
          ],
          "scattermapbox": [
           {
            "marker": {
             "colorbar": {
              "outlinewidth": 0,
              "ticks": ""
             }
            },
            "type": "scattermapbox"
           }
          ],
          "scatterpolar": [
           {
            "marker": {
             "colorbar": {
              "outlinewidth": 0,
              "ticks": ""
             }
            },
            "type": "scatterpolar"
           }
          ],
          "scatterpolargl": [
           {
            "marker": {
             "colorbar": {
              "outlinewidth": 0,
              "ticks": ""
             }
            },
            "type": "scatterpolargl"
           }
          ],
          "scatterternary": [
           {
            "marker": {
             "colorbar": {
              "outlinewidth": 0,
              "ticks": ""
             }
            },
            "type": "scatterternary"
           }
          ],
          "surface": [
           {
            "colorbar": {
             "outlinewidth": 0,
             "ticks": ""
            },
            "colorscale": [
             [
              0,
              "#0d0887"
             ],
             [
              0.1111111111111111,
              "#46039f"
             ],
             [
              0.2222222222222222,
              "#7201a8"
             ],
             [
              0.3333333333333333,
              "#9c179e"
             ],
             [
              0.4444444444444444,
              "#bd3786"
             ],
             [
              0.5555555555555556,
              "#d8576b"
             ],
             [
              0.6666666666666666,
              "#ed7953"
             ],
             [
              0.7777777777777778,
              "#fb9f3a"
             ],
             [
              0.8888888888888888,
              "#fdca26"
             ],
             [
              1,
              "#f0f921"
             ]
            ],
            "type": "surface"
           }
          ],
          "table": [
           {
            "cells": {
             "fill": {
              "color": "#EBF0F8"
             },
             "line": {
              "color": "white"
             }
            },
            "header": {
             "fill": {
              "color": "#C8D4E3"
             },
             "line": {
              "color": "white"
             }
            },
            "type": "table"
           }
          ]
         },
         "layout": {
          "annotationdefaults": {
           "arrowcolor": "#2a3f5f",
           "arrowhead": 0,
           "arrowwidth": 1
          },
          "coloraxis": {
           "colorbar": {
            "outlinewidth": 0,
            "ticks": ""
           }
          },
          "colorscale": {
           "diverging": [
            [
             0,
             "#8e0152"
            ],
            [
             0.1,
             "#c51b7d"
            ],
            [
             0.2,
             "#de77ae"
            ],
            [
             0.3,
             "#f1b6da"
            ],
            [
             0.4,
             "#fde0ef"
            ],
            [
             0.5,
             "#f7f7f7"
            ],
            [
             0.6,
             "#e6f5d0"
            ],
            [
             0.7,
             "#b8e186"
            ],
            [
             0.8,
             "#7fbc41"
            ],
            [
             0.9,
             "#4d9221"
            ],
            [
             1,
             "#276419"
            ]
           ],
           "sequential": [
            [
             0,
             "#0d0887"
            ],
            [
             0.1111111111111111,
             "#46039f"
            ],
            [
             0.2222222222222222,
             "#7201a8"
            ],
            [
             0.3333333333333333,
             "#9c179e"
            ],
            [
             0.4444444444444444,
             "#bd3786"
            ],
            [
             0.5555555555555556,
             "#d8576b"
            ],
            [
             0.6666666666666666,
             "#ed7953"
            ],
            [
             0.7777777777777778,
             "#fb9f3a"
            ],
            [
             0.8888888888888888,
             "#fdca26"
            ],
            [
             1,
             "#f0f921"
            ]
           ],
           "sequentialminus": [
            [
             0,
             "#0d0887"
            ],
            [
             0.1111111111111111,
             "#46039f"
            ],
            [
             0.2222222222222222,
             "#7201a8"
            ],
            [
             0.3333333333333333,
             "#9c179e"
            ],
            [
             0.4444444444444444,
             "#bd3786"
            ],
            [
             0.5555555555555556,
             "#d8576b"
            ],
            [
             0.6666666666666666,
             "#ed7953"
            ],
            [
             0.7777777777777778,
             "#fb9f3a"
            ],
            [
             0.8888888888888888,
             "#fdca26"
            ],
            [
             1,
             "#f0f921"
            ]
           ]
          },
          "colorway": [
           "#636efa",
           "#EF553B",
           "#00cc96",
           "#ab63fa",
           "#FFA15A",
           "#19d3f3",
           "#FF6692",
           "#B6E880",
           "#FF97FF",
           "#FECB52"
          ],
          "font": {
           "color": "#2a3f5f"
          },
          "geo": {
           "bgcolor": "white",
           "lakecolor": "white",
           "landcolor": "#E5ECF6",
           "showlakes": true,
           "showland": true,
           "subunitcolor": "white"
          },
          "hoverlabel": {
           "align": "left"
          },
          "hovermode": "closest",
          "mapbox": {
           "style": "light"
          },
          "paper_bgcolor": "white",
          "plot_bgcolor": "#E5ECF6",
          "polar": {
           "angularaxis": {
            "gridcolor": "white",
            "linecolor": "white",
            "ticks": ""
           },
           "bgcolor": "#E5ECF6",
           "radialaxis": {
            "gridcolor": "white",
            "linecolor": "white",
            "ticks": ""
           }
          },
          "scene": {
           "xaxis": {
            "backgroundcolor": "#E5ECF6",
            "gridcolor": "white",
            "gridwidth": 2,
            "linecolor": "white",
            "showbackground": true,
            "ticks": "",
            "zerolinecolor": "white"
           },
           "yaxis": {
            "backgroundcolor": "#E5ECF6",
            "gridcolor": "white",
            "gridwidth": 2,
            "linecolor": "white",
            "showbackground": true,
            "ticks": "",
            "zerolinecolor": "white"
           },
           "zaxis": {
            "backgroundcolor": "#E5ECF6",
            "gridcolor": "white",
            "gridwidth": 2,
            "linecolor": "white",
            "showbackground": true,
            "ticks": "",
            "zerolinecolor": "white"
           }
          },
          "shapedefaults": {
           "line": {
            "color": "#2a3f5f"
           }
          },
          "ternary": {
           "aaxis": {
            "gridcolor": "white",
            "linecolor": "white",
            "ticks": ""
           },
           "baxis": {
            "gridcolor": "white",
            "linecolor": "white",
            "ticks": ""
           },
           "bgcolor": "#E5ECF6",
           "caxis": {
            "gridcolor": "white",
            "linecolor": "white",
            "ticks": ""
           }
          },
          "title": {
           "x": 0.05
          },
          "xaxis": {
           "automargin": true,
           "gridcolor": "white",
           "linecolor": "white",
           "ticks": "",
           "title": {
            "standoff": 15
           },
           "zerolinecolor": "white",
           "zerolinewidth": 2
          },
          "yaxis": {
           "automargin": true,
           "gridcolor": "white",
           "linecolor": "white",
           "ticks": "",
           "title": {
            "standoff": 15
           },
           "zerolinecolor": "white",
           "zerolinewidth": 2
          }
         }
        }
       }
      },
      "text/html": [
       "<div>\n",
       "        \n",
       "        \n",
       "            <div id=\"b802b147-9c82-4f03-a9d1-6ba7b775e8dc\" class=\"plotly-graph-div\" style=\"height:525px; width:100%;\"></div>\n",
       "            <script type=\"text/javascript\">\n",
       "                require([\"plotly\"], function(Plotly) {\n",
       "                    window.PLOTLYENV=window.PLOTLYENV || {};\n",
       "                    \n",
       "                if (document.getElementById(\"b802b147-9c82-4f03-a9d1-6ba7b775e8dc\")) {\n",
       "                    Plotly.newPlot(\n",
       "                        'b802b147-9c82-4f03-a9d1-6ba7b775e8dc',\n",
       "                        [{\"hovertemplate\": \"x=%{x}<br>y=%{y}<br>z=%{z}<extra></extra>\", \"legendgroup\": \"\", \"marker\": {\"color\": \"#636efa\", \"line\": {\"color\": \"DarkSlateGrey\", \"width\": 0.1}, \"size\": 4, \"symbol\": \"circle\"}, \"mode\": \"markers\", \"name\": \"\", \"scene\": \"scene\", \"showlegend\": false, \"type\": \"scatter3d\", \"x\": [1.9464093073773896, -1.530710680774949, 0.9720641133687735, -0.8824968669960647, -0.7250858894487129, 0.9687353836592613, -0.061683196850930815, 1.3172811954474961, -0.313869046697087, 1.0613918236988813, -0.32993317626253826, 1.4733888193126303, 0.02378514882278702, 1.8627937890726702, 0.8758612392855356, -0.09922180127535903, -0.9641712459993568, 0.8447607449713986, -0.44527815467541765, 2.2706981367163537, -0.449023034838214, -0.6251710142043551, -1.1542963080173299, -0.33134028289278084, 1.1723854330678756, 0.5256303723051423, -0.11725638284332936, 0.9079214641961488, -1.3250873478062164, 1.9785458835799197, 1.0834343143080452, -0.2057387066045171, 0.39448655687203943, -1.6662843718231866, -0.9095003401045774, -0.12122560502204947, -1.0094848912083898, -0.4133272166132642, 0.7562517832204915, 0.1095868141579558, 1.2810709255440644, 1.1196718213927277, -1.746626457683276, 0.3007930452057896, 0.02378514882278702, 1.1746594593046873, 1.2691770600670709, 0.1201793069607574, -0.10278581842134403, -1.6662843718231866, 0.5281790049243266, 1.3760381533978034, -1.0836217075350636, -1.6662843718231866, -2.0982622811154346, 0.5712810423596868, -0.6424515414987512, -2.2156019692826963, -0.15847402662202517, 1.9590878223274117, 0.77717927833554, 0.8447607449713986, 0.567509047771482, 0.27666625510662396, 1.0206256279489927, 1.8352661323224646, -0.17908231611350942, -0.23612067063927966, 1.8627937890726702, -1.6662843718231866, -1.1623106221587605, 0.9040347617706251, -1.6989191695907542, 0.9264387779379804, -0.03099764436123012, -0.538335716876568, 0.8447607449713986, 1.3991522270030194, -1.392791175014166, -0.017051402450825676, -0.3129167188070005, 1.6060191825075611, -1.0039846697304218, -0.32993317626253826, -0.024539161161996136, -0.1799005624797265, -0.47020920068133687, -0.34039370175989725, -0.5920702553967196, 0.7007298242297169, 1.0964373823967544, -0.6530786578313028, -0.4445644943576976, -0.5920702553967196, -0.061683196850930815, 0.5256303723051423, 0.02378514882278702, -1.7247975953763814, 1.7928553679083643, -0.3094208005577539, -0.22025516402697218, 1.8663143030014013, -0.9149077602715515, -0.32993317626253826, 0.04980852336216896, -1.530710680774949, 1.8663143030014013, 0.555017281638897, 0.1095868141579558, -0.4881374093971212, -0.5803790424938704, 0.6087692977611742, 0.8813995329977566, -0.5920702553967196, -0.6923000288263846, -0.9641712459993568, -1.0039846697304218, -0.09922180127535903, -0.5920702553967196, 1.0964373823967544, 0.04980852336216896, -0.9938014245270672, -0.32993317626253826, 0.31547261080370226, -0.15984789506469946, 0.8447607449713986, -0.09922180127535903, -0.5920702553967196, -1.0342811381592598, -0.9473615832722786, -0.5920702553967196, 2.283893060082616, -1.0039846697304218, -0.35557905551705843, -1.530710680774949, -0.5803790424938704, 0.567509047771482, 1.3760381533978034, 1.2830176340440838, -0.024539161161996136, 1.2853763934373885, -0.6923000288263846, 0.14837717278727638, -0.35870178511547146, -0.3609202571881497, -0.1799005624797265, 0.08588052779752602, 0.10984750447257398, 1.2813760083286438, -0.502936886082851, 1.313370606856203, -1.054201448613132, 1.2832969255161097, -0.35447389809224256, -0.9497894130418909, 1.0589199811761216, -1.530710680774949, 0.29183825587890366, 0.8729401620142104, 0.8729401620142104, -0.15984789506469946, 0.48013115081648633, -0.22224822685882914, -0.09922180127535903, -1.2387351297706162, -0.3074971816078059, -2.080391015077452, -0.024539161161996136, 1.2691770600670709, 2.297133848230063, 1.9610092660270046, -1.6662843718231866, -1.1942533557992427, -0.34470912970366874, 1.8663143030014013, 0.9024719251571862, 0.14554214026267503, -0.44527815467541765, -0.6424515414987512, -0.8592164359044182, 0.016311330066540987, -0.6469804781387392, -0.5013619754714888, 1.2814328264181492, 1.1080836700841847, -0.5920702553967196, 0.8447607449713986, -0.5920702553967196, 1.8627937890726702, -0.04924854227266179, 0.8447607449713986, -0.9938014245270672, -0.5803790424938704, 1.2691770600670709, 0.1801390560791652, -0.15358745459579637, 0.9720641133687735, -0.5194768116862994, -0.10366157949700786, -0.020977778206273598, 1.2810709255440644, -1.530710680774949, 1.1059600521890336, -0.6424515414987512, 0.1439187511518699, 0.025931505038829357, -0.5920702553967196, -0.243212533159976, -0.9641712459993568, -1.0039846697304218, -0.48803372393386635, -0.9252841944168086, -0.3446241907418859, -0.6251710142043551, -0.6342553419774516, -0.47020920068133687, -1.6662843718231866, 1.9610092660270046, 0.14554214026267503, 1.3281424519577316, -2.0982622811154346, -1.6662843718231866, 0.9343000564038215, 0.00787943808711172, -1.1542963080173299, -0.9641712459993568, -0.33134028289278084, 0.77717927833554, -1.1292100085292536, 1.2853763934373885, -1.6662843718231866, 0.6973688030126728, -0.20392394254488913, -0.3205338460429651, 0.6942775607022756, -1.530710680774949, 0.23811045580379492, -0.3487063391341715, -1.0836217075350636, 0.7007298242297169, 1.89221844225051, 1.2691770600670709, -1.0803550020500272, -0.8959745344945077, -2.895647479174948, 0.02378514882278702, 0.29517096144482574, 1.8663143030014013, 0.9281711469054649, -0.05705272122425618, -1.3683744411197563, 0.2516372300916733, 0.5281790049243266, -0.5920702553967196, 0.3700051700063879, -0.11725638284332936, 1.2691770600670709, -0.19533031445191193, 0.032090236340492045, 0.11115497351909594, -1.3142140334000607, 1.4524796454048547, 0.6939843417602088, 0.06561708355193852, -0.697576154828229, 0.3571194875214408, -0.11725638284332936, -0.19463771898237778, 1.6039093209229867, -0.30182041223651734, -0.17908231611350942, -0.27972306155107907, -0.34039370175989725, -0.313869046697087, -0.5920702553967196, 1.6316252865486252, 0.69524974321284, -0.7250858894487129, -0.15984789506469946, -1.6662843718231866, 1.89221844225051, -0.469898218278821, -0.4844585009305659, 0.8447607449713986, -0.4547374506607182, -0.7250858894487129, -0.33134028289278084, -1.530710680774949, -0.33029448268590356], \"y\": [0.8740329437239449, -0.7887106801699406, -1.0540421095147094, -0.5941342986504432, -0.29342534539303855, -1.2751516339686837, 0.4141251328596787, 0.024972369820684365, -1.0628864904928685, -0.20498153561144886, -1.169019062230776, 0.1222605605804328, -0.32880286930567426, -0.09000458289538225, -0.7179556323446687, -0.32880286930567426, -1.4078173486410681, -0.4172466790872639, -1.5051055394008168, 0.08688303666779706, 0.909410467636581, -0.6295118225630791, 1.4931396121950724, -0.39071353615278714, -0.20498153561144886, 0.04266113177700223, 0.8651885627457861, -1.3282179198376374, 0.5291020855757453, 0.6352346573136529, 1.2631857067629395, -0.26689220245856154, 0.09572741764595616, -0.930220775820484, -0.14307086876433603, 1.9972693279501337, -1.3016847769031605, 0.10457179862411493, -0.29342534539303855, 0.1930156084057046, -0.8771544899515302, -0.1784483926769719, 0.11341617960227401, -1.195552205165253, -0.39955791713094607, -0.956753918754961, -1.1513303002744582, 1.5462058980640263, 1.8292260893651136, -0.9390651567986429, -0.010405154091951687, -1.0098202046239146, -0.33764725028383336, -0.9479095377768019, -1.195552205165253, 1.1482087540468728, -1.5051055394008168, -1.160174681252617, 1.8557592322995902, 1.095142468177919, 1.2101194208939856, -0.4526242029998998, 0.16648246547122764, 0.3168369420999303, -0.054627058982746515, 0.5291020855757453, 0.0603498937333201, 1.961891804037498, -0.019249535070110464, -0.9832870616894378, -1.2839960149468426, -0.37302477419646907, 1.4046958024134828, -0.001560773113792596, 1.0862980871997603, 0.21954875134018154, -0.426091060065423, 0.3168369420999303, 1.43122894534796, 0.378747608947043, 0.15763808449306885, 1.5550502790421854, -1.5051055394008168, -1.186707824187094, -0.46146858397805873, -1.3193735388594785, -1.3547510627721144, -0.9036876328860071, -0.07231582093906438, -0.33764725028383336, 0.09572741764595616, 1.4666064692605958, -0.2138259165896078, -0.12538210680801815, 0.3699032279688839, -0.010405154091951687, -0.3464916312619923, 1.3250963736100523, -0.16075963072065405, 1.3870070404571653, -1.124797157339981, -0.3022697263711975, 1.3958514214353237, -1.169019062230776, -1.230929729077889, -0.7887106801699406, -0.001560773113792596, 0.033816750798843144, 1.6700272317582519, -0.04578267800458743, -1.5051055394008168, 0.4141251328596787, 0.08688303666779706, -0.054627058982746515, -1.0982640144055045, -1.4078173486410681, -1.5051055394008168, -0.33764725028383336, -0.07231582093906438, 0.07803865568963797, -1.177863443208935, -0.38186915517462816, -1.230929729077889, 1.1128312301342371, -0.16075963072065405, -0.20498153561144886, -0.3022697263711975, -0.09884896387354118, 1.5815834219766622, 1.0243874203526475, -0.09884896387354118, 1.2278081828503036, -1.5051055394008168, 0.08688303666779706, -0.8152438231044173, -1.5051055394008168, 0.17532684644938673, -1.0451977285365506, 0.10457179862411493, -1.2663072529905248, 0.28145941818729425, -1.0363533475583915, 1.8822923752340668, -1.3370623008157965, 1.4666064692605958, -0.8771544899515302, 1.2631857067629395, 1.616960945889298, 0.1311049415585919, 1.625805326867457, -0.5852899176722843, 1.5727390409985031, -1.1513303002744582, -1.186707824187094, 1.4400733263261185, -0.33764725028383336, -0.8152438231044173, -0.33764725028383336, -0.7091112513665099, -0.7002668703883509, 0.1930156084057046, 1.7761598034961597, 1.201275039915827, -0.3022697263711975, 1.201275039915827, -0.1961371546332898, 2.36873332903281, -1.2751516339686837, -1.160174681252617, 0.033816750798843144, 0.7590559910078786, -0.9390651567986429, -0.33764725028383336, 1.2189638018721447, -0.04578267800458743, 1.2720300877410984, 1.6346497078456161, -1.5051055394008168, -1.5051055394008168, 1.899981137190385, 0.1930156084057046, 1.5550502790421854, -0.3022697263711975, 0.01612798884252527, 0.051505512755161326, -0.07231582093906438, -0.4880017269125357, -0.2580478214804026, -0.06347143996090529, 1.68771599371457, -0.426091060065423, -0.36418039321831014, -1.5051055394008168, -1.1513303002744582, 1.899981137190385, 1.1835862779595088, -1.0805752524491863, -1.1424859192962993, -1.22208534809973, 1.1128312301342371, -0.8329325850607354, -0.7710219182136225, -0.2492034405022437, -1.5051055394008168, -0.8417769660388943, 1.4577620882824367, -0.054627058982746515, -0.6472005845193971, -1.4078173486410681, -1.5051055394008168, -0.036938297026428334, -0.47915734593437675, 1.3958514214353237, -0.6118230606067613, -0.5852899176722843, -1.4078173486410681, -1.0098202046239146, 0.7855891339423552, 1.6700272317582519, -0.04578267800458743, -1.2043965861434118, -0.921376394842325, -0.09884896387354118, 1.8734479942559084, 1.5019839931732315, -1.4166617296192272, -0.1784483926769719, 1.17474189698135, 1.2278081828503036, 0.3433700850344069, -0.956753918754961, 1.2985632306755752, 1.8822923752340668, -1.0894196334273454, 1.3250963736100523, -0.7533331562573047, 0.5114133236194275, -0.930220775820484, -0.38186915517462816, -0.3464916312619923, -0.3111141073493564, -1.1513303002744582, 1.6611828507800928, -1.5051055394008168, -1.3724398247284322, -0.32880286930567426, -0.12538210680801815, -0.29342534539303855, 1.0862980871997603, 0.9359436105710579, 2.147623804578836, 1.157053135025032, 0.007283607864366495, -0.054627058982746515, -0.08116020191722316, 0.8474998007894682, -0.3111141073493564, 2.271445138273062, 1.5815834219766622, 1.0066986583963293, -0.7975550611480995, -0.2580478214804026, 1.2366525638284627, 1.7938485654524772, 1.2808744687192575, 1.908825518168544, 1.5638946600203445, 0.024972369820684365, -0.7179556323446687, 0.04266113177700223, 0.10457179862411493, 1.5727390409985031, 0.4583470377504736, -1.0275089665802326, -0.08116020191722316, -0.4526242029998998, 0.4141251328596787, -0.32880286930567426, 0.1841712274275458, -0.921376394842325, -0.3022697263711975, 0.9890098964400115, 1.5462058980640263, -0.4437798220217409, 0.8298110388331501, -0.36418039321831014, -0.16960401169881298, -0.7975550611480995, 0.1930156084057046], \"z\": [0.7821062691770315, 0.5320314142544689, -5.182309293488167, -1.8197304085776054, -3.1828481332779006, -4.70922524099835, 6.49764544338273, 5.159067977662964, -3.6952751281692215, -5.315724691853905, 12.934363434650905, 3.675754353045807, 7.803111651877337, -5.450422080731693, 14.973917028135503, -9.202070027105282, 0.48321592053915907, -2.2795384410414066, -0.8050951489935869, 4.814723310078213, -3.380165587214961, 11.522481806319291, -2.1873801587347543, -0.06154768045644943, -4.0471112649329015, 4.798577044523654, -2.1524675548694745, -11.382995090949024, -7.128005603420959, -0.759715487841957, -5.94921961459762, 1.5667527379013535, -4.827474290878687, 11.3926246196203, 10.253498750856274, -1.191516032653233, -7.770170747991777, 2.0693425202015945, -1.6128530392373008, 2.7779782947822014, 3.1423023512213284, -6.603067643552485, 0.03633099266900075, -5.834862389517383, 2.155241125872614, 0.4325838216501836, -0.3080962925684432, 3.633872567693487, -2.2038633583316596, 9.622769090697048, 6.754147882016937, -3.858094045242563, -17.303844956887, 5.4526076520527695, -2.0244572707818165, -9.12057371215823, -7.555162143242079, 1.5007270945413325, -3.983034752763409, -1.5982496181709323, -11.628145710434026, -3.5503598710144146, -11.824930671228177, 11.340410205770283, -3.572277353942045, 8.970332180071974, -13.026706983534197, -10.606331670679168, 1.3539878012636848, 3.3689028002654595, -16.839926283999006, -9.490044526523086, 2.2881220424213993, 1.491790341965359, 3.1290442049439235, 0.7291326294659157, -1.7217849339531277, -0.8217882353454229, 1.8312509634944192, 4.778021789548454, 0.4173488663198057, 20.293988773721097, -2.8620274052606334, 10.888328789973194, -0.2695336127603696, -2.372810024840355, 0.015240936714619124, 8.601249504498938, 8.591446310019144, 1.2833426616057793, -6.017329847509885, 1.3716154305523744, -15.981524442724698, 3.071088436801972, 4.709323680737732, 4.1284298081290345, 6.317979478702277, -6.860246290613091, 10.983120784931387, -8.896102760311948, -1.3658739749607633, -1.8279527080832043, 5.573388037250901, 7.234363434650902, 2.5313941663779076, 1.4320314142544674, 2.054729216765015, -7.631612932666066, -0.3007590617572333, 7.243180553761313, 10.754552062350342, -8.583253723893524, -2.9640692070547807, -1.5375483433432748, 4.04728700506768, -8.816784079460838, 0.13797259473936663, 1.755033528445388, 12.191446310019145, -4.864665465042133, -3.1339478965442993, -17.934280178281213, 7.917888758161112, -9.254824444858833, -5.615740299308591, -6.257395527466091, 3.424783847916565, -0.8173560328448488, -3.747864258769745, 0.0392657606974538, 10.08264396715515, 2.137544932613862, -17.162027405260638, -1.2010829257341769, -4.262171167082812, 18.454552062350345, -10.302090766199154, -6.502549406547992, -2.7695415928586122, 7.783325839492562, -1.3542504272251463, 14.041607716145961, -6.0394810213801975, -8.918155225106553, 2.025656827518965, 12.710921687596567, -5.46130894005185, 5.359055071849269, 3.5750630183958947, 36.91331089653897, 0.4581773975002079, -2.6011390658333937, -2.219842720306925, 13.805705726658154, -3.4426993774698786, 1.9112394402790756, -12.862171167082813, 0.6434968859924908, 5.492048700999746, 10.243973583835803, -6.0736915205940605, -2.418096770715593, 9.948286899019244, 7.624783847916568, 9.702773601948266, -33.85912455701067, -5.2022913428347834, 8.808296403888868, 0.6259343029165407, 1.3306495000655012, 1.1642902673805935, 6.922769090697045, 1.0362928067015318, -2.578393524422097, -4.067604376232833, -7.197114249880066, 4.089787551945832, -6.7050951489935855, -9.455162143242077, -2.677363495409921, 9.40310898590522, -14.784378312074452, 4.1286996596863474, 2.871591867011432, 4.20369324924258, 3.3914463100191483, -5.926075856523735, 9.672012972698354, 3.52852594792423, -3.650819369488673, -5.221784933953128, -13.238704227358888, 21.05455206235034, 2.391903707431556, -3.157992684474152, -1.8556249321310503, -12.574542419147651, 2.8014011431517005, -3.2164651237339115, 0.48414876703285614, -0.9800889426674466, -8.14002974679245, -3.1440265981846096, -0.7551621432420745, -0.6001392010024915, 9.414823373599432, 8.262451656656722, 5.934065866999397, -4.9167840794608395, 0.23797259473936094, 8.978173509995088, 9.25215153181248, -1.0355647014825067, 2.1322918934791133, -12.060930298853897, 0.9316144681768037, -3.1470878906457074, 7.653978586444387, 24.68281954358757, -1.2089368844142854, -1.2051873972126828, 6.562174238822543, -5.836848591711618, -8.774983137740211, -4.603661480844401, -3.3004000257344757, -7.150524418493902, -10.774879736536448, -3.5546166587039423, 1.6516227613126446, 5.282140303687477, -17.20295048608599, -1.6851223502286814, -2.2535009359239595, -18.185613709572042, 4.68668545327656, 1.5407519124927163, -5.151693984875273, -13.942255097979803, -0.8567165628672129, 1.2304998496580701, -2.608096292568444, 4.69848883530198, -10.482557310258066, -7.226250971361182, 15.303111651877337, 1.2826651623331387, -2.2940027881320173, -1.1335277895765579, 0.19715618409307467, 14.423672334427621, 20.443249076584117, 6.512067238447663, 10.262451656656722, 0.2540596651011384, -0.15611244995561435, -2.5359511914931723, -6.492215275826858, -8.942143504899235, -1.3074573354965509, -3.1122709190361775, -1.6931925978216746, -11.828090493742707, -0.4496703544056757, -5.163313917823913, 26.974589265326905, 2.612747648629977, 4.136253577326443, -1.5561166064676186, -15.97843064511975, -7.782544626133692, 1.7948810956708456, 4.364356214168943, 2.9781871044448778, 8.855484772118835, 24.78704101347257, -6.987410558537697, -2.761211268667097, -4.99877750050203, 5.662174238822544, -4.33534610191095, 3.3928251829840406, 5.215266407336564, -3.007195648939632, -1.839287906870645, -5.644468959592629, 2.1877776792417976, 0.6676031301963832, 7.9019603160341205]}],\n",
       "                        {\"legend\": {\"tracegroupgap\": 0}, \"margin\": {\"t\": 60}, \"scene\": {\"domain\": {\"x\": [0.0, 1.0], \"y\": [0.0, 1.0]}, \"xaxis\": {\"title\": {\"text\": \"x\"}}, \"yaxis\": {\"title\": {\"text\": \"y\"}}, \"zaxis\": {\"title\": {\"text\": \"z\"}}}, \"template\": {\"data\": {\"bar\": [{\"error_x\": {\"color\": \"#2a3f5f\"}, \"error_y\": {\"color\": \"#2a3f5f\"}, \"marker\": {\"line\": {\"color\": \"#E5ECF6\", \"width\": 0.5}}, \"type\": \"bar\"}], \"barpolar\": [{\"marker\": {\"line\": {\"color\": \"#E5ECF6\", \"width\": 0.5}}, \"type\": \"barpolar\"}], \"carpet\": [{\"aaxis\": {\"endlinecolor\": \"#2a3f5f\", \"gridcolor\": \"white\", \"linecolor\": \"white\", \"minorgridcolor\": \"white\", \"startlinecolor\": \"#2a3f5f\"}, \"baxis\": {\"endlinecolor\": \"#2a3f5f\", \"gridcolor\": \"white\", \"linecolor\": \"white\", \"minorgridcolor\": \"white\", \"startlinecolor\": \"#2a3f5f\"}, \"type\": \"carpet\"}], \"choropleth\": [{\"colorbar\": {\"outlinewidth\": 0, \"ticks\": \"\"}, \"type\": \"choropleth\"}], \"contour\": [{\"colorbar\": {\"outlinewidth\": 0, \"ticks\": \"\"}, \"colorscale\": [[0.0, \"#0d0887\"], [0.1111111111111111, \"#46039f\"], [0.2222222222222222, \"#7201a8\"], [0.3333333333333333, \"#9c179e\"], [0.4444444444444444, \"#bd3786\"], [0.5555555555555556, \"#d8576b\"], [0.6666666666666666, \"#ed7953\"], [0.7777777777777778, \"#fb9f3a\"], [0.8888888888888888, \"#fdca26\"], [1.0, \"#f0f921\"]], \"type\": \"contour\"}], \"contourcarpet\": [{\"colorbar\": {\"outlinewidth\": 0, \"ticks\": \"\"}, \"type\": \"contourcarpet\"}], \"heatmap\": [{\"colorbar\": {\"outlinewidth\": 0, \"ticks\": \"\"}, \"colorscale\": [[0.0, \"#0d0887\"], [0.1111111111111111, \"#46039f\"], [0.2222222222222222, \"#7201a8\"], [0.3333333333333333, \"#9c179e\"], [0.4444444444444444, \"#bd3786\"], [0.5555555555555556, \"#d8576b\"], [0.6666666666666666, \"#ed7953\"], [0.7777777777777778, \"#fb9f3a\"], [0.8888888888888888, \"#fdca26\"], [1.0, \"#f0f921\"]], \"type\": \"heatmap\"}], \"heatmapgl\": [{\"colorbar\": {\"outlinewidth\": 0, \"ticks\": \"\"}, \"colorscale\": [[0.0, \"#0d0887\"], [0.1111111111111111, \"#46039f\"], [0.2222222222222222, \"#7201a8\"], [0.3333333333333333, \"#9c179e\"], [0.4444444444444444, \"#bd3786\"], [0.5555555555555556, \"#d8576b\"], [0.6666666666666666, \"#ed7953\"], [0.7777777777777778, \"#fb9f3a\"], [0.8888888888888888, \"#fdca26\"], [1.0, \"#f0f921\"]], \"type\": \"heatmapgl\"}], \"histogram\": [{\"marker\": {\"colorbar\": {\"outlinewidth\": 0, \"ticks\": \"\"}}, \"type\": \"histogram\"}], \"histogram2d\": [{\"colorbar\": {\"outlinewidth\": 0, \"ticks\": \"\"}, \"colorscale\": [[0.0, \"#0d0887\"], [0.1111111111111111, \"#46039f\"], [0.2222222222222222, \"#7201a8\"], [0.3333333333333333, \"#9c179e\"], [0.4444444444444444, \"#bd3786\"], [0.5555555555555556, \"#d8576b\"], [0.6666666666666666, \"#ed7953\"], [0.7777777777777778, \"#fb9f3a\"], [0.8888888888888888, \"#fdca26\"], [1.0, \"#f0f921\"]], \"type\": \"histogram2d\"}], \"histogram2dcontour\": [{\"colorbar\": {\"outlinewidth\": 0, \"ticks\": \"\"}, \"colorscale\": [[0.0, \"#0d0887\"], [0.1111111111111111, \"#46039f\"], [0.2222222222222222, \"#7201a8\"], [0.3333333333333333, \"#9c179e\"], [0.4444444444444444, \"#bd3786\"], [0.5555555555555556, \"#d8576b\"], [0.6666666666666666, \"#ed7953\"], [0.7777777777777778, \"#fb9f3a\"], [0.8888888888888888, \"#fdca26\"], [1.0, \"#f0f921\"]], \"type\": \"histogram2dcontour\"}], \"mesh3d\": [{\"colorbar\": {\"outlinewidth\": 0, \"ticks\": \"\"}, \"type\": \"mesh3d\"}], \"parcoords\": [{\"line\": {\"colorbar\": {\"outlinewidth\": 0, \"ticks\": \"\"}}, \"type\": \"parcoords\"}], \"pie\": [{\"automargin\": true, \"type\": \"pie\"}], \"scatter\": [{\"marker\": {\"colorbar\": {\"outlinewidth\": 0, \"ticks\": \"\"}}, \"type\": \"scatter\"}], \"scatter3d\": [{\"line\": {\"colorbar\": {\"outlinewidth\": 0, \"ticks\": \"\"}}, \"marker\": {\"colorbar\": {\"outlinewidth\": 0, \"ticks\": \"\"}}, \"type\": \"scatter3d\"}], \"scattercarpet\": [{\"marker\": {\"colorbar\": {\"outlinewidth\": 0, \"ticks\": \"\"}}, \"type\": \"scattercarpet\"}], \"scattergeo\": [{\"marker\": {\"colorbar\": {\"outlinewidth\": 0, \"ticks\": \"\"}}, \"type\": \"scattergeo\"}], \"scattergl\": [{\"marker\": {\"colorbar\": {\"outlinewidth\": 0, \"ticks\": \"\"}}, \"type\": \"scattergl\"}], \"scattermapbox\": [{\"marker\": {\"colorbar\": {\"outlinewidth\": 0, \"ticks\": \"\"}}, \"type\": \"scattermapbox\"}], \"scatterpolar\": [{\"marker\": {\"colorbar\": {\"outlinewidth\": 0, \"ticks\": \"\"}}, \"type\": \"scatterpolar\"}], \"scatterpolargl\": [{\"marker\": {\"colorbar\": {\"outlinewidth\": 0, \"ticks\": \"\"}}, \"type\": \"scatterpolargl\"}], \"scatterternary\": [{\"marker\": {\"colorbar\": {\"outlinewidth\": 0, \"ticks\": \"\"}}, \"type\": \"scatterternary\"}], \"surface\": [{\"colorbar\": {\"outlinewidth\": 0, \"ticks\": \"\"}, \"colorscale\": [[0.0, \"#0d0887\"], [0.1111111111111111, \"#46039f\"], [0.2222222222222222, \"#7201a8\"], [0.3333333333333333, \"#9c179e\"], [0.4444444444444444, \"#bd3786\"], [0.5555555555555556, \"#d8576b\"], [0.6666666666666666, \"#ed7953\"], [0.7777777777777778, \"#fb9f3a\"], [0.8888888888888888, \"#fdca26\"], [1.0, \"#f0f921\"]], \"type\": \"surface\"}], \"table\": [{\"cells\": {\"fill\": {\"color\": \"#EBF0F8\"}, \"line\": {\"color\": \"white\"}}, \"header\": {\"fill\": {\"color\": \"#C8D4E3\"}, \"line\": {\"color\": \"white\"}}, \"type\": \"table\"}]}, \"layout\": {\"annotationdefaults\": {\"arrowcolor\": \"#2a3f5f\", \"arrowhead\": 0, \"arrowwidth\": 1}, \"coloraxis\": {\"colorbar\": {\"outlinewidth\": 0, \"ticks\": \"\"}}, \"colorscale\": {\"diverging\": [[0, \"#8e0152\"], [0.1, \"#c51b7d\"], [0.2, \"#de77ae\"], [0.3, \"#f1b6da\"], [0.4, \"#fde0ef\"], [0.5, \"#f7f7f7\"], [0.6, \"#e6f5d0\"], [0.7, \"#b8e186\"], [0.8, \"#7fbc41\"], [0.9, \"#4d9221\"], [1, \"#276419\"]], \"sequential\": [[0.0, \"#0d0887\"], [0.1111111111111111, \"#46039f\"], [0.2222222222222222, \"#7201a8\"], [0.3333333333333333, \"#9c179e\"], [0.4444444444444444, \"#bd3786\"], [0.5555555555555556, \"#d8576b\"], [0.6666666666666666, \"#ed7953\"], [0.7777777777777778, \"#fb9f3a\"], [0.8888888888888888, \"#fdca26\"], [1.0, \"#f0f921\"]], \"sequentialminus\": [[0.0, \"#0d0887\"], [0.1111111111111111, \"#46039f\"], [0.2222222222222222, \"#7201a8\"], [0.3333333333333333, \"#9c179e\"], [0.4444444444444444, \"#bd3786\"], [0.5555555555555556, \"#d8576b\"], [0.6666666666666666, \"#ed7953\"], [0.7777777777777778, \"#fb9f3a\"], [0.8888888888888888, \"#fdca26\"], [1.0, \"#f0f921\"]]}, \"colorway\": [\"#636efa\", \"#EF553B\", \"#00cc96\", \"#ab63fa\", \"#FFA15A\", \"#19d3f3\", \"#FF6692\", \"#B6E880\", \"#FF97FF\", \"#FECB52\"], \"font\": {\"color\": \"#2a3f5f\"}, \"geo\": {\"bgcolor\": \"white\", \"lakecolor\": \"white\", \"landcolor\": \"#E5ECF6\", \"showlakes\": true, \"showland\": true, \"subunitcolor\": \"white\"}, \"hoverlabel\": {\"align\": \"left\"}, \"hovermode\": \"closest\", \"mapbox\": {\"style\": \"light\"}, \"paper_bgcolor\": \"white\", \"plot_bgcolor\": \"#E5ECF6\", \"polar\": {\"angularaxis\": {\"gridcolor\": \"white\", \"linecolor\": \"white\", \"ticks\": \"\"}, \"bgcolor\": \"#E5ECF6\", \"radialaxis\": {\"gridcolor\": \"white\", \"linecolor\": \"white\", \"ticks\": \"\"}}, \"scene\": {\"xaxis\": {\"backgroundcolor\": \"#E5ECF6\", \"gridcolor\": \"white\", \"gridwidth\": 2, \"linecolor\": \"white\", \"showbackground\": true, \"ticks\": \"\", \"zerolinecolor\": \"white\"}, \"yaxis\": {\"backgroundcolor\": \"#E5ECF6\", \"gridcolor\": \"white\", \"gridwidth\": 2, \"linecolor\": \"white\", \"showbackground\": true, \"ticks\": \"\", \"zerolinecolor\": \"white\"}, \"zaxis\": {\"backgroundcolor\": \"#E5ECF6\", \"gridcolor\": \"white\", \"gridwidth\": 2, \"linecolor\": \"white\", \"showbackground\": true, \"ticks\": \"\", \"zerolinecolor\": \"white\"}}, \"shapedefaults\": {\"line\": {\"color\": \"#2a3f5f\"}}, \"ternary\": {\"aaxis\": {\"gridcolor\": \"white\", \"linecolor\": \"white\", \"ticks\": \"\"}, \"baxis\": {\"gridcolor\": \"white\", \"linecolor\": \"white\", \"ticks\": \"\"}, \"bgcolor\": \"#E5ECF6\", \"caxis\": {\"gridcolor\": \"white\", \"linecolor\": \"white\", \"ticks\": \"\"}}, \"title\": {\"x\": 0.05}, \"xaxis\": {\"automargin\": true, \"gridcolor\": \"white\", \"linecolor\": \"white\", \"ticks\": \"\", \"title\": {\"standoff\": 15}, \"zerolinecolor\": \"white\", \"zerolinewidth\": 2}, \"yaxis\": {\"automargin\": true, \"gridcolor\": \"white\", \"linecolor\": \"white\", \"ticks\": \"\", \"title\": {\"standoff\": 15}, \"zerolinecolor\": \"white\", \"zerolinewidth\": 2}}}},\n",
       "                        {\"responsive\": true}\n",
       "                    ).then(function(){\n",
       "                            \n",
       "var gd = document.getElementById('b802b147-9c82-4f03-a9d1-6ba7b775e8dc');\n",
       "var x = new MutationObserver(function (mutations, observer) {{\n",
       "        var display = window.getComputedStyle(gd).display;\n",
       "        if (!display || display === 'none') {{\n",
       "            console.log([gd, 'removed!']);\n",
       "            Plotly.purge(gd);\n",
       "            observer.disconnect();\n",
       "        }}\n",
       "}});\n",
       "\n",
       "// Listen for the removal of the full notebook cells\n",
       "var notebookContainer = gd.closest('#notebook-container');\n",
       "if (notebookContainer) {{\n",
       "    x.observe(notebookContainer, {childList: true});\n",
       "}}\n",
       "\n",
       "// Listen for the clearing of the current output cell\n",
       "var outputEl = gd.closest('.output');\n",
       "if (outputEl) {{\n",
       "    x.observe(outputEl, {childList: true});\n",
       "}}\n",
       "\n",
       "                        })\n",
       "                };\n",
       "                });\n",
       "            </script>\n",
       "        </div>"
      ]
     },
     "metadata": {},
     "output_type": "display_data"
    }
   ],
   "source": [
    "from sklearn.linear_model import LinearRegression\n",
    "from sklearn.preprocessing import PolynomialFeatures\n",
    "import plotly.express as px\n",
    "\n",
    "def Poly_Reg(X_train, Y_train, X_test, Y_test, m):\n",
    "    # Feature Extraction\n",
    "    poly = PolynomialFeatures(degree=m)\n",
    "    X_train_poly = poly.fit_transform(X_train)\n",
    "    X_test_poly = poly.fit_transform(X_test)\n",
    "\n",
    "    # LR Fitting\n",
    "    lin = LinearRegression(fit_intercept=False)\n",
    "    lin.fit(X_train_poly, Y_train)\n",
    "    Y_train_pred = lin.predict(X_train_poly)\n",
    "    Y_test_pred = lin.predict(X_test_poly)\n",
    "\n",
    "    # Compue MSE\n",
    "    train_MSE = np.sqrt(np.linalg.norm(Y_train - Y_train_pred)**2/Y_train.shape[0])\n",
    "    test_MSE = np.sqrt(np.linalg.norm(Y_test - Y_test_pred)**2/Y_test.shape[0])\n",
    "\n",
    "    # Residual\n",
    "    Resid = Y_train - Y_train_pred\n",
    "\n",
    "    return {'coef': lin.coef_, 'train_MSE': train_MSE, 'test_MSE': test_MSE, 'Resid': Resid}\n",
    "\n",
    "PRmodel = Poly_Reg(X_train_sc,Y_train,X_test_sc,Y_test,2)\n",
    "PRmodel\n",
    "fig = px.scatter_3d(x=X_train_sc.dist_mrt, y=X_train_sc.house_age, z=PRmodel['Resid'])\n",
    "fig.update_traces(marker=dict(size=4,\n",
    "                              line=dict(width=0.1,\n",
    "                                        color='DarkSlateGrey')))\n"
   ]
  },
  {
   "cell_type": "code",
   "execution_count": 53,
   "metadata": {},
   "outputs": [
    {
     "data": {
      "text/plain": [
       "<matplotlib.legend.Legend at 0x2539273f7c8>"
      ]
     },
     "execution_count": 53,
     "metadata": {},
     "output_type": "execute_result"
    },
    {
     "data": {
      "image/png": "[encoded data removed]",
      "text/plain": [
       "<Figure size 504x360 with 1 Axes>"
      ]
     },
     "metadata": {
      "needs_background": "light"
     },
     "output_type": "display_data"
    }
   ],
   "source": [
    "output = pd.DataFrame(columns=['d','Train MSE','Test MSE'])\n",
    "for i in np.arange(12):\n",
    "    m = i+1\n",
    "    Reg = Poly_Reg(X_train_sc, Y_train, X_test_sc, Y_test, m)\n",
    "    output.loc[i] = [m, Reg['train_MSE'], Reg['test_MSE']]\n",
    "\n",
    "\n",
    "fig, ax = plt.subplots(figsize=(7,5))\n",
    "ax.plot(output['d'], np.log(output['Train MSE']), 'o-', label='Train MSE')\n",
    "ax.plot(output['d'], np.log(output['Test MSE']), 'o-', label='Test MSE')\n",
    "\n",
    "ax.legend()"
   ]
  },
  {
   "cell_type": "code",
   "execution_count": 74,
   "metadata": {},
   "outputs": [
    {
     "name": "stdout",
     "output_type": "stream",
     "text": [
      "(289, 6)\n",
      "(124, 6)\n"
     ]
    }
   ],
   "source": [
    "poly = PolynomialFeatures(degree=2)\n",
    "phi_train = poly.fit_transform(X_train_sc)\n",
    "phi_test = poly.fit_transform(X_test_sc)\n",
    "print(Phi_train.shape)\n",
    "print(Phi_test.shape)"
   ]
  },
  {
   "cell_type": "code",
   "execution_count": 78,
   "metadata": {},
   "outputs": [],
   "source": [
    "from sklearn.metrics import mean_squared_error\n",
    "from sklearn.linear_model import Ridge\n",
    "alphas=np.logspace(-6, 6, 500)\n",
    "def Ridge_Reg(Phi_train, Y_train, Phi_test, Y_test, alphas, fig=False):\n",
    "    \n",
    "    ## How to Ridge?##\n",
    "    #1. Call Ridge function as an object\n",
    "    reg = Ridge()\n",
    "    \n",
    "    coefs = []\n",
    "    train_MSE = []\n",
    "    test_MSE = []\n",
    "    \n",
    "    for a in alphas:\n",
    "        #2. Choose your lambda (Regularization coefficient)\n",
    "        reg.set_params(alpha=a)\n",
    "        \n",
    "        #3. Fit your model\n",
    "        reg.fit(Phi_train, Y_train)\n",
    "        \n",
    "        #4 view result with reg.coef_, reg.predict, ...\n",
    "        coefs.append(reg.coef_)\n",
    "    \n",
    "        train_pred = reg.predict(Phi_train)\n",
    "        train_MSE.append(mean_squared_error(Y_train, train_pred))\n",
    "    \n",
    "        test_pred = reg.predict(Phi_test)\n",
    "        test_MSE.append(mean_squared_error(Y_test, test_pred))\n",
    "   \n",
    "    ## just for plotting purpose.. trivial ##\n",
    "    #print(np.array(coefs).shape)\n",
    "    \n",
    "    if fig==True:\n",
    "        fig = plt.figure(figsize=(14,6))\n",
    "\n",
    "        ax1 = fig.add_subplot(121)\n",
    "        labels = ['X%d'%i for i in range(Phi_train.shape[1])]\n",
    "        for i in range(Phi_train.shape[1]):\n",
    "            ax1.plot(alphas, np.array(coefs)[:,i], label=labels[i])\n",
    "        ax1.set_xscale('log')\n",
    "        ax1.axvline(x=alphas[np.argmin(test_MSE)], linestyle='--', color='grey')\n",
    "        ax1.legend()\n",
    "\n",
    "        ax2 = fig.add_subplot(122)\n",
    "        ax2.plot(alphas, train_MSE, label='Train MSE')\n",
    "        ax2.plot(alphas, test_MSE, label='Test MSE')\n",
    "        ax2.set_xscale('log')\n",
    "        ax2.axvline(x=alphas[np.argmin(test_MSE)], linestyle='--', color='grey')\n",
    "        alpha = np.around(alphas[np.argmin(test_MSE)],3)\n",
    "        ax2.text(alphas[np.argmin(test_MSE)], np.amin(test_MSE), 'alpha={0}'.format(alpha), size=15)\n",
    "        ax2.legend()\n",
    "\n",
    "        print(\"Weight:\" ,coefs[np.argmin(test_MSE)])\n",
    "        \n",
    "    return {'coefs': coefs, 'train_MSE': train_MSE, 'test_MSE': test_MSE}"
   ]
  },
  {
   "cell_type": "code",
   "execution_count": 79,
   "metadata": {},
   "outputs": [
    {
     "name": "stdout",
     "output_type": "stream",
     "text": [
      "Weight: [ 0.    -8.02  -3.435 -1.817  0.479  1.942]\n"
     ]
    },
    {
     "data": {
      "image/png": "[encoded data removed]",
      "text/plain": [
       "<Figure size 1008x432 with 2 Axes>"
      ]
     },
     "metadata": {
      "needs_background": "light"
     },
     "output_type": "display_data"
    }
   ],
   "source": [
    "Ridge_output = Ridge_Reg(Phi_train, Y_train, Phi_test, Y_test, alphas, fig=True)"
   ]
  },
  {
   "cell_type": "code",
   "execution_count": 80,
   "metadata": {},
   "outputs": [],
   "source": [
    "from sklearn.linear_model import Lasso\n",
    "alphas=np.logspace(-6, 6, 500)"
   ]
  },
  {
   "cell_type": "code",
   "execution_count": 81,
   "metadata": {},
   "outputs": [],
   "source": [
    "def Lasso_Reg(Phi_train, Y_train, Phi_test, Y_test, alphas, fig=False):\n",
    "    \n",
    "    ## How to Lasso?##\n",
    "    #1. Call Lasso function as an object\n",
    "    reg = Lasso()\n",
    "    \n",
    "    coefs = []\n",
    "    train_MSE = []\n",
    "    test_MSE = []\n",
    "    \n",
    "    for a in alphas:\n",
    "        #2. Choose your lambda (Regularization coefficient)\n",
    "        reg.set_params(alpha=a)\n",
    "        \n",
    "        #3. Fit your model\n",
    "        reg.fit(Phi_train, Y_train)\n",
    "        \n",
    "        #4 view result with reg.coef_, reg.predict, ...\n",
    "        coefs.append(reg.coef_)\n",
    "    \n",
    "        train_pred = reg.predict(Phi_train)\n",
    "        train_MSE.append(mean_squared_error(Y_train, train_pred))\n",
    "    \n",
    "        test_pred = reg.predict(Phi_test)\n",
    "        test_MSE.append(mean_squared_error(Y_test, test_pred))\n",
    "    \n",
    "    ## just for plotting purpose.. trivial ##\n",
    "    #print(np.array(coefs).shape)\n",
    "    if fig==True:\n",
    "        fig = plt.figure(figsize=(14,6))\n",
    "\n",
    "        ax1 = fig.add_subplot(121)\n",
    "        labels = ['X%d'%i for i in range(Phi_train.shape[1])]\n",
    "        for i in range(Phi_train.shape[1]):\n",
    "            ax1.plot(alphas, np.array(coefs)[:,i], label=labels[i])\n",
    "        ax1.set_xscale('log')\n",
    "        ax1.axvline(x=alphas[np.argmin(test_MSE)], linestyle='--', color='grey')\n",
    "        ax1.legend()\n",
    "\n",
    "        ax2 = fig.add_subplot(122)\n",
    "        ax2.plot(alphas, train_MSE, label='Train MSE')\n",
    "        ax2.plot(alphas, test_MSE, label='Test MSE')\n",
    "        ax2.set_xscale('log')\n",
    "        ax2.axvline(x=alphas[np.argmin(test_MSE)], linestyle='--', color='grey')\n",
    "        alpha = np.around(alphas[np.argmin(test_MSE)],3)\n",
    "        ax2.text(alphas[np.argmin(test_MSE)], np.amin(test_MSE), 'alpha={0}'.format(alpha), size=15)\n",
    "        ax2.legend()\n",
    "\n",
    "        print(\"Weight:\" ,coefs[np.argmin(test_MSE)])\n",
    "        \n",
    "    return {'coefs': coefs, 'train_MSE': train_MSE, 'test_MSE': test_MSE}"
   ]
  },
  {
   "cell_type": "code",
   "execution_count": 82,
   "metadata": {},
   "outputs": [
    {
     "name": "stdout",
     "output_type": "stream",
     "text": [
      "Weight: [ 0.000e+00 -8.082e+00 -2.944e+00 -1.477e+00  8.956e-04  1.405e+00]\n"
     ]
    },
    {
     "data": {
      "image/png": "[encoded data removed]",
      "text/plain": [
       "<Figure size 1008x432 with 2 Axes>"
      ]
     },
     "metadata": {
      "needs_background": "light"
     },
     "output_type": "display_data"
    }
   ],
   "source": [
    "Lasso_output = Lasso_Reg(Phi_train, Y_train, Phi_test, Y_test, alphas, fig=True)"
   ]
  },
  {
   "cell_type": "code",
   "execution_count": 83,
   "metadata": {},
   "outputs": [
    {
     "name": "stdout",
     "output_type": "stream",
     "text": [
      "TRAIN: [  0   1   3   4   5   6   7   8  11  13  15  16  17  18  19  20  21  22\n",
      "  23  24  26  28  29  30  31  32  33  34  35  36  37  38  39  40  41  43\n",
      "  44  45  47  48  49  50  51  52  53  55  57  58  59  60  61  62  65  67\n",
      "  69  70  71  72  73  74  75  77  78  79  81  82  83  85  86  87  91  92\n",
      "  93  94  95  96  97  98  99 100 103 104 105 107 108 109 110 111 112 113\n",
      " 114 115 116 118 119 120 121 124 127 128 129 131 132 133 134 136 137 138\n",
      " 139 140 141 142 143 144 145 146 147 148 150 151 152 153 154 155 156 157\n",
      " 159 160 161 162 163 167 168 169 170 172 173 176 177 179 180 181 183 184\n",
      " 185 186 187 188 189 190 191 192 193 194 195 196 197 198 199 201 202 203\n",
      " 205 206 207 208 210 211 212 213 214 215 216 217 218 219 220 221 223 224\n",
      " 225 226 229 230 231 232 233 235 236 237 238 239 240 241 243 246 247 249\n",
      " 250 251 252 254 256 257 258 259 260 262 263 264 265 266 267 268 270 271\n",
      " 272 273 274 275 276 277 279 280 281 282 283 284 286 287 288] TEST: [  2   9  10  12  14  25  27  42  46  54  56  63  64  66  68  76  80  84\n",
      "  88  89  90 101 102 106 117 122 123 125 126 130 135 149 158 164 165 166\n",
      " 171 174 175 178 182 200 204 209 222 227 228 234 242 244 245 248 253 255\n",
      " 261 269 278 285]\n",
      "TRAIN: [  0   2   4   5   6   8   9  10  11  12  13  14  15  16  17  20  21  22\n",
      "  24  25  26  27  28  29  30  31  32  33  34  35  36  37  39  41  42  44\n",
      "  45  46  47  48  49  50  51  53  54  55  56  57  59  60  62  63  64  65\n",
      "  66  67  68  69  70  72  73  74  75  76  78  79  80  82  83  84  85  86\n",
      "  88  89  90  91  92  93  94  95  96  97  99 100 101 102 103 105 106 107\n",
      " 109 111 112 113 114 117 118 119 120 121 122 123 124 125 126 128 129 130\n",
      " 131 135 136 137 138 139 140 141 142 143 144 145 146 147 148 149 152 153\n",
      " 154 155 158 159 160 161 164 165 166 167 168 169 170 171 172 173 174 175\n",
      " 178 179 180 181 182 184 185 186 189 190 191 192 193 194 195 197 198 199\n",
      " 200 203 204 205 206 209 210 211 212 213 216 218 221 222 223 224 226 227\n",
      " 228 230 231 232 233 234 235 237 238 240 241 242 244 245 246 247 248 249\n",
      " 250 251 253 254 255 256 257 259 260 261 262 263 264 265 266 267 268 269\n",
      " 270 271 272 275 276 277 278 279 280 281 283 285 286 287 288] TEST: [  1   3   7  18  19  23  38  40  43  52  58  61  71  77  81  87  98 104\n",
      " 108 110 115 116 127 132 133 134 150 151 156 157 162 163 176 177 183 187\n",
      " 188 196 201 202 207 208 214 215 217 219 220 225 229 236 239 243 252 258\n",
      " 273 274 282 284]\n",
      "TRAIN: [  1   2   3   4   5   6   7   9  10  12  14  15  18  19  20  22  23  25\n",
      "  27  29  30  31  32  33  34  35  36  37  38  39  40  41  42  43  45  46\n",
      "  49  50  51  52  53  54  55  56  57  58  59  60  61  62  63  64  65  66\n",
      "  67  68  69  70  71  73  74  75  76  77  80  81  83  84  86  87  88  89\n",
      "  90  92  94  95  96  97  98  99 100 101 102 104 105 106 107 108 110 112\n",
      " 113 114 115 116 117 119 120 121 122 123 124 125 126 127 130 132 133 134\n",
      " 135 136 143 144 146 148 149 150 151 152 154 155 156 157 158 161 162 163\n",
      " 164 165 166 167 171 172 174 175 176 177 178 179 180 182 183 184 186 187\n",
      " 188 189 190 191 192 193 194 195 196 197 198 199 200 201 202 203 204 205\n",
      " 207 208 209 210 212 213 214 215 216 217 218 219 220 221 222 223 225 226\n",
      " 227 228 229 230 232 234 235 236 237 238 239 240 242 243 244 245 246 248\n",
      " 249 250 251 252 253 254 255 256 257 258 261 262 263 264 265 266 269 270\n",
      " 271 272 273 274 275 276 277 278 280 282 283 284 285 286 287] TEST: [  0   8  11  13  16  17  21  24  26  28  44  47  48  72  78  79  82  85\n",
      "  91  93 103 109 111 118 128 129 131 137 138 139 140 141 142 145 147 153\n",
      " 159 160 168 169 170 173 181 185 206 211 224 231 233 241 247 259 260 267\n",
      " 268 279 281 288]\n",
      "TRAIN: [  0   1   2   3   7   8   9  10  11  12  13  14  16  17  18  19  21  22\n",
      "  23  24  25  26  27  28  31  34  37  38  40  42  43  44  46  47  48  49\n",
      "  51  52  54  55  56  57  58  60  61  63  64  65  66  67  68  70  71  72\n",
      "  73  75  76  77  78  79  80  81  82  84  85  87  88  89  90  91  92  93\n",
      "  94  98 100 101 102 103 104 106 107 108 109 110 111 112 114 115 116 117\n",
      " 118 120 121 122 123 124 125 126 127 128 129 130 131 132 133 134 135 137\n",
      " 138 139 140 141 142 143 145 147 148 149 150 151 152 153 154 155 156 157\n",
      " 158 159 160 162 163 164 165 166 167 168 169 170 171 172 173 174 175 176\n",
      " 177 178 179 180 181 182 183 185 186 187 188 189 190 191 192 196 197 198\n",
      " 199 200 201 202 204 206 207 208 209 210 211 212 214 215 216 217 218 219\n",
      " 220 222 223 224 225 227 228 229 231 232 233 234 236 237 238 239 240 241\n",
      " 242 243 244 245 247 248 249 252 253 255 258 259 260 261 262 263 264 267\n",
      " 268 269 270 273 274 277 278 279 280 281 282 284 285 287 288] TEST: [  4   5   6  15  20  29  30  32  33  35  36  39  41  45  50  53  59  62\n",
      "  69  74  83  86  95  96  97  99 105 113 119 136 144 146 161 184 193 194\n",
      " 195 203 205 213 221 226 230 235 246 250 251 254 256 257 265 266 271 272\n",
      " 275 276 283 286]\n",
      "TRAIN: [  0   1   2   3   4   5   6   7   8   9  10  11  12  13  14  15  16  17\n",
      "  18  19  20  21  23  24  25  26  27  28  29  30  32  33  35  36  38  39\n",
      "  40  41  42  43  44  45  46  47  48  50  52  53  54  56  58  59  61  62\n",
      "  63  64  66  68  69  71  72  74  76  77  78  79  80  81  82  83  84  85\n",
      "  86  87  88  89  90  91  93  95  96  97  98  99 101 102 103 104 105 106\n",
      " 108 109 110 111 113 115 116 117 118 119 122 123 125 126 127 128 129 130\n",
      " 131 132 133 134 135 136 137 138 139 140 141 142 144 145 146 147 149 150\n",
      " 151 153 156 157 158 159 160 161 162 163 164 165 166 168 169 170 171 173\n",
      " 174 175 176 177 178 181 182 183 184 185 187 188 193 194 195 196 200 201\n",
      " 202 203 204 205 206 207 208 209 211 213 214 215 217 219 220 221 222 224\n",
      " 225 226 227 228 229 230 231 233 234 235 236 239 241 242 243 244 245 246\n",
      " 247 248 250 251 252 253 254 255 256 257 258 259 260 261 265 266 267 268\n",
      " 269 271 272 273 274 275 276 278 279 281 282 283 284 285 286 288] TEST: [ 22  31  34  37  49  51  55  57  60  65  67  70  73  75  92  94 100 107\n",
      " 112 114 120 121 124 143 148 152 154 155 167 172 179 180 186 189 190 191\n",
      " 192 197 198 199 210 212 216 218 223 232 237 238 240 249 262 263 264 270\n",
      " 277 280 287]\n"
     ]
    }
   ],
   "source": [
    "from sklearn.model_selection import KFold\n",
    "\n",
    "kcv = KFold(n_splits=5, shuffle=True)\n",
    "\n",
    "kcvMSE_Ridge = np.zeros((kcv.get_n_splits(), alphas.size))\n",
    "kcvMSE_Lasso = np.zeros((kcv.get_n_splits(), alphas.size))\n",
    "\n",
    "i = 0\n",
    "for train_index, test_index in kcv.split(Phi_train, Y_train):\n",
    "    print(\"TRAIN:\", train_index, \"TEST:\", test_index)\n",
    "    CV_Phi_train, CV_Phi_test = Phi_train[train_index,:], Phi_train[test_index,:]\n",
    "    CV_Y_train, CV_Y_test = Y_train.iloc[train_index], Y_train.iloc[test_index]\n",
    "    \n",
    "    Ridge_output = Ridge_Reg(CV_Phi_train, CV_Y_train, CV_Phi_test, CV_Y_test, alphas, fig=False)\n",
    "    kcvMSE_Ridge[i, :] = Ridge_output['test_MSE']\n",
    "    \n",
    "    Lasso_output = Lasso_Reg(CV_Phi_train, CV_Y_train, CV_Phi_test, CV_Y_test, alphas, fig=False)\n",
    "    kcvMSE_Lasso[i, :] = Lasso_output['test_MSE']\n",
    "    i += 1"
   ]
  },
  {
   "cell_type": "code",
   "execution_count": 84,
   "metadata": {},
   "outputs": [
    {
     "name": "stdout",
     "output_type": "stream",
     "text": [
      "Weight: [ 0.    -8.038 -3.174 -1.906  0.455  1.822]\n"
     ]
    },
    {
     "data": {
      "image/png": "[encoded data removed]",
      "text/plain": [
       "<Figure size 720x432 with 1 Axes>"
      ]
     },
     "metadata": {
      "needs_background": "light"
     },
     "output_type": "display_data"
    }
   ],
   "source": [
    "fig, ax= plt.subplots(figsize=(10,6))\n",
    "meanMSE = np.apply_along_axis(np.mean, 1, kcvMSE_Ridge.T)\n",
    "ax.plot(alphas, kcvMSE_Ridge.T, linestyle='--')\n",
    "ax.plot(alphas, meanMSE, color='black', label='Average MSE')\n",
    "ax.set_xscale('log')\n",
    "ax.axvline(x=alphas[np.argmin(meanMSE)], linestyle='--', color='black')\n",
    "alpha = np.around(alphas[np.argmin(meanMSE)],3)\n",
    "ax.text(alphas[np.argmin(meanMSE)], np.amin(meanMSE), 'alpha={0}'.format(alpha), size=15)\n",
    "ax.set_title('Ridge Complexity')\n",
    "ax.legend()\n",
    "\n",
    "coefs = Ridge_output['coefs']\n",
    "print(\"Weight:\" ,coefs[np.argmin(meanMSE)])\n",
    "Ridge_alphas = [alphas[np.argmin(meanMSE)]]"
   ]
  },
  {
   "cell_type": "code",
   "execution_count": 85,
   "metadata": {},
   "outputs": [
    {
     "name": "stdout",
     "output_type": "stream",
     "text": [
      "Weight: [ 0.    -8.304 -3.143 -1.829  0.286  1.68 ]\n"
     ]
    },
    {
     "data": {
      "image/png": "[encoded data removed]",
      "text/plain": [
       "<Figure size 720x432 with 1 Axes>"
      ]
     },
     "metadata": {
      "needs_background": "light"
     },
     "output_type": "display_data"
    }
   ],
   "source": [
    "fig, ax= plt.subplots(figsize=(10,6))\n",
    "meanMSE = np.apply_along_axis(np.mean, 1, kcvMSE_Lasso.T)\n",
    "ax.plot(alphas, kcvMSE_Lasso.T, linestyle='--')\n",
    "ax.plot(alphas, meanMSE, color='black', label='Average MSE')\n",
    "ax.set_xscale('log')\n",
    "ax.axvline(x=alphas[np.argmin(meanMSE)], linestyle='--', color='black')\n",
    "alpha = np.around(alphas[np.argmin(meanMSE)],3)\n",
    "ax.text(alphas[np.argmin(meanMSE)], np.amin(meanMSE), 'alpha={0}'.format(alpha), size=15)\n",
    "ax.set_title('Lasso Complexity')\n",
    "ax.legend()\n",
    "\n",
    "coefs = Lasso_output['coefs']\n",
    "print(\"Weight:\" ,coefs[np.argmin(meanMSE)])\n",
    "Lasso_alphas = [alphas[np.argmin(meanMSE)]]"
   ]
  },
  {
   "cell_type": "code",
   "execution_count": 89,
   "metadata": {},
   "outputs": [
    {
     "data": {
      "text/plain": [
       "7.288122782574814"
      ]
     },
     "execution_count": 89,
     "metadata": {},
     "output_type": "execute_result"
    }
   ],
   "source": [
    "PRmodel['coef']\n",
    "PRmodel['test_MSE']\n"
   ]
  },
  {
   "cell_type": "code",
   "execution_count": 99,
   "metadata": {},
   "outputs": [
    {
     "name": "stdout",
     "output_type": "stream",
     "text": [
      "[50.5062192014636]\n"
     ]
    },
    {
     "data": {
      "text/plain": [
       "[array([ 0.   , -8.46 , -4.075, -1.858,  0.76 ,  1.727,  0.274,  0.138,\n",
       "        -0.179,  0.322])]"
      ]
     },
     "execution_count": 99,
     "metadata": {},
     "output_type": "execute_result"
    }
   ],
   "source": [
    "Ridge_output = Ridge_Reg(phi_train, Y_train, phi_test, Y_test, Ridge_alphas)\n",
    "print(Ridge_output['test_MSE'])\n",
    "Ridge_alphas\n",
    "Ridge_output['coefs']\n"
   ]
  },
  {
   "cell_type": "code",
   "execution_count": 97,
   "metadata": {},
   "outputs": [
    {
     "data": {
      "text/plain": [
       "[50.120497418303785]"
      ]
     },
     "execution_count": 97,
     "metadata": {},
     "output_type": "execute_result"
    }
   ],
   "source": [
    "Lasso_output = Lasso_Reg(phi_train, Y_train, phi_test, Y_test, Lasso_alphas)\n",
    "Lasso_output['test_MSE']"
   ]
  },
  {
   "cell_type": "markdown",
   "metadata": {},
   "source": [
    "위의 결과를 보면 lasso의 mse가 ridge보다 약간 낮음을 확인할 수 있다."
   ]
  }
 ],
 "metadata": {
  "kernelspec": {
   "display_name": "Python 3",
   "language": "python",
   "name": "python3"
  },
  "language_info": {
   "codemirror_mode": {
    "name": "ipython",
    "version": 3
   },
   "file_extension": ".py",
   "mimetype": "text/x-python",
   "name": "python",
   "nbconvert_exporter": "python",
   "pygments_lexer": "ipython3",
   "version": "3.7.4"
  }
 },
 "nbformat": 4,
 "nbformat_minor": 2
}
