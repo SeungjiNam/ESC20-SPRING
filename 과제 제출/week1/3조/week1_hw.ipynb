{
 "cells": [
  {
   "cell_type": "code",
   "execution_count": 13,
   "metadata": {},
   "outputs": [],
   "source": [
    "import numpy as np \n",
    "np.set_printoptions(precision=3)\n",
    "import pandas as pd \n",
    "pd.set_option('display.precision',3)\n",
    "import matplotlib.pyplot as plt\n",
    "import seaborn as sns"
   ]
  },
  {
   "cell_type": "code",
   "execution_count": 14,
   "metadata": {},
   "outputs": [
    {
     "name": "stdout",
     "output_type": "stream",
     "text": [
      "<class 'pandas.core.frame.DataFrame'>\n",
      "RangeIndex: 731 entries, 0 to 730\n",
      "Data columns (total 16 columns):\n",
      " #   Column      Non-Null Count  Dtype  \n",
      "---  ------      --------------  -----  \n",
      " 0   instant     731 non-null    int64  \n",
      " 1   dteday      731 non-null    object \n",
      " 2   season      731 non-null    int64  \n",
      " 3   yr          731 non-null    int64  \n",
      " 4   mnth        731 non-null    int64  \n",
      " 5   holiday     731 non-null    int64  \n",
      " 6   weekday     731 non-null    int64  \n",
      " 7   workingday  731 non-null    int64  \n",
      " 8   weathersit  731 non-null    int64  \n",
      " 9   temp        731 non-null    float64\n",
      " 10  atemp       731 non-null    float64\n",
      " 11  hum         731 non-null    float64\n",
      " 12  windspeed   731 non-null    float64\n",
      " 13  casual      731 non-null    int64  \n",
      " 14  registered  731 non-null    int64  \n",
      " 15  cnt         731 non-null    int64  \n",
      "dtypes: float64(4), int64(11), object(1)\n",
      "memory usage: 91.5+ KB\n"
     ]
    }
   ],
   "source": [
    "# Importing the dataset\n",
    "bike = pd.read_csv('day.csv')\n",
    "bike.info()\n",
    "\n",
    "Data = bike[['cnt', 'temp']]\n"
   ]
  },
  {
   "cell_type": "code",
   "execution_count": 22,
   "metadata": {},
   "outputs": [
    {
     "data": {
      "text/plain": [
       "50"
      ]
     },
     "execution_count": 22,
     "metadata": {},
     "output_type": "execute_result"
    }
   ],
   "source": [
    "data= Data.sample(n=50).reset_index()\n",
    "# 데이터 개수가 적을때 쓸데없이 복잡한 모델을 만들어보려고\n",
    "# 얼마나 과적화 되어버리는지\n",
    "data.shape[0]"
   ]
  },
  {
   "cell_type": "code",
   "execution_count": 23,
   "metadata": {},
   "outputs": [
    {
     "name": "stdout",
     "output_type": "stream",
     "text": [
      "(30, 3) (20, 3)\n"
     ]
    }
   ],
   "source": [
    "# Train-Test Split\n",
    "\n",
    "N=data.shape[0] #행 개수 / data.shape[1] -> 열 \n",
    "\n",
    "test= np.random.choice(np.arange(N), 20, replace=False)\n",
    "#np.arrange(N)=50 -> [0,50) 중 20개 선택 \n",
    "\n",
    "train_df = data[~data.index.isin(test)].copy() #가져온 데이터만 수정, 원본 유지 \n",
    "test_df = data[data.index.isin(test)].copy()\n",
    "\n",
    "print(train_df.shape, test_df.shape)"
   ]
  },
  {
   "cell_type": "code",
   "execution_count": 24,
   "metadata": {},
   "outputs": [],
   "source": [
    "y = np.matrix(data['cnt']).T\n",
    "X = np.matrix(data['temp']).T\n",
    "y_train = np.matrix(train_df['cnt']).T\n",
    "X_train = np.matrix(train_df['temp']).T\n",
    "y_test = np.matrix(test_df['cnt']).T\n",
    "X_test = np.matrix(test_df['temp']).T"
   ]
  },
  {
   "cell_type": "code",
   "execution_count": 25,
   "metadata": {},
   "outputs": [],
   "source": [
    "# Design Matrix\n",
    "from sklearn.linear_model import LinearRegression\n",
    "from sklearn.preprocessing import PolynomialFeatures\n",
    "from sklearn.metrics import mean_squared_error"
   ]
  },
  {
   "cell_type": "code",
   "execution_count": 32,
   "metadata": {
    "scrolled": true
   },
   "outputs": [
    {
     "name": "stdout",
     "output_type": "stream",
     "text": [
      "[14.331947308746964, 14.08574942098299, 13.93302678786095, 13.926414380211446, 13.77630660570694, 13.762690052559073, 13.469286616057866, 13.445515798599645, 13.428983526143664, 13.426784598348643, 13.296115849767263, 13.254105657307687, 13.229720060438323, 13.205727081979546]\n"
     ]
    }
   ],
   "source": [
    "degreee=list(range(1,15))\n",
    "pr=LinearRegression()\n",
    "\n",
    "train_log_mse=[]\n",
    "\n",
    "\n",
    "for m in degreee :\n",
    "    poly = PolynomialFeatures(degree=m)\n",
    "    \n",
    "    X_train_poly = poly.fit_transform(X_train) \n",
    "    #fit(): 정규화를 위해 mu, sigma 계산 , transform(): 정규화\n",
    "    \n",
    "    pr.fit(X_train_poly, y_train)\n",
    "    \n",
    "    y_train_poly_pred=pr.predict(X_train_poly)\n",
    "    \n",
    "    mse=mean_squared_error(y_train,y_train_poly_pred)\n",
    "    train_log_mse.append(np.log(mse))\n",
    "\n",
    "print(train_log_mse)"
   ]
  },
  {
   "cell_type": "code",
   "execution_count": 33,
   "metadata": {},
   "outputs": [
    {
     "name": "stdout",
     "output_type": "stream",
     "text": [
      "[14.195137551423002, 14.189316107535618, 14.169841558292298, 14.13249422819689, 14.115288145752496, 14.112861489835469, 14.101583182818336, 14.1015817368788, 13.97120205998759, 13.833640779290688, 13.6743953156982, 13.409051429386675, 13.2616658243325, 13.249872504883227]\n"
     ]
    }
   ],
   "source": [
    "test_log_mse=[]\n",
    "\n",
    "for m in degreee :\n",
    "    poly = PolynomialFeatures(degree=m) \n",
    "    \n",
    "    X_test_poly = poly.fit_transform(X_test) \n",
    "    \n",
    "    pr.fit(X_test_poly, y_test)\n",
    "    \n",
    "    y_test_poly_pred=pr.predict(X_test_poly)\n",
    "    \n",
    "    mse=mean_squared_error(y_test,y_test_poly_pred)\n",
    "    test_log_mse.append(np.log(mse))\n",
    "\n",
    "print(test_log_mse)"
   ]
  },
  {
   "cell_type": "code",
   "execution_count": 34,
   "metadata": {},
   "outputs": [
    {
     "data": {
      "text/plain": [
       "<matplotlib.legend.Legend at 0x19338b31848>"
      ]
     },
     "execution_count": 34,
     "metadata": {},
     "output_type": "execute_result"
    },
    {
     "data": {
      "image/png": "[encoded data removed]",
      "text/plain": [
       "<Figure size 432x288 with 1 Axes>"
      ]
     },
     "metadata": {
      "needs_background": "light"
     },
     "output_type": "display_data"
    }
   ],
   "source": [
    "plt.plot(degree, train_log_mse, label=\"Train log(MSE)\")\n",
    "plt.plot(degree, test_log_mse, color=\"red\",label=\"Test log(MSE)\")\n",
    "plt.legend()"
   ]
  }
 ],
 "metadata": {
  "kernelspec": {
   "display_name": "Python 3",
   "language": "python",
   "name": "python3"
  },
  "language_info": {
   "codemirror_mode": {
    "name": "ipython",
    "version": 3
   },
   "file_extension": ".py",
   "mimetype": "text/x-python",
   "name": "python",
   "nbconvert_exporter": "python",
   "pygments_lexer": "ipython3",
   "version": "3.7.6"
  }
 },
 "nbformat": 4,
 "nbformat_minor": 4
}
