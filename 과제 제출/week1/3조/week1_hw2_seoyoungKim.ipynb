{
 "cells": [
  {
   "cell_type": "code",
   "execution_count": 1,
   "metadata": {},
   "outputs": [],
   "source": [
    "import numpy as np \n",
    "np.set_printoptions(precision=3)\n",
    "import pandas as pd \n",
    "pd.set_option('display.precision',3)\n",
    "import matplotlib.pyplot as plt\n",
    "import seaborn as sns"
   ]
  },
  {
   "cell_type": "code",
   "execution_count": 2,
   "metadata": {},
   "outputs": [
    {
     "name": "stdout",
     "output_type": "stream",
     "text": [
      "<class 'pandas.core.frame.DataFrame'>\n",
      "RangeIndex: 731 entries, 0 to 730\n",
      "Data columns (total 16 columns):\n",
      " #   Column      Non-Null Count  Dtype  \n",
      "---  ------      --------------  -----  \n",
      " 0   instant     731 non-null    int64  \n",
      " 1   dteday      731 non-null    object \n",
      " 2   season      731 non-null    int64  \n",
      " 3   yr          731 non-null    int64  \n",
      " 4   mnth        731 non-null    int64  \n",
      " 5   holiday     731 non-null    int64  \n",
      " 6   weekday     731 non-null    int64  \n",
      " 7   workingday  731 non-null    int64  \n",
      " 8   weathersit  731 non-null    int64  \n",
      " 9   temp        731 non-null    float64\n",
      " 10  atemp       731 non-null    float64\n",
      " 11  hum         731 non-null    float64\n",
      " 12  windspeed   731 non-null    float64\n",
      " 13  casual      731 non-null    int64  \n",
      " 14  registered  731 non-null    int64  \n",
      " 15  cnt         731 non-null    int64  \n",
      "dtypes: float64(4), int64(11), object(1)\n",
      "memory usage: 91.5+ KB\n"
     ]
    }
   ],
   "source": [
    "# Importing the dataset\n",
    "bike = pd.read_csv('day.csv')\n",
    "bike.info()\n",
    "\n",
    "Data = bike[['cnt', 'temp']]\n"
   ]
  },
  {
   "cell_type": "code",
   "execution_count": 3,
   "metadata": {},
   "outputs": [
    {
     "data": {
      "text/plain": [
       "30"
      ]
     },
     "execution_count": 3,
     "metadata": {},
     "output_type": "execute_result"
    }
   ],
   "source": [
    "data= Data.sample(n=30).reset_index()\n",
    "# 데이터 개수가 적을때 쓸데없이 복잡한 모델을 만들어보려고\n",
    "# 얼마나 과적화 되어버리는지\n",
    "data.shape[0]"
   ]
  },
  {
   "cell_type": "code",
   "execution_count": 4,
   "metadata": {},
   "outputs": [
    {
     "name": "stdout",
     "output_type": "stream",
     "text": [
      "(20, 3) (10, 3)\n"
     ]
    }
   ],
   "source": [
    "# Train-Test Split\n",
    "\n",
    "N=data.shape[0] #행 개수 / data.shape[1] -> 열 \n",
    "\n",
    "test= np.random.choice(np.arange(N), 10, replace=False)\n",
    "#np.arrange(N)=30 -> [0,30) 중 10개 선택 \n",
    "\n",
    "train_df = data[~data.index.isin(test)].copy() #가져온 데이터만 수정, 원본 유지 \n",
    "test_df = data[data.index.isin(test)].copy()\n",
    "\n",
    "print(train_df.shape, test_df.shape)"
   ]
  },
  {
   "cell_type": "code",
   "execution_count": 5,
   "metadata": {},
   "outputs": [],
   "source": [
    "y = np.matrix(data['cnt']).T\n",
    "X = np.matrix(data['temp']).T\n",
    "y_train = np.matrix(train_df['cnt']).T\n",
    "X_train = np.matrix(train_df['temp']).T\n",
    "y_test = np.matrix(test_df['cnt']).T\n",
    "X_test = np.matrix(test_df['temp']).T"
   ]
  },
  {
   "cell_type": "code",
   "execution_count": 6,
   "metadata": {},
   "outputs": [],
   "source": [
    "# Design Matrix\n",
    "from sklearn.linear_model import LinearRegression\n",
    "from sklearn.preprocessing import PolynomialFeatures\n",
    "from sklearn.metrics import mean_squared_error"
   ]
  },
  {
   "cell_type": "code",
   "execution_count": 7,
   "metadata": {
    "scrolled": true
   },
   "outputs": [
    {
     "name": "stdout",
     "output_type": "stream",
     "text": [
      "[14.573840709937269, 14.254023070724235, 14.182817244979578, 14.001285208811648, 13.920109473260302, 13.702754104486141, 13.702008094545427, 13.67888338938445, 13.662500106217394, 13.13335969403172, 13.030567447911926, 12.188020688757948, 11.75072961578368, 10.391319243354397]\n"
     ]
    }
   ],
   "source": [
    "degree=list(range(1,15))\n",
    "pr=LinearRegression(fit_intercept=False)\n",
    "\n",
    "train_log_mse=[]\n",
    "\n",
    "\n",
    "for m in degree :\n",
    "    poly = PolynomialFeatures(degree=m)\n",
    "    \n",
    "    X_train_poly = poly.fit_transform(X_train) \n",
    "    #fit(): 정규화를 위해 mu, sigma 계산 , transform(): 정규화\n",
    "    \n",
    "    pr.fit(X_train_poly, y_train)\n",
    "    \n",
    "    y_train_poly_pred=pr.predict(X_train_poly)\n",
    "    \n",
    "    mse=mean_squared_error(y_train,y_train_poly_pred)\n",
    "    train_log_mse.append(np.log(mse))\n",
    "\n",
    "print(train_log_mse)"
   ]
  },
  {
   "cell_type": "code",
   "execution_count": 8,
   "metadata": {},
   "outputs": [
    {
     "name": "stdout",
     "output_type": "stream",
     "text": [
      "[14.545769737216993, 14.48064743466328, 14.479191339234674, 14.473309174643711, 14.411523865731425, 14.046660007785633, 13.04194462379279, 12.702177719470933, -18.917921738182816, -21.28693629208593, -24.49384841100333, -24.032603419184536, -26.30504047977126, -27.703006463638346]\n"
     ]
    }
   ],
   "source": [
    "test_log_mse=[]\n",
    "\n",
    "for m in degree :\n",
    "    poly = PolynomialFeatures(degree=m) \n",
    "    \n",
    "    X_test_poly = poly.fit_transform(X_test) \n",
    "    \n",
    "    pr.fit(X_test_poly, y_test)\n",
    "    \n",
    "    y_test_poly_pred=pr.predict(X_test_poly)\n",
    "    \n",
    "    mse=mean_squared_error(y_test,y_test_poly_pred)\n",
    "    test_log_mse.append(np.log(mse))\n",
    "\n",
    "print(test_log_mse)"
   ]
  },
  {
   "cell_type": "code",
   "execution_count": 12,
   "metadata": {},
   "outputs": [
    {
     "data": {
      "text/plain": [
       "<matplotlib.legend.Legend at 0x193389779c8>"
      ]
     },
     "execution_count": 12,
     "metadata": {},
     "output_type": "execute_result"
    },
    {
     "data": {
      "image/png": "[encoded data removed]",
      "text/plain": [
       "<Figure size 432x288 with 1 Axes>"
      ]
     },
     "metadata": {
      "needs_background": "light"
     },
     "output_type": "display_data"
    }
   ],
   "source": [
    "plt.plot(degree, train_log_mse, label=\"Train log(MSE)\")\n",
    "plt.plot(degree, test_log_mse, color=\"red\",label=\"Test log(MSE)\")\n",
    "plt.legend()"
   ]
  }
 ],
 "metadata": {
  "kernelspec": {
   "display_name": "Python 3",
   "language": "python",
   "name": "python3"
  },
  "language_info": {
   "codemirror_mode": {
    "name": "ipython",
    "version": 3
   },
   "file_extension": ".py",
   "mimetype": "text/x-python",
   "name": "python",
   "nbconvert_exporter": "python",
   "pygments_lexer": "ipython3",
   "version": "3.7.6"
  }
 },
 "nbformat": 4,
 "nbformat_minor": 4
}
