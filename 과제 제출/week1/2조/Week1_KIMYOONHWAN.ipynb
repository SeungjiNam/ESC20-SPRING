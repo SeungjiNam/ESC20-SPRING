{
  "nbformat": 4,
  "nbformat_minor": 0,
  "metadata": {
    "colab": {
      "name": "Week1_KIMYOONHWAN.ipynb",
      "provenance": [],
      "collapsed_sections": []
    },
    "kernelspec": {
      "name": "python3",
      "display_name": "Python 3"
    }
  },
  "cells": [
    {
      "cell_type": "markdown",
      "metadata": {
        "id": "gphyXLxUXkIi",
        "colab_type": "text"
      },
      "source": [
        "\n",
        "ESC20-1 Week1\n",
        "2015122022 김윤환\n",
        "\n"
      ]
    },
    {
      "cell_type": "markdown",
      "metadata": {
        "id": "KKiNyXQeXs77",
        "colab_type": "text"
      },
      "source": [
        "Week1 LAB: Bayesian Belief Update\n"
      ]
    },
    {
      "cell_type": "code",
      "metadata": {
        "id": "cvXlhMUpXbZ6",
        "colab_type": "code",
        "colab": {}
      },
      "source": [
        "import numpy as np\n",
        "np.set_printoptions(precision=3)\n",
        "import pandas as pd\n",
        "pd.set_option('display.precision', 3)\n",
        "import matplotlib.pyplot as plt"
      ],
      "execution_count": 0,
      "outputs": []
    },
    {
      "cell_type": "markdown",
      "metadata": {
        "id": "RwHoEh8uX3zs",
        "colab_type": "text"
      },
      "source": [
        "Case1: Beta-Bonimal (unknown p)"
      ]
    },
    {
      "cell_type": "code",
      "metadata": {
        "id": "dSi_fSXUX0kv",
        "colab_type": "code",
        "colab": {}
      },
      "source": [
        "from scipy.stats import binom, beta"
      ],
      "execution_count": 0,
      "outputs": []
    },
    {
      "cell_type": "code",
      "metadata": {
        "id": "ix-ZcE01X0zY",
        "colab_type": "code",
        "outputId": "c1cbc59a-0199-46c1-ca98-963dde8d5e89",
        "colab": {
          "base_uri": "https://localhost:8080/",
          "height": 71
        }
      },
      "source": [
        "# population parameter\n",
        "p = 0.3\n",
        "# generate toy sample\n",
        "N = 15\n",
        "np.random.seed(101)\n",
        "data = binom.rvs(1,p, size=N)\n",
        "print(data)\n",
        "print(data.size)\n",
        "print(data.sum())"
      ],
      "execution_count": 3,
      "outputs": [
        {
          "output_type": "stream",
          "text": [
            "[0 0 0 0 0 1 0 1 1 0 0 0 0 1 1]\n",
            "15\n",
            "5\n"
          ],
          "name": "stdout"
        }
      ]
    },
    {
      "cell_type": "markdown",
      "metadata": {
        "id": "UOBHRalIYFbf",
        "colab_type": "text"
      },
      "source": [
        "prior belief"
      ]
    },
    {
      "cell_type": "code",
      "metadata": {
        "id": "Vs-mYmxaX01z",
        "colab_type": "code",
        "outputId": "9edb3b43-794d-48d8-c3ce-5ab8d74c2c03",
        "colab": {
          "base_uri": "https://localhost:8080/",
          "height": 313
        }
      },
      "source": [
        "# choose your belief parameter\n",
        "a= 7; b= 2\n",
        "\n",
        "prior = beta(a, b)\n",
        "theta = np.linspace(0,1,100)\n",
        "plt.plot(prior.pdf(theta), color='r')\n",
        "plt.title('beta prior')\n",
        "plt.xlabel('theta')\n",
        "plt.ylabel('p(theta)')"
      ],
      "execution_count": 4,
      "outputs": [
        {
          "output_type": "execute_result",
          "data": {
            "text/plain": [
              "Text(0, 0.5, 'p(theta)')"
            ]
          },
          "metadata": {
            "tags": []
          },
          "execution_count": 4
        },
        {
          "output_type": "display_data",
          "data": {
            "image/png": "[encoded data removed]",
            "text/plain": [
              "<Figure size 432x288 with 1 Axes>"
            ]
          },
          "metadata": {
            "tags": []
          }
        }
      ]
    },
    {
      "cell_type": "code",
      "metadata": {
        "id": "ycpcnwMDX04E",
        "colab_type": "code",
        "outputId": "2962cc8f-f58a-43d5-95ed-2fd1e409c4bf",
        "colab": {
          "base_uri": "https://localhost:8080/",
          "height": 313
        }
      },
      "source": [
        "# you can always reflect other belief by tweaking your parameter;\n",
        "a2= 3; b2= 10\n",
        "\n",
        "prior2 = beta(a2, b2)\n",
        "theta = np.linspace(0,1,100)\n",
        "plt.plot(prior2.pdf(theta), color='r')\n",
        "plt.title('beta prior2')\n",
        "plt.xlabel('theta')\n",
        "plt.ylabel('p(theta)')"
      ],
      "execution_count": 5,
      "outputs": [
        {
          "output_type": "execute_result",
          "data": {
            "text/plain": [
              "Text(0, 0.5, 'p(theta)')"
            ]
          },
          "metadata": {
            "tags": []
          },
          "execution_count": 5
        },
        {
          "output_type": "display_data",
          "data": {
            "image/png": "[encoded data removed]",
            "text/plain": [
              "<Figure size 432x288 with 1 Axes>"
            ]
          },
          "metadata": {
            "tags": []
          }
        }
      ]
    },
    {
      "cell_type": "markdown",
      "metadata": {
        "id": "MluzjmJSY7ho",
        "colab_type": "text"
      },
      "source": [
        "Likelihood (Sampling Density)"
      ]
    },
    {
      "cell_type": "code",
      "metadata": {
        "id": "AUuCtGUeX06G",
        "colab_type": "code",
        "outputId": "f04ec3c2-16e9-4c4d-cd81-a6720689cf84",
        "colab": {
          "base_uri": "https://localhost:8080/",
          "height": 313
        }
      },
      "source": [
        "# scipy stats package does not allow for plotting pdf-theta so we need to define formula directly.\n",
        "def likelihood(D, p):\n",
        "    N = D.size; suc = D.sum()\n",
        "    theta = np.linspace(0,1,100)\n",
        "    return p**suc * (1-p)**(N-suc) # note that we neglected the constant as it will be canceled out in appling Bayes Rule\n",
        "\n",
        "plt.plot(theta, likelihood(data, theta), color='g')\n",
        "plt.title(\"likelihood\")\n",
        "plt.xlabel(\"theta\")\n",
        "plt.ylabel(\"p(Data|theta)\")\n",
        "plt.ylim(0,0.0005)"
      ],
      "execution_count": 6,
      "outputs": [
        {
          "output_type": "execute_result",
          "data": {
            "text/plain": [
              "(0.0, 0.0005)"
            ]
          },
          "metadata": {
            "tags": []
          },
          "execution_count": 6
        },
        {
          "output_type": "display_data",
          "data": {
            "image/png": "[encoded data removed]",
            "text/plain": [
              "<Figure size 432x288 with 1 Axes>"
            ]
          },
          "metadata": {
            "tags": []
          }
        }
      ]
    },
    {
      "cell_type": "markdown",
      "metadata": {
        "id": "8WvThhquar3t",
        "colab_type": "text"
      },
      "source": [
        "Posterior: Updated Belief\n"
      ]
    },
    {
      "cell_type": "code",
      "metadata": {
        "id": "kmEA0qwrX0-T",
        "colab_type": "code",
        "outputId": "b287febf-f0ed-41dd-833a-a814ee81e364",
        "colab": {
          "base_uri": "https://localhost:8080/",
          "height": 313
        }
      },
      "source": [
        "# Belief update\n",
        "a_pos = a + data.sum()\n",
        "b_pos = b + data.size - data.sum()\n",
        "\n",
        "posterior = beta(a_pos, b_pos)\n",
        "theta = np.linspace(0,1,100)\n",
        "plt.plot(posterior.pdf(theta), color='r')\n",
        "plt.title('beta posterior')\n",
        "plt.xlabel('theta')\n",
        "plt.ylabel('p(theta)')"
      ],
      "execution_count": 7,
      "outputs": [
        {
          "output_type": "execute_result",
          "data": {
            "text/plain": [
              "Text(0, 0.5, 'p(theta)')"
            ]
          },
          "metadata": {
            "tags": []
          },
          "execution_count": 7
        },
        {
          "output_type": "display_data",
          "data": {
            "image/png": "[encoded data removed]",
            "text/plain": [
              "<Figure size 432x288 with 1 Axes>"
            ]
          },
          "metadata": {
            "tags": []
          }
        }
      ]
    },
    {
      "cell_type": "code",
      "metadata": {
        "id": "wtSUtpEea55w",
        "colab_type": "code",
        "outputId": "d26d0891-e647-4f51-89a4-5eef863652d9",
        "colab": {
          "base_uri": "https://localhost:8080/",
          "height": 276
        }
      },
      "source": [
        "# in a nutshell;\n",
        "fig = plt.figure(figsize=(20,5))\n",
        "\n",
        "ax1 = fig.add_subplot(131)\n",
        "ax1.plot(prior.pdf(theta), color='r')\n",
        "ax1.set_title('prior')\n",
        "ax1.set_xlabel('theta')\n",
        "ax1.set_ylim(0,4)\n",
        "\n",
        "ax2 = fig.add_subplot(132)\n",
        "ax2.plot(theta, likelihood(data, theta), color='g')\n",
        "ax2.set_title('likelihood')\n",
        "ax2.set_xlabel('theta')\n",
        "ax2.set_ylim(0,0.0005)\n",
        "\n",
        "ax3 = fig.add_subplot(133)\n",
        "ax3.plot(posterior.pdf(theta), color='r')\n",
        "ax3.set_title('posterior')\n",
        "ax3.set_xlabel('theta')\n",
        "ax3.set_ylim(0,4)"
      ],
      "execution_count": 8,
      "outputs": [
        {
          "output_type": "execute_result",
          "data": {
            "text/plain": [
              "(0.0, 4.0)"
            ]
          },
          "metadata": {
            "tags": []
          },
          "execution_count": 8
        },
        {
          "output_type": "display_data",
          "data": {
            "image/png": "[encoded data removed]",
            "text/plain": [
              "<Figure size 1440x360 with 3 Axes>"
            ]
          },
          "metadata": {
            "tags": []
          }
        }
      ]
    },
    {
      "cell_type": "markdown",
      "metadata": {
        "id": "fdszNQ4Wbdf_",
        "colab_type": "text"
      },
      "source": [
        "(HW) Case 2: Gamma-Gaussian (unknown mu)\n"
      ]
    },
    {
      "cell_type": "code",
      "metadata": {
        "id": "xi_cc--Pbc36",
        "colab_type": "code",
        "colab": {}
      },
      "source": [
        "import scipy as sp\n",
        "import scipy.stats\n",
        "from scipy.stats import norm"
      ],
      "execution_count": 0,
      "outputs": []
    },
    {
      "cell_type": "code",
      "metadata": {
        "id": "pOr2HmAjczSk",
        "colab_type": "code",
        "outputId": "a4ea67b5-866d-44e1-df08-a3112eb5d266",
        "colab": {
          "base_uri": "https://localhost:8080/",
          "height": 215
        }
      },
      "source": [
        "rv = sp.stats.norm(loc=1, scale=2)\n",
        "\n",
        "\n",
        "N = 100\n",
        "np.random.seed(100)\n",
        "data = rv.rvs(size=N)\n",
        "print(data)\n",
        "print(data.size)\n",
        "#print(data.sum())"
      ],
      "execution_count": 10,
      "outputs": [
        {
          "output_type": "stream",
          "text": [
            "[-2.5    1.685  3.306  0.495  2.963  2.028  1.442 -1.14   0.621  1.51\n",
            "  0.084  1.87  -0.167  2.634  2.345  0.791 -0.063  3.059  0.124 -1.237\n",
            "  4.238  4.083  0.496 -0.685  1.369  2.874  2.462  3.723  0.348  1.111\n",
            "  1.445 -1.886 -0.513  2.633  2.501  0.088  3.379 -2.381 -1.713 -1.465\n",
            " -0.089 -0.336  1.015 -0.226  3.599 -2.466 -0.967  1.715 -2.227  3.941\n",
            " -1.376 -0.099 -0.88  -0.656  1.218  2.016 -0.724  3.499  0.841 -0.779\n",
            " -0.764  1.037  1.476  1.027 -2.271 -1.088  2.226  2.472  3.054 -1.864\n",
            " -2.682  1.732  0.336 -0.378  5.069 -0.101  2.501 -1.614  2.161 -1.209\n",
            "  2.38   2.374 -2.133  2.81   2.558  1.856  1.218  1.057 -0.158 -1.399\n",
            " -2.412  1.738  4.753  0.246  4.664  1.006  0.848  1.008  0.63  -3.974]\n",
            "100\n"
          ],
          "name": "stdout"
        }
      ]
    },
    {
      "cell_type": "code",
      "metadata": {
        "id": "RzWweoa5eUhd",
        "colab_type": "code",
        "outputId": "fee49afd-fd00-4447-ef8c-8b6e2115b576",
        "colab": {
          "base_uri": "https://localhost:8080/",
          "height": 313
        }
      },
      "source": [
        "# choose your belief parameter\n",
        "mu_0 = 0; sigma_0= 2\n",
        "phi_0 = 1/4\n",
        "prior = norm( mu_0 , sigma_0)\n",
        "theta = np.linspace(-4,4,100)\n",
        "plt.plot(theta,prior.pdf(theta), color='r')\n",
        "plt.title('normal prior')\n",
        "plt.xlabel('theta')\n",
        "plt.ylabel('p(theta)')\n"
      ],
      "execution_count": 11,
      "outputs": [
        {
          "output_type": "execute_result",
          "data": {
            "text/plain": [
              "Text(0, 0.5, 'p(theta)')"
            ]
          },
          "metadata": {
            "tags": []
          },
          "execution_count": 11
        },
        {
          "output_type": "display_data",
          "data": {
            "image/png": "[encoded data removed]",
            "text/plain": [
              "<Figure size 432x288 with 1 Axes>"
            ]
          },
          "metadata": {
            "tags": []
          }
        }
      ]
    },
    {
      "cell_type": "code",
      "metadata": {
        "id": "XWBwbdateUnv",
        "colab_type": "code",
        "outputId": "3c83d6d6-9395-4c3e-cddb-8ec90e44c74d",
        "colab": {
          "base_uri": "https://localhost:8080/",
          "height": 313
        }
      },
      "source": [
        "ybar = np.mean(data)\n",
        "phi= 1/np.var(data)\n",
        "sigma = np.std(data)\n",
        "n=100\n",
        "likelihood1 = norm(ybar,phi)\n",
        "plt.plot(theta, likelihood1.pdf(theta) , color='g')\n",
        "plt.title(\"likelihood\")\n",
        "plt.xlabel(\"theta\")\n",
        "plt.ylabel(\"p(Data|theta)\")\n",
        "\n",
        "\n",
        "#mu_n= (phi_0*mu_0 + n*ybar*phi) / (phi_0+n*phi)\n",
        "#sd_n=  sqrt(1/(phi_0+n*phi))"
      ],
      "execution_count": 12,
      "outputs": [
        {
          "output_type": "execute_result",
          "data": {
            "text/plain": [
              "Text(0, 0.5, 'p(Data|theta)')"
            ]
          },
          "metadata": {
            "tags": []
          },
          "execution_count": 12
        },
        {
          "output_type": "display_data",
          "data": {
            "image/png": "[encoded data removed]",
            "text/plain": [
              "<Figure size 432x288 with 1 Axes>"
            ]
          },
          "metadata": {
            "tags": []
          }
        }
      ]
    },
    {
      "cell_type": "code",
      "metadata": {
        "id": "gv4NHcg-rFu5",
        "colab_type": "code",
        "outputId": "53baeec2-eb9b-418d-fdef-779fc8cd3250",
        "colab": {
          "base_uri": "https://localhost:8080/",
          "height": 299
        }
      },
      "source": [
        "\n",
        "mu_n= (phi_0*mu_0 + n*ybar*phi) / (phi_0+n*phi)\n",
        "sd_n=  np.sqrt(1/(phi_0+n*phi))\n",
        "posterior = norm(loc=mu_n, scale=sd_n)\n",
        "plt.plot(theta, posterior.pdf(theta),color='r')\n",
        "plt.title('normal posterior')"
      ],
      "execution_count": 13,
      "outputs": [
        {
          "output_type": "execute_result",
          "data": {
            "text/plain": [
              "Text(0.5, 1.0, 'normal posterior')"
            ]
          },
          "metadata": {
            "tags": []
          },
          "execution_count": 13
        },
        {
          "output_type": "display_data",
          "data": {
            "image/png": "[encoded data removed]",
            "text/plain": [
              "<Figure size 432x288 with 1 Axes>"
            ]
          },
          "metadata": {
            "tags": []
          }
        }
      ]
    },
    {
      "cell_type": "code",
      "metadata": {
        "id": "A8cxNuFTeUtR",
        "colab_type": "code",
        "outputId": "f2589907-d8da-41bf-ccce-977ea46d56e1",
        "colab": {
          "base_uri": "https://localhost:8080/",
          "height": 35
        }
      },
      "source": [
        "print(mu_n)"
      ],
      "execution_count": 14,
      "outputs": [
        {
          "output_type": "stream",
          "text": [
            "0.784292648142083\n"
          ],
          "name": "stdout"
        }
      ]
    },
    {
      "cell_type": "markdown",
      "metadata": {
        "id": "j3A4F-hJtCne",
        "colab_type": "text"
      },
      "source": [
        "Week1 HW: Polynomial Regression"
      ]
    },
    {
      "cell_type": "code",
      "metadata": {
        "id": "O_M8dxMQtG8P",
        "colab_type": "code",
        "colab": {
          "base_uri": "https://localhost:8080/",
          "height": 73
        },
        "outputId": "c41618fe-ec66-4b34-da5e-17d21d5fc5c0"
      },
      "source": [
        "import numpy as np \n",
        "np.set_printoptions(precision=3)\n",
        "import pandas as pd \n",
        "pd.set_option('display.precision',3)\n",
        "import matplotlib.pyplot as plt\n",
        "import seaborn as sns"
      ],
      "execution_count": 15,
      "outputs": [
        {
          "output_type": "stream",
          "text": [
            "/usr/local/lib/python3.6/dist-packages/statsmodels/tools/_testing.py:19: FutureWarning: pandas.util.testing is deprecated. Use the functions in the public API at pandas.testing instead.\n",
            "  import pandas.util.testing as tm\n"
          ],
          "name": "stderr"
        }
      ]
    },
    {
      "cell_type": "code",
      "metadata": {
        "id": "gy-pnjHeJHqn",
        "colab_type": "code",
        "outputId": "6730dfb4-675b-4c10-e3b1-ddc6f2862c26",
        "colab": {
          "base_uri": "https://localhost:8080/",
          "height": 127
        }
      },
      "source": [
        "from google.colab import drive\n",
        "drive.mount('/content/drive')"
      ],
      "execution_count": 16,
      "outputs": [
        {
          "output_type": "stream",
          "text": [
            "Go to this URL in a browser: https://accounts.google.com/o/oauth2/auth?client_id=947318989803-6bn6qk8qdgf4n4g3pfee6491hc0brc4i.apps.googleusercontent.com&redirect_uri=urn%3aietf%3awg%3aoauth%3a2.0%3aoob&response_type=code&scope=email%20https%3a%2f%2fwww.googleapis.com%2fauth%2fdocs.test%20https%3a%2f%2fwww.googleapis.com%2fauth%2fdrive%20https%3a%2f%2fwww.googleapis.com%2fauth%2fdrive.photos.readonly%20https%3a%2f%2fwww.googleapis.com%2fauth%2fpeopleapi.readonly\n",
            "\n",
            "Enter your authorization code:\n",
            "··········\n",
            "Mounted at /content/drive\n"
          ],
          "name": "stdout"
        }
      ]
    },
    {
      "cell_type": "code",
      "metadata": {
        "id": "VzWz6I_fIzuD",
        "colab_type": "code",
        "outputId": "3120c434-3197-42d6-8f8f-ffb54a27148a",
        "colab": {
          "base_uri": "https://localhost:8080/",
          "height": 609
        }
      },
      "source": [
        "# Importing the dataset\n",
        "bike = pd.read_csv('/content/drive/My Drive/ESC20-1/day.csv')\n",
        "bike"
      ],
      "execution_count": 17,
      "outputs": [
        {
          "output_type": "execute_result",
          "data": {
            "text/html": [
              "<div>\n",
              "<style scoped>\n",
              "    .dataframe tbody tr th:only-of-type {\n",
              "        vertical-align: middle;\n",
              "    }\n",
              "\n",
              "    .dataframe tbody tr th {\n",
              "        vertical-align: top;\n",
              "    }\n",
              "\n",
              "    .dataframe thead th {\n",
              "        text-align: right;\n",
              "    }\n",
              "</style>\n",
              "<table border=\"1\" class=\"dataframe\">\n",
              "  <thead>\n",
              "    <tr style=\"text-align: right;\">\n",
              "      <th></th>\n",
              "      <th>instant</th>\n",
              "      <th>dteday</th>\n",
              "      <th>season</th>\n",
              "      <th>yr</th>\n",
              "      <th>mnth</th>\n",
              "      <th>holiday</th>\n",
              "      <th>weekday</th>\n",
              "      <th>workingday</th>\n",
              "      <th>weathersit</th>\n",
              "      <th>temp</th>\n",
              "      <th>atemp</th>\n",
              "      <th>hum</th>\n",
              "      <th>windspeed</th>\n",
              "      <th>casual</th>\n",
              "      <th>registered</th>\n",
              "      <th>cnt</th>\n",
              "    </tr>\n",
              "  </thead>\n",
              "  <tbody>\n",
              "    <tr>\n",
              "      <th>0</th>\n",
              "      <td>1</td>\n",
              "      <td>2011-01-01</td>\n",
              "      <td>1</td>\n",
              "      <td>0</td>\n",
              "      <td>1</td>\n",
              "      <td>0</td>\n",
              "      <td>6</td>\n",
              "      <td>0</td>\n",
              "      <td>2</td>\n",
              "      <td>0.344</td>\n",
              "      <td>0.364</td>\n",
              "      <td>0.806</td>\n",
              "      <td>0.160</td>\n",
              "      <td>331</td>\n",
              "      <td>654</td>\n",
              "      <td>985</td>\n",
              "    </tr>\n",
              "    <tr>\n",
              "      <th>1</th>\n",
              "      <td>2</td>\n",
              "      <td>2011-01-02</td>\n",
              "      <td>1</td>\n",
              "      <td>0</td>\n",
              "      <td>1</td>\n",
              "      <td>0</td>\n",
              "      <td>0</td>\n",
              "      <td>0</td>\n",
              "      <td>2</td>\n",
              "      <td>0.363</td>\n",
              "      <td>0.354</td>\n",
              "      <td>0.696</td>\n",
              "      <td>0.249</td>\n",
              "      <td>131</td>\n",
              "      <td>670</td>\n",
              "      <td>801</td>\n",
              "    </tr>\n",
              "    <tr>\n",
              "      <th>2</th>\n",
              "      <td>3</td>\n",
              "      <td>2011-01-03</td>\n",
              "      <td>1</td>\n",
              "      <td>0</td>\n",
              "      <td>1</td>\n",
              "      <td>0</td>\n",
              "      <td>1</td>\n",
              "      <td>1</td>\n",
              "      <td>1</td>\n",
              "      <td>0.196</td>\n",
              "      <td>0.189</td>\n",
              "      <td>0.437</td>\n",
              "      <td>0.248</td>\n",
              "      <td>120</td>\n",
              "      <td>1229</td>\n",
              "      <td>1349</td>\n",
              "    </tr>\n",
              "    <tr>\n",
              "      <th>3</th>\n",
              "      <td>4</td>\n",
              "      <td>2011-01-04</td>\n",
              "      <td>1</td>\n",
              "      <td>0</td>\n",
              "      <td>1</td>\n",
              "      <td>0</td>\n",
              "      <td>2</td>\n",
              "      <td>1</td>\n",
              "      <td>1</td>\n",
              "      <td>0.200</td>\n",
              "      <td>0.212</td>\n",
              "      <td>0.590</td>\n",
              "      <td>0.160</td>\n",
              "      <td>108</td>\n",
              "      <td>1454</td>\n",
              "      <td>1562</td>\n",
              "    </tr>\n",
              "    <tr>\n",
              "      <th>4</th>\n",
              "      <td>5</td>\n",
              "      <td>2011-01-05</td>\n",
              "      <td>1</td>\n",
              "      <td>0</td>\n",
              "      <td>1</td>\n",
              "      <td>0</td>\n",
              "      <td>3</td>\n",
              "      <td>1</td>\n",
              "      <td>1</td>\n",
              "      <td>0.227</td>\n",
              "      <td>0.229</td>\n",
              "      <td>0.437</td>\n",
              "      <td>0.187</td>\n",
              "      <td>82</td>\n",
              "      <td>1518</td>\n",
              "      <td>1600</td>\n",
              "    </tr>\n",
              "    <tr>\n",
              "      <th>...</th>\n",
              "      <td>...</td>\n",
              "      <td>...</td>\n",
              "      <td>...</td>\n",
              "      <td>...</td>\n",
              "      <td>...</td>\n",
              "      <td>...</td>\n",
              "      <td>...</td>\n",
              "      <td>...</td>\n",
              "      <td>...</td>\n",
              "      <td>...</td>\n",
              "      <td>...</td>\n",
              "      <td>...</td>\n",
              "      <td>...</td>\n",
              "      <td>...</td>\n",
              "      <td>...</td>\n",
              "      <td>...</td>\n",
              "    </tr>\n",
              "    <tr>\n",
              "      <th>726</th>\n",
              "      <td>727</td>\n",
              "      <td>2012-12-27</td>\n",
              "      <td>1</td>\n",
              "      <td>1</td>\n",
              "      <td>12</td>\n",
              "      <td>0</td>\n",
              "      <td>4</td>\n",
              "      <td>1</td>\n",
              "      <td>2</td>\n",
              "      <td>0.254</td>\n",
              "      <td>0.227</td>\n",
              "      <td>0.653</td>\n",
              "      <td>0.350</td>\n",
              "      <td>247</td>\n",
              "      <td>1867</td>\n",
              "      <td>2114</td>\n",
              "    </tr>\n",
              "    <tr>\n",
              "      <th>727</th>\n",
              "      <td>728</td>\n",
              "      <td>2012-12-28</td>\n",
              "      <td>1</td>\n",
              "      <td>1</td>\n",
              "      <td>12</td>\n",
              "      <td>0</td>\n",
              "      <td>5</td>\n",
              "      <td>1</td>\n",
              "      <td>2</td>\n",
              "      <td>0.253</td>\n",
              "      <td>0.255</td>\n",
              "      <td>0.590</td>\n",
              "      <td>0.155</td>\n",
              "      <td>644</td>\n",
              "      <td>2451</td>\n",
              "      <td>3095</td>\n",
              "    </tr>\n",
              "    <tr>\n",
              "      <th>728</th>\n",
              "      <td>729</td>\n",
              "      <td>2012-12-29</td>\n",
              "      <td>1</td>\n",
              "      <td>1</td>\n",
              "      <td>12</td>\n",
              "      <td>0</td>\n",
              "      <td>6</td>\n",
              "      <td>0</td>\n",
              "      <td>2</td>\n",
              "      <td>0.253</td>\n",
              "      <td>0.242</td>\n",
              "      <td>0.753</td>\n",
              "      <td>0.124</td>\n",
              "      <td>159</td>\n",
              "      <td>1182</td>\n",
              "      <td>1341</td>\n",
              "    </tr>\n",
              "    <tr>\n",
              "      <th>729</th>\n",
              "      <td>730</td>\n",
              "      <td>2012-12-30</td>\n",
              "      <td>1</td>\n",
              "      <td>1</td>\n",
              "      <td>12</td>\n",
              "      <td>0</td>\n",
              "      <td>0</td>\n",
              "      <td>0</td>\n",
              "      <td>1</td>\n",
              "      <td>0.256</td>\n",
              "      <td>0.232</td>\n",
              "      <td>0.483</td>\n",
              "      <td>0.351</td>\n",
              "      <td>364</td>\n",
              "      <td>1432</td>\n",
              "      <td>1796</td>\n",
              "    </tr>\n",
              "    <tr>\n",
              "      <th>730</th>\n",
              "      <td>731</td>\n",
              "      <td>2012-12-31</td>\n",
              "      <td>1</td>\n",
              "      <td>1</td>\n",
              "      <td>12</td>\n",
              "      <td>0</td>\n",
              "      <td>1</td>\n",
              "      <td>1</td>\n",
              "      <td>2</td>\n",
              "      <td>0.216</td>\n",
              "      <td>0.223</td>\n",
              "      <td>0.578</td>\n",
              "      <td>0.155</td>\n",
              "      <td>439</td>\n",
              "      <td>2290</td>\n",
              "      <td>2729</td>\n",
              "    </tr>\n",
              "  </tbody>\n",
              "</table>\n",
              "<p>731 rows × 16 columns</p>\n",
              "</div>"
            ],
            "text/plain": [
              "     instant      dteday  season  yr  ...  windspeed  casual  registered   cnt\n",
              "0          1  2011-01-01       1   0  ...      0.160     331         654   985\n",
              "1          2  2011-01-02       1   0  ...      0.249     131         670   801\n",
              "2          3  2011-01-03       1   0  ...      0.248     120        1229  1349\n",
              "3          4  2011-01-04       1   0  ...      0.160     108        1454  1562\n",
              "4          5  2011-01-05       1   0  ...      0.187      82        1518  1600\n",
              "..       ...         ...     ...  ..  ...        ...     ...         ...   ...\n",
              "726      727  2012-12-27       1   1  ...      0.350     247        1867  2114\n",
              "727      728  2012-12-28       1   1  ...      0.155     644        2451  3095\n",
              "728      729  2012-12-29       1   1  ...      0.124     159        1182  1341\n",
              "729      730  2012-12-30       1   1  ...      0.351     364        1432  1796\n",
              "730      731  2012-12-31       1   1  ...      0.155     439        2290  2729\n",
              "\n",
              "[731 rows x 16 columns]"
            ]
          },
          "metadata": {
            "tags": []
          },
          "execution_count": 17
        }
      ]
    },
    {
      "cell_type": "code",
      "metadata": {
        "id": "JzwbJk1ENAYQ",
        "colab_type": "code",
        "outputId": "975ae2ec-ef9d-4007-e2c8-ac1744a3eae1",
        "colab": {
          "base_uri": "https://localhost:8080/",
          "height": 431
        }
      },
      "source": [
        "bike.info() # No NA value"
      ],
      "execution_count": 18,
      "outputs": [
        {
          "output_type": "stream",
          "text": [
            "<class 'pandas.core.frame.DataFrame'>\n",
            "RangeIndex: 731 entries, 0 to 730\n",
            "Data columns (total 16 columns):\n",
            " #   Column      Non-Null Count  Dtype  \n",
            "---  ------      --------------  -----  \n",
            " 0   instant     731 non-null    int64  \n",
            " 1   dteday      731 non-null    object \n",
            " 2   season      731 non-null    int64  \n",
            " 3   yr          731 non-null    int64  \n",
            " 4   mnth        731 non-null    int64  \n",
            " 5   holiday     731 non-null    int64  \n",
            " 6   weekday     731 non-null    int64  \n",
            " 7   workingday  731 non-null    int64  \n",
            " 8   weathersit  731 non-null    int64  \n",
            " 9   temp        731 non-null    float64\n",
            " 10  atemp       731 non-null    float64\n",
            " 11  hum         731 non-null    float64\n",
            " 12  windspeed   731 non-null    float64\n",
            " 13  casual      731 non-null    int64  \n",
            " 14  registered  731 non-null    int64  \n",
            " 15  cnt         731 non-null    int64  \n",
            "dtypes: float64(4), int64(11), object(1)\n",
            "memory usage: 91.5+ KB\n"
          ],
          "name": "stdout"
        }
      ]
    },
    {
      "cell_type": "code",
      "metadata": {
        "id": "JphpnMMhNAnu",
        "colab_type": "code",
        "outputId": "bfc35de2-8954-4fd9-ea0f-ade21e9b5879",
        "colab": {
          "base_uri": "https://localhost:8080/",
          "height": 297
        }
      },
      "source": [
        "Data = bike[['cnt', 'temp']]\n",
        "Data.describe()"
      ],
      "execution_count": 19,
      "outputs": [
        {
          "output_type": "execute_result",
          "data": {
            "text/html": [
              "<div>\n",
              "<style scoped>\n",
              "    .dataframe tbody tr th:only-of-type {\n",
              "        vertical-align: middle;\n",
              "    }\n",
              "\n",
              "    .dataframe tbody tr th {\n",
              "        vertical-align: top;\n",
              "    }\n",
              "\n",
              "    .dataframe thead th {\n",
              "        text-align: right;\n",
              "    }\n",
              "</style>\n",
              "<table border=\"1\" class=\"dataframe\">\n",
              "  <thead>\n",
              "    <tr style=\"text-align: right;\">\n",
              "      <th></th>\n",
              "      <th>cnt</th>\n",
              "      <th>temp</th>\n",
              "    </tr>\n",
              "  </thead>\n",
              "  <tbody>\n",
              "    <tr>\n",
              "      <th>count</th>\n",
              "      <td>731.000</td>\n",
              "      <td>731.000</td>\n",
              "    </tr>\n",
              "    <tr>\n",
              "      <th>mean</th>\n",
              "      <td>4504.349</td>\n",
              "      <td>0.495</td>\n",
              "    </tr>\n",
              "    <tr>\n",
              "      <th>std</th>\n",
              "      <td>1937.211</td>\n",
              "      <td>0.183</td>\n",
              "    </tr>\n",
              "    <tr>\n",
              "      <th>min</th>\n",
              "      <td>22.000</td>\n",
              "      <td>0.059</td>\n",
              "    </tr>\n",
              "    <tr>\n",
              "      <th>25%</th>\n",
              "      <td>3152.000</td>\n",
              "      <td>0.337</td>\n",
              "    </tr>\n",
              "    <tr>\n",
              "      <th>50%</th>\n",
              "      <td>4548.000</td>\n",
              "      <td>0.498</td>\n",
              "    </tr>\n",
              "    <tr>\n",
              "      <th>75%</th>\n",
              "      <td>5956.000</td>\n",
              "      <td>0.655</td>\n",
              "    </tr>\n",
              "    <tr>\n",
              "      <th>max</th>\n",
              "      <td>8714.000</td>\n",
              "      <td>0.862</td>\n",
              "    </tr>\n",
              "  </tbody>\n",
              "</table>\n",
              "</div>"
            ],
            "text/plain": [
              "            cnt     temp\n",
              "count   731.000  731.000\n",
              "mean   4504.349    0.495\n",
              "std    1937.211    0.183\n",
              "min      22.000    0.059\n",
              "25%    3152.000    0.337\n",
              "50%    4548.000    0.498\n",
              "75%    5956.000    0.655\n",
              "max    8714.000    0.862"
            ]
          },
          "metadata": {
            "tags": []
          },
          "execution_count": 19
        }
      ]
    },
    {
      "cell_type": "code",
      "metadata": {
        "id": "TNh_I4taNHt9",
        "colab_type": "code",
        "outputId": "c1292857-a148-4e5d-8155-fa1c508f9661",
        "colab": {
          "base_uri": "https://localhost:8080/",
          "height": 361
        }
      },
      "source": [
        "Data.hist(bins=50, figsize=(12, 5))\n",
        "plt.tight_layout()"
      ],
      "execution_count": 20,
      "outputs": [
        {
          "output_type": "display_data",
          "data": {
            "image/png": "[encoded data removed]",
            "text/plain": [
              "<Figure size 864x360 with 2 Axes>"
            ]
          },
          "metadata": {
            "tags": []
          }
        }
      ]
    },
    {
      "cell_type": "code",
      "metadata": {
        "id": "hAyBp-NdNH6s",
        "colab_type": "code",
        "outputId": "23a1f0c2-fa38-4e08-b16c-965873198496",
        "colab": {
          "base_uri": "https://localhost:8080/",
          "height": 405
        }
      },
      "source": [
        "sns.pairplot(Data)"
      ],
      "execution_count": 21,
      "outputs": [
        {
          "output_type": "execute_result",
          "data": {
            "text/plain": [
              "<seaborn.axisgrid.PairGrid at 0x7ff976ac7eb8>"
            ]
          },
          "metadata": {
            "tags": []
          },
          "execution_count": 21
        },
        {
          "output_type": "display_data",
          "data": {
            "image/png": "[encoded data removed]",
            "text/plain": [
              "<Figure size 360x360 with 6 Axes>"
            ]
          },
          "metadata": {
            "tags": []
          }
        }
      ]
    },
    {
      "cell_type": "markdown",
      "metadata": {
        "id": "_YpsZWDqN-R9",
        "colab_type": "text"
      },
      "source": [
        "Polynomial Regression"
      ]
    },
    {
      "cell_type": "code",
      "metadata": {
        "id": "aTujjU0VNIEq",
        "colab_type": "code",
        "colab": {}
      },
      "source": [
        "data = Data.sample(n=30).reset_index()"
      ],
      "execution_count": 0,
      "outputs": []
    },
    {
      "cell_type": "markdown",
      "metadata": {
        "id": "EvuGBAwhOGqk",
        "colab_type": "text"
      },
      "source": [
        "1) Train-Test Split"
      ]
    },
    {
      "cell_type": "code",
      "metadata": {
        "id": "22pAqqcmNIRc",
        "colab_type": "code",
        "outputId": "91cbe78a-28a4-46c0-dacd-928f3e6817b9",
        "colab": {
          "base_uri": "https://localhost:8080/",
          "height": 35
        }
      },
      "source": [
        "N= data.shape[0]\n",
        "test = np.random.choice(np.arange(N),20, replace=False)\n",
        "train_df = data[~data.index.isin(test)].copy()\n",
        "test_df = data[data.index.isin(test)].copy()\n",
        "print(train_df.shape, test_df.shape)"
      ],
      "execution_count": 23,
      "outputs": [
        {
          "output_type": "stream",
          "text": [
            "(10, 3) (20, 3)\n"
          ],
          "name": "stdout"
        }
      ]
    },
    {
      "cell_type": "code",
      "metadata": {
        "id": "xwGubcKWOPs0",
        "colab_type": "code",
        "colab": {}
      },
      "source": [
        "y = np.matrix(data['cnt']).T\n",
        "X = np.matrix(data['temp']).T\n",
        "y_train = np.matrix(train_df['cnt']).T\n",
        "X_train = np.matrix(train_df['temp']).T\n",
        "y_test = np.matrix(test_df['cnt']).T\n",
        "X_test = np.matrix(test_df['temp']).T"
      ],
      "execution_count": 0,
      "outputs": []
    },
    {
      "cell_type": "code",
      "metadata": {
        "id": "AVtyxv6POP1P",
        "colab_type": "code",
        "colab": {}
      },
      "source": [
        "from sklearn.linear_model import LinearRegression\n",
        "from sklearn.preprocessing import PolynomialFeatures"
      ],
      "execution_count": 0,
      "outputs": []
    },
    {
      "cell_type": "code",
      "metadata": {
        "id": "pcgzsFY1OP9x",
        "colab_type": "code",
        "outputId": "0e1a7acb-b968-46a2-9a40-a4a54af90d8b",
        "colab": {
          "base_uri": "https://localhost:8080/",
          "height": 35
        }
      },
      "source": [
        "poly = PolynomialFeatures(degree=2)\n",
        "X_train_poly = poly.fit_transform(X_train)\n",
        "X_test_poly = poly.fit_transform(X_test)\n",
        "X_train_poly.shape"
      ],
      "execution_count": 26,
      "outputs": [
        {
          "output_type": "execute_result",
          "data": {
            "text/plain": [
              "(10, 3)"
            ]
          },
          "metadata": {
            "tags": []
          },
          "execution_count": 26
        }
      ]
    },
    {
      "cell_type": "code",
      "metadata": {
        "id": "TFWHSM3eOQFI",
        "colab_type": "code",
        "outputId": "4ba822a2-781f-4caa-d158-b47428860d75",
        "colab": {
          "base_uri": "https://localhost:8080/",
          "height": 35
        }
      },
      "source": [
        "lin2 = LinearRegression(fit_intercept=False)\n",
        "lin2.fit(X_train_poly, y_train)"
      ],
      "execution_count": 27,
      "outputs": [
        {
          "output_type": "execute_result",
          "data": {
            "text/plain": [
              "LinearRegression(copy_X=True, fit_intercept=False, n_jobs=None, normalize=False)"
            ]
          },
          "metadata": {
            "tags": []
          },
          "execution_count": 27
        }
      ]
    },
    {
      "cell_type": "code",
      "metadata": {
        "id": "NNHwN6k0OQLQ",
        "colab_type": "code",
        "outputId": "437133bf-082a-429c-aa03-5b5e8ae37706",
        "colab": {
          "base_uri": "https://localhost:8080/",
          "height": 35
        }
      },
      "source": [
        "lin2.coef_"
      ],
      "execution_count": 28,
      "outputs": [
        {
          "output_type": "execute_result",
          "data": {
            "text/plain": [
              "array([[ -6173.166,  44586.98 , -38073.796]])"
            ]
          },
          "metadata": {
            "tags": []
          },
          "execution_count": 28
        }
      ]
    },
    {
      "cell_type": "code",
      "metadata": {
        "id": "9hfg2TEcIxay",
        "colab_type": "code",
        "colab": {}
      },
      "source": [
        "from sklearn.metrics import mean_squared_error"
      ],
      "execution_count": 0,
      "outputs": []
    },
    {
      "cell_type": "code",
      "metadata": {
        "id": "p4IS9Y8pI1qt",
        "colab_type": "code",
        "colab": {
          "base_uri": "https://localhost:8080/",
          "height": 299
        },
        "outputId": "8e0e94d9-e64d-4162-8565-43672cd3d8c9"
      },
      "source": [
        "train_MSE = np.linspace(0,0,12)\n",
        "test_MSE = np.linspace(0,0,12)\n",
        "for i in range(1, 13):\n",
        "    poly = PolynomialFeatures(degree=i) \n",
        "    X_train_poly = poly.fit_transform(X_train)\n",
        "    X_test_poly = poly.fit_transform(X_test)\n",
        "    lin = LinearRegression(fit_intercept=False) \n",
        "    lin.fit(X_train_poly, y_train)\n",
        "    y_pred_train = lin.predict(X_train_poly)\n",
        "    y_pred_test =  lin.predict(X_test_poly)\n",
        "    train_MSE[i-1] = np.log(mean_squared_error(y_train, y_pred_train)) \n",
        "    test_MSE[i-1] = np.log(mean_squared_error(y_test,y_pred_test))\n",
        "\n",
        "plt.plot(range(1, 13),trainMSE, 'o-', color='blue', label = 'train')\n",
        "plt.plot(range(1, 13),testMSE, 'o-' ,color='red', label = 'Test')\n",
        "plt.title('MSE')\n",
        "plt.legend()"
      ],
      "execution_count": 36,
      "outputs": [
        {
          "output_type": "execute_result",
          "data": {
            "text/plain": [
              "<matplotlib.legend.Legend at 0x7ff96f187128>"
            ]
          },
          "metadata": {
            "tags": []
          },
          "execution_count": 36
        },
        {
          "output_type": "display_data",
          "data": {
            "image/png": "[encoded data removed]",
            "text/plain": [
              "<Figure size 432x288 with 1 Axes>"
            ]
          },
          "metadata": {
            "tags": []
          }
        }
      ]
    }
  ]
}