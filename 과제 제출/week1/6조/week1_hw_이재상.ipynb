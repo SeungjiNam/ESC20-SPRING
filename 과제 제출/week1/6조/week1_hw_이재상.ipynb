{
  "nbformat": 4,
  "nbformat_minor": 0,
  "metadata": {
    "colab": {
      "name": "lab1_이재상",
      "provenance": [],
      "collapsed_sections": [],
      "include_colab_link": true
    },
    "kernelspec": {
      "name": "python3",
      "display_name": "Python 3"
    }
  },
  "cells": [
    {
      "cell_type": "markdown",
      "metadata": {
        "id": "view-in-github",
        "colab_type": "text"
      },
      "source": [
        "<a href=\"https://colab.research.google.com/github/YonseiESC/ESC20-SPRING/blob/master/week1_hw_%EC%9D%B4%EC%9E%AC%EC%83%81.ipynb\" target=\"_parent\"><img src=\"https://colab.research.google.com/assets/colab-badge.svg\" alt=\"Open In Colab\"/></a>"
      ]
    },
    {
      "cell_type": "markdown",
      "metadata": {
        "id": "vuGYWHq7KVgw",
        "colab_type": "text"
      },
      "source": [
        "#Week1 LAB: Bayesian Belief Update\n"
      ]
    },
    {
      "cell_type": "code",
      "metadata": {
        "id": "eiwa6IszKkbr",
        "colab_type": "code",
        "colab": {}
      },
      "source": [
        "import numpy as np\n",
        "np.set_printoptions(precision=3)\n",
        "import pandas as pd\n",
        "pd.set_option('display.precision', 3)\n",
        "import matplotlib.pyplot as plt"
      ],
      "execution_count": 0,
      "outputs": []
    },
    {
      "cell_type": "markdown",
      "metadata": {
        "id": "Xpo_RUE2Kl79",
        "colab_type": "text"
      },
      "source": [
        "## Case1: Beta-Binomial (unknown p)"
      ]
    },
    {
      "cell_type": "code",
      "metadata": {
        "id": "IUagfXSqKowI",
        "colab_type": "code",
        "colab": {}
      },
      "source": [
        "from scipy.stats import binom, beta"
      ],
      "execution_count": 0,
      "outputs": []
    },
    {
      "cell_type": "markdown",
      "metadata": {
        "id": "L-GXsK-RKsZ_",
        "colab_type": "text"
      },
      "source": [
        "**Sampling Density**\n",
        "\n",
        "Every statistical inference or prediction should always start first with the assumption on  sampling density , i.e. data generating process. In this case, we have a data set from a classical coin toss,  yi∈{0,1} , where  yi=1  with a probability  p , and our goal is to make Bayesian inference on the parameter  p "
      ]
    },
    {
      "cell_type": "code",
      "metadata": {
        "id": "c7MqLZPEKp5T",
        "colab_type": "code",
        "outputId": "c3c96d44-4246-408e-a82e-97fb0628e9cf",
        "colab": {
          "base_uri": "https://localhost:8080/",
          "height": 71
        }
      },
      "source": [
        "# population parameter\n",
        "p = 0.3\n",
        "# generate toy sample\n",
        "N = 15\n",
        "np.random.seed(101)\n",
        "data = binom.rvs(1,p, size=N)\n",
        "print(data)\n",
        "print(data.size)\n",
        "print(data.sum())"
      ],
      "execution_count": 96,
      "outputs": [
        {
          "output_type": "stream",
          "text": [
            "[0 0 0 0 0 1 0 1 1 0 0 0 0 1 1]\n",
            "15\n",
            "5\n"
          ],
          "name": "stdout"
        }
      ]
    },
    {
      "cell_type": "markdown",
      "metadata": {
        "id": "LE7iUaWnK3oX",
        "colab_type": "text"
      },
      "source": [
        "**Prior Belief**\n",
        "\n",
        "Prior belief can be in any form (flat, peaked, skewed, bimodal...) as long as the belief satistifies the fundamental axioms of probability. We choose beta distribution to express our belief solely because of its analytic convenience, that is, the resulting posterior can be integrated."
      ]
    },
    {
      "cell_type": "code",
      "metadata": {
        "id": "X0hZQTRPK2GT",
        "colab_type": "code",
        "outputId": "9122b0e7-751c-4ece-8db6-bf11d11c0d76",
        "colab": {
          "base_uri": "https://localhost:8080/",
          "height": 313
        }
      },
      "source": [
        "# choose your belief parameter\n",
        "a= 7; b= 2\n",
        "\n",
        "prior = beta(a, b)\n",
        "theta = np.linspace(0,1,100)\n",
        "plt.plot(prior.pdf(theta), color='r')\n",
        "plt.title('beta prior')\n",
        "plt.xlabel('theta')\n",
        "plt.ylabel('p(theta)')"
      ],
      "execution_count": 97,
      "outputs": [
        {
          "output_type": "execute_result",
          "data": {
            "text/plain": [
              "Text(0, 0.5, 'p(theta)')"
            ]
          },
          "metadata": {
            "tags": []
          },
          "execution_count": 97
        },
        {
          "output_type": "display_data",
          "data": {
            "image/png": "[encoded data removed]",
            "text/plain": [
              "<Figure size 432x288 with 1 Axes>"
            ]
          },
          "metadata": {
            "tags": []
          }
        }
      ]
    },
    {
      "cell_type": "code",
      "metadata": {
        "id": "ZboshGVJK7w9",
        "colab_type": "code",
        "outputId": "8d23acb6-7fe3-4a31-a24b-bcc498062883",
        "colab": {
          "base_uri": "https://localhost:8080/",
          "height": 313
        }
      },
      "source": [
        "# you can always reflect other belief by tweaking your parameter;\n",
        "a2= 3; b2= 10\n",
        "\n",
        "prior2 = beta(a2, b2)\n",
        "theta = np.linspace(0,1,100)\n",
        "plt.plot(prior2.pdf(theta), color='r')\n",
        "plt.title('beta prior2')\n",
        "plt.xlabel('theta')\n",
        "plt.ylabel('p(theta)')"
      ],
      "execution_count": 98,
      "outputs": [
        {
          "output_type": "execute_result",
          "data": {
            "text/plain": [
              "Text(0, 0.5, 'p(theta)')"
            ]
          },
          "metadata": {
            "tags": []
          },
          "execution_count": 98
        },
        {
          "output_type": "display_data",
          "data": {
            "image/png": "[encoded data removed]",
            "text/plain": [
              "<Figure size 432x288 with 1 Axes>"
            ]
          },
          "metadata": {
            "tags": []
          }
        }
      ]
    },
    {
      "cell_type": "markdown",
      "metadata": {
        "id": "KOMVM1i5LAY2",
        "colab_type": "text"
      },
      "source": [
        "**Likelihood (Sampling Density)**\n",
        "\n",
        "Once you have specified your belief, you need to consider  \"how likely\"  the data is at each point of  p . What you would really come in handy is a plot where every possible choice of  p  is on x-axis and the y-axis shows \"how likely the data came from that choice of  p . Likelihood does exactly this."
      ]
    },
    {
      "cell_type": "code",
      "metadata": {
        "id": "m72xBpYMK9fC",
        "colab_type": "code",
        "outputId": "53111ac9-69ed-403d-aa51-3f012943b8cd",
        "colab": {
          "base_uri": "https://localhost:8080/",
          "height": 323
        }
      },
      "source": [
        "# scipy stats package does not allow for plotting pdf-theta so we need to define formula directly.\n",
        "def likelihood(D, p):\n",
        "    N = D.size; suc = D.sum()\n",
        "    return p**suc * (1-p)**(N-suc) # note that we neglected the constant as it will be canceled out in appling Bayes Rule\n",
        "\n",
        "plt.plot(theta, likelihood(data, theta), color='g')\n",
        "plt.title(\"likelihood\")\n",
        "plt.xlabel(\"theta\")\n",
        "plt.ylabel(\"p(Data|theta)\")\n",
        "plt.ylim(0,0.0005)"
      ],
      "execution_count": 103,
      "outputs": [
        {
          "output_type": "execute_result",
          "data": {
            "text/plain": [
              "array([0.000e+00, 9.500e-11, 2.744e-09, 1.878e-08, 7.129e-08, 1.957e-07,\n",
              "       4.376e-07, 8.489e-07, 1.484e-06, 2.394e-06, 3.626e-06, 5.215e-06,\n",
              "       7.187e-06, 9.554e-06, 1.231e-05, 1.544e-05, 1.892e-05, 2.269e-05,\n",
              "       2.671e-05, 3.091e-05, 3.523e-05, 3.958e-05, 4.390e-05, 4.811e-05,\n",
              "       5.214e-05, 5.591e-05, 5.937e-05, 6.246e-05, 6.514e-05, 6.737e-05,\n",
              "       6.911e-05, 7.037e-05, 7.112e-05, 7.136e-05, 7.112e-05, 7.041e-05,\n",
              "       6.925e-05, 6.767e-05, 6.572e-05, 6.343e-05, 6.085e-05, 5.803e-05,\n",
              "       5.501e-05, 5.184e-05, 4.857e-05, 4.523e-05, 4.188e-05, 3.855e-05,\n",
              "       3.527e-05, 3.207e-05, 2.899e-05, 2.605e-05, 2.325e-05, 2.063e-05,\n",
              "       1.818e-05, 1.592e-05, 1.384e-05, 1.195e-05, 1.024e-05, 8.716e-06,\n",
              "       7.360e-06, 6.165e-06, 5.122e-06, 4.219e-06, 3.444e-06, 2.785e-06,\n",
              "       2.230e-06, 1.767e-06, 1.386e-06, 1.074e-06, 8.221e-07, 6.214e-07,\n",
              "       4.632e-07, 3.403e-07, 2.461e-07, 1.749e-07, 1.221e-07, 8.359e-08,\n",
              "       5.599e-08, 3.664e-08, 2.336e-08, 1.448e-08, 8.690e-09, 5.036e-09,\n",
              "       2.804e-09, 1.492e-09, 7.540e-10, 3.588e-10, 1.592e-10, 6.493e-11,\n",
              "       2.394e-11, 7.791e-12, 2.165e-12, 4.891e-13, 8.333e-14, 9.434e-15,\n",
              "       5.598e-16, 1.022e-17, 1.051e-20, 0.000e+00])"
            ]
          },
          "metadata": {
            "tags": []
          },
          "execution_count": 103
        }
      ]
    },
    {
      "cell_type": "markdown",
      "metadata": {
        "id": "1UCAAz88LEt2",
        "colab_type": "text"
      },
      "source": [
        "**Posterior: Updated Belief**\n",
        "\n",
        "The posterior is defined by strictly applying Bayes Rule;  p(θ|D)=p(θ)p(D|θ)∫p(θ)p(D|θ)dθ . This is in most cases analytically intractable, but in this case where we have a  conjugacy  between the belief distribution and the sampling distribution, this simply reduces to updating belief paratemers; a, b. Otherwise we have to approximate  p(θ|D)  or use numerical methods, such as MCMC."
      ]
    },
    {
      "cell_type": "code",
      "metadata": {
        "id": "c-9P9rPTLDFY",
        "colab_type": "code",
        "outputId": "1f3053a6-dbd8-4dd7-d11a-30c16f94c7c5",
        "colab": {
          "base_uri": "https://localhost:8080/",
          "height": 313
        }
      },
      "source": [
        "# Belief update\n",
        "a_pos = a + data.sum()\n",
        "b_pos = b + data.size - data.sum()\n",
        "\n",
        "posterior = beta(a_pos, b_pos)\n",
        "theta = np.linspace(0,1,100)\n",
        "plt.plot(posterior.pdf(theta), color='r')\n",
        "plt.title('beta posterior')\n",
        "plt.xlabel('theta')\n",
        "plt.ylabel('p(theta)')"
      ],
      "execution_count": 7,
      "outputs": [
        {
          "output_type": "execute_result",
          "data": {
            "text/plain": [
              "Text(0, 0.5, 'p(theta)')"
            ]
          },
          "metadata": {
            "tags": []
          },
          "execution_count": 7
        },
        {
          "output_type": "display_data",
          "data": {
            "image/png": "[encoded data removed]",
            "text/plain": [
              "<Figure size 432x288 with 1 Axes>"
            ]
          },
          "metadata": {
            "tags": []
          }
        }
      ]
    },
    {
      "cell_type": "code",
      "metadata": {
        "id": "KfyouGq0LHPx",
        "colab_type": "code",
        "outputId": "285539da-f9ee-431a-967d-58aa2dfd32c9",
        "colab": {
          "base_uri": "https://localhost:8080/",
          "height": 368
        }
      },
      "source": [
        "# in a nutshell;\n",
        "fig = plt.figure(figsize=(20,5))\n",
        "\n",
        "ax1 = fig.add_subplot(131)\n",
        "ax1.plot(prior.pdf(theta), color='r')\n",
        "ax1.set_title('prior')\n",
        "ax1.set_xlabel('theta')\n",
        "ax1.set_ylim(0,4)\n",
        "\n",
        "ax2 = fig.add_subplot(132)\n",
        "ax2.plot(theta, likelihood(data, theta), color='g')\n",
        "ax2.set_title('likelihood')\n",
        "ax2.set_xlabel('theta')\n",
        "ax2.set_ylim(0,0.0005)\n",
        "\n",
        "ax3 = fig.add_subplot(133)\n",
        "ax3.plot(posterior.pdf(theta), color='r')\n",
        "ax3.set_title('posterior')\n",
        "ax3.set_xlabel('theta')\n",
        "ax3.set_ylim(0,4)"
      ],
      "execution_count": 8,
      "outputs": [
        {
          "output_type": "execute_result",
          "data": {
            "text/plain": [
              "(0.0, 4.0)"
            ]
          },
          "metadata": {
            "tags": []
          },
          "execution_count": 8
        },
        {
          "output_type": "display_data",
          "data": {
            "image/png": "[encoded data removed]",
            "text/plain": [
              "<Figure size 1440x360 with 3 Axes>"
            ]
          },
          "metadata": {
            "tags": []
          }
        }
      ]
    },
    {
      "cell_type": "markdown",
      "metadata": {
        "id": "zdydM8tcLiaA",
        "colab_type": "text"
      },
      "source": [
        "## (HW1) Case 2: Gaussian-Gaussian (unknown mu)\n"
      ]
    },
    {
      "cell_type": "code",
      "metadata": {
        "id": "cPX7LKLAR3d4",
        "colab_type": "code",
        "colab": {}
      },
      "source": [
        "import numpy as np\n",
        "np.set_printoptions(precision=3)\n",
        "import pandas as pd\n",
        "pd.set_option('display.precision', 3)\n",
        "import matplotlib.pyplot as plt"
      ],
      "execution_count": 0,
      "outputs": []
    },
    {
      "cell_type": "code",
      "metadata": {
        "id": "YQklNg-uLl3T",
        "colab_type": "code",
        "colab": {}
      },
      "source": [
        "from scipy.stats import norm"
      ],
      "execution_count": 0,
      "outputs": []
    },
    {
      "cell_type": "markdown",
      "metadata": {
        "id": "rnEzJhuoRVYm",
        "colab_type": "text"
      },
      "source": [
        "**Sampling Density**"
      ]
    },
    {
      "cell_type": "code",
      "metadata": {
        "id": "VjWm_f3pLowu",
        "colab_type": "code",
        "colab": {
          "base_uri": "https://localhost:8080/",
          "height": 107
        },
        "outputId": "cd03b62f-bd12-4b38-fe6f-0a00aaf19fa6"
      },
      "source": [
        "# population parameter\n",
        "mu = 22\n",
        "# generate toy sample\n",
        "sd2 = 2\n",
        "N = 30\n",
        "np.random.seed(101)\n",
        "data = norm.rvs(mu,sd, size=N)\n",
        "print(data)\n",
        "print(data.size)\n",
        "print(data.sum())"
      ],
      "execution_count": 125,
      "outputs": [
        {
          "output_type": "stream",
          "text": [
            "[30.121 23.884 24.724 23.511 23.953 21.042 19.456 23.818 15.945 24.22\n",
            " 23.586 20.233 22.566 19.723 19.2   24.865 22.572 27.936 29.818 24.051\n",
            " 22.908 27.081 16.882 18.523 21.595 23.172 22.501 22.554 24.423 22.219]\n",
            "30\n",
            "687.0835361530377\n"
          ],
          "name": "stdout"
        }
      ]
    },
    {
      "cell_type": "markdown",
      "metadata": {
        "id": "a22X-lAMdQcu",
        "colab_type": "text"
      },
      "source": [
        "**Prior Belief**"
      ]
    },
    {
      "cell_type": "code",
      "metadata": {
        "id": "tFQfNaaqdQfF",
        "colab_type": "code",
        "colab": {
          "base_uri": "https://localhost:8080/",
          "height": 313
        },
        "outputId": "48793d5f-ad26-4e4f-d04e-1b04bf1a7e56"
      },
      "source": [
        "# choose your belief parameter\n",
        "mu_prior= 15; sd2_prior= 4\n",
        "\n",
        "prior = norm(mu_prior, sd2_prior)\n",
        "theta = np.linspace(0,30,100)\n",
        "plt.plot(theta, prior.pdf(theta), color='r')\n",
        "plt.title('Normal prior (mu = '+str(mu_prior)+ ', sd^2 = '+ str(sd2_prior)+')')\n",
        "plt.xlabel('mu')\n",
        "\n",
        "plt.axvline(x= mu_prior,linestyle = '--')"
      ],
      "execution_count": 134,
      "outputs": [
        {
          "output_type": "execute_result",
          "data": {
            "text/plain": [
              "<matplotlib.lines.Line2D at 0x7f1e7feeb7b8>"
            ]
          },
          "metadata": {
            "tags": []
          },
          "execution_count": 134
        },
        {
          "output_type": "display_data",
          "data": {
            "image/png": "[encoded data removed]",
            "text/plain": [
              "<Figure size 432x288 with 1 Axes>"
            ]
          },
          "metadata": {
            "tags": []
          }
        }
      ]
    },
    {
      "cell_type": "markdown",
      "metadata": {
        "id": "SsaCGsMndQhf",
        "colab_type": "text"
      },
      "source": [
        "**Likelihood (Sampling Density)**"
      ]
    },
    {
      "cell_type": "code",
      "metadata": {
        "id": "4L_jXYrRdQjx",
        "colab_type": "code",
        "colab": {
          "base_uri": "https://localhost:8080/",
          "height": 313
        },
        "outputId": "4fc5aa88-a96d-403a-c1ec-22f21b8b3ff0"
      },
      "source": [
        "def likelihood(Data, mu, sd2):\n",
        "    loglikelihood = 0\n",
        "    \n",
        "    for i in range(len(Data)):\n",
        "        loglikelihood = loglikelihood + np.log(np.exp(-((Data[i]-mu)**2)/(2*sd2))*(1/(np.sqrt(2*np.pi*sd2))))\n",
        "    \n",
        "    return loglikelihood\n",
        "\n",
        "plt.plot(theta, likelihood(data, theta, sd2), color='g')\n",
        "plt.title(\"log likelihood\")\n",
        "plt.xlabel(\"theta\")\n",
        "plt.ylabel(\"log(p(Data|theta))\")\n",
        "\n",
        "plt.axvline(x= theta[np.where(likelihood(data, theta, sd2) == max(likelihood(data, theta, sd2)))],linestyle = '--')"
      ],
      "execution_count": 133,
      "outputs": [
        {
          "output_type": "execute_result",
          "data": {
            "text/plain": [
              "<matplotlib.lines.Line2D at 0x7f1e8000ea58>"
            ]
          },
          "metadata": {
            "tags": []
          },
          "execution_count": 133
        },
        {
          "output_type": "display_data",
          "data": {
            "image/png": "[encoded data removed]",
            "text/plain": [
              "<Figure size 432x288 with 1 Axes>"
            ]
          },
          "metadata": {
            "tags": []
          }
        }
      ]
    },
    {
      "cell_type": "markdown",
      "metadata": {
        "id": "W4JEuTcidQmI",
        "colab_type": "text"
      },
      "source": [
        "**Posterior: Updated Belief**"
      ]
    },
    {
      "cell_type": "code",
      "metadata": {
        "id": "JCLTpj5LdQoi",
        "colab_type": "code",
        "colab": {
          "base_uri": "https://localhost:8080/",
          "height": 314
        },
        "outputId": "7386f098-5fc8-4645-d1f3-007404b576db"
      },
      "source": [
        "# Belief update\n",
        "mu_pos = (mu_prior/sd2_prior + data.sum()/(sd2**2)) / ( 1/sd2_prior + N/(sd2**2))\n",
        "sd_pos = 1 / ( 1/sd2_prior + N/(sd2**2))\n",
        "\n",
        "posterior = norm(mu_pos, sd_pos)\n",
        "theta = np.linspace(0,30,100)\n",
        "plt.plot(theta,posterior.pdf(theta), color='r')\n",
        "plt.title('Normal posterior (mu_pos = '+str(round(mu_pos,3))+', sd2_pos = '+ str(round(sd_pos, 3))+ ')')\n",
        "plt.xlabel('posterior_mu')\n",
        "\n",
        "plt.axvline(x= mu_prior,linestyle = '--')\n",
        "plt.axvline(x= mu_pos,linestyle = '-')\n",
        "plt.axvline(x= data.sum()/N,linestyle = ':')\n"
      ],
      "execution_count": 142,
      "outputs": [
        {
          "output_type": "execute_result",
          "data": {
            "text/plain": [
              "<matplotlib.lines.Line2D at 0x7f1e82c1dcf8>"
            ]
          },
          "metadata": {
            "tags": []
          },
          "execution_count": 142
        },
        {
          "output_type": "display_data",
          "data": {
            "image/png": "[encoded data removed]",
            "text/plain": [
              "<Figure size 432x288 with 1 Axes>"
            ]
          },
          "metadata": {
            "tags": []
          }
        }
      ]
    },
    {
      "cell_type": "code",
      "metadata": {
        "id": "-Wi8XBwfdQq8",
        "colab_type": "code",
        "colab": {
          "base_uri": "https://localhost:8080/",
          "height": 369
        },
        "outputId": "fc9299d1-0870-4eae-d1a8-a57b5fb9e846"
      },
      "source": [
        "# in a nutshell;\n",
        "fig = plt.figure(figsize=(20,5))\n",
        "\n",
        "ax1 = fig.add_subplot(131)\n",
        "ax1.plot(theta, prior.pdf(theta), color='r')\n",
        "ax1.set_title('Normal prior (mu = '+str(mu_prior)+ ', sd^2 = '+ str(sd2_prior)+')')\n",
        "ax1.set_xlabel('mu')\n",
        "ax1.axvline(x= mu_prior,linestyle = '--')\n",
        "\n",
        "ax2 = fig.add_subplot(132)\n",
        "ax2.plot(theta, likelihood(data, theta, sd2), color='g')\n",
        "ax2.set_title(\"log likelihood\")\n",
        "ax2.set_xlabel(\"theta\")\n",
        "ax2.set_ylabel(\"log(p(Data|theta))\")\n",
        "ax2.axvline(x= theta[np.where(likelihood(data, theta, sd2) == max(likelihood(data, theta, sd2)))],linestyle = '--')\n",
        "\n",
        "ax3 = fig.add_subplot(133)\n",
        "ax3.plot(theta,posterior.pdf(theta), color='r')\n",
        "ax3.set_title('Normal posterior (mu_pos = '+str(round(mu_pos,3))+', sd2_pos = '+ str(round(sd_pos, 3))+ ')')\n",
        "ax3.set_xlabel('posterior_mu')\n",
        "\n",
        "ax3.axvline(x= mu_prior,linestyle = '--')\n",
        "ax3.axvline(x= mu_pos,linestyle = '-')\n",
        "ax3.axvline(x= data.sum()/N,linestyle = ':')"
      ],
      "execution_count": 148,
      "outputs": [
        {
          "output_type": "execute_result",
          "data": {
            "text/plain": [
              "<matplotlib.lines.Line2D at 0x7f1e7f7887f0>"
            ]
          },
          "metadata": {
            "tags": []
          },
          "execution_count": 148
        },
        {
          "output_type": "display_data",
          "data": {
            "image/png": "[encoded data removed]",
            "text/plain": [
              "<Figure size 1440x360 with 3 Axes>"
            ]
          },
          "metadata": {
            "tags": []
          }
        }
      ]
    },
    {
      "cell_type": "markdown",
      "metadata": {
        "id": "iTmoywTdcx6J",
        "colab_type": "text"
      },
      "source": [
        "## (HW2): Polynomial Regression\n",
        "\n",
        "데이터 개수 n에 따라 모델 복잡도 p의 관계 를 간단한 다항식 회귀 모형을 통해 알아보는 것이 목표. 여기서 다항식의 차수 d를 결정하는 것은 결국 모든 모델에서 \"모델을 얼마나 복잡하게 만들 것이냐\"를 결정하는 것과 같은 맥락. 데이터 개수를 적당히 봐가면서 복잡하게 해야지, 데이터도 적은데 쓸데없이 복잡한 모델을 만들면 Train set에 과적화가 되어버린다 라는 결과를 직접 확인해보자.*이탤릭체 텍스트*\n"
      ]
    },
    {
      "cell_type": "code",
      "metadata": {
        "id": "EG0oBED8c4Rr",
        "colab_type": "code",
        "outputId": "ae2e4e43-1cad-44cf-f4f9-c00f4f4d813c",
        "colab": {
          "base_uri": "https://localhost:8080/",
          "height": 73
        }
      },
      "source": [
        "import numpy as np \n",
        "np.set_printoptions(precision=3)\n",
        "import pandas as pd \n",
        "pd.set_option('display.precision',3)\n",
        "import matplotlib.pyplot as plt\n",
        "import seaborn as sns"
      ],
      "execution_count": 151,
      "outputs": [
        {
          "output_type": "stream",
          "text": [
            "/usr/local/lib/python3.6/dist-packages/statsmodels/tools/_testing.py:19: FutureWarning: pandas.util.testing is deprecated. Use the functions in the public API at pandas.testing instead.\n",
            "  import pandas.util.testing as tm\n"
          ],
          "name": "stderr"
        }
      ]
    },
    {
      "cell_type": "markdown",
      "metadata": {
        "id": "den0RzYmRjvv",
        "colab_type": "text"
      },
      "source": [
        "**데이터 불러오기**\n"
      ]
    },
    {
      "cell_type": "code",
      "metadata": {
        "id": "LLGtY8x1c6Na",
        "colab_type": "code",
        "outputId": "ae235cbd-c533-46b9-cb2a-f1cedd82fb18",
        "colab": {
          "resources": {
            "http://localhost:8080/nbextensions/google.colab/files.js": {
              "data": "Ly8gQ29weXJpZ2h0IDIwMTcgR29vZ2xlIExMQwovLwovLyBMaWNlbnNlZCB1bmRlciB0aGUgQXBhY2hlIExpY2Vuc2UsIFZlcnNpb24gMi4wICh0aGUgIkxpY2Vuc2UiKTsKLy8geW91IG1heSBub3QgdXNlIHRoaXMgZmlsZSBleGNlcHQgaW4gY29tcGxpYW5jZSB3aXRoIHRoZSBMaWNlbnNlLgovLyBZb3UgbWF5IG9idGFpbiBhIGNvcHkgb2YgdGhlIExpY2Vuc2UgYXQKLy8KLy8gICAgICBodHRwOi8vd3d3LmFwYWNoZS5vcmcvbGljZW5zZXMvTElDRU5TRS0yLjAKLy8KLy8gVW5sZXNzIHJlcXVpcmVkIGJ5IGFwcGxpY2FibGUgbGF3IG9yIGFncmVlZCB0byBpbiB3cml0aW5nLCBzb2Z0d2FyZQovLyBkaXN0cmlidXRlZCB1bmRlciB0aGUgTGljZW5zZSBpcyBkaXN0cmlidXRlZCBvbiBhbiAiQVMgSVMiIEJBU0lTLAovLyBXSVRIT1VUIFdBUlJBTlRJRVMgT1IgQ09ORElUSU9OUyBPRiBBTlkgS0lORCwgZWl0aGVyIGV4cHJlc3Mgb3IgaW1wbGllZC4KLy8gU2VlIHRoZSBMaWNlbnNlIGZvciB0aGUgc3BlY2lmaWMgbGFuZ3VhZ2UgZ292ZXJuaW5nIHBlcm1pc3Npb25zIGFuZAovLyBsaW1pdGF0aW9ucyB1bmRlciB0aGUgTGljZW5zZS4KCi8qKgogKiBAZmlsZW92ZXJ2aWV3IEhlbHBlcnMgZm9yIGdvb2dsZS5jb2xhYiBQeXRob24gbW9kdWxlLgogKi8KKGZ1bmN0aW9uKHNjb3BlKSB7CmZ1bmN0aW9uIHNwYW4odGV4dCwgc3R5bGVBdHRyaWJ1dGVzID0ge30pIHsKICBjb25zdCBlbGVtZW50ID0gZG9jdW1lbnQuY3JlYXRlRWxlbWVudCgnc3BhbicpOwogIGVsZW1lbnQudGV4dENvbnRlbnQgPSB0ZXh0OwogIGZvciAoY29uc3Qga2V5IG9mIE9iamVjdC5rZXlzKHN0eWxlQXR0cmlidXRlcykpIHsKICAgIGVsZW1lbnQuc3R5bGVba2V5XSA9IHN0eWxlQXR0cmlidXRlc1trZXldOwogIH0KICByZXR1cm4gZWxlbWVudDsKfQoKLy8gTWF4IG51bWJlciBvZiBieXRlcyB3aGljaCB3aWxsIGJlIHVwbG9hZGVkIGF0IGEgdGltZS4KY29uc3QgTUFYX1BBWUxPQURfU0laRSA9IDEwMCAqIDEwMjQ7Ci8vIE1heCBhbW91bnQgb2YgdGltZSB0byBibG9jayB3YWl0aW5nIGZvciB0aGUgdXNlci4KY29uc3QgRklMRV9DSEFOR0VfVElNRU9VVF9NUyA9IDMwICogMTAwMDsKCmZ1bmN0aW9uIF91cGxvYWRGaWxlcyhpbnB1dElkLCBvdXRwdXRJZCkgewogIGNvbnN0IHN0ZXBzID0gdXBsb2FkRmlsZXNTdGVwKGlucHV0SWQsIG91dHB1dElkKTsKICBjb25zdCBvdXRwdXRFbGVtZW50ID0gZG9jdW1lbnQuZ2V0RWxlbWVudEJ5SWQob3V0cHV0SWQpOwogIC8vIENhY2hlIHN0ZXBzIG9uIHRoZSBvdXRwdXRFbGVtZW50IHRvIG1ha2UgaXQgYXZhaWxhYmxlIGZvciB0aGUgbmV4dCBjYWxsCiAgLy8gdG8gdXBsb2FkRmlsZXNDb250aW51ZSBmcm9tIFB5dGhvbi4KICBvdXRwdXRFbGVtZW50LnN0ZXBzID0gc3RlcHM7CgogIHJldHVybiBfdXBsb2FkRmlsZXNDb250aW51ZShvdXRwdXRJZCk7Cn0KCi8vIFRoaXMgaXMgcm91Z2hseSBhbiBhc3luYyBnZW5lcmF0b3IgKG5vdCBzdXBwb3J0ZWQgaW4gdGhlIGJyb3dzZXIgeWV0KSwKLy8gd2hlcmUgdGhlcmUgYXJlIG11bHRpcGxlIGFzeW5jaHJvbm91cyBzdGVwcyBhbmQgdGhlIFB5dGhvbiBzaWRlIGlzIGdvaW5nCi8vIHRvIHBvbGwgZm9yIGNvbXBsZXRpb24gb2YgZWFjaCBzdGVwLgovLyBUaGlzIHVzZXMgYSBQcm9taXNlIHRvIGJsb2NrIHRoZSBweXRob24gc2lkZSBvbiBjb21wbGV0aW9uIG9mIGVhY2ggc3RlcCwKLy8gdGhlbiBwYXNzZXMgdGhlIHJlc3VsdCBvZiB0aGUgcHJldmlvdXMgc3RlcCBhcyB0aGUgaW5wdXQgdG8gdGhlIG5leHQgc3RlcC4KZnVuY3Rpb24gX3VwbG9hZEZpbGVzQ29udGludWUob3V0cHV0SWQpIHsKICBjb25zdCBvdXRwdXRFbGVtZW50ID0gZG9jdW1lbnQuZ2V0RWxlbWVudEJ5SWQob3V0cHV0SWQpOwogIGNvbnN0IHN0ZXBzID0gb3V0cHV0RWxlbWVudC5zdGVwczsKCiAgY29uc3QgbmV4dCA9IHN0ZXBzLm5leHQob3V0cHV0RWxlbWVudC5sYXN0UHJvbWlzZVZhbHVlKTsKICByZXR1cm4gUHJvbWlzZS5yZXNvbHZlKG5leHQudmFsdWUucHJvbWlzZSkudGhlbigodmFsdWUpID0+IHsKICAgIC8vIENhY2hlIHRoZSBsYXN0IHByb21pc2UgdmFsdWUgdG8gbWFrZSBpdCBhdmFpbGFibGUgdG8gdGhlIG5leHQKICAgIC8vIHN0ZXAgb2YgdGhlIGdlbmVyYXRvci4KICAgIG91dHB1dEVsZW1lbnQubGFzdFByb21pc2VWYWx1ZSA9IHZhbHVlOwogICAgcmV0dXJuIG5leHQudmFsdWUucmVzcG9uc2U7CiAgfSk7Cn0KCi8qKgogKiBHZW5lcmF0b3IgZnVuY3Rpb24gd2hpY2ggaXMgY2FsbGVkIGJldHdlZW4gZWFjaCBhc3luYyBzdGVwIG9mIHRoZSB1cGxvYWQKICogcHJvY2Vzcy4KICogQHBhcmFtIHtzdHJpbmd9IGlucHV0SWQgRWxlbWVudCBJRCBvZiB0aGUgaW5wdXQgZmlsZSBwaWNrZXIgZWxlbWVudC4KICogQHBhcmFtIHtzdHJpbmd9IG91dHB1dElkIEVsZW1lbnQgSUQgb2YgdGhlIG91dHB1dCBkaXNwbGF5LgogKiBAcmV0dXJuIHshSXRlcmFibGU8IU9iamVjdD59IEl0ZXJhYmxlIG9mIG5leHQgc3RlcHMuCiAqLwpmdW5jdGlvbiogdXBsb2FkRmlsZXNTdGVwKGlucHV0SWQsIG91dHB1dElkKSB7CiAgY29uc3QgaW5wdXRFbGVtZW50ID0gZG9jdW1lbnQuZ2V0RWxlbWVudEJ5SWQoaW5wdXRJZCk7CiAgaW5wdXRFbGVtZW50LmRpc2FibGVkID0gZmFsc2U7CgogIGNvbnN0IG91dHB1dEVsZW1lbnQgPSBkb2N1bWVudC5nZXRFbGVtZW50QnlJZChvdXRwdXRJZCk7CiAgb3V0cHV0RWxlbWVudC5pbm5lckhUTUwgPSAnJzsKCiAgY29uc3QgcGlja2VkUHJvbWlzZSA9IG5ldyBQcm9taXNlKChyZXNvbHZlKSA9PiB7CiAgICBpbnB1dEVsZW1lbnQuYWRkRXZlbnRMaXN0ZW5lcignY2hhbmdlJywgKGUpID0+IHsKICAgICAgcmVzb2x2ZShlLnRhcmdldC5maWxlcyk7CiAgICB9KTsKICB9KTsKCiAgY29uc3QgY2FuY2VsID0gZG9jdW1lbnQuY3JlYXRlRWxlbWVudCgnYnV0dG9uJyk7CiAgaW5wdXRFbGVtZW50LnBhcmVudEVsZW1lbnQuYXBwZW5kQ2hpbGQoY2FuY2VsKTsKICBjYW5jZWwudGV4dENvbnRlbnQgPSAnQ2FuY2VsIHVwbG9hZCc7CiAgY29uc3QgY2FuY2VsUHJvbWlzZSA9IG5ldyBQcm9taXNlKChyZXNvbHZlKSA9PiB7CiAgICBjYW5jZWwub25jbGljayA9ICgpID0+IHsKICAgICAgcmVzb2x2ZShudWxsKTsKICAgIH07CiAgfSk7CgogIC8vIENhbmNlbCB1cGxvYWQgaWYgdXNlciBoYXNuJ3QgcGlja2VkIGFueXRoaW5nIGluIHRpbWVvdXQuCiAgY29uc3QgdGltZW91dFByb21pc2UgPSBuZXcgUHJvbWlzZSgocmVzb2x2ZSkgPT4gewogICAgc2V0VGltZW91dCgoKSA9PiB7CiAgICAgIHJlc29sdmUobnVsbCk7CiAgICB9LCBGSUxFX0NIQU5HRV9USU1FT1VUX01TKTsKICB9KTsKCiAgLy8gV2FpdCBmb3IgdGhlIHVzZXIgdG8gcGljayB0aGUgZmlsZXMuCiAgY29uc3QgZmlsZXMgPSB5aWVsZCB7CiAgICBwcm9taXNlOiBQcm9taXNlLnJhY2UoW3BpY2tlZFByb21pc2UsIHRpbWVvdXRQcm9taXNlLCBjYW5jZWxQcm9taXNlXSksCiAgICByZXNwb25zZTogewogICAgICBhY3Rpb246ICdzdGFydGluZycsCiAgICB9CiAgfTsKCiAgaWYgKCFmaWxlcykgewogICAgcmV0dXJuIHsKICAgICAgcmVzcG9uc2U6IHsKICAgICAgICBhY3Rpb246ICdjb21wbGV0ZScsCiAgICAgIH0KICAgIH07CiAgfQoKICBjYW5jZWwucmVtb3ZlKCk7CgogIC8vIERpc2FibGUgdGhlIGlucHV0IGVsZW1lbnQgc2luY2UgZnVydGhlciBwaWNrcyBhcmUgbm90IGFsbG93ZWQuCiAgaW5wdXRFbGVtZW50LmRpc2FibGVkID0gdHJ1ZTsKCiAgZm9yIChjb25zdCBmaWxlIG9mIGZpbGVzKSB7CiAgICBjb25zdCBsaSA9IGRvY3VtZW50LmNyZWF0ZUVsZW1lbnQoJ2xpJyk7CiAgICBsaS5hcHBlbmQoc3BhbihmaWxlLm5hbWUsIHtmb250V2VpZ2h0OiAnYm9sZCd9KSk7CiAgICBsaS5hcHBlbmQoc3BhbigKICAgICAgICBgKCR7ZmlsZS50eXBlIHx8ICduL2EnfSkgLSAke2ZpbGUuc2l6ZX0gYnl0ZXMsIGAgKwogICAgICAgIGBsYXN0IG1vZGlmaWVkOiAkewogICAgICAgICAgICBmaWxlLmxhc3RNb2RpZmllZERhdGUgPyBmaWxlLmxhc3RNb2RpZmllZERhdGUudG9Mb2NhbGVEYXRlU3RyaW5nKCkgOgogICAgICAgICAgICAgICAgICAgICAgICAgICAgICAgICAgICAnbi9hJ30gLSBgKSk7CiAgICBjb25zdCBwZXJjZW50ID0gc3BhbignMCUgZG9uZScpOwogICAgbGkuYXBwZW5kQ2hpbGQocGVyY2VudCk7CgogICAgb3V0cHV0RWxlbWVudC5hcHBlbmRDaGlsZChsaSk7CgogICAgY29uc3QgZmlsZURhdGFQcm9taXNlID0gbmV3IFByb21pc2UoKHJlc29sdmUpID0+IHsKICAgICAgY29uc3QgcmVhZGVyID0gbmV3IEZpbGVSZWFkZXIoKTsKICAgICAgcmVhZGVyLm9ubG9hZCA9IChlKSA9PiB7CiAgICAgICAgcmVzb2x2ZShlLnRhcmdldC5yZXN1bHQpOwogICAgICB9OwogICAgICByZWFkZXIucmVhZEFzQXJyYXlCdWZmZXIoZmlsZSk7CiAgICB9KTsKICAgIC8vIFdhaXQgZm9yIHRoZSBkYXRhIHRvIGJlIHJlYWR5LgogICAgbGV0IGZpbGVEYXRhID0geWllbGQgewogICAgICBwcm9taXNlOiBmaWxlRGF0YVByb21pc2UsCiAgICAgIHJlc3BvbnNlOiB7CiAgICAgICAgYWN0aW9uOiAnY29udGludWUnLAogICAgICB9CiAgICB9OwoKICAgIC8vIFVzZSBhIGNodW5rZWQgc2VuZGluZyB0byBhdm9pZCBtZXNzYWdlIHNpemUgbGltaXRzLiBTZWUgYi82MjExNTY2MC4KICAgIGxldCBwb3NpdGlvbiA9IDA7CiAgICB3aGlsZSAocG9zaXRpb24gPCBmaWxlRGF0YS5ieXRlTGVuZ3RoKSB7CiAgICAgIGNvbnN0IGxlbmd0aCA9IE1hdGgubWluKGZpbGVEYXRhLmJ5dGVMZW5ndGggLSBwb3NpdGlvbiwgTUFYX1BBWUxPQURfU0laRSk7CiAgICAgIGNvbnN0IGNodW5rID0gbmV3IFVpbnQ4QXJyYXkoZmlsZURhdGEsIHBvc2l0aW9uLCBsZW5ndGgpOwogICAgICBwb3NpdGlvbiArPSBsZW5ndGg7CgogICAgICBjb25zdCBiYXNlNjQgPSBidG9hKFN0cmluZy5mcm9tQ2hhckNvZGUuYXBwbHkobnVsbCwgY2h1bmspKTsKICAgICAgeWllbGQgewogICAgICAgIHJlc3BvbnNlOiB7CiAgICAgICAgICBhY3Rpb246ICdhcHBlbmQnLAogICAgICAgICAgZmlsZTogZmlsZS5uYW1lLAogICAgICAgICAgZGF0YTogYmFzZTY0LAogICAgICAgIH0sCiAgICAgIH07CiAgICAgIHBlcmNlbnQudGV4dENvbnRlbnQgPQogICAgICAgICAgYCR7TWF0aC5yb3VuZCgocG9zaXRpb24gLyBmaWxlRGF0YS5ieXRlTGVuZ3RoKSAqIDEwMCl9JSBkb25lYDsKICAgIH0KICB9CgogIC8vIEFsbCBkb25lLgogIHlpZWxkIHsKICAgIHJlc3BvbnNlOiB7CiAgICAgIGFjdGlvbjogJ2NvbXBsZXRlJywKICAgIH0KICB9Owp9CgpzY29wZS5nb29nbGUgPSBzY29wZS5nb29nbGUgfHwge307CnNjb3BlLmdvb2dsZS5jb2xhYiA9IHNjb3BlLmdvb2dsZS5jb2xhYiB8fCB7fTsKc2NvcGUuZ29vZ2xlLmNvbGFiLl9maWxlcyA9IHsKICBfdXBsb2FkRmlsZXMsCiAgX3VwbG9hZEZpbGVzQ29udGludWUsCn07Cn0pKHNlbGYpOwo=",
              "ok": true,
              "headers": [
                [
                  "content-type",
                  "application/javascript"
                ]
              ],
              "status": 200,
              "status_text": ""
            }
          },
          "base_uri": "https://localhost:8080/",
          "height": 78
        }
      },
      "source": [
        "# Importing the dataset\n",
        " from google.colab import files\n",
        "\n",
        "uploaded = files.upload()\n"
      ],
      "execution_count": 152,
      "outputs": [
        {
          "output_type": "display_data",
          "data": {
            "text/html": [
              "\n",
              "     <input type=\"file\" id=\"files-61b4e63b-ef2d-417a-bafe-c580f2bc1187\" name=\"files[]\" multiple disabled />\n",
              "     <output id=\"result-61b4e63b-ef2d-417a-bafe-c580f2bc1187\">\n",
              "      Upload widget is only available when the cell has been executed in the\n",
              "      current browser session. Please rerun this cell to enable.\n",
              "      </output>\n",
              "      <script src=\"/nbextensions/google.colab/files.js\"></script> "
            ],
            "text/plain": [
              "<IPython.core.display.HTML object>"
            ]
          },
          "metadata": {
            "tags": []
          }
        },
        {
          "output_type": "stream",
          "text": [
            "Saving hour.csv to hour.csv\n"
          ],
          "name": "stdout"
        }
      ]
    },
    {
      "cell_type": "code",
      "metadata": {
        "id": "WpYldXsdeM69",
        "colab_type": "code",
        "outputId": "e75858b6-2a46-46e2-d23b-3614a76bc075",
        "colab": {
          "base_uri": "https://localhost:8080/",
          "height": 419
        }
      },
      "source": [
        "bike = pd.read_csv('hour.csv')\n",
        "bike"
      ],
      "execution_count": 153,
      "outputs": [
        {
          "output_type": "execute_result",
          "data": {
            "text/html": [
              "<div>\n",
              "<style scoped>\n",
              "    .dataframe tbody tr th:only-of-type {\n",
              "        vertical-align: middle;\n",
              "    }\n",
              "\n",
              "    .dataframe tbody tr th {\n",
              "        vertical-align: top;\n",
              "    }\n",
              "\n",
              "    .dataframe thead th {\n",
              "        text-align: right;\n",
              "    }\n",
              "</style>\n",
              "<table border=\"1\" class=\"dataframe\">\n",
              "  <thead>\n",
              "    <tr style=\"text-align: right;\">\n",
              "      <th></th>\n",
              "      <th>instant</th>\n",
              "      <th>dteday</th>\n",
              "      <th>season</th>\n",
              "      <th>yr</th>\n",
              "      <th>mnth</th>\n",
              "      <th>hr</th>\n",
              "      <th>holiday</th>\n",
              "      <th>weekday</th>\n",
              "      <th>workingday</th>\n",
              "      <th>weathersit</th>\n",
              "      <th>temp</th>\n",
              "      <th>atemp</th>\n",
              "      <th>hum</th>\n",
              "      <th>windspeed</th>\n",
              "      <th>casual</th>\n",
              "      <th>registered</th>\n",
              "      <th>cnt</th>\n",
              "    </tr>\n",
              "  </thead>\n",
              "  <tbody>\n",
              "    <tr>\n",
              "      <th>0</th>\n",
              "      <td>1</td>\n",
              "      <td>2011-01-01</td>\n",
              "      <td>1</td>\n",
              "      <td>0</td>\n",
              "      <td>1</td>\n",
              "      <td>0</td>\n",
              "      <td>0</td>\n",
              "      <td>6</td>\n",
              "      <td>0</td>\n",
              "      <td>1</td>\n",
              "      <td>0.24</td>\n",
              "      <td>0.288</td>\n",
              "      <td>0.81</td>\n",
              "      <td>0.000</td>\n",
              "      <td>3</td>\n",
              "      <td>13</td>\n",
              "      <td>16</td>\n",
              "    </tr>\n",
              "    <tr>\n",
              "      <th>1</th>\n",
              "      <td>2</td>\n",
              "      <td>2011-01-01</td>\n",
              "      <td>1</td>\n",
              "      <td>0</td>\n",
              "      <td>1</td>\n",
              "      <td>1</td>\n",
              "      <td>0</td>\n",
              "      <td>6</td>\n",
              "      <td>0</td>\n",
              "      <td>1</td>\n",
              "      <td>0.22</td>\n",
              "      <td>0.273</td>\n",
              "      <td>0.80</td>\n",
              "      <td>0.000</td>\n",
              "      <td>8</td>\n",
              "      <td>32</td>\n",
              "      <td>40</td>\n",
              "    </tr>\n",
              "    <tr>\n",
              "      <th>2</th>\n",
              "      <td>3</td>\n",
              "      <td>2011-01-01</td>\n",
              "      <td>1</td>\n",
              "      <td>0</td>\n",
              "      <td>1</td>\n",
              "      <td>2</td>\n",
              "      <td>0</td>\n",
              "      <td>6</td>\n",
              "      <td>0</td>\n",
              "      <td>1</td>\n",
              "      <td>0.22</td>\n",
              "      <td>0.273</td>\n",
              "      <td>0.80</td>\n",
              "      <td>0.000</td>\n",
              "      <td>5</td>\n",
              "      <td>27</td>\n",
              "      <td>32</td>\n",
              "    </tr>\n",
              "    <tr>\n",
              "      <th>3</th>\n",
              "      <td>4</td>\n",
              "      <td>2011-01-01</td>\n",
              "      <td>1</td>\n",
              "      <td>0</td>\n",
              "      <td>1</td>\n",
              "      <td>3</td>\n",
              "      <td>0</td>\n",
              "      <td>6</td>\n",
              "      <td>0</td>\n",
              "      <td>1</td>\n",
              "      <td>0.24</td>\n",
              "      <td>0.288</td>\n",
              "      <td>0.75</td>\n",
              "      <td>0.000</td>\n",
              "      <td>3</td>\n",
              "      <td>10</td>\n",
              "      <td>13</td>\n",
              "    </tr>\n",
              "    <tr>\n",
              "      <th>4</th>\n",
              "      <td>5</td>\n",
              "      <td>2011-01-01</td>\n",
              "      <td>1</td>\n",
              "      <td>0</td>\n",
              "      <td>1</td>\n",
              "      <td>4</td>\n",
              "      <td>0</td>\n",
              "      <td>6</td>\n",
              "      <td>0</td>\n",
              "      <td>1</td>\n",
              "      <td>0.24</td>\n",
              "      <td>0.288</td>\n",
              "      <td>0.75</td>\n",
              "      <td>0.000</td>\n",
              "      <td>0</td>\n",
              "      <td>1</td>\n",
              "      <td>1</td>\n",
              "    </tr>\n",
              "    <tr>\n",
              "      <th>...</th>\n",
              "      <td>...</td>\n",
              "      <td>...</td>\n",
              "      <td>...</td>\n",
              "      <td>...</td>\n",
              "      <td>...</td>\n",
              "      <td>...</td>\n",
              "      <td>...</td>\n",
              "      <td>...</td>\n",
              "      <td>...</td>\n",
              "      <td>...</td>\n",
              "      <td>...</td>\n",
              "      <td>...</td>\n",
              "      <td>...</td>\n",
              "      <td>...</td>\n",
              "      <td>...</td>\n",
              "      <td>...</td>\n",
              "      <td>...</td>\n",
              "    </tr>\n",
              "    <tr>\n",
              "      <th>17374</th>\n",
              "      <td>17375</td>\n",
              "      <td>2012-12-31</td>\n",
              "      <td>1</td>\n",
              "      <td>1</td>\n",
              "      <td>12</td>\n",
              "      <td>19</td>\n",
              "      <td>0</td>\n",
              "      <td>1</td>\n",
              "      <td>1</td>\n",
              "      <td>2</td>\n",
              "      <td>0.26</td>\n",
              "      <td>0.258</td>\n",
              "      <td>0.60</td>\n",
              "      <td>0.164</td>\n",
              "      <td>11</td>\n",
              "      <td>108</td>\n",
              "      <td>119</td>\n",
              "    </tr>\n",
              "    <tr>\n",
              "      <th>17375</th>\n",
              "      <td>17376</td>\n",
              "      <td>2012-12-31</td>\n",
              "      <td>1</td>\n",
              "      <td>1</td>\n",
              "      <td>12</td>\n",
              "      <td>20</td>\n",
              "      <td>0</td>\n",
              "      <td>1</td>\n",
              "      <td>1</td>\n",
              "      <td>2</td>\n",
              "      <td>0.26</td>\n",
              "      <td>0.258</td>\n",
              "      <td>0.60</td>\n",
              "      <td>0.164</td>\n",
              "      <td>8</td>\n",
              "      <td>81</td>\n",
              "      <td>89</td>\n",
              "    </tr>\n",
              "    <tr>\n",
              "      <th>17376</th>\n",
              "      <td>17377</td>\n",
              "      <td>2012-12-31</td>\n",
              "      <td>1</td>\n",
              "      <td>1</td>\n",
              "      <td>12</td>\n",
              "      <td>21</td>\n",
              "      <td>0</td>\n",
              "      <td>1</td>\n",
              "      <td>1</td>\n",
              "      <td>1</td>\n",
              "      <td>0.26</td>\n",
              "      <td>0.258</td>\n",
              "      <td>0.60</td>\n",
              "      <td>0.164</td>\n",
              "      <td>7</td>\n",
              "      <td>83</td>\n",
              "      <td>90</td>\n",
              "    </tr>\n",
              "    <tr>\n",
              "      <th>17377</th>\n",
              "      <td>17378</td>\n",
              "      <td>2012-12-31</td>\n",
              "      <td>1</td>\n",
              "      <td>1</td>\n",
              "      <td>12</td>\n",
              "      <td>22</td>\n",
              "      <td>0</td>\n",
              "      <td>1</td>\n",
              "      <td>1</td>\n",
              "      <td>1</td>\n",
              "      <td>0.26</td>\n",
              "      <td>0.273</td>\n",
              "      <td>0.56</td>\n",
              "      <td>0.134</td>\n",
              "      <td>13</td>\n",
              "      <td>48</td>\n",
              "      <td>61</td>\n",
              "    </tr>\n",
              "    <tr>\n",
              "      <th>17378</th>\n",
              "      <td>17379</td>\n",
              "      <td>2012-12-31</td>\n",
              "      <td>1</td>\n",
              "      <td>1</td>\n",
              "      <td>12</td>\n",
              "      <td>23</td>\n",
              "      <td>0</td>\n",
              "      <td>1</td>\n",
              "      <td>1</td>\n",
              "      <td>1</td>\n",
              "      <td>0.26</td>\n",
              "      <td>0.273</td>\n",
              "      <td>0.65</td>\n",
              "      <td>0.134</td>\n",
              "      <td>12</td>\n",
              "      <td>37</td>\n",
              "      <td>49</td>\n",
              "    </tr>\n",
              "  </tbody>\n",
              "</table>\n",
              "<p>17379 rows × 17 columns</p>\n",
              "</div>"
            ],
            "text/plain": [
              "       instant      dteday  season  yr  ...  windspeed  casual  registered  cnt\n",
              "0            1  2011-01-01       1   0  ...      0.000       3          13   16\n",
              "1            2  2011-01-01       1   0  ...      0.000       8          32   40\n",
              "2            3  2011-01-01       1   0  ...      0.000       5          27   32\n",
              "3            4  2011-01-01       1   0  ...      0.000       3          10   13\n",
              "4            5  2011-01-01       1   0  ...      0.000       0           1    1\n",
              "...        ...         ...     ...  ..  ...        ...     ...         ...  ...\n",
              "17374    17375  2012-12-31       1   1  ...      0.164      11         108  119\n",
              "17375    17376  2012-12-31       1   1  ...      0.164       8          81   89\n",
              "17376    17377  2012-12-31       1   1  ...      0.164       7          83   90\n",
              "17377    17378  2012-12-31       1   1  ...      0.134      13          48   61\n",
              "17378    17379  2012-12-31       1   1  ...      0.134      12          37   49\n",
              "\n",
              "[17379 rows x 17 columns]"
            ]
          },
          "metadata": {
            "tags": []
          },
          "execution_count": 153
        }
      ]
    },
    {
      "cell_type": "markdown",
      "metadata": {
        "id": "627NaQjIRpXS",
        "colab_type": "text"
      },
      "source": [
        "**데이터 들여다보기**"
      ]
    },
    {
      "cell_type": "code",
      "metadata": {
        "id": "gX9e8iIUdzpk",
        "colab_type": "code",
        "outputId": "c82bd302-ad21-4881-cf05-249201147418",
        "colab": {
          "base_uri": "https://localhost:8080/",
          "height": 449
        }
      },
      "source": [
        "bike.info() # No NA value"
      ],
      "execution_count": 154,
      "outputs": [
        {
          "output_type": "stream",
          "text": [
            "<class 'pandas.core.frame.DataFrame'>\n",
            "RangeIndex: 17379 entries, 0 to 17378\n",
            "Data columns (total 17 columns):\n",
            " #   Column      Non-Null Count  Dtype  \n",
            "---  ------      --------------  -----  \n",
            " 0   instant     17379 non-null  int64  \n",
            " 1   dteday      17379 non-null  object \n",
            " 2   season      17379 non-null  int64  \n",
            " 3   yr          17379 non-null  int64  \n",
            " 4   mnth        17379 non-null  int64  \n",
            " 5   hr          17379 non-null  int64  \n",
            " 6   holiday     17379 non-null  int64  \n",
            " 7   weekday     17379 non-null  int64  \n",
            " 8   workingday  17379 non-null  int64  \n",
            " 9   weathersit  17379 non-null  int64  \n",
            " 10  temp        17379 non-null  float64\n",
            " 11  atemp       17379 non-null  float64\n",
            " 12  hum         17379 non-null  float64\n",
            " 13  windspeed   17379 non-null  float64\n",
            " 14  casual      17379 non-null  int64  \n",
            " 15  registered  17379 non-null  int64  \n",
            " 16  cnt         17379 non-null  int64  \n",
            "dtypes: float64(4), int64(12), object(1)\n",
            "memory usage: 2.3+ MB\n"
          ],
          "name": "stdout"
        }
      ]
    },
    {
      "cell_type": "code",
      "metadata": {
        "id": "_2x1cIjdc7jW",
        "colab_type": "code",
        "outputId": "f8c4b0b9-9cfd-4347-e5a3-4c04c97b4199",
        "colab": {
          "base_uri": "https://localhost:8080/",
          "height": 297
        }
      },
      "source": [
        "Data = bike[['cnt', 'temp']]\n",
        "Data.describe()"
      ],
      "execution_count": 155,
      "outputs": [
        {
          "output_type": "execute_result",
          "data": {
            "text/html": [
              "<div>\n",
              "<style scoped>\n",
              "    .dataframe tbody tr th:only-of-type {\n",
              "        vertical-align: middle;\n",
              "    }\n",
              "\n",
              "    .dataframe tbody tr th {\n",
              "        vertical-align: top;\n",
              "    }\n",
              "\n",
              "    .dataframe thead th {\n",
              "        text-align: right;\n",
              "    }\n",
              "</style>\n",
              "<table border=\"1\" class=\"dataframe\">\n",
              "  <thead>\n",
              "    <tr style=\"text-align: right;\">\n",
              "      <th></th>\n",
              "      <th>cnt</th>\n",
              "      <th>temp</th>\n",
              "    </tr>\n",
              "  </thead>\n",
              "  <tbody>\n",
              "    <tr>\n",
              "      <th>count</th>\n",
              "      <td>17379.000</td>\n",
              "      <td>17379.000</td>\n",
              "    </tr>\n",
              "    <tr>\n",
              "      <th>mean</th>\n",
              "      <td>189.463</td>\n",
              "      <td>0.497</td>\n",
              "    </tr>\n",
              "    <tr>\n",
              "      <th>std</th>\n",
              "      <td>181.388</td>\n",
              "      <td>0.193</td>\n",
              "    </tr>\n",
              "    <tr>\n",
              "      <th>min</th>\n",
              "      <td>1.000</td>\n",
              "      <td>0.020</td>\n",
              "    </tr>\n",
              "    <tr>\n",
              "      <th>25%</th>\n",
              "      <td>40.000</td>\n",
              "      <td>0.340</td>\n",
              "    </tr>\n",
              "    <tr>\n",
              "      <th>50%</th>\n",
              "      <td>142.000</td>\n",
              "      <td>0.500</td>\n",
              "    </tr>\n",
              "    <tr>\n",
              "      <th>75%</th>\n",
              "      <td>281.000</td>\n",
              "      <td>0.660</td>\n",
              "    </tr>\n",
              "    <tr>\n",
              "      <th>max</th>\n",
              "      <td>977.000</td>\n",
              "      <td>1.000</td>\n",
              "    </tr>\n",
              "  </tbody>\n",
              "</table>\n",
              "</div>"
            ],
            "text/plain": [
              "             cnt       temp\n",
              "count  17379.000  17379.000\n",
              "mean     189.463      0.497\n",
              "std      181.388      0.193\n",
              "min        1.000      0.020\n",
              "25%       40.000      0.340\n",
              "50%      142.000      0.500\n",
              "75%      281.000      0.660\n",
              "max      977.000      1.000"
            ]
          },
          "metadata": {
            "tags": []
          },
          "execution_count": 155
        }
      ]
    },
    {
      "cell_type": "code",
      "metadata": {
        "id": "0iudC5opRxU0",
        "colab_type": "code",
        "outputId": "cda42a2e-fc47-4a37-c4a9-b17928aecb1e",
        "colab": {
          "base_uri": "https://localhost:8080/",
          "height": 369
        }
      },
      "source": [
        "Data.hist(bins=50, figsize=(12, 5))\n",
        "plt.tight_layout()"
      ],
      "execution_count": 156,
      "outputs": [
        {
          "output_type": "display_data",
          "data": {
            "image/png": "[encoded data removed]",
            "text/plain": [
              "<Figure size 864x360 with 2 Axes>"
            ]
          },
          "metadata": {
            "tags": []
          }
        }
      ]
    },
    {
      "cell_type": "code",
      "metadata": {
        "id": "c4NEihZTR10W",
        "colab_type": "code",
        "outputId": "72c9fb24-c43a-4d08-819b-6fd9ebe80781",
        "colab": {
          "base_uri": "https://localhost:8080/",
          "height": 405
        }
      },
      "source": [
        "sns.pairplot(Data)"
      ],
      "execution_count": 157,
      "outputs": [
        {
          "output_type": "execute_result",
          "data": {
            "text/plain": [
              "<seaborn.axisgrid.PairGrid at 0x7f1e7f7f4e48>"
            ]
          },
          "metadata": {
            "tags": []
          },
          "execution_count": 157
        },
        {
          "output_type": "display_data",
          "data": {
            "image/png": "[encoded data removed]",
            "text/plain": [
              "<Figure size 360x360 with 6 Axes>"
            ]
          },
          "metadata": {
            "tags": []
          }
        }
      ]
    },
    {
      "cell_type": "markdown",
      "metadata": {
        "id": "uLrYhFZZR7UX",
        "colab_type": "text"
      },
      "source": [
        "**Polynomial Regression**"
      ]
    },
    {
      "cell_type": "code",
      "metadata": {
        "id": "nXZxvU9NR3aP",
        "colab_type": "code",
        "colab": {}
      },
      "source": [
        "np.random.seed(123)\n",
        "data = Data.sample(n=50).reset_index()"
      ],
      "execution_count": 0,
      "outputs": []
    },
    {
      "cell_type": "markdown",
      "metadata": {
        "id": "AX7VTjCJSCcr",
        "colab_type": "text"
      },
      "source": [
        "**1) Train-Test Split**"
      ]
    },
    {
      "cell_type": "code",
      "metadata": {
        "id": "YJL4Yvi_R6KU",
        "colab_type": "code",
        "outputId": "f2078fe9-0994-4c21-bc1a-8a92bca4ef3a",
        "colab": {
          "base_uri": "https://localhost:8080/",
          "height": 35
        }
      },
      "source": [
        "np.random.seed(123)\n",
        "N= data.shape[0]\n",
        "test = np.random.choice(np.arange(N),20, replace=False)\n",
        "train_df = data[~data.index.isin(test)].copy()\n",
        "test_df = data[data.index.isin(test)].copy()\n",
        "print(train_df.shape, test_df.shape)"
      ],
      "execution_count": 159,
      "outputs": [
        {
          "output_type": "stream",
          "text": [
            "(30, 3) (20, 3)\n"
          ],
          "name": "stdout"
        }
      ]
    },
    {
      "cell_type": "code",
      "metadata": {
        "id": "tsNYGfz0R5I6",
        "colab_type": "code",
        "colab": {}
      },
      "source": [
        "y = np.matrix(data['cnt']).T\n",
        "X = np.matrix(data['temp']).T\n",
        "y_train = np.matrix(train_df['cnt']).T\n",
        "X_train = np.matrix(train_df['temp']).T\n",
        "y_test = np.matrix(test_df['cnt']).T\n",
        "X_test = np.matrix(test_df['temp']).T"
      ],
      "execution_count": 0,
      "outputs": []
    },
    {
      "cell_type": "markdown",
      "metadata": {
        "id": "OAceZq3ZSbNr",
        "colab_type": "text"
      },
      "source": [
        "**2) Design Matrix 만들기**"
      ]
    },
    {
      "cell_type": "code",
      "metadata": {
        "id": "qLX73xpUSgj2",
        "colab_type": "code",
        "colab": {}
      },
      "source": [
        "from sklearn.linear_model import LinearRegression\n",
        "from sklearn.preprocessing import PolynomialFeatures"
      ],
      "execution_count": 0,
      "outputs": []
    },
    {
      "cell_type": "code",
      "metadata": {
        "id": "aS3-3-THSiWz",
        "colab_type": "code",
        "outputId": "482e9296-eb77-4e84-8765-e7e291f0bab3",
        "colab": {
          "base_uri": "https://localhost:8080/",
          "height": 35
        }
      },
      "source": [
        "poly = PolynomialFeatures(degree=2)\n",
        "X_train_poly = poly.fit_transform(X_train)\n",
        "X_test_poly = poly.fit_transform(X_test)\n",
        "X_train_poly.shape\n"
      ],
      "execution_count": 162,
      "outputs": [
        {
          "output_type": "execute_result",
          "data": {
            "text/plain": [
              "(30, 3)"
            ]
          },
          "metadata": {
            "tags": []
          },
          "execution_count": 162
        }
      ]
    },
    {
      "cell_type": "markdown",
      "metadata": {
        "id": "Lc72UAYkSkDy",
        "colab_type": "text"
      },
      "source": [
        "**3) Linear Regression Fitting**"
      ]
    },
    {
      "cell_type": "code",
      "metadata": {
        "id": "Rw0OPu4oSp_x",
        "colab_type": "code",
        "outputId": "51c9c51b-4cf7-4c78-9a35-13ea678b13d0",
        "colab": {
          "base_uri": "https://localhost:8080/",
          "height": 35
        }
      },
      "source": [
        "lin2 = LinearRegression(fit_intercept=False)\n",
        "lin2.fit(X_train_poly, y_train)"
      ],
      "execution_count": 163,
      "outputs": [
        {
          "output_type": "execute_result",
          "data": {
            "text/plain": [
              "LinearRegression(copy_X=True, fit_intercept=False, n_jobs=None, normalize=False)"
            ]
          },
          "metadata": {
            "tags": []
          },
          "execution_count": 163
        }
      ]
    },
    {
      "cell_type": "code",
      "metadata": {
        "id": "ABinY8EkSred",
        "colab_type": "code",
        "outputId": "5fd96035-54b7-483f-ae2a-a3f918518cad",
        "colab": {
          "base_uri": "https://localhost:8080/",
          "height": 35
        }
      },
      "source": [
        "lin2.coef_"
      ],
      "execution_count": 164,
      "outputs": [
        {
          "output_type": "execute_result",
          "data": {
            "text/plain": [
              "array([[-11.986, 238.624, 334.696]])"
            ]
          },
          "metadata": {
            "tags": []
          },
          "execution_count": 164
        }
      ]
    },
    {
      "cell_type": "code",
      "metadata": {
        "id": "sgGMmho0USt1",
        "colab_type": "code",
        "colab": {}
      },
      "source": [
        "X_train_fit = X_train_poly.dot(lin2.coef_.T)\n",
        "mse_train = np.log((X_train_fit - y_train).T.dot((X_train_fit - y_train))/len(y_train))[0,0]"
      ],
      "execution_count": 0,
      "outputs": []
    },
    {
      "cell_type": "code",
      "metadata": {
        "id": "2LrQcA19VMm2",
        "colab_type": "code",
        "colab": {}
      },
      "source": [
        "X_test_fit = X_test_poly.dot(lin2.coef_.T)\n",
        "mse_test = np.log((X_test_fit - y_test).T.dot((X_test_fit - y_test))/len(y_test))[0,0]"
      ],
      "execution_count": 0,
      "outputs": []
    },
    {
      "cell_type": "code",
      "metadata": {
        "id": "7bRXTJUxXrIX",
        "colab_type": "code",
        "outputId": "58e1d4f4-b0b3-46e6-98cf-9ccb90868ab3",
        "colab": {
          "base_uri": "https://localhost:8080/",
          "height": 35
        }
      },
      "source": [
        "print(mse_train, mse_test)"
      ],
      "execution_count": 167,
      "outputs": [
        {
          "output_type": "stream",
          "text": [
            "9.994226896319882 10.143935517502928\n"
          ],
          "name": "stdout"
        }
      ]
    },
    {
      "cell_type": "markdown",
      "metadata": {
        "id": "OVryXkVeX84t",
        "colab_type": "text"
      },
      "source": [
        "**반복문을 통해 차수를 높임**"
      ]
    },
    {
      "cell_type": "code",
      "metadata": {
        "id": "cVCjKqLwYFOk",
        "colab_type": "code",
        "outputId": "d95c543b-fd7c-44ea-b317-b93d6acd163f",
        "colab": {
          "base_uri": "https://localhost:8080/",
          "height": 251
        }
      },
      "source": [
        "mse_table = np.zeros((13,2))\n",
        "\n",
        "for i in range(1,14) :\n",
        "    poly = PolynomialFeatures(degree=i)\n",
        "    X_train_poly = poly.fit_transform(X_train)\n",
        "    X_test_poly = poly.fit_transform(X_test)\n",
        "    X_train_poly.shape\n",
        "\n",
        "    lin2 = LinearRegression(fit_intercept=False)\n",
        "    lin2.fit(X_train_poly, y_train)\n",
        "\n",
        "    X_train_fit = X_train_poly.dot(lin2.coef_.T)\n",
        "    mse_train = np.log((X_train_fit - y_train).T.dot((X_train_fit - y_train))/len(y_train))[0,0]\n",
        "\n",
        "    X_test_fit = X_test_poly.dot(lin2.coef_.T)\n",
        "    mse_test = np.log((X_test_fit - y_test).T.dot((X_test_fit - y_test))/len(y_test))[0,0]\n",
        "\n",
        "    mse_table[i-1,] =     [mse_train, mse_test]\n",
        "\n",
        "print(mse_table)"
      ],
      "execution_count": 168,
      "outputs": [
        {
          "output_type": "stream",
          "text": [
            "[[ 9.998 10.022]\n",
            " [ 9.994 10.144]\n",
            " [ 9.985  9.776]\n",
            " [ 9.904 12.315]\n",
            " [ 9.897 13.329]\n",
            " [ 9.87  14.152]\n",
            " [ 9.867 15.964]\n",
            " [ 9.841 18.713]\n",
            " [ 9.841 19.482]\n",
            " [ 9.84  17.268]\n",
            " [ 9.84  19.429]\n",
            " [ 9.838 25.254]\n",
            " [ 9.834 28.982]]\n"
          ],
          "name": "stdout"
        }
      ]
    },
    {
      "cell_type": "code",
      "metadata": {
        "id": "BCmjt7hDY-fa",
        "colab_type": "code",
        "outputId": "d59280b5-a115-4f5a-e546-bd063a86c55a",
        "colab": {
          "base_uri": "https://localhost:8080/",
          "height": 265
        }
      },
      "source": [
        "plt.plot(mse_table[:,0], label='Train MSE')\n",
        "plt.plot(mse_table[:,1], label='Test MSE')\n",
        "plt.legend(loc='upper left')\n",
        "plt.show()"
      ],
      "execution_count": 169,
      "outputs": [
        {
          "output_type": "display_data",
          "data": {
            "image/png": "[encoded data removed]",
            "text/plain": [
              "<Figure size 432x288 with 1 Axes>"
            ]
          },
          "metadata": {
            "tags": []
          }
        }
      ]
    },
    {
      "cell_type": "code",
      "metadata": {
        "id": "bA_IA0NCvvLQ",
        "colab_type": "code",
        "colab": {}
      },
      "source": [
        ""
      ],
      "execution_count": 0,
      "outputs": []
    }
  ]
}
