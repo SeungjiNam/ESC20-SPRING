{
 "cells": [
  {
   "cell_type": "code",
   "execution_count": 1,
   "metadata": {},
   "outputs": [],
   "source": [
    "import numpy as np\n",
    "import pandas as pd\n",
    "import matplotlib.pyplot as plt\n",
    "import seaborn as sns\n",
    "\n",
    "np.set_printoptions(precision=3)\n",
    "pd.set_option('display.precision', 3)\n",
    "plt.style.use('ggplot')\n",
    "%matplotlib inline"
   ]
  },
  {
   "cell_type": "markdown",
   "metadata": {},
   "source": [
    "# 3. Polynomial Regression\n",
    "## EDA"
   ]
  },
  {
   "cell_type": "code",
   "execution_count": 2,
   "metadata": {},
   "outputs": [
    {
     "data": {
      "text/html": [
       "<div>\n",
       "<style scoped>\n",
       "    .dataframe tbody tr th:only-of-type {\n",
       "        vertical-align: middle;\n",
       "    }\n",
       "\n",
       "    .dataframe tbody tr th {\n",
       "        vertical-align: top;\n",
       "    }\n",
       "\n",
       "    .dataframe thead th {\n",
       "        text-align: right;\n",
       "    }\n",
       "</style>\n",
       "<table border=\"1\" class=\"dataframe\">\n",
       "  <thead>\n",
       "    <tr style=\"text-align: right;\">\n",
       "      <th></th>\n",
       "      <th>instant</th>\n",
       "      <th>dteday</th>\n",
       "      <th>season</th>\n",
       "      <th>yr</th>\n",
       "      <th>mnth</th>\n",
       "      <th>hr</th>\n",
       "      <th>holiday</th>\n",
       "      <th>weekday</th>\n",
       "      <th>workingday</th>\n",
       "      <th>weathersit</th>\n",
       "      <th>temp</th>\n",
       "      <th>atemp</th>\n",
       "      <th>hum</th>\n",
       "      <th>windspeed</th>\n",
       "      <th>casual</th>\n",
       "      <th>registered</th>\n",
       "      <th>cnt</th>\n",
       "    </tr>\n",
       "  </thead>\n",
       "  <tbody>\n",
       "    <tr>\n",
       "      <th>0</th>\n",
       "      <td>1</td>\n",
       "      <td>2011-01-01</td>\n",
       "      <td>1</td>\n",
       "      <td>0</td>\n",
       "      <td>1</td>\n",
       "      <td>0</td>\n",
       "      <td>0</td>\n",
       "      <td>6</td>\n",
       "      <td>0</td>\n",
       "      <td>1</td>\n",
       "      <td>0.24</td>\n",
       "      <td>0.288</td>\n",
       "      <td>0.81</td>\n",
       "      <td>0.0</td>\n",
       "      <td>3</td>\n",
       "      <td>13</td>\n",
       "      <td>16</td>\n",
       "    </tr>\n",
       "    <tr>\n",
       "      <th>1</th>\n",
       "      <td>2</td>\n",
       "      <td>2011-01-01</td>\n",
       "      <td>1</td>\n",
       "      <td>0</td>\n",
       "      <td>1</td>\n",
       "      <td>1</td>\n",
       "      <td>0</td>\n",
       "      <td>6</td>\n",
       "      <td>0</td>\n",
       "      <td>1</td>\n",
       "      <td>0.22</td>\n",
       "      <td>0.273</td>\n",
       "      <td>0.80</td>\n",
       "      <td>0.0</td>\n",
       "      <td>8</td>\n",
       "      <td>32</td>\n",
       "      <td>40</td>\n",
       "    </tr>\n",
       "    <tr>\n",
       "      <th>2</th>\n",
       "      <td>3</td>\n",
       "      <td>2011-01-01</td>\n",
       "      <td>1</td>\n",
       "      <td>0</td>\n",
       "      <td>1</td>\n",
       "      <td>2</td>\n",
       "      <td>0</td>\n",
       "      <td>6</td>\n",
       "      <td>0</td>\n",
       "      <td>1</td>\n",
       "      <td>0.22</td>\n",
       "      <td>0.273</td>\n",
       "      <td>0.80</td>\n",
       "      <td>0.0</td>\n",
       "      <td>5</td>\n",
       "      <td>27</td>\n",
       "      <td>32</td>\n",
       "    </tr>\n",
       "    <tr>\n",
       "      <th>3</th>\n",
       "      <td>4</td>\n",
       "      <td>2011-01-01</td>\n",
       "      <td>1</td>\n",
       "      <td>0</td>\n",
       "      <td>1</td>\n",
       "      <td>3</td>\n",
       "      <td>0</td>\n",
       "      <td>6</td>\n",
       "      <td>0</td>\n",
       "      <td>1</td>\n",
       "      <td>0.24</td>\n",
       "      <td>0.288</td>\n",
       "      <td>0.75</td>\n",
       "      <td>0.0</td>\n",
       "      <td>3</td>\n",
       "      <td>10</td>\n",
       "      <td>13</td>\n",
       "    </tr>\n",
       "    <tr>\n",
       "      <th>4</th>\n",
       "      <td>5</td>\n",
       "      <td>2011-01-01</td>\n",
       "      <td>1</td>\n",
       "      <td>0</td>\n",
       "      <td>1</td>\n",
       "      <td>4</td>\n",
       "      <td>0</td>\n",
       "      <td>6</td>\n",
       "      <td>0</td>\n",
       "      <td>1</td>\n",
       "      <td>0.24</td>\n",
       "      <td>0.288</td>\n",
       "      <td>0.75</td>\n",
       "      <td>0.0</td>\n",
       "      <td>0</td>\n",
       "      <td>1</td>\n",
       "      <td>1</td>\n",
       "    </tr>\n",
       "  </tbody>\n",
       "</table>\n",
       "</div>"
      ],
      "text/plain": [
       "   instant      dteday  season  yr  mnth  hr  holiday  weekday  workingday  \\\n",
       "0        1  2011-01-01       1   0     1   0        0        6           0   \n",
       "1        2  2011-01-01       1   0     1   1        0        6           0   \n",
       "2        3  2011-01-01       1   0     1   2        0        6           0   \n",
       "3        4  2011-01-01       1   0     1   3        0        6           0   \n",
       "4        5  2011-01-01       1   0     1   4        0        6           0   \n",
       "\n",
       "   weathersit  temp  atemp   hum  windspeed  casual  registered  cnt  \n",
       "0           1  0.24  0.288  0.81        0.0       3          13   16  \n",
       "1           1  0.22  0.273  0.80        0.0       8          32   40  \n",
       "2           1  0.22  0.273  0.80        0.0       5          27   32  \n",
       "3           1  0.24  0.288  0.75        0.0       3          10   13  \n",
       "4           1  0.24  0.288  0.75        0.0       0           1    1  "
      ]
     },
     "execution_count": 2,
     "metadata": {},
     "output_type": "execute_result"
    }
   ],
   "source": [
    "df = pd.read_csv(\"Bike-Sharing-Dataset/hour.csv\")\n",
    "df.head()"
   ]
  },
  {
   "cell_type": "code",
   "execution_count": 3,
   "metadata": {},
   "outputs": [
    {
     "name": "stdout",
     "output_type": "stream",
     "text": [
      "<class 'pandas.core.frame.DataFrame'>\n",
      "RangeIndex: 17379 entries, 0 to 17378\n",
      "Data columns (total 17 columns):\n",
      " #   Column      Non-Null Count  Dtype  \n",
      "---  ------      --------------  -----  \n",
      " 0   instant     17379 non-null  int64  \n",
      " 1   dteday      17379 non-null  object \n",
      " 2   season      17379 non-null  int64  \n",
      " 3   yr          17379 non-null  int64  \n",
      " 4   mnth        17379 non-null  int64  \n",
      " 5   hr          17379 non-null  int64  \n",
      " 6   holiday     17379 non-null  int64  \n",
      " 7   weekday     17379 non-null  int64  \n",
      " 8   workingday  17379 non-null  int64  \n",
      " 9   weathersit  17379 non-null  int64  \n",
      " 10  temp        17379 non-null  float64\n",
      " 11  atemp       17379 non-null  float64\n",
      " 12  hum         17379 non-null  float64\n",
      " 13  windspeed   17379 non-null  float64\n",
      " 14  casual      17379 non-null  int64  \n",
      " 15  registered  17379 non-null  int64  \n",
      " 16  cnt         17379 non-null  int64  \n",
      "dtypes: float64(4), int64(12), object(1)\n",
      "memory usage: 2.3+ MB\n"
     ]
    }
   ],
   "source": [
    "df.info()"
   ]
  },
  {
   "cell_type": "markdown",
   "metadata": {},
   "source": [
    "- `instant`는 id 변수이니 삭제 \n",
    "- `dteday`가 담고 있는 정보는 `season, yr, mnth`로 축약할 수 있을 것으로 보이니 삭제, `mnth`도 삭제\n",
    "- `holiday, weekday, workingday`도 관련이 있어 보임\n",
    "- `weathersit, temp, atemp, hum, windspeed`도 마찬가지, 그중 `temp, atemp`는 하나만 남겨두도록 하자\n",
    "- `causal + registered = cnt`의 관련?"
   ]
  },
  {
   "cell_type": "code",
   "execution_count": 4,
   "metadata": {},
   "outputs": [],
   "source": [
    "# instant, dteday, mnth 삭제\n",
    "df.drop(['instant', 'dteday', 'mnth'], axis=1, inplace=True)"
   ]
  },
  {
   "cell_type": "markdown",
   "metadata": {},
   "source": [
    "### 시간 관련 변수  EDA"
   ]
  },
  {
   "cell_type": "code",
   "execution_count": 5,
   "metadata": {},
   "outputs": [],
   "source": [
    "TIMES = ['season', 'yr']\n",
    "\n",
    "for time in TIMES:\n",
    "    df[time] = df[time].astype('category')"
   ]
  },
  {
   "cell_type": "code",
   "execution_count": 6,
   "metadata": {},
   "outputs": [
    {
     "data": {
      "image/png": "[encoded data removed]",
      "text/plain": [
       "<Figure size 432x288 with 1 Axes>"
      ]
     },
     "metadata": {
      "needs_background": "light"
     },
     "output_type": "display_data"
    }
   ],
   "source": [
    "# hr: 아침(6-12), 점심(12-6), 저녁(6-12), 새벽(12-6) 으로 나누기\n",
    "import warnings\n",
    "warnings.filterwarnings('ignore')\n",
    "\n",
    "HOURS = [[*range(6, 12)], [*(range(12, 18))], [*range(18,23)], [*range(0,6)]]\n",
    "\n",
    "for idx, hour in enumerate(df['hr']):\n",
    "    if hour in HOURS[0]:\n",
    "        df['hr'][idx] = 0\n",
    "    elif hour in HOURS[1]:\n",
    "        df['hr'][idx] = 1\n",
    "    elif hour in HOURS[2]:\n",
    "        df['hr'][idx] = 2\n",
    "    else:\n",
    "        df['hr'][idx] = 3\n",
    "else:\n",
    "    sns.countplot(x='hr', data=df)"
   ]
  },
  {
   "cell_type": "markdown",
   "metadata": {},
   "source": [
    "### 공휴일 관련 변수 EDA"
   ]
  },
  {
   "cell_type": "code",
   "execution_count": 7,
   "metadata": {},
   "outputs": [
    {
     "data": {
      "image/png": "[encoded data removed]",
      "text/plain": [
       "<Figure size 504x432 with 2 Axes>"
      ]
     },
     "metadata": {
      "needs_background": "light"
     },
     "output_type": "display_data"
    }
   ],
   "source": [
    "cor_matrix = df[['holiday', 'weekday', 'workingday','cnt']].corr()\n",
    "\n",
    "fig, ax = plt.subplots(1, figsize=(7,6))\n",
    "sns.heatmap(cor_matrix, annot=True, cmap='coolwarm', ax=ax)\n",
    "ax.set_title(\"Correlation plot\")\n",
    "plt.show()"
   ]
  },
  {
   "cell_type": "markdown",
   "metadata": {},
   "source": [
    "`workingday` 삭제"
   ]
  },
  {
   "cell_type": "code",
   "execution_count": 8,
   "metadata": {},
   "outputs": [],
   "source": [
    "df.drop(['workingday'], axis=1, inplace=True)"
   ]
  },
  {
   "cell_type": "code",
   "execution_count": 9,
   "metadata": {},
   "outputs": [],
   "source": [
    "# 주말과 주말이 아닌 날로 바꿔준다\n",
    "df['weekday'] = df['weekday'].replace([0, 1, 2, 3, 4, 5, 6], [0, 0, 0, 0, 0, 1, 1])"
   ]
  },
  {
   "cell_type": "markdown",
   "metadata": {},
   "source": [
    "### 날씨 관련 변수 EDA"
   ]
  },
  {
   "cell_type": "code",
   "execution_count": 10,
   "metadata": {},
   "outputs": [
    {
     "name": "stdout",
     "output_type": "stream",
     "text": [
      "Index(['season', 'yr', 'hr', 'holiday', 'weekday', 'weathersit', 'temp',\n",
      "       'atemp', 'hum', 'windspeed', 'casual', 'registered', 'cnt'],\n",
      "      dtype='object')\n"
     ]
    }
   ],
   "source": [
    "print(df.columns)"
   ]
  },
  {
   "cell_type": "code",
   "execution_count": 11,
   "metadata": {},
   "outputs": [
    {
     "name": "stdout",
     "output_type": "stream",
     "text": [
      "['weathersit', 'temp', 'atemp', 'hum', 'windspeed']\n"
     ]
    }
   ],
   "source": [
    "weathers = [value for idx, value in enumerate(df.columns) if 5<=idx<=9]\n",
    "print(weathers)"
   ]
  },
  {
   "cell_type": "code",
   "execution_count": 12,
   "metadata": {},
   "outputs": [
    {
     "data": {
      "image/png": "[encoded data removed]",
      "text/plain": [
       "<Figure size 504x432 with 2 Axes>"
      ]
     },
     "metadata": {
      "needs_background": "light"
     },
     "output_type": "display_data"
    }
   ],
   "source": [
    "cor_matrix = df[weathers+['cnt']].corr()\n",
    "\n",
    "fig, ax = plt.subplots(1, figsize=(7,6))\n",
    "sns.heatmap(cor_matrix, annot=True, cmap='coolwarm', ax=ax)\n",
    "ax.set_title(\"Correlation plot\")\n",
    "plt.show()"
   ]
  },
  {
   "cell_type": "markdown",
   "metadata": {},
   "source": [
    "`temp, atemp`중 하나 삭제 => atemp 삭제... 이유는 없음 <br>"
   ]
  },
  {
   "cell_type": "code",
   "execution_count": 13,
   "metadata": {},
   "outputs": [],
   "source": [
    "df.drop(['atemp'], axis=1, inplace=True)"
   ]
  },
  {
   "cell_type": "markdown",
   "metadata": {},
   "source": [
    "### casual, registered, cnt의 관계?"
   ]
  },
  {
   "cell_type": "code",
   "execution_count": 14,
   "metadata": {},
   "outputs": [
    {
     "data": {
      "text/plain": [
       "True"
      ]
     },
     "execution_count": 14,
     "metadata": {},
     "output_type": "execute_result"
    }
   ],
   "source": [
    "np.all(df.casual+df.registered == df.cnt)"
   ]
  },
  {
   "cell_type": "markdown",
   "metadata": {},
   "source": [
    "이렇게 되면 regression을 하는 이유가 없으니 둘다 지워버린다"
   ]
  },
  {
   "cell_type": "code",
   "execution_count": 15,
   "metadata": {},
   "outputs": [],
   "source": [
    "df.drop(['casual', 'registered'], axis=1, inplace=True)"
   ]
  },
  {
   "cell_type": "code",
   "execution_count": 16,
   "metadata": {},
   "outputs": [
    {
     "name": "stdout",
     "output_type": "stream",
     "text": [
      "<class 'pandas.core.frame.DataFrame'>\n",
      "RangeIndex: 17379 entries, 0 to 17378\n",
      "Data columns (total 10 columns):\n",
      " #   Column      Non-Null Count  Dtype   \n",
      "---  ------      --------------  -----   \n",
      " 0   season      17379 non-null  category\n",
      " 1   yr          17379 non-null  category\n",
      " 2   hr          17379 non-null  int64   \n",
      " 3   holiday     17379 non-null  int64   \n",
      " 4   weekday     17379 non-null  int64   \n",
      " 5   weathersit  17379 non-null  int64   \n",
      " 6   temp        17379 non-null  float64 \n",
      " 7   hum         17379 non-null  float64 \n",
      " 8   windspeed   17379 non-null  float64 \n",
      " 9   cnt         17379 non-null  int64   \n",
      "dtypes: category(2), float64(3), int64(5)\n",
      "memory usage: 1.1 MB\n",
      "None\n",
      "              hr    holiday    weekday  weathersit       temp        hum  \\\n",
      "count  17379.000  17379.000  17379.000   17379.000  17379.000  17379.000   \n",
      "mean       1.534      0.029      0.288       1.425      0.497      0.627   \n",
      "std        1.152      0.167      0.453       0.639      0.193      0.193   \n",
      "min        0.000      0.000      0.000       1.000      0.020      0.000   \n",
      "25%        0.000      0.000      0.000       1.000      0.340      0.480   \n",
      "50%        1.000      0.000      0.000       1.000      0.500      0.630   \n",
      "75%        3.000      0.000      1.000       2.000      0.660      0.780   \n",
      "max        3.000      1.000      1.000       4.000      1.000      1.000   \n",
      "\n",
      "       windspeed        cnt  \n",
      "count  17379.000  17379.000  \n",
      "mean       0.190    189.463  \n",
      "std        0.122    181.388  \n",
      "min        0.000      1.000  \n",
      "25%        0.104     40.000  \n",
      "50%        0.194    142.000  \n",
      "75%        0.254    281.000  \n",
      "max        0.851    977.000  \n"
     ]
    }
   ],
   "source": [
    "print(df.info())\n",
    "print(df.describe())"
   ]
  },
  {
   "cell_type": "markdown",
   "metadata": {},
   "source": [
    "### Dummy vars"
   ]
  },
  {
   "cell_type": "code",
   "execution_count": 17,
   "metadata": {},
   "outputs": [
    {
     "data": {
      "text/plain": [
       "Index(['hr', 'holiday', 'weekday', 'weathersit', 'temp', 'hum', 'windspeed',\n",
       "       'cnt', 'season_1', 'season_2', 'season_3', 'season_4', 'yr_0', 'yr_1'],\n",
       "      dtype='object')"
      ]
     },
     "execution_count": 17,
     "metadata": {},
     "output_type": "execute_result"
    }
   ],
   "source": [
    "pd.get_dummies(df).columns"
   ]
  },
  {
   "cell_type": "code",
   "execution_count": 18,
   "metadata": {},
   "outputs": [
    {
     "name": "stdout",
     "output_type": "stream",
     "text": [
      "Index(['hr', 'holiday', 'weekday', 'weathersit', 'temp', 'hum', 'windspeed',\n",
      "       'cnt', 'season_1', 'season_2', 'season_3', 'season_4', 'yr_0', 'yr_1'],\n",
      "      dtype='object')\n",
      "   hr  holiday  weekday  weathersit  temp   hum  windspeed  cnt  season_1  \\\n",
      "0   3        0        1           1  0.24  0.81        0.0   16         1   \n",
      "1   3        0        1           1  0.22  0.80        0.0   40         1   \n",
      "2   3        0        1           1  0.22  0.80        0.0   32         1   \n",
      "3   3        0        1           1  0.24  0.75        0.0   13         1   \n",
      "4   3        0        1           1  0.24  0.75        0.0    1         1   \n",
      "\n",
      "   season_2  season_3  season_4  yr_0  yr_1  \n",
      "0         0         0         0     1     0  \n",
      "1         0         0         0     1     0  \n",
      "2         0         0         0     1     0  \n",
      "3         0         0         0     1     0  \n",
      "4         0         0         0     1     0  \n"
     ]
    }
   ],
   "source": [
    "df = pd.get_dummies(df)\n",
    "print(df.columns)\n",
    "print(df.head())"
   ]
  },
  {
   "cell_type": "markdown",
   "metadata": {},
   "source": [
    "`yr`은 `holiday, weekday`처럼 그냥 numeric한 변수로 바꾸겠음"
   ]
  },
  {
   "cell_type": "code",
   "execution_count": 19,
   "metadata": {},
   "outputs": [],
   "source": [
    "df['yr'] = df['yr_1']\n",
    "df.drop(['yr_0', 'yr_1'], axis=1, inplace=True)"
   ]
  },
  {
   "cell_type": "markdown",
   "metadata": {},
   "source": [
    "## Polynomial Regression"
   ]
  },
  {
   "cell_type": "code",
   "execution_count": 20,
   "metadata": {},
   "outputs": [
    {
     "name": "stdout",
     "output_type": "stream",
     "text": [
      "hr              int64\n",
      "holiday         int64\n",
      "weekday         int64\n",
      "weathersit      int64\n",
      "temp          float64\n",
      "hum           float64\n",
      "windspeed     float64\n",
      "cnt             int64\n",
      "season_1        uint8\n",
      "season_2        uint8\n",
      "season_3        uint8\n",
      "season_4        uint8\n",
      "yr              uint8\n",
      "dtype: object\n"
     ]
    }
   ],
   "source": [
    "print(df.dtypes)"
   ]
  },
  {
   "cell_type": "code",
   "execution_count": 23,
   "metadata": {},
   "outputs": [],
   "source": [
    "from sklearn.preprocessing import PolynomialFeatures\n",
    "from sklearn.compose import ColumnTransformer\n",
    "from sklearn.preprocessing import StandardScaler\n",
    "from sklearn.model_selection import train_test_split\n",
    "from sklearn.linear_model import LinearRegression\n",
    "from sklearn.metrics import mean_squared_error as mse\n",
    "\n",
    "\n",
    "preprocessor = ColumnTransformer([(\"scaler\", StandardScaler(), ['temp','hum','windspeed'])])\n",
    "model = LinearRegression()\n",
    "\n",
    "def poly_mse(degree=2):\n",
    "    'returns train mse and test mse'\n",
    "    X, y = df.iloc[:, :-1], df.cnt\n",
    "    poly = PolynomialFeatures(degree=degree)\n",
    "    X_poly = poly.fit_transform(X[['temp','hum','windspeed']])\n",
    "    X_poly = pd.DataFrame(X_poly, columns=poly.get_feature_names())\n",
    "    X_poly = X_poly[['1']+list(X_poly.columns[4:])]\n",
    "    X = pd.concat([X, X_poly], axis=1)\n",
    "    X[['temp','hum','windspeed']] = preprocessor.fit_transform(X)\n",
    "    X_train, X_test, y_train, y_test = train_test_split(X, y, test_size=.3, random_state=0)\n",
    "    model.fit(X_train, y_train)\n",
    "    return mse(y_train, model.predict(X_train)), mse(y_test, model.predict(X_test))"
   ]
  },
  {
   "cell_type": "code",
   "execution_count": 24,
   "metadata": {},
   "outputs": [],
   "source": [
    "train_mse, test_mse = [], []\n",
    "\n",
    "for i in range(2, 13):\n",
    "    tmp1, tmp2 = poly_mse(i)\n",
    "    train_mse.append(tmp1)\n",
    "    test_mse.append(tmp2)"
   ]
  },
  {
   "cell_type": "code",
   "execution_count": 25,
   "metadata": {},
   "outputs": [
    {
     "data": {
      "image/png": "[encoded data removed]",
      "text/plain": [
       "<Figure size 432x288 with 1 Axes>"
      ]
     },
     "metadata": {
      "needs_background": "light"
     },
     "output_type": "display_data"
    }
   ],
   "source": [
    "plt.plot(range(2, 13), train_mse, 'ro-', label='Train MSE')\n",
    "plt.plot(range(2, 13), test_mse, 'bo-', label='Test MSE')\n",
    "plt.legend()\n",
    "plt.show()"
   ]
  },
  {
   "cell_type": "code",
   "execution_count": null,
   "metadata": {},
   "outputs": [],
   "source": []
  }
 ],
 "metadata": {
  "kernelspec": {
   "display_name": "Python 3.8.1 64-bit ('test': conda)",
   "language": "python",
   "name": "python38164bittestconda71e86b17d56e4723b6a5e3821da5a065"
  },
  "language_info": {
   "codemirror_mode": {
    "name": "ipython",
    "version": 3
   },
   "file_extension": ".py",
   "mimetype": "text/x-python",
   "name": "python",
   "nbconvert_exporter": "python",
   "pygments_lexer": "ipython3",
   "version": "3.7.6"
  }
 },
 "nbformat": 4,
 "nbformat_minor": 4
}
